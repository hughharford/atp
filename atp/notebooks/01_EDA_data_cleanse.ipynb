{
 "cells": [
  {
   "cell_type": "markdown",
   "metadata": {},
   "source": [
    "***\n",
    "# Imports\n",
    "### <span style=\"color: red;\">NB. Used Python 3.10.6 kernel</span>\n",
    "### <span style=\"color: red;\">run command in root of this folder:</span> make install_requirements "
   ]
  },
  {
   "cell_type": "code",
   "execution_count": 1,
   "metadata": {
    "tags": []
   },
   "outputs": [
    {
     "name": "stdout",
     "output_type": "stream",
     "text": [
      "Requirement already satisfied: seaborn in /home/hughharford/.pyenv/versions/3.10.6/envs/atp/lib/python3.10/site-packages (0.11.2)\n",
      "Requirement already satisfied: numpy>=1.15 in /home/hughharford/.pyenv/versions/3.10.6/envs/atp/lib/python3.10/site-packages (from seaborn) (1.23.4)\n",
      "Requirement already satisfied: scipy>=1.0 in /home/hughharford/.pyenv/versions/3.10.6/envs/atp/lib/python3.10/site-packages (from seaborn) (1.8.1)\n",
      "Requirement already satisfied: pandas>=0.23 in /home/hughharford/.pyenv/versions/3.10.6/envs/atp/lib/python3.10/site-packages (from seaborn) (1.4.4)\n",
      "Requirement already satisfied: matplotlib>=2.2 in /home/hughharford/.pyenv/versions/3.10.6/envs/atp/lib/python3.10/site-packages (from seaborn) (3.5.3)\n",
      "Requirement already satisfied: cycler>=0.10 in /home/hughharford/.pyenv/versions/3.10.6/envs/atp/lib/python3.10/site-packages (from matplotlib>=2.2->seaborn) (0.11.0)\n",
      "Requirement already satisfied: fonttools>=4.22.0 in /home/hughharford/.pyenv/versions/3.10.6/envs/atp/lib/python3.10/site-packages (from matplotlib>=2.2->seaborn) (4.38.0)\n",
      "Requirement already satisfied: kiwisolver>=1.0.1 in /home/hughharford/.pyenv/versions/3.10.6/envs/atp/lib/python3.10/site-packages (from matplotlib>=2.2->seaborn) (1.4.4)\n",
      "Requirement already satisfied: packaging>=20.0 in /home/hughharford/.pyenv/versions/3.10.6/envs/atp/lib/python3.10/site-packages (from matplotlib>=2.2->seaborn) (24.0)\n",
      "Requirement already satisfied: pillow>=6.2.0 in /home/hughharford/.pyenv/versions/3.10.6/envs/atp/lib/python3.10/site-packages (from matplotlib>=2.2->seaborn) (9.1.1)\n",
      "Requirement already satisfied: pyparsing>=2.2.1 in /home/hughharford/.pyenv/versions/3.10.6/envs/atp/lib/python3.10/site-packages (from matplotlib>=2.2->seaborn) (3.0.9)\n",
      "Requirement already satisfied: python-dateutil>=2.7 in /home/hughharford/.pyenv/versions/3.10.6/envs/atp/lib/python3.10/site-packages (from matplotlib>=2.2->seaborn) (2.8.2)\n",
      "Requirement already satisfied: pytz>=2020.1 in /home/hughharford/.pyenv/versions/3.10.6/envs/atp/lib/python3.10/site-packages (from pandas>=0.23->seaborn) (2022.1)\n",
      "Requirement already satisfied: six>=1.5 in /home/hughharford/.pyenv/versions/3.10.6/envs/atp/lib/python3.10/site-packages (from python-dateutil>=2.7->matplotlib>=2.2->seaborn) (1.16.0)\n",
      "Note: you may need to restart the kernel to use updated packages.\n"
     ]
    }
   ],
   "source": [
    "import os\n",
    "import time\n",
    "            # data sourcing:\n",
    "import csv\n",
    "            # databases:\n",
    "import sqlite3\n",
    "            # useful other\n",
    "from collections import defaultdict\n",
    "            # data toolkit:\n",
    "import numpy as np\n",
    "import pandas as pd\n",
    "import dask.dataframe as dd\n",
    "            # plotting\n",
    "import matplotlib.pyplot as plt\n",
    "%matplotlib inline  \n",
    "\n",
    "%pip install seaborn # no seaborn by default in AWS SageMaker\n",
    "import seaborn as sns\n",
    "            # sklearn techniques\n",
    "from sklearn.model_selection import train_test_split\n",
    "from sklearn.model_selection import cross_validate, KFold\n",
    "from sklearn.model_selection import learning_curve\n",
    "from sklearn.preprocessing import LabelEncoder\n",
    "from sklearn.multiclass import OneVsOneClassifier\n",
    "from sklearn.utils import shuffle\n",
    "            # sklearn models\n",
    "from sklearn.linear_model import LinearRegression, LogisticRegression"
   ]
  },
  {
   "cell_type": "code",
   "execution_count": 2,
   "metadata": {},
   "outputs": [],
   "source": [
    "from sklearn.pipeline import Pipeline\n",
    "from sklearn.impute import SimpleImputer\n",
    "from sklearn.compose import ColumnTransformer\n",
    "from sklearn.compose import make_column_selector\n",
    "from sklearn.preprocessing import OneHotEncoder, StandardScaler\n",
    "from sklearn.preprocessing import FunctionTransformer\n",
    " # Visualizing Pipelines in HTML\n",
    "from sklearn import set_config; set_config(display='diagram')"
   ]
  },
  {
   "cell_type": "code",
   "execution_count": 3,
   "metadata": {},
   "outputs": [],
   "source": [
    "# NOTE_BENE:\n",
    "# Search for: \n",
    "# ASSUMPTION\n",
    "# to find assumptions made during EDA"
   ]
  },
  {
   "cell_type": "markdown",
   "metadata": {},
   "source": [
    "***\n",
    "# Set environment to run some cells but not others - otherwise causes errors and gets stuck:"
   ]
  },
  {
   "cell_type": "code",
   "execution_count": 4,
   "metadata": {
    "tags": []
   },
   "outputs": [
    {
     "name": "stdout",
     "output_type": "stream",
     "text": [
      "/home/hughharford\n",
      "linux\n"
     ]
    }
   ],
   "source": [
    "# environment_running = \"sagemaker\"\n",
    "environment_running = \"laptop\"\n",
    "key = 'HOME'\n",
    "value = os.getenv(key) \n",
    "print(f\"{value}\")\n",
    "import sys\n",
    "print(f\"{sys.platform}\")\n"
   ]
  },
  {
   "cell_type": "markdown",
   "metadata": {},
   "source": [
    "***\n",
    "# Sourcing data and handling it"
   ]
  },
  {
   "cell_type": "code",
   "execution_count": 5,
   "metadata": {
    "tags": []
   },
   "outputs": [],
   "source": [
    "# run this cell to retrieve data and place in the correct location for the below\n",
    "# obviously, a login will be needed, or kaggle authentication in environment variable\n",
    "retrieve_data = 0\n",
    "if retrieve_data:\n",
    "    !cd /raw_data/\n",
    "    !kaggle datasets download -d ehallmar/a-large-tennis-dataset-for-atp-and-itf-betting\n",
    "    \n",
    "# alternatively:\n",
    "# download to the raw_data folder from the following url\n",
    "dataset_url = 'https://www.kaggle.com/datasets/ehallmar/a-large-tennis-dataset-for-atp-and-itf-betting?select=all_tournaments.csv'"
   ]
  },
  {
   "cell_type": "code",
   "execution_count": 6,
   "metadata": {
    "tags": []
   },
   "outputs": [],
   "source": [
    "# check raw data archive path extant:\n",
    "atp_data_path = os.path.join('..','raw_data','archive')\n",
    "assert os.path.exists(atp_data_path)\n",
    "\n",
    "# set read_data path for chunking later on:\n",
    "read_data_path = os.path.join('..','raw_data','read_data')\n",
    "assert os.path.exists(read_data_path) "
   ]
  },
  {
   "cell_type": "code",
   "execution_count": 7,
   "metadata": {
    "tags": []
   },
   "outputs": [],
   "source": [
    "# unzip archive, if not already done\n",
    "\n",
    "# confirm .csv files x 7 are there:\n",
    "assert os.path.isfile('../raw_data/archive/all_matches.csv'), 'all_matches.csv not found. download from url above'\n",
    "assert os.path.isfile('../raw_data/archive/all_players.csv'), 'all_matches.csv not found. download from url above'\n",
    "assert os.path.isfile('../raw_data/archive/all_tournaments.csv'), 'all_matches.csv not found. download from url above'\n",
    "assert os.path.isfile('../raw_data/archive/betting_moneyline.csv'), 'all_matches.csv not found. download from url above'\n",
    "assert os.path.isfile('../raw_data/archive/betting_spreads.csv'), 'all_matches.csv not found. download from url above'\n",
    "assert os.path.isfile('../raw_data/archive/betting_totals.csv'), 'all_matches.csv not found. download from url above'\n",
    "assert os.path.isfile('../raw_data/archive/countries.csv'), 'all_matches.csv not found. download from url above'\n"
   ]
  },
  {
   "cell_type": "code",
   "execution_count": 8,
   "metadata": {
    "tags": []
   },
   "outputs": [],
   "source": [
    "# check initial data file expected are extant:\n",
    "matches_data_path_full = os.path.join(atp_data_path, 'all_matches.csv')\n",
    "assert os.path.exists(matches_data_path_full)"
   ]
  },
  {
   "cell_type": "code",
   "execution_count": 9,
   "metadata": {
    "tags": []
   },
   "outputs": [
    {
     "name": "stderr",
     "output_type": "stream",
     "text": [
      "/tmp/ipykernel_30476/2325152176.py:3: DtypeWarning: Columns (8,10,45,48) have mixed types. Specify dtype option on import or set low_memory=False.\n",
      "  matches_df_1st_50k = pd.read_csv(matches_data_path_full, nrows=50_000, index_col=None) #.astype(schema)\n"
     ]
    }
   ],
   "source": [
    "# this works to convert dates as reading in. good news\n",
    "schema = {'start_date': 'datetime64[ns]', 'end_date': 'datetime64[ns]'}\n",
    "matches_df_1st_50k = pd.read_csv(matches_data_path_full, nrows=50_000, index_col=None) #.astype(schema)"
   ]
  },
  {
   "cell_type": "code",
   "execution_count": 10,
   "metadata": {
    "tags": []
   },
   "outputs": [
    {
     "data": {
      "text/html": [
       "<div>\n",
       "<style scoped>\n",
       "    .dataframe tbody tr th:only-of-type {\n",
       "        vertical-align: middle;\n",
       "    }\n",
       "\n",
       "    .dataframe tbody tr th {\n",
       "        vertical-align: top;\n",
       "    }\n",
       "\n",
       "    .dataframe thead th {\n",
       "        text-align: right;\n",
       "    }\n",
       "</style>\n",
       "<table border=\"1\" class=\"dataframe\">\n",
       "  <thead>\n",
       "    <tr style=\"text-align: right;\">\n",
       "      <th></th>\n",
       "      <th>start_date</th>\n",
       "      <th>end_date</th>\n",
       "      <th>location</th>\n",
       "      <th>court_surface</th>\n",
       "      <th>prize_money</th>\n",
       "      <th>currency</th>\n",
       "      <th>year</th>\n",
       "      <th>player_id</th>\n",
       "      <th>player_name</th>\n",
       "      <th>opponent_id</th>\n",
       "      <th>...</th>\n",
       "      <th>total_points</th>\n",
       "      <th>duration</th>\n",
       "      <th>player_victory</th>\n",
       "      <th>retirement</th>\n",
       "      <th>seed</th>\n",
       "      <th>won_first_set</th>\n",
       "      <th>doubles</th>\n",
       "      <th>masters</th>\n",
       "      <th>round_num</th>\n",
       "      <th>nation</th>\n",
       "    </tr>\n",
       "  </thead>\n",
       "  <tbody>\n",
       "    <tr>\n",
       "      <th>49995</th>\n",
       "      <td>2004-07-05</td>\n",
       "      <td>2004-07-11</td>\n",
       "      <td>DEN</td>\n",
       "      <td>Clay</td>\n",
       "      <td>NaN</td>\n",
       "      <td>NaN</td>\n",
       "      <td>2004</td>\n",
       "      <td>frederik-nielsen</td>\n",
       "      <td>NaN</td>\n",
       "      <td>pablo-figueroa</td>\n",
       "      <td>...</td>\n",
       "      <td>NaN</td>\n",
       "      <td>NaN</td>\n",
       "      <td>f</td>\n",
       "      <td>f</td>\n",
       "      <td>2.0</td>\n",
       "      <td>f</td>\n",
       "      <td>f</td>\n",
       "      <td>25</td>\n",
       "      <td>3</td>\n",
       "      <td>DEN</td>\n",
       "    </tr>\n",
       "    <tr>\n",
       "      <th>49996</th>\n",
       "      <td>2004-07-05</td>\n",
       "      <td>2004-07-11</td>\n",
       "      <td>DEN</td>\n",
       "      <td>Clay</td>\n",
       "      <td>NaN</td>\n",
       "      <td>NaN</td>\n",
       "      <td>2004</td>\n",
       "      <td>frederik-nielsen_rasmus-norby</td>\n",
       "      <td>NaN</td>\n",
       "      <td>andrea-arnaboldi_nicolas-tourte</td>\n",
       "      <td>...</td>\n",
       "      <td>NaN</td>\n",
       "      <td>NaN</td>\n",
       "      <td>t</td>\n",
       "      <td>f</td>\n",
       "      <td>NaN</td>\n",
       "      <td>t</td>\n",
       "      <td>t</td>\n",
       "      <td>25</td>\n",
       "      <td>7</td>\n",
       "      <td>DEN</td>\n",
       "    </tr>\n",
       "    <tr>\n",
       "      <th>49997</th>\n",
       "      <td>2004-07-05</td>\n",
       "      <td>2004-07-11</td>\n",
       "      <td>DEN</td>\n",
       "      <td>Clay</td>\n",
       "      <td>NaN</td>\n",
       "      <td>NaN</td>\n",
       "      <td>2004</td>\n",
       "      <td>frederik-nielsen_rasmus-norby</td>\n",
       "      <td>NaN</td>\n",
       "      <td>andreas-siljestrom_oskar-pallin</td>\n",
       "      <td>...</td>\n",
       "      <td>NaN</td>\n",
       "      <td>NaN</td>\n",
       "      <td>t</td>\n",
       "      <td>f</td>\n",
       "      <td>NaN</td>\n",
       "      <td>t</td>\n",
       "      <td>t</td>\n",
       "      <td>25</td>\n",
       "      <td>6</td>\n",
       "      <td>DEN</td>\n",
       "    </tr>\n",
       "    <tr>\n",
       "      <th>49998</th>\n",
       "      <td>2004-07-05</td>\n",
       "      <td>2004-07-11</td>\n",
       "      <td>DEN</td>\n",
       "      <td>Clay</td>\n",
       "      <td>NaN</td>\n",
       "      <td>NaN</td>\n",
       "      <td>2004</td>\n",
       "      <td>frederik-nielsen_rasmus-norby</td>\n",
       "      <td>NaN</td>\n",
       "      <td>antti-tuomi_niklas-bucht</td>\n",
       "      <td>...</td>\n",
       "      <td>NaN</td>\n",
       "      <td>NaN</td>\n",
       "      <td>t</td>\n",
       "      <td>f</td>\n",
       "      <td>NaN</td>\n",
       "      <td>t</td>\n",
       "      <td>t</td>\n",
       "      <td>25</td>\n",
       "      <td>4</td>\n",
       "      <td>DEN</td>\n",
       "    </tr>\n",
       "    <tr>\n",
       "      <th>49999</th>\n",
       "      <td>2004-07-05</td>\n",
       "      <td>2004-07-11</td>\n",
       "      <td>DEN</td>\n",
       "      <td>Clay</td>\n",
       "      <td>NaN</td>\n",
       "      <td>NaN</td>\n",
       "      <td>2004</td>\n",
       "      <td>frederik-nielsen_rasmus-norby</td>\n",
       "      <td>NaN</td>\n",
       "      <td>jacob-melskens_tore-deleuran-skjold</td>\n",
       "      <td>...</td>\n",
       "      <td>NaN</td>\n",
       "      <td>NaN</td>\n",
       "      <td>t</td>\n",
       "      <td>f</td>\n",
       "      <td>NaN</td>\n",
       "      <td>t</td>\n",
       "      <td>t</td>\n",
       "      <td>25</td>\n",
       "      <td>5</td>\n",
       "      <td>DEN</td>\n",
       "    </tr>\n",
       "  </tbody>\n",
       "</table>\n",
       "<p>5 rows × 54 columns</p>\n",
       "</div>"
      ],
      "text/plain": [
       "       start_date    end_date location court_surface  prize_money currency  \\\n",
       "49995  2004-07-05  2004-07-11      DEN          Clay          NaN      NaN   \n",
       "49996  2004-07-05  2004-07-11      DEN          Clay          NaN      NaN   \n",
       "49997  2004-07-05  2004-07-11      DEN          Clay          NaN      NaN   \n",
       "49998  2004-07-05  2004-07-11      DEN          Clay          NaN      NaN   \n",
       "49999  2004-07-05  2004-07-11      DEN          Clay          NaN      NaN   \n",
       "\n",
       "       year                      player_id player_name  \\\n",
       "49995  2004               frederik-nielsen         NaN   \n",
       "49996  2004  frederik-nielsen_rasmus-norby         NaN   \n",
       "49997  2004  frederik-nielsen_rasmus-norby         NaN   \n",
       "49998  2004  frederik-nielsen_rasmus-norby         NaN   \n",
       "49999  2004  frederik-nielsen_rasmus-norby         NaN   \n",
       "\n",
       "                               opponent_id  ... total_points duration  \\\n",
       "49995                       pablo-figueroa  ...          NaN      NaN   \n",
       "49996      andrea-arnaboldi_nicolas-tourte  ...          NaN      NaN   \n",
       "49997      andreas-siljestrom_oskar-pallin  ...          NaN      NaN   \n",
       "49998             antti-tuomi_niklas-bucht  ...          NaN      NaN   \n",
       "49999  jacob-melskens_tore-deleuran-skjold  ...          NaN      NaN   \n",
       "\n",
       "      player_victory  retirement  seed  won_first_set  doubles  masters  \\\n",
       "49995              f           f   2.0              f        f       25   \n",
       "49996              t           f   NaN              t        t       25   \n",
       "49997              t           f   NaN              t        t       25   \n",
       "49998              t           f   NaN              t        t       25   \n",
       "49999              t           f   NaN              t        t       25   \n",
       "\n",
       "       round_num  nation  \n",
       "49995          3     DEN  \n",
       "49996          7     DEN  \n",
       "49997          6     DEN  \n",
       "49998          4     DEN  \n",
       "49999          5     DEN  \n",
       "\n",
       "[5 rows x 54 columns]"
      ]
     },
     "execution_count": 10,
     "metadata": {},
     "output_type": "execute_result"
    }
   ],
   "source": [
    "## needs care here, too big for memory \n",
    "## was using nrows=50_000\n",
    "# matches_df_1st_50k = pd.read_csv(matches_data_path_full, nrows=50_000, index_col=None)\n",
    "\n",
    "matches_df_1st_50k.tail()"
   ]
  },
  {
   "cell_type": "code",
   "execution_count": 11,
   "metadata": {
    "tags": []
   },
   "outputs": [],
   "source": [
    "# trying full dataset on AWS sagemaker to see what happens:\n",
    "if environment_running == \"sagemaker\":\n",
    "    matches_df = pd.read_csv(matches_data_path_full, index_col=None).astype(schema)\n",
    "    matches_df.tail()"
   ]
  },
  {
   "cell_type": "code",
   "execution_count": 12,
   "metadata": {
    "tags": []
   },
   "outputs": [],
   "source": [
    "matches_data_path = os.path.join(atp_data_path, 'all_matches_1st50k.csv')\n",
    "# confirm file is there:\n",
    "assert os.path.exists(matches_data_path)\n",
    "# if you get an error here, rerun the cell above with 'save_csv_back_out = 1'\n",
    "sample_df_path = os.path.join('..','raw_data','atp_sample.csv')\n",
    "assert os.path.exists(matches_data_path)\n",
    "# if you get an error here, rerun the 2 cells below title: \"Get first sample of the full dataset to ease usage\""
   ]
  },
  {
   "cell_type": "code",
   "execution_count": 13,
   "metadata": {
    "tags": []
   },
   "outputs": [],
   "source": [
    "# save a sample so we can establish working without using the whole dataset:\n",
    "save_csv_back_out = 0\n",
    "if save_csv_back_out:\n",
    "    matches_df_1st_50k.to_csv(matches_data_path)"
   ]
  },
  {
   "cell_type": "code",
   "execution_count": 14,
   "metadata": {},
   "outputs": [],
   "source": [
    "# KEEP FOR LATER\n",
    "# not using until we work on the data and save it out in stages:\n",
    "\n",
    "# matches_data_path_latest = os.path.join(atp_data_path, 'all_matches_1st50k_latest.csv')\n",
    "# assert os.path.exists(matches_data_path_latest)"
   ]
  },
  {
   "cell_type": "markdown",
   "metadata": {},
   "source": [
    "***\n",
    "# First EDA (Exploratory Data Analysis)\n",
    "\n",
    "#### NOTE: see cell below title:\n",
    "Start to get a little organised per column\n",
    "####       run this cell before some of the below to reset various counts etc."
   ]
  },
  {
   "cell_type": "code",
   "execution_count": 16,
   "metadata": {},
   "outputs": [],
   "source": [
    "# this gets stuck, hence: 'run_difficult_cell'\n",
    "run_difficult_cell = 0\n",
    "if run_difficult_cell:\n",
    "    matches_data_latest = pd.read_csv(matches_data_path_full, index_col=None)"
   ]
  },
  {
   "cell_type": "markdown",
   "metadata": {},
   "source": [
    "### Notes:\n",
    "- It became clear above that loading the 4.3m rows into pandas cannot\n",
    "be handled by this machine\n",
    "- Could use the cloud - and will try later, but initially let's try with\n",
    "these limited resources, it's good practice."
   ]
  },
  {
   "cell_type": "markdown",
   "metadata": {},
   "source": [
    "### Notes on progress:\n",
    "- dates for start_date & end_date - relatively easy to do\n",
    "\n"
   ]
  },
  {
   "cell_type": "code",
   "execution_count": null,
   "metadata": {},
   "outputs": [],
   "source": [
    "# revert to using Dataframe above, suffices for now\n",
    "matches_df_1st_50k.info() \n",
    "# 50_000 rows is <21mb in memory"
   ]
  },
  {
   "cell_type": "code",
   "execution_count": 18,
   "metadata": {},
   "outputs": [
    {
     "data": {
      "text/plain": [
       "Index(['start_date', 'end_date', 'location', 'court_surface', 'prize_money',\n",
       "       'currency', 'year', 'player_id', 'player_name', 'opponent_id',\n",
       "       'opponent_name', 'tournament', 'round', 'num_sets', 'sets_won',\n",
       "       'games_won', 'games_against', 'tiebreaks_won', 'tiebreaks_total',\n",
       "       'serve_rating', 'aces', 'double_faults', 'first_serve_made',\n",
       "       'first_serve_attempted', 'first_serve_points_made',\n",
       "       'first_serve_points_attempted', 'second_serve_points_made',\n",
       "       'second_serve_points_attempted', 'break_points_saved',\n",
       "       'break_points_against', 'service_games_won', 'return_rating',\n",
       "       'first_serve_return_points_made', 'first_serve_return_points_attempted',\n",
       "       'second_serve_return_points_made',\n",
       "       'second_serve_return_points_attempted', 'break_points_made',\n",
       "       'break_points_attempted', 'return_games_played', 'service_points_won',\n",
       "       'service_points_attempted', 'return_points_won',\n",
       "       'return_points_attempted', 'total_points_won', 'total_points',\n",
       "       'duration', 'player_victory', 'retirement', 'seed', 'won_first_set',\n",
       "       'doubles', 'masters', 'round_num', 'nation'],\n",
       "      dtype='object')"
      ]
     },
     "execution_count": 18,
     "metadata": {},
     "output_type": "execute_result"
    }
   ],
   "source": [
    "# first look at columns \n",
    "matches_df_1st_50k.columns"
   ]
  },
  {
   "cell_type": "code",
   "execution_count": 19,
   "metadata": {},
   "outputs": [],
   "source": [
    "# there are a bunch of columns we can avoid using, certainly initially\n",
    "# looking at the datatypes, there is probably a lot of room for memory reduction"
   ]
  },
  {
   "cell_type": "code",
   "execution_count": 20,
   "metadata": {},
   "outputs": [
    {
     "name": "stdout",
     "output_type": "stream",
     "text": [
      "  currency   player_name  opponent_name  duration seed\n",
      "0        €      A. Partl      A. Martin  01:02:00  NaN\n",
      "1        €      A. Partl     J. Kovalik  02:43:00  NaN\n",
      "2        €    A. Velotti      D. Hrbaty  01:17:00  NaN\n",
      "3        €           NaN            NaN       NaN  NaN\n",
      "4        €  A. Giannessi  H. Heliovaara  02:32:00    1\n"
     ]
    }
   ],
   "source": [
    "# NOTE from Pandas: columns 5, 8, 10, 45, 48 have mixed datatypes:\n",
    "mixed_datatypes = ['currency', 'player_name', 'opponent_name', 'duration', 'seed']\n",
    "# let's see:\n",
    "print(matches_df_1st_50k.iloc[:,[5, 8, 10, 45, 48]].head())"
   ]
  },
  {
   "cell_type": "code",
   "execution_count": 21,
   "metadata": {},
   "outputs": [
    {
     "data": {
      "text/plain": [
       "start_date  end_date    location                                              court_surface  prize_money  currency  year  player_id              player_name       opponent_id             opponent_name    tournament               round                 num_sets  sets_won  games_won  games_against  tiebreaks_won  tiebreaks_total  serve_rating  aces  double_faults  first_serve_made  first_serve_attempted  first_serve_points_made  first_serve_points_attempted  second_serve_points_made  second_serve_points_attempted  break_points_saved  break_points_against  service_games_won  return_rating  first_serve_return_points_made  first_serve_return_points_attempted  second_serve_return_points_made  second_serve_return_points_attempted  break_points_made  break_points_attempted  return_games_played  service_points_won  service_points_attempted  return_points_won  return_points_attempted  total_points_won  total_points  duration  player_victory  retirement  seed  won_first_set  doubles  masters  round_num  nation                                              \n",
       "2010-11-08  2010-11-14  United Kingdom of Great Britain and Northern Ireland  Hard           42500.0      €         2010  adrian-mannarino       A. Mannarino      matthias-bachinger      M. Bachinger     loughborough_challenger  Round of 32           3         1         10         16             0              0                218.0         2.0   4.0            49.0              90.0                   29.0                     49.0                          19.0                      41.0                           10.0                15.0                  13.0               185.0          10.0                            42.0                                 13.0                             28.0                                  2.0                2.0                     13.0                 48.0                90.0                      23.0               70.0                     71.0              160.0         01:42:00  f               f           2     f              f        100      3          United Kingdom of Great Britain and Northern Ireland    1\n",
       "2017-04-10  2017-04-16  Morocco                                               Clay           482060.0     €         2017  philipp-kohlschreiber  P. Kohlschreiber  jan-lennard-struff      J. Struff        marrakech                Quarter-Finals        3         2         16         14             0              0                291.0         4.0   1.0            54.0              93.0                   44.0                     54.0                          22.0                      39.0                           8.0                 9.0                   15.0               118.0          11.0                            49.0                                 19.0                             44.0                                  2.0                5.0                     15.0                 66.0                93.0                      30.0               93.0                     96.0              186.0         02:08:00  t               f           3     f              f        250      5          Morocco                                                 1\n",
       "                                                                                                                                                                   benoit-paire            B. Paire         marrakech                Semi-Finals           2         2         12         4              0              0                310.0         0.0   1.0            20.0              41.0                   19.0                     20.0                          14.0                      21.0                           1.0                 1.0                   8.0                185.0          14.0                            39.0                                 21.0                             30.0                                  4.0                14.0                    8.0                  33.0                41.0                      35.0               69.0                     68.0              110.0         01:02:00  t               f           3     t              f        250      6          Morocco                                                 1\n",
       "                                                                                                                          paolo-lorenzi          P. Lorenzi        jiri-vesely             J. Vesely        marrakech                Quarter-Finals        3         1         15         16             0              1                297.0         5.0   0.0            54.0              90.0                   38.0                     54.0                          25.0                      36.0                           0.0                 1.0                   15.0               95.0           10.0                            58.0                                 14.0                             30.0                                  1.0                4.0                     15.0                 63.0                90.0                      24.0               88.0                     87.0              178.0         02:21:00  f               f           5     t              f        250      5          Morocco                                                 1\n",
       "                                                                                                                                                                   guillermo-garcia-lopez  G. Garcia-Lopez  marrakech                Round of 32           2         2         14         11             1              1                278.0         2.0   1.0            39.0              67.0                   28.0                     39.0                          18.0                      28.0                           1.0                 3.0                   12.0               155.0          15.0                            45.0                                 20.0                             37.0                                  3.0                7.0                     12.0                 46.0                67.0                      35.0               82.0                     81.0              149.0         02:04:00  t               f           5     t              f        250      3          Morocco                                                 1\n",
       "                                                                                                                                                                                                                                                                                                                                                                                                                                                                                                                                                                                                                                                                                                                                                                                                                                                                                                                                                                                                                                                                                                      ..\n",
       "2015-10-05  2015-10-11  Japan                                                 Hard           1263045.0    $         2015  austin-krajicek        A. Krajicek       nicolas-mahut           N. Mahut         tokyo                    2nd Round Qualifying  2         2         12         8              0              0                343.0         6.0   0.0            33.0              47.0                   29.0                     33.0                          11.0                      14.0                           0.0                 0.0                   10.0               132.0          10.0                            41.0                                 13.0                             22.0                                  2.0                7.0                     10.0                 40.0                47.0                      23.0               63.0                     63.0              110.0         01:08:00  t               f           7     t              f        500      2          Japan                                                   1\n",
       "                                                                                                                                                                   matthew-ebden           M. Ebden         tokyo                    Round of 32           3         2         19         19             2              2                280.0         10.0  3.0            80.0              128.0                  65.0                     80.0                          22.0                      48.0                           4.0                 7.0                   18.0               98.0           14.0                            74.0                                 27.0                             54.0                                  2.0                11.0                    18.0                 87.0                128.0                     41.0               128.0                    128.0             256.0         02:55:00  t               f           Q     f              f        500      3          Japan                                                   1\n",
       "                                                                                                                                                                   joao-sousa              J. Sousa         tokyo                    Round of 16           3         2         14         13             0              0                273.0         11.0  4.0            71.0              100.0                  51.0                     71.0                          11.0                      29.0                           8.0                 10.0                  14.0               125.0          12.0                            53.0                                 22.0                             38.0                                  2.0                7.0                     13.0                 62.0                100.0                     34.0               91.0                     96.0              191.0         02:10:00  t               f           Q     f              f        500      4          Japan                                                   1\n",
       "                        China                                                 Hard           2700510.0    $         2015  zhizhen-zhang          Z. Zhang          ricardas-berankis       R. Berankis      beijing                  1st Round Qualifying  2         2         13         8              0              0                264.0         7.0   4.0            31.0              58.0                   26.0                     31.0                          12.0                      27.0                           0.0                 2.0                   10.0               185.0          10.0                            34.0                                 23.0                             35.0                                  5.0                11.0                    11.0                 38.0                58.0                      33.0               69.0                     71.0              127.0         01:20:00  t               f           WC    t              f        500      1          China                                                   1\n",
       "2018-08-13  2018-08-19  Italy                                                 Clay           64000.0      €         2018  zdenek-kolar           Z. Kolar          mate-valkusz            M. Valkusz       cordenons_challenger     Quarter-Finals        2         0         0          12             0              0                128.0         0.0   2.0            33.0              53.0                   16.0                     33.0                          4.0                       20.0                           5.0                 11.0                  6.0                30.0           2.0                             17.0                                 2.0                              11.0                                  0.0                0.0                     6.0                  20.0                53.0                      4.0                28.0                     24.0              81.0          00:49:00  f               f           6     f              f        100      5          Italy                                                   1\n",
       "Length: 5885, dtype: int64"
      ]
     },
     "execution_count": 21,
     "metadata": {},
     "output_type": "execute_result"
    }
   ],
   "source": [
    "matches_df_1st_50k.value_counts()"
   ]
  },
  {
   "cell_type": "code",
   "execution_count": 22,
   "metadata": {},
   "outputs": [
    {
     "data": {
      "text/html": [
       "<div>\n",
       "<style scoped>\n",
       "    .dataframe tbody tr th:only-of-type {\n",
       "        vertical-align: middle;\n",
       "    }\n",
       "\n",
       "    .dataframe tbody tr th {\n",
       "        vertical-align: top;\n",
       "    }\n",
       "\n",
       "    .dataframe thead th {\n",
       "        text-align: right;\n",
       "    }\n",
       "</style>\n",
       "<table border=\"1\" class=\"dataframe\">\n",
       "  <thead>\n",
       "    <tr style=\"text-align: right;\">\n",
       "      <th></th>\n",
       "      <th>prize_money</th>\n",
       "      <th>year</th>\n",
       "      <th>num_sets</th>\n",
       "      <th>sets_won</th>\n",
       "      <th>games_won</th>\n",
       "      <th>games_against</th>\n",
       "      <th>tiebreaks_won</th>\n",
       "      <th>tiebreaks_total</th>\n",
       "      <th>serve_rating</th>\n",
       "      <th>aces</th>\n",
       "      <th>...</th>\n",
       "      <th>break_points_attempted</th>\n",
       "      <th>return_games_played</th>\n",
       "      <th>service_points_won</th>\n",
       "      <th>service_points_attempted</th>\n",
       "      <th>return_points_won</th>\n",
       "      <th>return_points_attempted</th>\n",
       "      <th>total_points_won</th>\n",
       "      <th>total_points</th>\n",
       "      <th>masters</th>\n",
       "      <th>round_num</th>\n",
       "    </tr>\n",
       "  </thead>\n",
       "  <tbody>\n",
       "    <tr>\n",
       "      <th>count</th>\n",
       "      <td>1.553700e+04</td>\n",
       "      <td>50000.000000</td>\n",
       "      <td>50000.000000</td>\n",
       "      <td>50000.00000</td>\n",
       "      <td>50000.000000</td>\n",
       "      <td>50000.00000</td>\n",
       "      <td>50000.000000</td>\n",
       "      <td>50000.000000</td>\n",
       "      <td>10298.000000</td>\n",
       "      <td>10298.000000</td>\n",
       "      <td>...</td>\n",
       "      <td>10298.000000</td>\n",
       "      <td>10298.000000</td>\n",
       "      <td>10298.000000</td>\n",
       "      <td>10298.000000</td>\n",
       "      <td>10298.000000</td>\n",
       "      <td>10298.000000</td>\n",
       "      <td>10298.000000</td>\n",
       "      <td>10298.000000</td>\n",
       "      <td>50000.000000</td>\n",
       "      <td>50000.000000</td>\n",
       "    </tr>\n",
       "    <tr>\n",
       "      <th>mean</th>\n",
       "      <td>3.796909e+06</td>\n",
       "      <td>2006.594400</td>\n",
       "      <td>2.313920</td>\n",
       "      <td>1.15450</td>\n",
       "      <td>10.854560</td>\n",
       "      <td>10.85390</td>\n",
       "      <td>0.128100</td>\n",
       "      <td>0.256260</td>\n",
       "      <td>261.542435</td>\n",
       "      <td>5.526122</td>\n",
       "      <td>...</td>\n",
       "      <td>6.470188</td>\n",
       "      <td>11.608662</td>\n",
       "      <td>46.852301</td>\n",
       "      <td>74.486696</td>\n",
       "      <td>27.634007</td>\n",
       "      <td>74.481841</td>\n",
       "      <td>74.486308</td>\n",
       "      <td>148.968538</td>\n",
       "      <td>274.302000</td>\n",
       "      <td>2.649080</td>\n",
       "    </tr>\n",
       "    <tr>\n",
       "      <th>std</th>\n",
       "      <td>6.579064e+06</td>\n",
       "      <td>12.810598</td>\n",
       "      <td>0.627138</td>\n",
       "      <td>0.95365</td>\n",
       "      <td>5.432237</td>\n",
       "      <td>5.43239</td>\n",
       "      <td>0.359128</td>\n",
       "      <td>0.506395</td>\n",
       "      <td>40.758831</td>\n",
       "      <td>4.816104</td>\n",
       "      <td>...</td>\n",
       "      <td>4.155581</td>\n",
       "      <td>3.547386</td>\n",
       "      <td>16.840465</td>\n",
       "      <td>25.307795</td>\n",
       "      <td>11.281841</td>\n",
       "      <td>25.308832</td>\n",
       "      <td>25.697776</td>\n",
       "      <td>48.842251</td>\n",
       "      <td>542.212359</td>\n",
       "      <td>1.979033</td>\n",
       "    </tr>\n",
       "    <tr>\n",
       "      <th>min</th>\n",
       "      <td>1.060000e+04</td>\n",
       "      <td>1950.000000</td>\n",
       "      <td>0.000000</td>\n",
       "      <td>0.00000</td>\n",
       "      <td>0.000000</td>\n",
       "      <td>0.00000</td>\n",
       "      <td>0.000000</td>\n",
       "      <td>0.000000</td>\n",
       "      <td>0.000000</td>\n",
       "      <td>0.000000</td>\n",
       "      <td>...</td>\n",
       "      <td>0.000000</td>\n",
       "      <td>0.000000</td>\n",
       "      <td>0.000000</td>\n",
       "      <td>0.000000</td>\n",
       "      <td>0.000000</td>\n",
       "      <td>0.000000</td>\n",
       "      <td>1.000000</td>\n",
       "      <td>6.000000</td>\n",
       "      <td>0.000000</td>\n",
       "      <td>-2.000000</td>\n",
       "    </tr>\n",
       "    <tr>\n",
       "      <th>25%</th>\n",
       "      <td>1.500000e+05</td>\n",
       "      <td>2000.000000</td>\n",
       "      <td>2.000000</td>\n",
       "      <td>0.00000</td>\n",
       "      <td>7.000000</td>\n",
       "      <td>7.00000</td>\n",
       "      <td>0.000000</td>\n",
       "      <td>0.000000</td>\n",
       "      <td>236.000000</td>\n",
       "      <td>2.000000</td>\n",
       "      <td>...</td>\n",
       "      <td>3.000000</td>\n",
       "      <td>9.000000</td>\n",
       "      <td>35.000000</td>\n",
       "      <td>56.000000</td>\n",
       "      <td>20.000000</td>\n",
       "      <td>56.000000</td>\n",
       "      <td>57.000000</td>\n",
       "      <td>112.000000</td>\n",
       "      <td>25.000000</td>\n",
       "      <td>1.000000</td>\n",
       "    </tr>\n",
       "    <tr>\n",
       "      <th>50%</th>\n",
       "      <td>6.427500e+05</td>\n",
       "      <td>2010.000000</td>\n",
       "      <td>2.000000</td>\n",
       "      <td>1.00000</td>\n",
       "      <td>12.000000</td>\n",
       "      <td>12.00000</td>\n",
       "      <td>0.000000</td>\n",
       "      <td>0.000000</td>\n",
       "      <td>265.000000</td>\n",
       "      <td>4.000000</td>\n",
       "      <td>...</td>\n",
       "      <td>6.000000</td>\n",
       "      <td>11.000000</td>\n",
       "      <td>44.000000</td>\n",
       "      <td>70.000000</td>\n",
       "      <td>27.000000</td>\n",
       "      <td>70.000000</td>\n",
       "      <td>71.000000</td>\n",
       "      <td>140.000000</td>\n",
       "      <td>25.000000</td>\n",
       "      <td>3.000000</td>\n",
       "    </tr>\n",
       "    <tr>\n",
       "      <th>75%</th>\n",
       "      <td>3.826655e+06</td>\n",
       "      <td>2015.000000</td>\n",
       "      <td>3.000000</td>\n",
       "      <td>2.00000</td>\n",
       "      <td>13.000000</td>\n",
       "      <td>13.00000</td>\n",
       "      <td>0.000000</td>\n",
       "      <td>0.000000</td>\n",
       "      <td>291.000000</td>\n",
       "      <td>8.000000</td>\n",
       "      <td>...</td>\n",
       "      <td>9.000000</td>\n",
       "      <td>14.000000</td>\n",
       "      <td>57.000000</td>\n",
       "      <td>91.000000</td>\n",
       "      <td>34.000000</td>\n",
       "      <td>91.000000</td>\n",
       "      <td>91.000000</td>\n",
       "      <td>181.000000</td>\n",
       "      <td>250.000000</td>\n",
       "      <td>4.000000</td>\n",
       "    </tr>\n",
       "    <tr>\n",
       "      <th>max</th>\n",
       "      <td>2.509600e+07</td>\n",
       "      <td>2018.000000</td>\n",
       "      <td>5.000000</td>\n",
       "      <td>4.00000</td>\n",
       "      <td>126.000000</td>\n",
       "      <td>126.00000</td>\n",
       "      <td>3.000000</td>\n",
       "      <td>3.000000</td>\n",
       "      <td>376.000000</td>\n",
       "      <td>53.000000</td>\n",
       "      <td>...</td>\n",
       "      <td>30.000000</td>\n",
       "      <td>34.000000</td>\n",
       "      <td>154.000000</td>\n",
       "      <td>225.000000</td>\n",
       "      <td>91.000000</td>\n",
       "      <td>225.000000</td>\n",
       "      <td>215.000000</td>\n",
       "      <td>420.000000</td>\n",
       "      <td>2000.000000</td>\n",
       "      <td>7.000000</td>\n",
       "    </tr>\n",
       "  </tbody>\n",
       "</table>\n",
       "<p>8 rows × 36 columns</p>\n",
       "</div>"
      ],
      "text/plain": [
       "        prize_money          year      num_sets     sets_won     games_won  \\\n",
       "count  1.553700e+04  50000.000000  50000.000000  50000.00000  50000.000000   \n",
       "mean   3.796909e+06   2006.594400      2.313920      1.15450     10.854560   \n",
       "std    6.579064e+06     12.810598      0.627138      0.95365      5.432237   \n",
       "min    1.060000e+04   1950.000000      0.000000      0.00000      0.000000   \n",
       "25%    1.500000e+05   2000.000000      2.000000      0.00000      7.000000   \n",
       "50%    6.427500e+05   2010.000000      2.000000      1.00000     12.000000   \n",
       "75%    3.826655e+06   2015.000000      3.000000      2.00000     13.000000   \n",
       "max    2.509600e+07   2018.000000      5.000000      4.00000    126.000000   \n",
       "\n",
       "       games_against  tiebreaks_won  tiebreaks_total  serve_rating  \\\n",
       "count    50000.00000   50000.000000     50000.000000  10298.000000   \n",
       "mean        10.85390       0.128100         0.256260    261.542435   \n",
       "std          5.43239       0.359128         0.506395     40.758831   \n",
       "min          0.00000       0.000000         0.000000      0.000000   \n",
       "25%          7.00000       0.000000         0.000000    236.000000   \n",
       "50%         12.00000       0.000000         0.000000    265.000000   \n",
       "75%         13.00000       0.000000         0.000000    291.000000   \n",
       "max        126.00000       3.000000         3.000000    376.000000   \n",
       "\n",
       "               aces  ...  break_points_attempted  return_games_played  \\\n",
       "count  10298.000000  ...            10298.000000         10298.000000   \n",
       "mean       5.526122  ...                6.470188            11.608662   \n",
       "std        4.816104  ...                4.155581             3.547386   \n",
       "min        0.000000  ...                0.000000             0.000000   \n",
       "25%        2.000000  ...                3.000000             9.000000   \n",
       "50%        4.000000  ...                6.000000            11.000000   \n",
       "75%        8.000000  ...                9.000000            14.000000   \n",
       "max       53.000000  ...               30.000000            34.000000   \n",
       "\n",
       "       service_points_won  service_points_attempted  return_points_won  \\\n",
       "count        10298.000000              10298.000000       10298.000000   \n",
       "mean            46.852301                 74.486696          27.634007   \n",
       "std             16.840465                 25.307795          11.281841   \n",
       "min              0.000000                  0.000000           0.000000   \n",
       "25%             35.000000                 56.000000          20.000000   \n",
       "50%             44.000000                 70.000000          27.000000   \n",
       "75%             57.000000                 91.000000          34.000000   \n",
       "max            154.000000                225.000000          91.000000   \n",
       "\n",
       "       return_points_attempted  total_points_won  total_points       masters  \\\n",
       "count             10298.000000      10298.000000  10298.000000  50000.000000   \n",
       "mean                 74.481841         74.486308    148.968538    274.302000   \n",
       "std                  25.308832         25.697776     48.842251    542.212359   \n",
       "min                   0.000000          1.000000      6.000000      0.000000   \n",
       "25%                  56.000000         57.000000    112.000000     25.000000   \n",
       "50%                  70.000000         71.000000    140.000000     25.000000   \n",
       "75%                  91.000000         91.000000    181.000000    250.000000   \n",
       "max                 225.000000        215.000000    420.000000   2000.000000   \n",
       "\n",
       "          round_num  \n",
       "count  50000.000000  \n",
       "mean       2.649080  \n",
       "std        1.979033  \n",
       "min       -2.000000  \n",
       "25%        1.000000  \n",
       "50%        3.000000  \n",
       "75%        4.000000  \n",
       "max        7.000000  \n",
       "\n",
       "[8 rows x 36 columns]"
      ]
     },
     "execution_count": 22,
     "metadata": {},
     "output_type": "execute_result"
    }
   ],
   "source": [
    "matches_df_1st_50k.describe()"
   ]
  },
  {
   "cell_type": "code",
   "execution_count": 23,
   "metadata": {},
   "outputs": [
    {
     "name": "stdout",
     "output_type": "stream",
     "text": [
      "player_name: 10298 and player_id: 50000\n",
      "player_name: 10298 and player_id: 50000\n"
     ]
    }
   ],
   "source": [
    "print(f'player_name: {matches_df_1st_50k.player_name.count()} and player_id: {matches_df_1st_50k.player_id.count()}')\n",
    "print(f'player_name: {matches_df_1st_50k.opponent_name.count()} and player_id: {matches_df_1st_50k.opponent_id.count()}')\n",
    "# seems low ~20% of data"
   ]
  },
  {
   "cell_type": "markdown",
   "metadata": {},
   "source": [
    "***\n",
    "# Memory check cells\n",
    "## Usually by column"
   ]
  },
  {
   "cell_type": "code",
   "execution_count": 24,
   "metadata": {
    "tags": []
   },
   "outputs": [
    {
     "data": {
      "text/plain": [
       "400128"
      ]
     },
     "execution_count": 24,
     "metadata": {},
     "output_type": "execute_result"
    }
   ],
   "source": [
    "matches_df_1st_50k.end_date.memory_usage() # raw as imported: 400128"
   ]
  },
  {
   "cell_type": "markdown",
   "metadata": {
    "tags": []
   },
   "source": [
    "*** \n",
    "# Start to get a little organised per column"
   ]
  },
  {
   "cell_type": "code",
   "execution_count": 126,
   "metadata": {
    "tags": []
   },
   "outputs": [],
   "source": [
    "# keep a simple dict of columns to see how full they are\n",
    "# could use a simple .count() but going to run across mutiple chunks, and only want to see specific columns\n",
    "check_completeness = {'start_date': 0, 'end_date': 0, 'player_name': 0, \n",
    "                      'duration': 0\n",
    "                      }\n",
    "\n",
    "check_completeness_NAs = {'start_date': 0, 'end_date': 0, 'player_name': 0, \n",
    "                      'duration': 0\n",
    "                      }\n",
    "\n",
    "check_key_distinguishing_columns = {'doubles': 0, 'masters': 0, 'nation': 0\n",
    "                                    , 'seed': 0, 'prize_money': 0,}\n",
    "\n",
    "check_key_distinguishing_columns_NAs = {'doubles': 0, 'masters': 0, 'nation': 0\n",
    "                                    , 'seed': 0, 'prize_money': 0,}\n",
    "\n",
    "check_numerical_columns = {'prize_money': 0,'sets_won': 0,'games_won': 0,  \n",
    "                           'games_against': 0, 'tiebreaks_won': 0,  'tiebreaks_total': 0,\n",
    "                      'serve_rating': 0, 'aces': 0, \n",
    "                      'double_faults': 0, 'first_serve_made': 0, \n",
    "                      'first_serve_attempted': 0, 'first_serve_points_made': 0,  \n",
    "                      'first_serve_points_attempted': 0, 'second_serve_points_made': 0, \n",
    "                      'second_serve_points_attempted': 0, 'break_points_saved': 0, \n",
    "                      'break_points_against': 0, 'service_games_won': 0, \n",
    "                      'return_rating': 0, 'first_serve_return_points_made': 0, \n",
    "                      'first_serve_return_points_attempted': 0, 'second_serve_return_points_made': 0, \n",
    "                      'second_serve_return_points_attempted': 0, 'break_points_made': 0, \n",
    "                      'break_points_attempted': 0, 'return_games_played': 0, \n",
    "                      'service_points_won': 0, 'service_points_attempted': 0, \n",
    "                      'return_points_won': 0, 'return_points_attempted': 0, \n",
    "                      'total_points_won': 0, 'total_points': 0, \n",
    "                      'duration': 0, \n",
    "                      # distinguishing column:\n",
    "                      'round_num': 0\n",
    "                      }\n",
    "\n",
    "check_numerical_columns_NAs = {'prize_money': 0,'sets_won': 0,'games_won': 0,  \n",
    "                           'games_against': 0, 'tiebreaks_won': 0,  'tiebreaks_total': 0,\n",
    "                      'serve_rating': 0, 'aces': 0, \n",
    "                      'double_faults': 0, 'first_serve_made': 0, \n",
    "                      'first_serve_attempted': 0, 'first_serve_points_made': 0,  \n",
    "                      'first_serve_points_attempted': 0, 'second_serve_points_made': 0, \n",
    "                      'second_serve_points_attempted': 0, 'break_points_saved': 0, \n",
    "                      'break_points_against': 0, 'service_games_won': 0, \n",
    "                      'return_rating': 0, 'first_serve_return_points_made': 0, \n",
    "                      'first_serve_return_points_attempted': 0, 'second_serve_return_points_made': 0, \n",
    "                      'second_serve_return_points_attempted': 0, 'break_points_made': 0, \n",
    "                      'break_points_attempted': 0, 'return_games_played': 0, \n",
    "                      'service_points_won': 0, 'service_points_attempted': 0, \n",
    "                      'return_points_won': 0, 'return_points_attempted': 0, \n",
    "                      'total_points_won': 0, 'total_points': 0, \n",
    "                      'duration': 0, \n",
    "                      # distinguishing column:\n",
    "                      'round_num': 0\n",
    "                      }\n",
    "\n",
    "check_mixed_columns = {'seed': 0, 'currency': 0, 'player_name': 0, 'opponent_name': 0, 'duration': 0}\n",
    "\n",
    "check_mixed_columns_NAs = {'seed': 0, 'currency': 0, 'player_name': 0, 'opponent_name': 0, 'duration': 0}\n",
    "\n",
    "check_boolean_columns = {'player_victory': 0, 'retirement': 0, 'won_first_set': 0}\n",
    "\n",
    "check_boolean_columns_NAs = {'player_victory': 0, 'retirement': 0, 'won_first_set': 0}\n",
    "\n",
    "single_date_query = {\"start_date > 2010\": 0}\n",
    "single_year_query = {\"year > 2010\": 0}\n",
    "\n",
    "\n",
    "na_checks = {'seed': 0, 'serve_rating': 0, 'aces': 0, \n",
    "             'double_faults': 0, 'first_serve_made': 0, \n",
    "             'first_serve_attempted': 0, 'first_serve_points_made': 0, }\n",
    "# round((matches_df_1st_50k.seed.isna().sum()/50_000)*100,2)\n",
    "\n",
    "# # list(check_completeness.keys())\n",
    "# for i in check_completeness:\n",
    "#     print(i)"
   ]
  },
  {
   "cell_type": "code",
   "execution_count": 124,
   "metadata": {},
   "outputs": [
    {
     "data": {
      "text/plain": [
       "'start_date > 2010'"
      ]
     },
     "execution_count": 124,
     "metadata": {},
     "output_type": "execute_result"
    }
   ],
   "source": [
    "list(single_date_query.keys())[0]"
   ]
  },
  {
   "cell_type": "code",
   "execution_count": 82,
   "metadata": {
    "tags": []
   },
   "outputs": [],
   "source": [
    "# in the first 50_000 rows, column counts for these columns gives: \n",
    "for i in check_completeness.keys():\n",
    "    count = matches_df_1st_50k[i].count()\n",
    "    check_completeness[i] += count"
   ]
  },
  {
   "cell_type": "code",
   "execution_count": 27,
   "metadata": {
    "tags": []
   },
   "outputs": [
    {
     "name": "stdout",
     "output_type": "stream",
     "text": [
      "{'start_date': 50000, 'end_date': 48967, 'player_name': 10298, 'duration': 10298}\n"
     ]
    }
   ],
   "source": [
    "print(check_completeness)"
   ]
  },
  {
   "cell_type": "code",
   "execution_count": 28,
   "metadata": {
    "tags": []
   },
   "outputs": [
    {
     "data": {
      "image/png": "[encoded data removed]",
      "text/plain": [
       "<Figure size 640x480 with 1 Axes>"
      ]
     },
     "metadata": {},
     "output_type": "display_data"
    }
   ],
   "source": [
    "D = check_boolean_columns\n",
    "plt.bar(range(len(D)), list(D.values()), align='center')\n",
    "plt.xticks(range(len(D)), list(D.keys()));"
   ]
  },
  {
   "cell_type": "code",
   "execution_count": 29,
   "metadata": {
    "tags": []
   },
   "outputs": [
    {
     "data": {
      "image/png": "[encoded data removed]",
      "text/plain": [
       "<Figure size 640x480 with 1 Axes>"
      ]
     },
     "metadata": {},
     "output_type": "display_data"
    }
   ],
   "source": [
    "D = check_completeness\n",
    "plt.bar(range(len(D)), list(D.values()), align='center')\n",
    "plt.xticks(range(len(D)), list(D.keys()));"
   ]
  },
  {
   "cell_type": "code",
   "execution_count": 30,
   "metadata": {
    "tags": []
   },
   "outputs": [],
   "source": [
    "for i in check_boolean_columns:\n",
    "    count = matches_df_1st_50k[i].count()\n",
    "    check_boolean_columns[i] += count"
   ]
  },
  {
   "cell_type": "code",
   "execution_count": 31,
   "metadata": {
    "tags": []
   },
   "outputs": [
    {
     "name": "stdout",
     "output_type": "stream",
     "text": [
      "{'player_victory': 50000, 'retirement': 50000, 'won_first_set': 49301}\n"
     ]
    }
   ],
   "source": [
    "print(check_boolean_columns)"
   ]
  },
  {
   "cell_type": "code",
   "execution_count": 32,
   "metadata": {
    "tags": []
   },
   "outputs": [],
   "source": [
    "for i in check_mixed_columns:\n",
    "    count = matches_df_1st_50k[i].count()\n",
    "    check_mixed_columns[i] += count"
   ]
  },
  {
   "cell_type": "code",
   "execution_count": 33,
   "metadata": {
    "tags": []
   },
   "outputs": [
    {
     "data": {
      "image/png": "[encoded data removed]",
      "text/plain": [
       "<Figure size 640x480 with 1 Axes>"
      ]
     },
     "metadata": {},
     "output_type": "display_data"
    }
   ],
   "source": [
    "D = check_mixed_columns\n",
    "plt.bar(range(len(D)), list(D.values()), align='center')\n",
    "plt.xticks(range(len(D)), list(D.keys()));"
   ]
  },
  {
   "cell_type": "code",
   "execution_count": null,
   "metadata": {},
   "outputs": [],
   "source": []
  },
  {
   "cell_type": "markdown",
   "metadata": {
    "jp-MarkdownHeadingCollapsed": true,
    "tags": []
   },
   "source": [
    "***\n",
    "# INTERESTING THOUGHT:\n",
    "## What is required to run the:\n",
    "## a) naive model as a baseline\n",
    "## b) first actual model, e.g. multivariate logistic classification?\n",
    "***"
   ]
  },
  {
   "cell_type": "markdown",
   "metadata": {},
   "source": [
    "***\n",
    "@@@@@@@@@@@@@@@@@@@@@@@@@@@@@@@@@@@@@@@@@@@@@@@@@@@@@@@@@@@@@@@@@@@@@@@@@@@@@@@@@@@@@@@@@@@@@@@@@@@@@@@@@@@@@@@@@@@@@@@@@@@@@@@@@@@@\n",
    "\n",
    "# Sorting data column by column or by datatype"
   ]
  },
  {
   "cell_type": "markdown",
   "metadata": {},
   "source": [
    "### Dates (sorted enough)"
   ]
  },
  {
   "cell_type": "code",
   "execution_count": 34,
   "metadata": {
    "tags": []
   },
   "outputs": [],
   "source": [
    "# This fixes the initial difficulty. not hard.\n",
    "#                           HERE --v\n",
    "# schema = {'start_date': 'datetime64[ns]', 'end_date': 'datetime64[ns]'}\n",
    "# matches_df_1st_50k = pd.read_csv(matches_data_path_full, nrows=50_000, index_col=0).astype(schema)"
   ]
  },
  {
   "cell_type": "code",
   "execution_count": 35,
   "metadata": {
    "tags": []
   },
   "outputs": [
    {
     "data": {
      "text/plain": [
       "start_date       datetime64[ns]\n",
       "end_date         datetime64[ns]\n",
       "location                 object\n",
       "court_surface            object\n",
       "prize_money             float64\n",
       "dtype: object"
      ]
     },
     "execution_count": 35,
     "metadata": {},
     "output_type": "execute_result"
    }
   ],
   "source": [
    "matches_df_1st_50k.dtypes.head()"
   ]
  },
  {
   "cell_type": "code",
   "execution_count": 36,
   "metadata": {},
   "outputs": [],
   "source": [
    "## this caused errors on the Sagemaker Runtime:\n",
    "# matches_df_1st_50k.end_date = matches_df_1st_50k.end_date.astype(dtype=np.datetime64)\n",
    "# matches_df_1st_50k.start_date = matches_df_1st_50k.start_date.astype(dtype=np.datetime64)"
   ]
  },
  {
   "cell_type": "code",
   "execution_count": 37,
   "metadata": {},
   "outputs": [
    {
     "data": {
      "text/plain": [
       "Timestamp('2012-06-17 00:00:00')"
      ]
     },
     "execution_count": 37,
     "metadata": {},
     "output_type": "execute_result"
    }
   ],
   "source": [
    "matches_df_1st_50k.end_date[1] # happy enough with this being super accurate"
   ]
  },
  {
   "cell_type": "code",
   "execution_count": 38,
   "metadata": {},
   "outputs": [
    {
     "data": {
      "text/plain": [
       "400128"
      ]
     },
     "execution_count": 38,
     "metadata": {},
     "output_type": "execute_result"
    }
   ],
   "source": [
    "matches_df_1st_50k.end_date.memory_usage()\n",
    "# object and np.datetime(ns) memory the same: 400128"
   ]
  },
  {
   "cell_type": "code",
   "execution_count": 39,
   "metadata": {},
   "outputs": [
    {
     "name": "stdout",
     "output_type": "stream",
     "text": [
      "oldest date: 1950-08-25 00:00:00 and most recent: 2018-08-13 00:00:00\n"
     ]
    }
   ],
   "source": [
    "print(f'oldest date: {matches_df_1st_50k.start_date.min()} and most recent: {matches_df_1st_50k.start_date.max()}')\n",
    "# Interesting to see the 1950's represented"
   ]
  },
  {
   "cell_type": "code",
   "execution_count": 40,
   "metadata": {},
   "outputs": [],
   "source": [
    "# Let's see the count per year or decade"
   ]
  },
  {
   "cell_type": "code",
   "execution_count": 41,
   "metadata": {},
   "outputs": [
    {
     "data": {
      "image/png": "[encoded data removed]",
      "text/plain": [
       "<Figure size 640x480 with 1 Axes>"
      ]
     },
     "metadata": {},
     "output_type": "display_data"
    }
   ],
   "source": [
    "plt.hist(matches_df_1st_50k.start_date,bins=5); # by decade\n",
    "\n",
    "# for both by year and by decade, it's clear that the whole dataset will be \n",
    "# needed - cannot tell yet how the whole dataset is distributed by date "
   ]
  },
  {
   "cell_type": "code",
   "execution_count": 42,
   "metadata": {},
   "outputs": [
    {
     "data": {
      "image/png": "[encoded data removed]",
      "text/plain": [
       "<Figure size 640x480 with 1 Axes>"
      ]
     },
     "metadata": {},
     "output_type": "display_data"
    }
   ],
   "source": [
    "plt.hist(matches_df_1st_50k.start_date,bins=68); # by year\n",
    "# Again, this is an interesting picture.\n",
    "# Prompts question about number of tennis events per year, and similar\n",
    "# And there seems to be a gap in the data around 2015 or something"
   ]
  },
  {
   "cell_type": "code",
   "execution_count": 43,
   "metadata": {},
   "outputs": [
    {
     "name": "stdout",
     "output_type": "stream",
     "text": [
      "NAs? in start_date: 0\n",
      "NAs? in end_date: 1033\n"
     ]
    }
   ],
   "source": [
    "print(f\"NAs? in start_date: {pd.isna(matches_df_1st_50k.start_date).sum()}\")\n",
    "print(f\"NAs? in end_date: {pd.isna(matches_df_1st_50k.end_date).sum()}\")"
   ]
  },
  {
   "cell_type": "markdown",
   "metadata": {},
   "source": [
    "### ASSUMPTION: that end_date having 1033 na's reflects something about matches\n",
    "- can't tell what yet: maybe cancelled match, or player retires before starting etc\n"
   ]
  },
  {
   "cell_type": "markdown",
   "metadata": {
    "tags": []
   },
   "source": [
    "***\n",
    "# Mixed columns\n",
    "These need to be sorted through, see 'check_mixed_columns'"
   ]
  },
  {
   "cell_type": "code",
   "execution_count": 44,
   "metadata": {
    "tags": []
   },
   "outputs": [
    {
     "name": "stdout",
     "output_type": "stream",
     "text": [
      "{'seed': 17926, 'currency': 15537, 'player_name': 10298, 'opponent_name': 10298, 'duration': 10298}\n"
     ]
    }
   ],
   "source": [
    "print(check_mixed_columns)"
   ]
  },
  {
   "cell_type": "code",
   "execution_count": 45,
   "metadata": {
    "tags": []
   },
   "outputs": [
    {
     "data": {
      "text/html": [
       "<div>\n",
       "<style scoped>\n",
       "    .dataframe tbody tr th:only-of-type {\n",
       "        vertical-align: middle;\n",
       "    }\n",
       "\n",
       "    .dataframe tbody tr th {\n",
       "        vertical-align: top;\n",
       "    }\n",
       "\n",
       "    .dataframe thead th {\n",
       "        text-align: right;\n",
       "    }\n",
       "</style>\n",
       "<table border=\"1\" class=\"dataframe\">\n",
       "  <thead>\n",
       "    <tr style=\"text-align: right;\">\n",
       "      <th></th>\n",
       "      <th>seed</th>\n",
       "      <th>currency</th>\n",
       "      <th>player_name</th>\n",
       "      <th>opponent_name</th>\n",
       "      <th>duration</th>\n",
       "    </tr>\n",
       "  </thead>\n",
       "  <tbody>\n",
       "    <tr>\n",
       "      <th>0</th>\n",
       "      <td>NaN</td>\n",
       "      <td>€</td>\n",
       "      <td>A. Partl</td>\n",
       "      <td>A. Martin</td>\n",
       "      <td>01:02:00</td>\n",
       "    </tr>\n",
       "    <tr>\n",
       "      <th>1</th>\n",
       "      <td>NaN</td>\n",
       "      <td>€</td>\n",
       "      <td>A. Partl</td>\n",
       "      <td>J. Kovalik</td>\n",
       "      <td>02:43:00</td>\n",
       "    </tr>\n",
       "    <tr>\n",
       "      <th>2</th>\n",
       "      <td>NaN</td>\n",
       "      <td>€</td>\n",
       "      <td>A. Velotti</td>\n",
       "      <td>D. Hrbaty</td>\n",
       "      <td>01:17:00</td>\n",
       "    </tr>\n",
       "    <tr>\n",
       "      <th>3</th>\n",
       "      <td>NaN</td>\n",
       "      <td>€</td>\n",
       "      <td>NaN</td>\n",
       "      <td>NaN</td>\n",
       "      <td>NaN</td>\n",
       "    </tr>\n",
       "    <tr>\n",
       "      <th>4</th>\n",
       "      <td>1</td>\n",
       "      <td>€</td>\n",
       "      <td>A. Giannessi</td>\n",
       "      <td>H. Heliovaara</td>\n",
       "      <td>02:32:00</td>\n",
       "    </tr>\n",
       "  </tbody>\n",
       "</table>\n",
       "</div>"
      ],
      "text/plain": [
       "  seed currency   player_name  opponent_name  duration\n",
       "0  NaN        €      A. Partl      A. Martin  01:02:00\n",
       "1  NaN        €      A. Partl     J. Kovalik  02:43:00\n",
       "2  NaN        €    A. Velotti      D. Hrbaty  01:17:00\n",
       "3  NaN        €           NaN            NaN       NaN\n",
       "4    1        €  A. Giannessi  H. Heliovaara  02:32:00"
      ]
     },
     "execution_count": 45,
     "metadata": {},
     "output_type": "execute_result"
    }
   ],
   "source": [
    "matches_df_1st_50k[check_mixed_columns.keys()].head()\n"
   ]
  },
  {
   "cell_type": "code",
   "execution_count": 46,
   "metadata": {
    "tags": []
   },
   "outputs": [
    {
     "name": "stdout",
     "output_type": "stream",
     "text": [
      "% of NA in seed: 64.15\n"
     ]
    }
   ],
   "source": [
    "print(f\"% of NA in seed: {round((matches_df_1st_50k.seed.isna().sum()/50_000)*100,2)}\")\n",
    "# 64% seems fairly reasonable: more data for seeded players as likley in more matches, but lots of unseeded players in qualifying etc.\n",
    "#\n",
    "# Does pose the question of what to do with NAs in the immediate term. \n",
    "#\n",
    "# Initial idea:\n",
    "#              Impute them to 0 - i.e. 0 == not seeded"
   ]
  },
  {
   "cell_type": "code",
   "execution_count": 47,
   "metadata": {
    "tags": []
   },
   "outputs": [
    {
     "name": "stdout",
     "output_type": "stream",
     "text": [
      "% of NA in currency: 68.93\n"
     ]
    }
   ],
   "source": [
    "print(f\"% of NA in currency: {round((matches_df_1st_50k.currency.isna().sum()/50_000)*100,2)}\")\n",
    "# again, interesting..."
   ]
  },
  {
   "cell_type": "code",
   "execution_count": 48,
   "metadata": {
    "tags": []
   },
   "outputs": [
    {
     "name": "stdout",
     "output_type": "stream",
     "text": [
      "% of NA in player_name: 79.4\n"
     ]
    }
   ],
   "source": [
    "print(f\"% of NA in player_name: {round((matches_df_1st_50k.player_name.isna().sum()/50_000)*100,2)}\")\n",
    "# player_name and opponent_name will be dropped, as actual identity isn't important, \n",
    "# and the matches for player_id can be found in the accompanying all_players.csv data/table"
   ]
  },
  {
   "cell_type": "code",
   "execution_count": 49,
   "metadata": {
    "tags": []
   },
   "outputs": [],
   "source": [
    "# quick check that the majority of players can be found in all_players.csv:\n",
    "all_players_df = pd.read_csv('../raw_data/archive/all_players.csv')\n",
    "# all_players_df # has 314483 rows..."
   ]
  },
  {
   "cell_type": "code",
   "execution_count": 50,
   "metadata": {
    "tags": []
   },
   "outputs": [
    {
     "name": "stdout",
     "output_type": "stream",
     "text": [
      "all_players NAs: 0, encouraging. \n",
      "And length: 314483\n"
     ]
    }
   ],
   "source": [
    "print(f\"all_players NAs: {all_players_df.player_id.isna().sum()}, encouraging. \\nAnd length: {all_players_df.shape[0]}\")"
   ]
  },
  {
   "cell_type": "code",
   "execution_count": 51,
   "metadata": {
    "tags": []
   },
   "outputs": [
    {
     "name": "stdout",
     "output_type": "stream",
     "text": [
      "\n",
      "Methinks the merge with all_players has been done already\n"
     ]
    }
   ],
   "source": [
    "run_expensive_cell = 0 \n",
    "if run_expensive_cell:\n",
    "    print(f\"Initial length player_name: {len(matches_df_1st_50k.player_name)}\")\n",
    "    print(f\"Initial player_name NAs: {matches_df_1st_50k.player_name.isna().sum()}\\n\")\n",
    "\n",
    "    inner_first50k_with_all_players_df =  matches_df_1st_50k.merge(all_players_df, how=\"inner\", on=['player_id'])\n",
    "    right_first50k_with_all_players_df =  matches_df_1st_50k.merge(all_players_df, how=\"right\", on=['player_id'])\n",
    "    left_first50k_with_all_players_df =  matches_df_1st_50k.merge(all_players_df, how=\"left\", on=['player_id'])\n",
    "\n",
    "    print(f\"inner_first50k_with_all_players_df.player_name.shape {inner_first50k_with_all_players_df.shape[0]}\") # feels like the match has already been done with all_players.csv\n",
    "    print(f\"inner_first50k_with_all_players_df.player_name NAs {inner_first50k_with_all_players_df.player_name.isna().sum()}\\n\")\n",
    "\n",
    "    print(f\"right_first50k_with_all_players_df.player_name.shape {right_first50k_with_all_players_df.shape[0]}\") \n",
    "    print(f\"right_first50k_with_all_players_df.player_name % NAs: {right_first50k_with_all_players_df.player_name.isna().sum()}\\n\")\n",
    "\n",
    "    print(f\"left_first50k_with_all_players_df.player_name.shape {left_first50k_with_all_players_df.shape[0]}\") \n",
    "    print(f\"left_first50k_with_all_players_df.player_name % NAs: {left_first50k_with_all_players_df.player_name.isna().sum()}\")\n",
    "    # print(f\"first50k_with_all_players_df.player_name % found v all_players: {round((len(first50k_with_all_players_df.player_name) / all_players_df.shape[0])*100,2)}\")\n",
    "\n",
    "print(\"\\nMethinks the merge with all_players has been done already\")"
   ]
  },
  {
   "cell_type": "code",
   "execution_count": null,
   "metadata": {},
   "outputs": [],
   "source": [
    "# ASSUMPTION:"
   ]
  },
  {
   "cell_type": "markdown",
   "metadata": {},
   "source": [
    "***\n",
    "# Numerical columns:\n",
    "What even needs attention in the first instance? C.f.: "
   ]
  },
  {
   "cell_type": "code",
   "execution_count": 52,
   "metadata": {
    "tags": []
   },
   "outputs": [
    {
     "name": "stdout",
     "output_type": "stream",
     "text": [
      "{'prize_money': 0, 'sets_won': 0, 'games_won': 0, 'games_against': 0, 'tiebreaks_won': 0, 'tiebreaks_total': 0, 'serve_rating': 0, 'aces': 0, 'double_faults': 0, 'first_serve_made': 0, 'first_serve_attempted': 0, 'first_serve_points_made': 0, 'first_serve_points_attempted': 0, 'second_serve_points_made': 0, 'second_serve_points_attempted': 0, 'break_points_saved': 0, 'break_points_against': 0, 'service_games_won': 0, 'return_rating': 0, 'first_serve_return_points_made': 0, 'first_serve_return_points_attempted': 0, 'second_serve_return_points_made': 0, 'second_serve_return_points_attempted': 0, 'break_points_made': 0, 'break_points_attempted': 0, 'return_games_played': 0, 'service_points_won': 0, 'service_points_attempted': 0, 'return_points_won': 0, 'return_points_attempted': 0, 'total_points_won': 0, 'total_points': 0, 'duration': 0, 'round_num': 0}\n"
     ]
    }
   ],
   "source": [
    "print(check_numerical_columns)"
   ]
  },
  {
   "cell_type": "code",
   "execution_count": 53,
   "metadata": {
    "tags": []
   },
   "outputs": [
    {
     "name": "stdout",
     "output_type": "stream",
     "text": [
      "{'prize_money': 0, 'sets_won': 0, 'games_won': 0, 'games_against': 0, 'tiebreaks_won': 0, 'tiebreaks_total': 0, 'serve_rating': 0, 'aces': 0, 'double_faults': 0, 'first_serve_made': 0, 'first_serve_attempted': 0, 'first_serve_points_made': 0, 'first_serve_points_attempted': 0, 'second_serve_points_made': 0, 'second_serve_points_attempted': 0, 'break_points_saved': 0, 'break_points_against': 0, 'service_games_won': 0, 'return_rating': 0, 'first_serve_return_points_made': 0, 'first_serve_return_points_attempted': 0, 'second_serve_return_points_made': 0, 'second_serve_return_points_attempted': 0, 'break_points_made': 0, 'break_points_attempted': 0, 'return_games_played': 0, 'service_points_won': 0, 'service_points_attempted': 0, 'return_points_won': 0, 'return_points_attempted': 0, 'total_points_won': 0, 'total_points': 0, 'duration': 0, 'round_num': 0}\n"
     ]
    }
   ],
   "source": [
    "print(check_numerical_columns)"
   ]
  },
  {
   "cell_type": "code",
   "execution_count": 55,
   "metadata": {},
   "outputs": [],
   "source": [
    "# in the first 50_000 rows, column counts for these columns gives: \n",
    "for i in check_completeness.keys():\n",
    "    count = matches_df_1st_50k[i].count()\n",
    "    check_completeness[i] += count"
   ]
  },
  {
   "cell_type": "code",
   "execution_count": 56,
   "metadata": {},
   "outputs": [
    {
     "name": "stdout",
     "output_type": "stream",
     "text": [
      "{'start_date': 50000, 'end_date': 48967, 'player_name': 10298, 'duration': 10298}\n"
     ]
    }
   ],
   "source": [
    "print(check_completeness)"
   ]
  },
  {
   "cell_type": "code",
   "execution_count": 57,
   "metadata": {},
   "outputs": [
    {
     "data": {
      "image/png": "[encoded data removed]",
      "text/plain": [
       "<Figure size 640x480 with 1 Axes>"
      ]
     },
     "metadata": {},
     "output_type": "display_data"
    }
   ],
   "source": [
    "D = check_completeness\n",
    "plt.bar(range(len(D)), list(D.values()), align='center')\n",
    "plt.xticks(range(len(D)), list(D.keys()));"
   ]
  },
  {
   "cell_type": "markdown",
   "metadata": {},
   "source": [
    "***\n",
    "# Boolean columns\n",
    "These were string 't' and 'f', see: 'check_boolean_columns'\n"
   ]
  },
  {
   "cell_type": "code",
   "execution_count": 58,
   "metadata": {},
   "outputs": [],
   "source": [
    "for i in check_boolean_columns:\n",
    "    count = matches_df_1st_50k[i].count()\n",
    "    check_boolean_columns[i] += count"
   ]
  },
  {
   "cell_type": "code",
   "execution_count": 59,
   "metadata": {},
   "outputs": [
    {
     "name": "stdout",
     "output_type": "stream",
     "text": [
      "{'player_victory': 50000, 'retirement': 50000, 'won_first_set': 49301}\n"
     ]
    }
   ],
   "source": [
    "print(check_boolean_columns)"
   ]
  },
  {
   "cell_type": "code",
   "execution_count": 60,
   "metadata": {},
   "outputs": [
    {
     "data": {
      "image/png": "[encoded data removed]",
      "text/plain": [
       "<Figure size 640x480 with 1 Axes>"
      ]
     },
     "metadata": {},
     "output_type": "display_data"
    }
   ],
   "source": [
    "D = check_boolean_columns\n",
    "plt.bar(range(len(D)), list(D.values()), align='center')\n",
    "plt.xticks(range(len(D)), list(D.keys()));"
   ]
  },
  {
   "cell_type": "code",
   "execution_count": 61,
   "metadata": {},
   "outputs": [],
   "source": [
    "for i in check_mixed_columns:\n",
    "    count = matches_df_1st_50k[i].count()\n",
    "    check_mixed_columns[i] += count"
   ]
  },
  {
   "cell_type": "code",
   "execution_count": 62,
   "metadata": {},
   "outputs": [
    {
     "name": "stdout",
     "output_type": "stream",
     "text": [
      "{'seed': 17926, 'currency': 15537, 'player_name': 10298, 'opponent_name': 10298, 'duration': 10298}\n"
     ]
    }
   ],
   "source": [
    "print(check_mixed_columns)"
   ]
  },
  {
   "cell_type": "code",
   "execution_count": 63,
   "metadata": {},
   "outputs": [
    {
     "data": {
      "image/png": "[encoded data removed]",
      "text/plain": [
       "<Figure size 640x480 with 1 Axes>"
      ]
     },
     "metadata": {},
     "output_type": "display_data"
    }
   ],
   "source": [
    "D = check_mixed_columns\n",
    "plt.bar(range(len(D)), list(D.values()), align='center')\n",
    "plt.xticks(range(len(D)), list(D.keys()));"
   ]
  },
  {
   "cell_type": "code",
   "execution_count": 64,
   "metadata": {},
   "outputs": [],
   "source": [
    "for i in check_numerical_columns:\n",
    "    count = matches_df_1st_50k[i].count()\n",
    "    check_numerical_columns[i] += count"
   ]
  },
  {
   "cell_type": "code",
   "execution_count": 65,
   "metadata": {},
   "outputs": [
    {
     "data": {
      "text/plain": [
       "{'prize_money': 15537,\n",
       " 'sets_won': 50000,\n",
       " 'games_won': 50000,\n",
       " 'games_against': 50000,\n",
       " 'tiebreaks_won': 50000,\n",
       " 'tiebreaks_total': 50000,\n",
       " 'serve_rating': 10298,\n",
       " 'aces': 10298,\n",
       " 'double_faults': 10298,\n",
       " 'first_serve_made': 10298,\n",
       " 'first_serve_attempted': 10298,\n",
       " 'first_serve_points_made': 10298,\n",
       " 'first_serve_points_attempted': 10298,\n",
       " 'second_serve_points_made': 10298,\n",
       " 'second_serve_points_attempted': 10298,\n",
       " 'break_points_saved': 10298,\n",
       " 'break_points_against': 10298,\n",
       " 'service_games_won': 10298,\n",
       " 'return_rating': 10298,\n",
       " 'first_serve_return_points_made': 10298,\n",
       " 'first_serve_return_points_attempted': 10298,\n",
       " 'second_serve_return_points_made': 10298,\n",
       " 'second_serve_return_points_attempted': 10298,\n",
       " 'break_points_made': 10298,\n",
       " 'break_points_attempted': 10298,\n",
       " 'return_games_played': 10298,\n",
       " 'service_points_won': 10298,\n",
       " 'service_points_attempted': 10298,\n",
       " 'return_points_won': 10298,\n",
       " 'return_points_attempted': 10298,\n",
       " 'total_points_won': 10298,\n",
       " 'total_points': 10298,\n",
       " 'duration': 10298,\n",
       " 'round_num': 50000}"
      ]
     },
     "metadata": {},
     "output_type": "display_data"
    },
    {
     "name": "stdout",
     "output_type": "stream",
     "text": [
      "aces\n",
      "total_points_won\n"
     ]
    }
   ],
   "source": [
    "display(check_numerical_columns)\n",
    "print(min(check_numerical_columns))\n",
    "print(max(check_numerical_columns))"
   ]
  },
  {
   "cell_type": "code",
   "execution_count": 66,
   "metadata": {},
   "outputs": [
    {
     "data": {
      "image/png": "[encoded data removed]",
      "text/plain": [
       "<Figure size 640x480 with 1 Axes>"
      ]
     },
     "metadata": {},
     "output_type": "display_data"
    }
   ],
   "source": [
    "# quick chart to see:\n",
    "D = check_numerical_columns\n",
    "plt.bar(range(len(D)), list(D.values()), align='center')\n",
    "plt.xticks(range(len(D)), list(D.keys()));"
   ]
  },
  {
   "cell_type": "code",
   "execution_count": 67,
   "metadata": {},
   "outputs": [],
   "source": [
    "for i in check_key_distinguishing_columns:\n",
    "    count = matches_df_1st_50k[i].count()\n",
    "    check_key_distinguishing_columns[i] += count"
   ]
  },
  {
   "cell_type": "code",
   "execution_count": 68,
   "metadata": {},
   "outputs": [
    {
     "name": "stdout",
     "output_type": "stream",
     "text": [
      "{'doubles': 50000, 'masters': 50000, 'nation': 50000, 'seed': 17926, 'prize_money': 15537}\n"
     ]
    }
   ],
   "source": [
    "print(check_key_distinguishing_columns)"
   ]
  },
  {
   "cell_type": "code",
   "execution_count": 69,
   "metadata": {},
   "outputs": [
    {
     "data": {
      "image/png": "[encoded data removed]",
      "text/plain": [
       "<Figure size 640x480 with 1 Axes>"
      ]
     },
     "metadata": {},
     "output_type": "display_data"
    }
   ],
   "source": [
    "D = check_key_distinguishing_columns\n",
    "plt.bar(range(len(D)), list(D.values()), align='center')\n",
    "plt.xticks(range(len(D)), list(D.keys()));"
   ]
  },
  {
   "cell_type": "markdown",
   "metadata": {
    "tags": []
   },
   "source": [
    "***\n",
    "# Approaches and techniques trialling (for subsequent application in a pipeline)"
   ]
  },
  {
   "cell_type": "markdown",
   "metadata": {},
   "source": [
    "### 4PIPELINE: RESULT ACCUMULATOR\n",
    "Operate pipeline with accumulator for any specified result, \n",
    "so that memory efficiency is maintained but full dataset checked"
   ]
  },
  {
   "cell_type": "markdown",
   "metadata": {},
   "source": [
    "### 4PIPELINE: Drop any duplicates"
   ]
  },
  {
   "cell_type": "code",
   "execution_count": 70,
   "metadata": {},
   "outputs": [
    {
     "data": {
      "text/html": [
       "<div>\n",
       "<style scoped>\n",
       "    .dataframe tbody tr th:only-of-type {\n",
       "        vertical-align: middle;\n",
       "    }\n",
       "\n",
       "    .dataframe tbody tr th {\n",
       "        vertical-align: top;\n",
       "    }\n",
       "\n",
       "    .dataframe thead th {\n",
       "        text-align: right;\n",
       "    }\n",
       "</style>\n",
       "<table border=\"1\" class=\"dataframe\">\n",
       "  <thead>\n",
       "    <tr style=\"text-align: right;\">\n",
       "      <th></th>\n",
       "      <th>start_date</th>\n",
       "      <th>end_date</th>\n",
       "      <th>location</th>\n",
       "      <th>court_surface</th>\n",
       "      <th>prize_money</th>\n",
       "      <th>currency</th>\n",
       "      <th>year</th>\n",
       "      <th>player_id</th>\n",
       "      <th>player_name</th>\n",
       "      <th>opponent_id</th>\n",
       "      <th>...</th>\n",
       "      <th>total_points</th>\n",
       "      <th>duration</th>\n",
       "      <th>player_victory</th>\n",
       "      <th>retirement</th>\n",
       "      <th>seed</th>\n",
       "      <th>won_first_set</th>\n",
       "      <th>doubles</th>\n",
       "      <th>masters</th>\n",
       "      <th>round_num</th>\n",
       "      <th>nation</th>\n",
       "    </tr>\n",
       "  </thead>\n",
       "  <tbody>\n",
       "    <tr>\n",
       "      <th>0</th>\n",
       "      <td>2012-06-11</td>\n",
       "      <td>2012-06-17</td>\n",
       "      <td>Slovakia</td>\n",
       "      <td>Clay</td>\n",
       "      <td>30000.0</td>\n",
       "      <td>€</td>\n",
       "      <td>2012</td>\n",
       "      <td>adrian-partl</td>\n",
       "      <td>A. Partl</td>\n",
       "      <td>andrej-martin</td>\n",
       "      <td>...</td>\n",
       "      <td>88.0</td>\n",
       "      <td>01:02:00</td>\n",
       "      <td>f</td>\n",
       "      <td>f</td>\n",
       "      <td>NaN</td>\n",
       "      <td>f</td>\n",
       "      <td>f</td>\n",
       "      <td>100</td>\n",
       "      <td>1</td>\n",
       "      <td>Slovakia</td>\n",
       "    </tr>\n",
       "    <tr>\n",
       "      <th>1</th>\n",
       "      <td>2012-06-11</td>\n",
       "      <td>2012-06-17</td>\n",
       "      <td>Slovakia</td>\n",
       "      <td>Clay</td>\n",
       "      <td>30000.0</td>\n",
       "      <td>€</td>\n",
       "      <td>2012</td>\n",
       "      <td>adrian-partl</td>\n",
       "      <td>A. Partl</td>\n",
       "      <td>jozef-kovalik</td>\n",
       "      <td>...</td>\n",
       "      <td>195.0</td>\n",
       "      <td>02:43:00</td>\n",
       "      <td>t</td>\n",
       "      <td>f</td>\n",
       "      <td>NaN</td>\n",
       "      <td>t</td>\n",
       "      <td>f</td>\n",
       "      <td>100</td>\n",
       "      <td>0</td>\n",
       "      <td>Slovakia</td>\n",
       "    </tr>\n",
       "    <tr>\n",
       "      <th>2</th>\n",
       "      <td>2012-06-11</td>\n",
       "      <td>2012-06-17</td>\n",
       "      <td>Slovakia</td>\n",
       "      <td>Clay</td>\n",
       "      <td>30000.0</td>\n",
       "      <td>€</td>\n",
       "      <td>2012</td>\n",
       "      <td>agustin-velotti</td>\n",
       "      <td>A. Velotti</td>\n",
       "      <td>dominik-hrbaty</td>\n",
       "      <td>...</td>\n",
       "      <td>126.0</td>\n",
       "      <td>01:17:00</td>\n",
       "      <td>f</td>\n",
       "      <td>f</td>\n",
       "      <td>NaN</td>\n",
       "      <td>f</td>\n",
       "      <td>f</td>\n",
       "      <td>100</td>\n",
       "      <td>3</td>\n",
       "      <td>Slovakia</td>\n",
       "    </tr>\n",
       "    <tr>\n",
       "      <th>3</th>\n",
       "      <td>2012-06-11</td>\n",
       "      <td>2012-06-17</td>\n",
       "      <td>Slovakia</td>\n",
       "      <td>Clay</td>\n",
       "      <td>30000.0</td>\n",
       "      <td>€</td>\n",
       "      <td>2012</td>\n",
       "      <td>agustin-velotti_marcel-felder</td>\n",
       "      <td>NaN</td>\n",
       "      <td>andrei-daescu_florin-mergea</td>\n",
       "      <td>...</td>\n",
       "      <td>NaN</td>\n",
       "      <td>NaN</td>\n",
       "      <td>f</td>\n",
       "      <td>f</td>\n",
       "      <td>NaN</td>\n",
       "      <td>t</td>\n",
       "      <td>t</td>\n",
       "      <td>100</td>\n",
       "      <td>4</td>\n",
       "      <td>Slovakia</td>\n",
       "    </tr>\n",
       "    <tr>\n",
       "      <th>4</th>\n",
       "      <td>2012-06-11</td>\n",
       "      <td>2012-06-17</td>\n",
       "      <td>Slovakia</td>\n",
       "      <td>Clay</td>\n",
       "      <td>30000.0</td>\n",
       "      <td>€</td>\n",
       "      <td>2012</td>\n",
       "      <td>alessandro-giannessi</td>\n",
       "      <td>A. Giannessi</td>\n",
       "      <td>harri-heliovaara</td>\n",
       "      <td>...</td>\n",
       "      <td>194.0</td>\n",
       "      <td>02:32:00</td>\n",
       "      <td>t</td>\n",
       "      <td>f</td>\n",
       "      <td>1</td>\n",
       "      <td>t</td>\n",
       "      <td>f</td>\n",
       "      <td>100</td>\n",
       "      <td>3</td>\n",
       "      <td>Slovakia</td>\n",
       "    </tr>\n",
       "    <tr>\n",
       "      <th>...</th>\n",
       "      <td>...</td>\n",
       "      <td>...</td>\n",
       "      <td>...</td>\n",
       "      <td>...</td>\n",
       "      <td>...</td>\n",
       "      <td>...</td>\n",
       "      <td>...</td>\n",
       "      <td>...</td>\n",
       "      <td>...</td>\n",
       "      <td>...</td>\n",
       "      <td>...</td>\n",
       "      <td>...</td>\n",
       "      <td>...</td>\n",
       "      <td>...</td>\n",
       "      <td>...</td>\n",
       "      <td>...</td>\n",
       "      <td>...</td>\n",
       "      <td>...</td>\n",
       "      <td>...</td>\n",
       "      <td>...</td>\n",
       "      <td>...</td>\n",
       "    </tr>\n",
       "    <tr>\n",
       "      <th>49995</th>\n",
       "      <td>2004-07-05</td>\n",
       "      <td>2004-07-11</td>\n",
       "      <td>DEN</td>\n",
       "      <td>Clay</td>\n",
       "      <td>NaN</td>\n",
       "      <td>NaN</td>\n",
       "      <td>2004</td>\n",
       "      <td>frederik-nielsen</td>\n",
       "      <td>NaN</td>\n",
       "      <td>pablo-figueroa</td>\n",
       "      <td>...</td>\n",
       "      <td>NaN</td>\n",
       "      <td>NaN</td>\n",
       "      <td>f</td>\n",
       "      <td>f</td>\n",
       "      <td>2.0</td>\n",
       "      <td>f</td>\n",
       "      <td>f</td>\n",
       "      <td>25</td>\n",
       "      <td>3</td>\n",
       "      <td>DEN</td>\n",
       "    </tr>\n",
       "    <tr>\n",
       "      <th>49996</th>\n",
       "      <td>2004-07-05</td>\n",
       "      <td>2004-07-11</td>\n",
       "      <td>DEN</td>\n",
       "      <td>Clay</td>\n",
       "      <td>NaN</td>\n",
       "      <td>NaN</td>\n",
       "      <td>2004</td>\n",
       "      <td>frederik-nielsen_rasmus-norby</td>\n",
       "      <td>NaN</td>\n",
       "      <td>andrea-arnaboldi_nicolas-tourte</td>\n",
       "      <td>...</td>\n",
       "      <td>NaN</td>\n",
       "      <td>NaN</td>\n",
       "      <td>t</td>\n",
       "      <td>f</td>\n",
       "      <td>NaN</td>\n",
       "      <td>t</td>\n",
       "      <td>t</td>\n",
       "      <td>25</td>\n",
       "      <td>7</td>\n",
       "      <td>DEN</td>\n",
       "    </tr>\n",
       "    <tr>\n",
       "      <th>49997</th>\n",
       "      <td>2004-07-05</td>\n",
       "      <td>2004-07-11</td>\n",
       "      <td>DEN</td>\n",
       "      <td>Clay</td>\n",
       "      <td>NaN</td>\n",
       "      <td>NaN</td>\n",
       "      <td>2004</td>\n",
       "      <td>frederik-nielsen_rasmus-norby</td>\n",
       "      <td>NaN</td>\n",
       "      <td>andreas-siljestrom_oskar-pallin</td>\n",
       "      <td>...</td>\n",
       "      <td>NaN</td>\n",
       "      <td>NaN</td>\n",
       "      <td>t</td>\n",
       "      <td>f</td>\n",
       "      <td>NaN</td>\n",
       "      <td>t</td>\n",
       "      <td>t</td>\n",
       "      <td>25</td>\n",
       "      <td>6</td>\n",
       "      <td>DEN</td>\n",
       "    </tr>\n",
       "    <tr>\n",
       "      <th>49998</th>\n",
       "      <td>2004-07-05</td>\n",
       "      <td>2004-07-11</td>\n",
       "      <td>DEN</td>\n",
       "      <td>Clay</td>\n",
       "      <td>NaN</td>\n",
       "      <td>NaN</td>\n",
       "      <td>2004</td>\n",
       "      <td>frederik-nielsen_rasmus-norby</td>\n",
       "      <td>NaN</td>\n",
       "      <td>antti-tuomi_niklas-bucht</td>\n",
       "      <td>...</td>\n",
       "      <td>NaN</td>\n",
       "      <td>NaN</td>\n",
       "      <td>t</td>\n",
       "      <td>f</td>\n",
       "      <td>NaN</td>\n",
       "      <td>t</td>\n",
       "      <td>t</td>\n",
       "      <td>25</td>\n",
       "      <td>4</td>\n",
       "      <td>DEN</td>\n",
       "    </tr>\n",
       "    <tr>\n",
       "      <th>49999</th>\n",
       "      <td>2004-07-05</td>\n",
       "      <td>2004-07-11</td>\n",
       "      <td>DEN</td>\n",
       "      <td>Clay</td>\n",
       "      <td>NaN</td>\n",
       "      <td>NaN</td>\n",
       "      <td>2004</td>\n",
       "      <td>frederik-nielsen_rasmus-norby</td>\n",
       "      <td>NaN</td>\n",
       "      <td>jacob-melskens_tore-deleuran-skjold</td>\n",
       "      <td>...</td>\n",
       "      <td>NaN</td>\n",
       "      <td>NaN</td>\n",
       "      <td>t</td>\n",
       "      <td>f</td>\n",
       "      <td>NaN</td>\n",
       "      <td>t</td>\n",
       "      <td>t</td>\n",
       "      <td>25</td>\n",
       "      <td>5</td>\n",
       "      <td>DEN</td>\n",
       "    </tr>\n",
       "  </tbody>\n",
       "</table>\n",
       "<p>50000 rows × 54 columns</p>\n",
       "</div>"
      ],
      "text/plain": [
       "      start_date   end_date  location court_surface  prize_money currency  \\\n",
       "0     2012-06-11 2012-06-17  Slovakia          Clay      30000.0        €   \n",
       "1     2012-06-11 2012-06-17  Slovakia          Clay      30000.0        €   \n",
       "2     2012-06-11 2012-06-17  Slovakia          Clay      30000.0        €   \n",
       "3     2012-06-11 2012-06-17  Slovakia          Clay      30000.0        €   \n",
       "4     2012-06-11 2012-06-17  Slovakia          Clay      30000.0        €   \n",
       "...          ...        ...       ...           ...          ...      ...   \n",
       "49995 2004-07-05 2004-07-11       DEN          Clay          NaN      NaN   \n",
       "49996 2004-07-05 2004-07-11       DEN          Clay          NaN      NaN   \n",
       "49997 2004-07-05 2004-07-11       DEN          Clay          NaN      NaN   \n",
       "49998 2004-07-05 2004-07-11       DEN          Clay          NaN      NaN   \n",
       "49999 2004-07-05 2004-07-11       DEN          Clay          NaN      NaN   \n",
       "\n",
       "       year                      player_id   player_name  \\\n",
       "0      2012                   adrian-partl      A. Partl   \n",
       "1      2012                   adrian-partl      A. Partl   \n",
       "2      2012                agustin-velotti    A. Velotti   \n",
       "3      2012  agustin-velotti_marcel-felder           NaN   \n",
       "4      2012           alessandro-giannessi  A. Giannessi   \n",
       "...     ...                            ...           ...   \n",
       "49995  2004               frederik-nielsen           NaN   \n",
       "49996  2004  frederik-nielsen_rasmus-norby           NaN   \n",
       "49997  2004  frederik-nielsen_rasmus-norby           NaN   \n",
       "49998  2004  frederik-nielsen_rasmus-norby           NaN   \n",
       "49999  2004  frederik-nielsen_rasmus-norby           NaN   \n",
       "\n",
       "                               opponent_id  ... total_points  duration  \\\n",
       "0                            andrej-martin  ...         88.0  01:02:00   \n",
       "1                            jozef-kovalik  ...        195.0  02:43:00   \n",
       "2                           dominik-hrbaty  ...        126.0  01:17:00   \n",
       "3              andrei-daescu_florin-mergea  ...          NaN       NaN   \n",
       "4                         harri-heliovaara  ...        194.0  02:32:00   \n",
       "...                                    ...  ...          ...       ...   \n",
       "49995                       pablo-figueroa  ...          NaN       NaN   \n",
       "49996      andrea-arnaboldi_nicolas-tourte  ...          NaN       NaN   \n",
       "49997      andreas-siljestrom_oskar-pallin  ...          NaN       NaN   \n",
       "49998             antti-tuomi_niklas-bucht  ...          NaN       NaN   \n",
       "49999  jacob-melskens_tore-deleuran-skjold  ...          NaN       NaN   \n",
       "\n",
       "      player_victory  retirement  seed  won_first_set  doubles  masters  \\\n",
       "0                  f           f   NaN              f        f      100   \n",
       "1                  t           f   NaN              t        f      100   \n",
       "2                  f           f   NaN              f        f      100   \n",
       "3                  f           f   NaN              t        t      100   \n",
       "4                  t           f     1              t        f      100   \n",
       "...              ...         ...   ...            ...      ...      ...   \n",
       "49995              f           f   2.0              f        f       25   \n",
       "49996              t           f   NaN              t        t       25   \n",
       "49997              t           f   NaN              t        t       25   \n",
       "49998              t           f   NaN              t        t       25   \n",
       "49999              t           f   NaN              t        t       25   \n",
       "\n",
       "       round_num    nation  \n",
       "0              1  Slovakia  \n",
       "1              0  Slovakia  \n",
       "2              3  Slovakia  \n",
       "3              4  Slovakia  \n",
       "4              3  Slovakia  \n",
       "...          ...       ...  \n",
       "49995          3       DEN  \n",
       "49996          7       DEN  \n",
       "49997          6       DEN  \n",
       "49998          4       DEN  \n",
       "49999          5       DEN  \n",
       "\n",
       "[50000 rows x 54 columns]"
      ]
     },
     "execution_count": 70,
     "metadata": {},
     "output_type": "execute_result"
    }
   ],
   "source": [
    "matches_df_1st_50k.drop_duplicates() # shows no duplicates on 1st 50k"
   ]
  },
  {
   "cell_type": "markdown",
   "metadata": {},
   "source": [
    "### 4PIPELINE: Dropping columns\n",
    "A: Names: _name column is superflous, can be backfilled to actual names later\n"
   ]
  },
  {
   "cell_type": "code",
   "execution_count": 71,
   "metadata": {},
   "outputs": [],
   "source": [
    "# given the repetition of player_ and opponent_ name and id we can drop 2 columns\n",
    "# 2 checks are needed:\n",
    "#       1: That the full data repeats the pattern above\n",
    "#       2: That the ids all match with the all_players csv \n",
    "columns_to_drop = ['player_name', 'opponent_name']"
   ]
  },
  {
   "cell_type": "code",
   "execution_count": 72,
   "metadata": {},
   "outputs": [
    {
     "name": "stdout",
     "output_type": "stream",
     "text": [
      "  currency   player_name  opponent_name  duration seed\n",
      "0        €      A. Partl      A. Martin  01:02:00  NaN\n",
      "1        €      A. Partl     J. Kovalik  02:43:00  NaN\n",
      "2        €    A. Velotti      D. Hrbaty  01:17:00  NaN\n",
      "3        €           NaN            NaN       NaN  NaN\n",
      "4        €  A. Giannessi  H. Heliovaara  02:32:00    1\n"
     ]
    }
   ],
   "source": [
    "# Dealing with the mixed datatypes\n",
    "print(matches_df_1st_50k.iloc[:,[5, 8, 10, 45, 48]].head())"
   ]
  },
  {
   "cell_type": "code",
   "execution_count": 73,
   "metadata": {},
   "outputs": [
    {
     "data": {
      "text/plain": [
       "currency         34463\n",
       "player_name      39702\n",
       "opponent_name    39702\n",
       "duration         39702\n",
       "seed             32074\n",
       "dtype: int64"
      ]
     },
     "execution_count": 73,
     "metadata": {},
     "output_type": "execute_result"
    }
   ],
   "source": [
    "matches_df_1st_50k.iloc[:,[5, 8, 10, 45, 48]].isna().sum()\n",
    "# on the basis that these numbers are high percentages, all over 60%, some care\n",
    "# is needed. player_name, opponent_name and duration look to be nearly 80% NA\n",
    "# \n",
    "# will need to confirm this through the rest of the data"
   ]
  },
  {
   "cell_type": "markdown",
   "metadata": {},
   "source": [
    "*** \n",
    "# Key data qualities:\n",
    "## How to best handle and use the issues: \n",
    "### 2-rows-represent-one-match"
   ]
  },
  {
   "cell_type": "code",
   "execution_count": 74,
   "metadata": {},
   "outputs": [],
   "source": [
    "# This is an interesting issue - and provides a relatively substantial problem. \n",
    "# \n",
    "# Due to the 2 rows representing 1 match, it must be the case that those 2 rows\n",
    "# are colinear. "
   ]
  },
  {
   "cell_type": "markdown",
   "metadata": {},
   "source": [
    "# Colinearity due to 2 row matches: split into 2 win and challenge datasets"
   ]
  },
  {
   "cell_type": "code",
   "execution_count": 75,
   "metadata": {},
   "outputs": [],
   "source": [
    "# One way to deal with this would be to split into 2 different datasets\n",
    "# i.e. \n",
    "# row X (with the winner data) is in the Winer Dataset\n",
    "# row X+1 (with the loser data) forms part of the Challenger Dataset\n",
    "#\n",
    "# It is not clear this would solve the issue entirely, but certainly a good\n",
    "# suggestion in the first place.\n",
    "\n",
    "# CREDIT where due: Neil Robertson from Arup Data Analytics - thanks Neil.\n",
    "\n"
   ]
  },
  {
   "cell_type": "markdown",
   "metadata": {},
   "source": [
    "***\n",
    "# QUERIES TO GET TO SPECIFIC DATA / COLUMNS:\n",
    "## Contents:\n",
    "- Filter out columns\n",
    "- Filter out by column mask, e.g. not doubles"
   ]
  },
  {
   "cell_type": "code",
   "execution_count": null,
   "metadata": {},
   "outputs": [],
   "source": []
  },
  {
   "cell_type": "markdown",
   "metadata": {},
   "source": [
    "# @@@@@@@@@@@\n",
    "### Date Filtering:"
   ]
  },
  {
   "cell_type": "code",
   "execution_count": 76,
   "metadata": {},
   "outputs": [
    {
     "data": {
      "image/png": "[encoded data removed]",
      "text/plain": [
       "<Figure size 640x480 with 1 Axes>"
      ]
     },
     "metadata": {},
     "output_type": "display_data"
    }
   ],
   "source": [
    "plt.hist(matches_df_1st_50k.start_date,bins=68); # by year"
   ]
  },
  {
   "cell_type": "code",
   "execution_count": 77,
   "metadata": {},
   "outputs": [
    {
     "data": {
      "text/html": [
       "<div>\n",
       "<style scoped>\n",
       "    .dataframe tbody tr th:only-of-type {\n",
       "        vertical-align: middle;\n",
       "    }\n",
       "\n",
       "    .dataframe tbody tr th {\n",
       "        vertical-align: top;\n",
       "    }\n",
       "\n",
       "    .dataframe thead th {\n",
       "        text-align: right;\n",
       "    }\n",
       "</style>\n",
       "<table border=\"1\" class=\"dataframe\">\n",
       "  <thead>\n",
       "    <tr style=\"text-align: right;\">\n",
       "      <th></th>\n",
       "      <th>start_date</th>\n",
       "      <th>end_date</th>\n",
       "      <th>location</th>\n",
       "      <th>court_surface</th>\n",
       "      <th>prize_money</th>\n",
       "      <th>currency</th>\n",
       "      <th>year</th>\n",
       "      <th>player_id</th>\n",
       "      <th>player_name</th>\n",
       "      <th>opponent_id</th>\n",
       "      <th>...</th>\n",
       "      <th>total_points</th>\n",
       "      <th>duration</th>\n",
       "      <th>player_victory</th>\n",
       "      <th>retirement</th>\n",
       "      <th>seed</th>\n",
       "      <th>won_first_set</th>\n",
       "      <th>doubles</th>\n",
       "      <th>masters</th>\n",
       "      <th>round_num</th>\n",
       "      <th>nation</th>\n",
       "    </tr>\n",
       "  </thead>\n",
       "  <tbody>\n",
       "    <tr>\n",
       "      <th>0</th>\n",
       "      <td>2012-06-11</td>\n",
       "      <td>2012-06-17</td>\n",
       "      <td>Slovakia</td>\n",
       "      <td>Clay</td>\n",
       "      <td>30000.0</td>\n",
       "      <td>€</td>\n",
       "      <td>2012</td>\n",
       "      <td>adrian-partl</td>\n",
       "      <td>A. Partl</td>\n",
       "      <td>andrej-martin</td>\n",
       "      <td>...</td>\n",
       "      <td>88.0</td>\n",
       "      <td>01:02:00</td>\n",
       "      <td>f</td>\n",
       "      <td>f</td>\n",
       "      <td>NaN</td>\n",
       "      <td>f</td>\n",
       "      <td>f</td>\n",
       "      <td>100</td>\n",
       "      <td>1</td>\n",
       "      <td>Slovakia</td>\n",
       "    </tr>\n",
       "    <tr>\n",
       "      <th>1</th>\n",
       "      <td>2012-06-11</td>\n",
       "      <td>2012-06-17</td>\n",
       "      <td>Slovakia</td>\n",
       "      <td>Clay</td>\n",
       "      <td>30000.0</td>\n",
       "      <td>€</td>\n",
       "      <td>2012</td>\n",
       "      <td>adrian-partl</td>\n",
       "      <td>A. Partl</td>\n",
       "      <td>jozef-kovalik</td>\n",
       "      <td>...</td>\n",
       "      <td>195.0</td>\n",
       "      <td>02:43:00</td>\n",
       "      <td>t</td>\n",
       "      <td>f</td>\n",
       "      <td>NaN</td>\n",
       "      <td>t</td>\n",
       "      <td>f</td>\n",
       "      <td>100</td>\n",
       "      <td>0</td>\n",
       "      <td>Slovakia</td>\n",
       "    </tr>\n",
       "    <tr>\n",
       "      <th>2</th>\n",
       "      <td>2012-06-11</td>\n",
       "      <td>2012-06-17</td>\n",
       "      <td>Slovakia</td>\n",
       "      <td>Clay</td>\n",
       "      <td>30000.0</td>\n",
       "      <td>€</td>\n",
       "      <td>2012</td>\n",
       "      <td>agustin-velotti</td>\n",
       "      <td>A. Velotti</td>\n",
       "      <td>dominik-hrbaty</td>\n",
       "      <td>...</td>\n",
       "      <td>126.0</td>\n",
       "      <td>01:17:00</td>\n",
       "      <td>f</td>\n",
       "      <td>f</td>\n",
       "      <td>NaN</td>\n",
       "      <td>f</td>\n",
       "      <td>f</td>\n",
       "      <td>100</td>\n",
       "      <td>3</td>\n",
       "      <td>Slovakia</td>\n",
       "    </tr>\n",
       "    <tr>\n",
       "      <th>3</th>\n",
       "      <td>2012-06-11</td>\n",
       "      <td>2012-06-17</td>\n",
       "      <td>Slovakia</td>\n",
       "      <td>Clay</td>\n",
       "      <td>30000.0</td>\n",
       "      <td>€</td>\n",
       "      <td>2012</td>\n",
       "      <td>agustin-velotti_marcel-felder</td>\n",
       "      <td>NaN</td>\n",
       "      <td>andrei-daescu_florin-mergea</td>\n",
       "      <td>...</td>\n",
       "      <td>NaN</td>\n",
       "      <td>NaN</td>\n",
       "      <td>f</td>\n",
       "      <td>f</td>\n",
       "      <td>NaN</td>\n",
       "      <td>t</td>\n",
       "      <td>t</td>\n",
       "      <td>100</td>\n",
       "      <td>4</td>\n",
       "      <td>Slovakia</td>\n",
       "    </tr>\n",
       "    <tr>\n",
       "      <th>4</th>\n",
       "      <td>2012-06-11</td>\n",
       "      <td>2012-06-17</td>\n",
       "      <td>Slovakia</td>\n",
       "      <td>Clay</td>\n",
       "      <td>30000.0</td>\n",
       "      <td>€</td>\n",
       "      <td>2012</td>\n",
       "      <td>alessandro-giannessi</td>\n",
       "      <td>A. Giannessi</td>\n",
       "      <td>harri-heliovaara</td>\n",
       "      <td>...</td>\n",
       "      <td>194.0</td>\n",
       "      <td>02:32:00</td>\n",
       "      <td>t</td>\n",
       "      <td>f</td>\n",
       "      <td>1</td>\n",
       "      <td>t</td>\n",
       "      <td>f</td>\n",
       "      <td>100</td>\n",
       "      <td>3</td>\n",
       "      <td>Slovakia</td>\n",
       "    </tr>\n",
       "    <tr>\n",
       "      <th>...</th>\n",
       "      <td>...</td>\n",
       "      <td>...</td>\n",
       "      <td>...</td>\n",
       "      <td>...</td>\n",
       "      <td>...</td>\n",
       "      <td>...</td>\n",
       "      <td>...</td>\n",
       "      <td>...</td>\n",
       "      <td>...</td>\n",
       "      <td>...</td>\n",
       "      <td>...</td>\n",
       "      <td>...</td>\n",
       "      <td>...</td>\n",
       "      <td>...</td>\n",
       "      <td>...</td>\n",
       "      <td>...</td>\n",
       "      <td>...</td>\n",
       "      <td>...</td>\n",
       "      <td>...</td>\n",
       "      <td>...</td>\n",
       "      <td>...</td>\n",
       "    </tr>\n",
       "    <tr>\n",
       "      <th>49708</th>\n",
       "      <td>2010-09-27</td>\n",
       "      <td>2010-10-03</td>\n",
       "      <td>POR</td>\n",
       "      <td>Clay</td>\n",
       "      <td>NaN</td>\n",
       "      <td>NaN</td>\n",
       "      <td>2010</td>\n",
       "      <td>vitor-silva</td>\n",
       "      <td>NaN</td>\n",
       "      <td>diogo-cabral</td>\n",
       "      <td>...</td>\n",
       "      <td>NaN</td>\n",
       "      <td>NaN</td>\n",
       "      <td>t</td>\n",
       "      <td>f</td>\n",
       "      <td>NaN</td>\n",
       "      <td>t</td>\n",
       "      <td>f</td>\n",
       "      <td>25</td>\n",
       "      <td>0</td>\n",
       "      <td>POR</td>\n",
       "    </tr>\n",
       "    <tr>\n",
       "      <th>49709</th>\n",
       "      <td>2010-09-27</td>\n",
       "      <td>2010-10-03</td>\n",
       "      <td>POR</td>\n",
       "      <td>Clay</td>\n",
       "      <td>NaN</td>\n",
       "      <td>NaN</td>\n",
       "      <td>2010</td>\n",
       "      <td>vitor-silva</td>\n",
       "      <td>NaN</td>\n",
       "      <td>stephan-fransen</td>\n",
       "      <td>...</td>\n",
       "      <td>NaN</td>\n",
       "      <td>NaN</td>\n",
       "      <td>f</td>\n",
       "      <td>f</td>\n",
       "      <td>NaN</td>\n",
       "      <td>f</td>\n",
       "      <td>f</td>\n",
       "      <td>25</td>\n",
       "      <td>1</td>\n",
       "      <td>POR</td>\n",
       "    </tr>\n",
       "    <tr>\n",
       "      <th>49710</th>\n",
       "      <td>2010-09-27</td>\n",
       "      <td>2010-10-03</td>\n",
       "      <td>POR</td>\n",
       "      <td>Clay</td>\n",
       "      <td>NaN</td>\n",
       "      <td>NaN</td>\n",
       "      <td>2010</td>\n",
       "      <td>wesley-koolhof</td>\n",
       "      <td>NaN</td>\n",
       "      <td>goncalo-falcao</td>\n",
       "      <td>...</td>\n",
       "      <td>NaN</td>\n",
       "      <td>NaN</td>\n",
       "      <td>t</td>\n",
       "      <td>f</td>\n",
       "      <td>NaN</td>\n",
       "      <td>t</td>\n",
       "      <td>f</td>\n",
       "      <td>25</td>\n",
       "      <td>3</td>\n",
       "      <td>POR</td>\n",
       "    </tr>\n",
       "    <tr>\n",
       "      <th>49711</th>\n",
       "      <td>2010-09-27</td>\n",
       "      <td>2010-10-03</td>\n",
       "      <td>POR</td>\n",
       "      <td>Clay</td>\n",
       "      <td>NaN</td>\n",
       "      <td>NaN</td>\n",
       "      <td>2010</td>\n",
       "      <td>wesley-koolhof</td>\n",
       "      <td>NaN</td>\n",
       "      <td>laurent-rochette</td>\n",
       "      <td>...</td>\n",
       "      <td>NaN</td>\n",
       "      <td>NaN</td>\n",
       "      <td>f</td>\n",
       "      <td>f</td>\n",
       "      <td>NaN</td>\n",
       "      <td>t</td>\n",
       "      <td>f</td>\n",
       "      <td>25</td>\n",
       "      <td>4</td>\n",
       "      <td>POR</td>\n",
       "    </tr>\n",
       "    <tr>\n",
       "      <th>49712</th>\n",
       "      <td>2010-09-27</td>\n",
       "      <td>2010-10-03</td>\n",
       "      <td>POR</td>\n",
       "      <td>Clay</td>\n",
       "      <td>NaN</td>\n",
       "      <td>NaN</td>\n",
       "      <td>2010</td>\n",
       "      <td>yann-minster</td>\n",
       "      <td>NaN</td>\n",
       "      <td>bartosz-sawicki</td>\n",
       "      <td>...</td>\n",
       "      <td>NaN</td>\n",
       "      <td>NaN</td>\n",
       "      <td>f</td>\n",
       "      <td>f</td>\n",
       "      <td>NaN</td>\n",
       "      <td>f</td>\n",
       "      <td>f</td>\n",
       "      <td>25</td>\n",
       "      <td>0</td>\n",
       "      <td>POR</td>\n",
       "    </tr>\n",
       "  </tbody>\n",
       "</table>\n",
       "<p>30156 rows × 54 columns</p>\n",
       "</div>"
      ],
      "text/plain": [
       "      start_date   end_date  location court_surface  prize_money currency  \\\n",
       "0     2012-06-11 2012-06-17  Slovakia          Clay      30000.0        €   \n",
       "1     2012-06-11 2012-06-17  Slovakia          Clay      30000.0        €   \n",
       "2     2012-06-11 2012-06-17  Slovakia          Clay      30000.0        €   \n",
       "3     2012-06-11 2012-06-17  Slovakia          Clay      30000.0        €   \n",
       "4     2012-06-11 2012-06-17  Slovakia          Clay      30000.0        €   \n",
       "...          ...        ...       ...           ...          ...      ...   \n",
       "49708 2010-09-27 2010-10-03       POR          Clay          NaN      NaN   \n",
       "49709 2010-09-27 2010-10-03       POR          Clay          NaN      NaN   \n",
       "49710 2010-09-27 2010-10-03       POR          Clay          NaN      NaN   \n",
       "49711 2010-09-27 2010-10-03       POR          Clay          NaN      NaN   \n",
       "49712 2010-09-27 2010-10-03       POR          Clay          NaN      NaN   \n",
       "\n",
       "       year                      player_id   player_name  \\\n",
       "0      2012                   adrian-partl      A. Partl   \n",
       "1      2012                   adrian-partl      A. Partl   \n",
       "2      2012                agustin-velotti    A. Velotti   \n",
       "3      2012  agustin-velotti_marcel-felder           NaN   \n",
       "4      2012           alessandro-giannessi  A. Giannessi   \n",
       "...     ...                            ...           ...   \n",
       "49708  2010                    vitor-silva           NaN   \n",
       "49709  2010                    vitor-silva           NaN   \n",
       "49710  2010                 wesley-koolhof           NaN   \n",
       "49711  2010                 wesley-koolhof           NaN   \n",
       "49712  2010                   yann-minster           NaN   \n",
       "\n",
       "                       opponent_id  ... total_points  duration player_victory  \\\n",
       "0                    andrej-martin  ...         88.0  01:02:00              f   \n",
       "1                    jozef-kovalik  ...        195.0  02:43:00              t   \n",
       "2                   dominik-hrbaty  ...        126.0  01:17:00              f   \n",
       "3      andrei-daescu_florin-mergea  ...          NaN       NaN              f   \n",
       "4                 harri-heliovaara  ...        194.0  02:32:00              t   \n",
       "...                            ...  ...          ...       ...            ...   \n",
       "49708                 diogo-cabral  ...          NaN       NaN              t   \n",
       "49709              stephan-fransen  ...          NaN       NaN              f   \n",
       "49710               goncalo-falcao  ...          NaN       NaN              t   \n",
       "49711             laurent-rochette  ...          NaN       NaN              f   \n",
       "49712              bartosz-sawicki  ...          NaN       NaN              f   \n",
       "\n",
       "       retirement  seed  won_first_set  doubles  masters  round_num    nation  \n",
       "0               f   NaN              f        f      100          1  Slovakia  \n",
       "1               f   NaN              t        f      100          0  Slovakia  \n",
       "2               f   NaN              f        f      100          3  Slovakia  \n",
       "3               f   NaN              t        t      100          4  Slovakia  \n",
       "4               f     1              t        f      100          3  Slovakia  \n",
       "...           ...   ...            ...      ...      ...        ...       ...  \n",
       "49708           f   NaN              t        f       25          0       POR  \n",
       "49709           f   NaN              f        f       25          1       POR  \n",
       "49710           f   NaN              t        f       25          3       POR  \n",
       "49711           f   NaN              t        f       25          4       POR  \n",
       "49712           f   NaN              f        f       25          0       POR  \n",
       "\n",
       "[30156 rows x 54 columns]"
      ]
     },
     "execution_count": 77,
     "metadata": {},
     "output_type": "execute_result"
    }
   ],
   "source": [
    "## See chart above - very much weighted to post 2010 \n",
    "# # with 1st 50k:\n",
    "#   \"start_date > 2018\"  RESULTS: 3414 rows => only ~ 1500 matches\n",
    "#   \"start_date > 2010\"  RESULTS: 30156 rows => only ~ 15000 matches\n",
    "matches_df_1st_50k.query(\"start_date > 2010\")"
   ]
  },
  {
   "cell_type": "markdown",
   "metadata": {},
   "source": [
    "### Given these results, simply must do a similar check for the full dataset - 30k is a decent but nothing substantial dataset"
   ]
  },
  {
   "cell_type": "code",
   "execution_count": 22,
   "metadata": {},
   "outputs": [
    {
     "data": {
      "text/plain": [
       "Index(['start_date', 'end_date', 'location', 'court_surface', 'prize_money',\n",
       "       'currency', 'year', 'player_id', 'player_name', 'opponent_id',\n",
       "       'opponent_name', 'tournament', 'round', 'num_sets', 'sets_won',\n",
       "       'games_won', 'games_against', 'tiebreaks_won', 'tiebreaks_total',\n",
       "       'serve_rating', 'aces', 'double_faults', 'first_serve_made',\n",
       "       'first_serve_attempted', 'first_serve_points_made',\n",
       "       'first_serve_points_attempted', 'second_serve_points_made',\n",
       "       'second_serve_points_attempted', 'break_points_saved',\n",
       "       'break_points_against', 'service_games_won', 'return_rating',\n",
       "       'first_serve_return_points_made', 'first_serve_return_points_attempted',\n",
       "       'second_serve_return_points_made',\n",
       "       'second_serve_return_points_attempted', 'break_points_made',\n",
       "       'break_points_attempted', 'return_games_played', 'service_points_won',\n",
       "       'service_points_attempted', 'return_points_won',\n",
       "       'return_points_attempted', 'total_points_won', 'total_points',\n",
       "       'duration', 'player_victory', 'retirement', 'seed', 'won_first_set',\n",
       "       'doubles', 'masters', 'round_num', 'nation'],\n",
       "      dtype='object')"
      ]
     },
     "execution_count": 22,
     "metadata": {},
     "output_type": "execute_result"
    }
   ],
   "source": [
    "matches_df_1st_50k.columns"
   ]
  },
  {
   "cell_type": "code",
   "execution_count": 23,
   "metadata": {},
   "outputs": [
    {
     "data": {
      "text/html": [
       "<div>\n",
       "<style scoped>\n",
       "    .dataframe tbody tr th:only-of-type {\n",
       "        vertical-align: middle;\n",
       "    }\n",
       "\n",
       "    .dataframe tbody tr th {\n",
       "        vertical-align: top;\n",
       "    }\n",
       "\n",
       "    .dataframe thead th {\n",
       "        text-align: right;\n",
       "    }\n",
       "</style>\n",
       "<table border=\"1\" class=\"dataframe\">\n",
       "  <thead>\n",
       "    <tr style=\"text-align: right;\">\n",
       "      <th></th>\n",
       "      <th>start_date</th>\n",
       "      <th>end_date</th>\n",
       "      <th>location</th>\n",
       "      <th>court_surface</th>\n",
       "      <th>prize_money</th>\n",
       "      <th>currency</th>\n",
       "      <th>year</th>\n",
       "      <th>player_id</th>\n",
       "      <th>player_name</th>\n",
       "      <th>opponent_id</th>\n",
       "      <th>...</th>\n",
       "      <th>total_points</th>\n",
       "      <th>duration</th>\n",
       "      <th>player_victory</th>\n",
       "      <th>retirement</th>\n",
       "      <th>seed</th>\n",
       "      <th>won_first_set</th>\n",
       "      <th>doubles</th>\n",
       "      <th>masters</th>\n",
       "      <th>round_num</th>\n",
       "      <th>nation</th>\n",
       "    </tr>\n",
       "  </thead>\n",
       "  <tbody>\n",
       "    <tr>\n",
       "      <th>0</th>\n",
       "      <td>2012-06-11</td>\n",
       "      <td>2012-06-17</td>\n",
       "      <td>Slovakia</td>\n",
       "      <td>Clay</td>\n",
       "      <td>30000.0</td>\n",
       "      <td>€</td>\n",
       "      <td>2012</td>\n",
       "      <td>adrian-partl</td>\n",
       "      <td>A. Partl</td>\n",
       "      <td>andrej-martin</td>\n",
       "      <td>...</td>\n",
       "      <td>88.0</td>\n",
       "      <td>01:02:00</td>\n",
       "      <td>f</td>\n",
       "      <td>f</td>\n",
       "      <td>NaN</td>\n",
       "      <td>f</td>\n",
       "      <td>f</td>\n",
       "      <td>100</td>\n",
       "      <td>1</td>\n",
       "      <td>Slovakia</td>\n",
       "    </tr>\n",
       "    <tr>\n",
       "      <th>1</th>\n",
       "      <td>2012-06-11</td>\n",
       "      <td>2012-06-17</td>\n",
       "      <td>Slovakia</td>\n",
       "      <td>Clay</td>\n",
       "      <td>30000.0</td>\n",
       "      <td>€</td>\n",
       "      <td>2012</td>\n",
       "      <td>adrian-partl</td>\n",
       "      <td>A. Partl</td>\n",
       "      <td>jozef-kovalik</td>\n",
       "      <td>...</td>\n",
       "      <td>195.0</td>\n",
       "      <td>02:43:00</td>\n",
       "      <td>t</td>\n",
       "      <td>f</td>\n",
       "      <td>NaN</td>\n",
       "      <td>t</td>\n",
       "      <td>f</td>\n",
       "      <td>100</td>\n",
       "      <td>0</td>\n",
       "      <td>Slovakia</td>\n",
       "    </tr>\n",
       "    <tr>\n",
       "      <th>2</th>\n",
       "      <td>2012-06-11</td>\n",
       "      <td>2012-06-17</td>\n",
       "      <td>Slovakia</td>\n",
       "      <td>Clay</td>\n",
       "      <td>30000.0</td>\n",
       "      <td>€</td>\n",
       "      <td>2012</td>\n",
       "      <td>agustin-velotti</td>\n",
       "      <td>A. Velotti</td>\n",
       "      <td>dominik-hrbaty</td>\n",
       "      <td>...</td>\n",
       "      <td>126.0</td>\n",
       "      <td>01:17:00</td>\n",
       "      <td>f</td>\n",
       "      <td>f</td>\n",
       "      <td>NaN</td>\n",
       "      <td>f</td>\n",
       "      <td>f</td>\n",
       "      <td>100</td>\n",
       "      <td>3</td>\n",
       "      <td>Slovakia</td>\n",
       "    </tr>\n",
       "    <tr>\n",
       "      <th>3</th>\n",
       "      <td>2012-06-11</td>\n",
       "      <td>2012-06-17</td>\n",
       "      <td>Slovakia</td>\n",
       "      <td>Clay</td>\n",
       "      <td>30000.0</td>\n",
       "      <td>€</td>\n",
       "      <td>2012</td>\n",
       "      <td>agustin-velotti_marcel-felder</td>\n",
       "      <td>NaN</td>\n",
       "      <td>andrei-daescu_florin-mergea</td>\n",
       "      <td>...</td>\n",
       "      <td>NaN</td>\n",
       "      <td>NaN</td>\n",
       "      <td>f</td>\n",
       "      <td>f</td>\n",
       "      <td>NaN</td>\n",
       "      <td>t</td>\n",
       "      <td>t</td>\n",
       "      <td>100</td>\n",
       "      <td>4</td>\n",
       "      <td>Slovakia</td>\n",
       "    </tr>\n",
       "    <tr>\n",
       "      <th>4</th>\n",
       "      <td>2012-06-11</td>\n",
       "      <td>2012-06-17</td>\n",
       "      <td>Slovakia</td>\n",
       "      <td>Clay</td>\n",
       "      <td>30000.0</td>\n",
       "      <td>€</td>\n",
       "      <td>2012</td>\n",
       "      <td>alessandro-giannessi</td>\n",
       "      <td>A. Giannessi</td>\n",
       "      <td>harri-heliovaara</td>\n",
       "      <td>...</td>\n",
       "      <td>194.0</td>\n",
       "      <td>02:32:00</td>\n",
       "      <td>t</td>\n",
       "      <td>f</td>\n",
       "      <td>1</td>\n",
       "      <td>t</td>\n",
       "      <td>f</td>\n",
       "      <td>100</td>\n",
       "      <td>3</td>\n",
       "      <td>Slovakia</td>\n",
       "    </tr>\n",
       "  </tbody>\n",
       "</table>\n",
       "<p>5 rows × 54 columns</p>\n",
       "</div>"
      ],
      "text/plain": [
       "   start_date    end_date  location court_surface  prize_money currency  year  \\\n",
       "0  2012-06-11  2012-06-17  Slovakia          Clay      30000.0        €  2012   \n",
       "1  2012-06-11  2012-06-17  Slovakia          Clay      30000.0        €  2012   \n",
       "2  2012-06-11  2012-06-17  Slovakia          Clay      30000.0        €  2012   \n",
       "3  2012-06-11  2012-06-17  Slovakia          Clay      30000.0        €  2012   \n",
       "4  2012-06-11  2012-06-17  Slovakia          Clay      30000.0        €  2012   \n",
       "\n",
       "                       player_id   player_name                  opponent_id  \\\n",
       "0                   adrian-partl      A. Partl                andrej-martin   \n",
       "1                   adrian-partl      A. Partl                jozef-kovalik   \n",
       "2                agustin-velotti    A. Velotti               dominik-hrbaty   \n",
       "3  agustin-velotti_marcel-felder           NaN  andrei-daescu_florin-mergea   \n",
       "4           alessandro-giannessi  A. Giannessi             harri-heliovaara   \n",
       "\n",
       "   ... total_points  duration player_victory  retirement  seed  won_first_set  \\\n",
       "0  ...         88.0  01:02:00              f           f   NaN              f   \n",
       "1  ...        195.0  02:43:00              t           f   NaN              t   \n",
       "2  ...        126.0  01:17:00              f           f   NaN              f   \n",
       "3  ...          NaN       NaN              f           f   NaN              t   \n",
       "4  ...        194.0  02:32:00              t           f     1              t   \n",
       "\n",
       "   doubles  masters  round_num    nation  \n",
       "0        f      100          1  Slovakia  \n",
       "1        f      100          0  Slovakia  \n",
       "2        f      100          3  Slovakia  \n",
       "3        t      100          4  Slovakia  \n",
       "4        f      100          3  Slovakia  \n",
       "\n",
       "[5 rows x 54 columns]"
      ]
     },
     "execution_count": 23,
     "metadata": {},
     "output_type": "execute_result"
    }
   ],
   "source": [
    "matches_df_1st_50k.head()"
   ]
  },
  {
   "cell_type": "markdown",
   "metadata": {},
   "source": [
    "***\n",
    "# First go through the FULL dataset"
   ]
  },
  {
   "cell_type": "markdown",
   "metadata": {},
   "source": [
    "## Functions for data trawl"
   ]
  },
  {
   "cell_type": "code",
   "execution_count": 113,
   "metadata": {},
   "outputs": [],
   "source": [
    "def check_through_count(dataframe, dict_to_check):\n",
    "    for i in dict_to_check.keys():\n",
    "        count = dataframe[i].count()\n",
    "        dict_to_check[i] += count\n",
    "    return dict_to_check"
   ]
  },
  {
   "cell_type": "code",
   "execution_count": 114,
   "metadata": {},
   "outputs": [],
   "source": [
    "# na_checks\n",
    "# round((matches_df_1st_50k.seed.isna().sum()/50_000)*100,2)\n",
    "\n",
    "def na_count(dataframe, dict_to_check):\n",
    "    for i in dict_to_check.keys():\n",
    "        dict_to_check[i] += dataframe[i].isna().sum()\n",
    "    return dict_to_check"
   ]
  },
  {
   "cell_type": "code",
   "execution_count": 115,
   "metadata": {},
   "outputs": [],
   "source": [
    "def count_by_date(dataframe, date_query_dict):\n",
    "    for i in date_query_dict.keys():\n",
    "        query_count = dataframe.query(i)\n",
    "        # display(len(query_count))\n",
    "        date_query_dict[i] += len(query_count)\n",
    "    return date_query_dict\n"
   ]
  },
  {
   "cell_type": "code",
   "execution_count": 116,
   "metadata": {},
   "outputs": [],
   "source": [
    "# round((matches_df_1st_50k.seed.isna().sum()/50_000)*100,2)"
   ]
  },
  {
   "cell_type": "code",
   "execution_count": 117,
   "metadata": {},
   "outputs": [],
   "source": [
    "path = read_data_path\n",
    "def get_count_csvs(path):\n",
    "    csv_files = []\n",
    "    file_list = os.listdir(path)\n",
    "    for i in file_list:\n",
    "        if \".csv\" in i:\n",
    "            csv_files.append(os.path.join(path,i))\n",
    "    return csv_files"
   ]
  },
  {
   "cell_type": "code",
   "execution_count": 20,
   "metadata": {},
   "outputs": [],
   "source": [
    "run_through_hefty_EDA_cells = 1"
   ]
  },
  {
   "cell_type": "code",
   "execution_count": 24,
   "metadata": {},
   "outputs": [
    {
     "name": "stderr",
     "output_type": "stream",
     "text": [
      "/tmp/ipykernel_51826/762402661.py:30: DtypeWarning: Columns (8,10,45) have mixed types. Specify dtype option on import or set low_memory=False.\n",
      "  chunk = pd.read_csv(csv, index_col=None).astype(schema)\n",
      "/tmp/ipykernel_51826/762402661.py:30: DtypeWarning: Columns (8,10,45) have mixed types. Specify dtype option on import or set low_memory=False.\n",
      "  chunk = pd.read_csv(csv, index_col=None).astype(schema)\n",
      "/tmp/ipykernel_51826/762402661.py:30: DtypeWarning: Columns (8,10,45) have mixed types. Specify dtype option on import or set low_memory=False.\n",
      "  chunk = pd.read_csv(csv, index_col=None).astype(schema)\n",
      "/tmp/ipykernel_51826/762402661.py:30: DtypeWarning: Columns (5,8,10,45,48) have mixed types. Specify dtype option on import or set low_memory=False.\n",
      "  chunk = pd.read_csv(csv, index_col=None).astype(schema)\n",
      "/tmp/ipykernel_51826/762402661.py:30: DtypeWarning: Columns (5,8,10,45,48) have mixed types. Specify dtype option on import or set low_memory=False.\n",
      "  chunk = pd.read_csv(csv, index_col=None).astype(schema)\n",
      "/tmp/ipykernel_51826/762402661.py:30: DtypeWarning: Columns (5,8,10,45,48) have mixed types. Specify dtype option on import or set low_memory=False.\n",
      "  chunk = pd.read_csv(csv, index_col=None).astype(schema)\n",
      "/tmp/ipykernel_51826/762402661.py:30: DtypeWarning: Columns (8,10,45) have mixed types. Specify dtype option on import or set low_memory=False.\n",
      "  chunk = pd.read_csv(csv, index_col=None).astype(schema)\n",
      "/tmp/ipykernel_51826/762402661.py:30: DtypeWarning: Columns (8,10,45) have mixed types. Specify dtype option on import or set low_memory=False.\n",
      "  chunk = pd.read_csv(csv, index_col=None).astype(schema)\n",
      "/tmp/ipykernel_51826/762402661.py:30: DtypeWarning: Columns (8,10,45) have mixed types. Specify dtype option on import or set low_memory=False.\n",
      "  chunk = pd.read_csv(csv, index_col=None).astype(schema)\n",
      "/tmp/ipykernel_51826/762402661.py:30: DtypeWarning: Columns (5,8,10,45,48) have mixed types. Specify dtype option on import or set low_memory=False.\n",
      "  chunk = pd.read_csv(csv, index_col=None).astype(schema)\n",
      "/tmp/ipykernel_51826/762402661.py:30: DtypeWarning: Columns (8,10,45) have mixed types. Specify dtype option on import or set low_memory=False.\n",
      "  chunk = pd.read_csv(csv, index_col=None).astype(schema)\n",
      "/tmp/ipykernel_51826/762402661.py:30: DtypeWarning: Columns (8,10,45) have mixed types. Specify dtype option on import or set low_memory=False.\n",
      "  chunk = pd.read_csv(csv, index_col=None).astype(schema)\n",
      "/tmp/ipykernel_51826/762402661.py:30: DtypeWarning: Columns (8,10,45) have mixed types. Specify dtype option on import or set low_memory=False.\n",
      "  chunk = pd.read_csv(csv, index_col=None).astype(schema)\n",
      "/tmp/ipykernel_51826/762402661.py:30: DtypeWarning: Columns (8,10,45) have mixed types. Specify dtype option on import or set low_memory=False.\n",
      "  chunk = pd.read_csv(csv, index_col=None).astype(schema)\n",
      "/tmp/ipykernel_51826/762402661.py:30: DtypeWarning: Columns (5,8,10,45,48) have mixed types. Specify dtype option on import or set low_memory=False.\n",
      "  chunk = pd.read_csv(csv, index_col=None).astype(schema)\n",
      "/tmp/ipykernel_51826/762402661.py:30: DtypeWarning: Columns (5,8,10,45,48) have mixed types. Specify dtype option on import or set low_memory=False.\n",
      "  chunk = pd.read_csv(csv, index_col=None).astype(schema)\n",
      "/tmp/ipykernel_51826/762402661.py:30: DtypeWarning: Columns (8,10,45) have mixed types. Specify dtype option on import or set low_memory=False.\n",
      "  chunk = pd.read_csv(csv, index_col=None).astype(schema)\n",
      "/tmp/ipykernel_51826/762402661.py:30: DtypeWarning: Columns (5,8,10,45,48) have mixed types. Specify dtype option on import or set low_memory=False.\n",
      "  chunk = pd.read_csv(csv, index_col=None).astype(schema)\n"
     ]
    },
    {
     "name": "stdout",
     "output_type": "stream",
     "text": [
      "Total number of chunks: 42\n",
      "Total memory, MB: 0.0\n",
      "Average MB per loop: 442.0\n",
      "{'start_date': 4295827, 'end_date': 4197459, 'player_name': 354405, 'duration': 352227}\n",
      "88.96  seconds\n"
     ]
    }
   ],
   "source": [
    "# to go through all the sample data set\n",
    "if run_through_hefty_EDA_cells:\n",
    "    \n",
    "    start = time.time()\n",
    "    ave_bytes = 0\n",
    "    count = 0\n",
    "    total_bytes = 0\n",
    "\n",
    "    # this works to convert dates as reading in. good news\n",
    "    schema = {'start_date': 'datetime64[ns]', 'end_date': 'datetime64[ns]'}\n",
    "\n",
    "    csv_files = get_count_csvs(read_data_path)          \n",
    "    if len(csv_files) == 0:\n",
    "        chunk_count = 0\n",
    "        # This enumerate function selects repeated chunks of XXX rows of data \n",
    "        for index, read_chunk in enumerate(pd.read_csv(matches_data_path_full\n",
    "                                                    , chunksize= 100_000\n",
    "                                                    # usecols = list(check_completeness.keys()), # can be index based (but not -1): [0, 7]\n",
    "                                                    #, parse_dates=True\n",
    "                                                    ),\n",
    "                                            start=1):\n",
    "            chunk_count += 100_000\n",
    "            print(f\"{index} so done with {chunk_count}\")\n",
    "            # output\n",
    "            output_path = os.path.join(read_data_path,f\"read_data_{index}.csv\")\n",
    "            read_chunk.to_csv(output_path, index=False)\n",
    "        \n",
    "    csv_files = get_count_csvs(read_data_path) # get the files now created\n",
    "    for index, csv in enumerate(csv_files): # read back in in manageable quantities, with astype etc\n",
    "        chunk = pd.read_csv(csv, index_col=None).astype(schema)\n",
    "        this_bytes = chunk.memory_usage().sum()\n",
    "        total_bytes += this_bytes\n",
    "        # count data points and accumulate in the various dicts\n",
    "        check_completeness = check_through_count(chunk, check_completeness)\n",
    "        check_key_distinguishing_columns = check_through_count(chunk, check_key_distinguishing_columns)\n",
    "        check_numerical_columns = check_through_count(chunk, check_numerical_columns)\n",
    "        check_mixed_columns = check_through_count(chunk, check_mixed_columns)\n",
    "        check_boolean_columns = check_through_count(chunk, check_boolean_columns)\n",
    "        date_query_result = count_by_date(chunk, single_date_query)\n",
    "        na_check = na_count(chunk, na_checks)\n",
    "\n",
    "    print(f\"Total number of chunks: {index}\")\n",
    "    print(f\"Total memory, MB: {round(total_bytes/100_000,0):,}\")\n",
    "    ave_bytes = total_bytes / index\n",
    "    print(f\"Average MB per loop: {round(ave_bytes/100_000,0):,}\")\n",
    "    print(check_completeness)\n",
    "\n",
    "    print(round(time.time() - start,2), ' seconds')\n",
    "\n",
    "    # Total number of chunks: 43 ______________________ of 100_000 rows\n",
    "    # Total memory, MB: 18,558.0\n",
    "    # Average MB per loop: 432.0\n",
    "    # {'start_date': 4395827, 'end_date': 4295393, 'player_name': 375001, 'duration': 372823}\n",
    "    # 72.15  seconds"
   ]
  },
  {
   "cell_type": "code",
   "execution_count": 26,
   "metadata": {},
   "outputs": [
    {
     "data": {
      "text/plain": [
       "{'start_date > 2010': 1786877}"
      ]
     },
     "metadata": {},
     "output_type": "display_data"
    },
    {
     "data": {
      "text/plain": [
       "{'seed': 2848479,\n",
       " 'serve_rating': 3943594,\n",
       " 'aces': 3943594,\n",
       " 'double_faults': 3943594,\n",
       " 'first_serve_made': 3943594,\n",
       " 'first_serve_attempted': 3943594,\n",
       " 'first_serve_points_made': 3943594}"
      ]
     },
     "metadata": {},
     "output_type": "display_data"
    }
   ],
   "source": [
    "# date_query_result >>> printed: {'start_date > 2010': 1786877}\n",
    "#\n",
    "# so at least 1.7m rows (so 835_000 matches have a start date after 2010)\n",
    "# this is the likely maximum that can be relied on as recent matches. \n",
    "# obviously all the other columns, especially the numerical ones will be \n",
    "# relevant.\n",
    "# \n",
    "# NEXT QUESTION BEING: \n",
    "#                     What proportion of >2010 matches have all numerical \n",
    "#                     columns?\n",
    "display(date_query_result)\n",
    "display(na_check)\n",
    "\n",
    "# RESULTS:\n",
    "# ### NOTE Somehow all these numbers change...\n",
    "\n",
    "# {'start_date > 2010': 1812529} \n",
    "\n",
    "# {'seed': 2872204,\n",
    "#  'serve_rating': 3984126,\n",
    "#  'aces': 3984126,\n",
    "#  'double_faults': 3984126,\n",
    "#  'first_serve_made': 3984126,\n",
    "#  'first_serve_attempted': 3984126,\n",
    "#  'first_serve_points_made': 3984126}\n",
    "\n",
    "# now need to run queries for post 2010 in those columns:\n",
    "\n",
    "# going to be a lot of running queries, functions etc and running through..."
   ]
  },
  {
   "cell_type": "code",
   "execution_count": 25,
   "metadata": {},
   "outputs": [
    {
     "data": {
      "text/plain": [
       "{'doubles': 4295827,\n",
       " 'masters': 4295827,\n",
       " 'nation': 4295827,\n",
       " 'seed': 1447348,\n",
       " 'prize_money': 786890}"
      ]
     },
     "metadata": {},
     "output_type": "display_data"
    },
    {
     "data": {
      "image/png": "[encoded data removed]",
      "text/plain": [
       "<Figure size 640x480 with 1 Axes>"
      ]
     },
     "metadata": {},
     "output_type": "display_data"
    }
   ],
   "source": [
    "# check_completeness check_boolean_columns check_mixed_columns \n",
    "# check_numerical_columns check_key_distinguishing_columns\n",
    "D = check_key_distinguishing_columns\n",
    "display(D)\n",
    "plt.bar(range(len(D)), list(D.values()), align='center')\n",
    "plt.xticks(range(len(D)), list(D.keys()));"
   ]
  },
  {
   "cell_type": "code",
   "execution_count": 27,
   "metadata": {},
   "outputs": [
    {
     "data": {
      "text/plain": [
       "{'player_victory': 4293439, 'retirement': 4288611, 'won_first_set': 4231342}"
      ]
     },
     "metadata": {},
     "output_type": "display_data"
    },
    {
     "data": {
      "image/png": "[encoded data removed]",
      "text/plain": [
       "<Figure size 640x480 with 1 Axes>"
      ]
     },
     "metadata": {},
     "output_type": "display_data"
    }
   ],
   "source": [
    "# check_completeness check_boolean_columns check_mixed_columns \n",
    "# check_numerical_columns check_key_distinguishing_columns\n",
    "D = check_boolean_columns\n",
    "display(D)\n",
    "plt.bar(range(len(D)), list(D.values()), align='center')\n",
    "plt.xticks(range(len(D)), list(D.keys()));"
   ]
  },
  {
   "cell_type": "code",
   "execution_count": 28,
   "metadata": {},
   "outputs": [
    {
     "data": {
      "text/plain": [
       "{'seed': 1447348,\n",
       " 'currency': 786890,\n",
       " 'player_name': 354405,\n",
       " 'opponent_name': 354405,\n",
       " 'duration': 352227}"
      ]
     },
     "metadata": {},
     "output_type": "display_data"
    },
    {
     "data": {
      "image/png": "[encoded data removed]",
      "text/plain": [
       "<Figure size 640x480 with 1 Axes>"
      ]
     },
     "metadata": {},
     "output_type": "display_data"
    }
   ],
   "source": [
    "# check_completeness check_boolean_columns check_mixed_columns \n",
    "# check_numerical_columns check_key_distinguishing_columns\n",
    "D = check_mixed_columns\n",
    "display(D)\n",
    "plt.bar(range(len(D)), list(D.values()), align='center')\n",
    "plt.xticks(range(len(D)), list(D.keys()));"
   ]
  },
  {
   "cell_type": "code",
   "execution_count": 41,
   "metadata": {},
   "outputs": [
    {
     "data": {
      "text/plain": [
       "{'prize_money': 786890,\n",
       " 'sets_won': 4293439,\n",
       " 'games_won': 4293439,\n",
       " 'games_against': 4293439,\n",
       " 'tiebreaks_won': 4293439,\n",
       " 'tiebreaks_total': 4293439,\n",
       " 'serve_rating': 352233,\n",
       " 'aces': 352233,\n",
       " 'double_faults': 352233,\n",
       " 'first_serve_made': 352233,\n",
       " 'first_serve_attempted': 352233,\n",
       " 'first_serve_points_made': 352233,\n",
       " 'first_serve_points_attempted': 352233,\n",
       " 'second_serve_points_made': 352233,\n",
       " 'second_serve_points_attempted': 352233,\n",
       " 'break_points_saved': 352233,\n",
       " 'break_points_against': 352233,\n",
       " 'service_games_won': 352233,\n",
       " 'return_rating': 352233,\n",
       " 'first_serve_return_points_made': 352233,\n",
       " 'first_serve_return_points_attempted': 352233,\n",
       " 'second_serve_return_points_made': 352233,\n",
       " 'second_serve_return_points_attempted': 352233,\n",
       " 'break_points_made': 352233,\n",
       " 'break_points_attempted': 352233,\n",
       " 'return_games_played': 352233,\n",
       " 'service_points_won': 352233,\n",
       " 'service_points_attempted': 352233,\n",
       " 'return_points_won': 352233,\n",
       " 'return_points_attempted': 352233,\n",
       " 'total_points_won': 352233,\n",
       " 'total_points': 352233,\n",
       " 'duration': 352227,\n",
       " 'round_num': 4295827}"
      ]
     },
     "metadata": {},
     "output_type": "display_data"
    },
    {
     "data": {
      "image/png": "[encoded data removed]",
      "text/plain": [
       "<Figure size 640x480 with 1 Axes>"
      ]
     },
     "metadata": {},
     "output_type": "display_data"
    }
   ],
   "source": [
    "# check_completeness check_boolean_columns check_mixed_columns \n",
    "# check_numerical_columns check_key_distinguishing_columns\n",
    "D = check_numerical_columns\n",
    "display(D)\n",
    "plt.bar(range(len(D)), list(D.values()), align='center')\n",
    "plt.xticks(range(len(D)), list(D.keys()));"
   ]
  },
  {
   "cell_type": "code",
   "execution_count": 45,
   "metadata": {},
   "outputs": [
    {
     "data": {
      "text/plain": [
       "dict_keys(['prize_money', 'sets_won', 'games_won', 'games_against', 'tiebreaks_won', 'tiebreaks_total', 'serve_rating', 'aces', 'double_faults', 'first_serve_made', 'first_serve_attempted', 'first_serve_points_made', 'first_serve_points_attempted', 'second_serve_points_made', 'second_serve_points_attempted', 'break_points_saved', 'break_points_against', 'service_games_won', 'return_rating', 'first_serve_return_points_made', 'first_serve_return_points_attempted', 'second_serve_return_points_made', 'second_serve_return_points_attempted', 'break_points_made', 'break_points_attempted', 'return_games_played', 'service_points_won', 'service_points_attempted', 'return_points_won', 'return_points_attempted', 'total_points_won', 'total_points', 'duration', 'round_num'])"
      ]
     },
     "execution_count": 45,
     "metadata": {},
     "output_type": "execute_result"
    }
   ],
   "source": [
    "check_numerical_columns.keys()"
   ]
  },
  {
   "cell_type": "code",
   "execution_count": 46,
   "metadata": {},
   "outputs": [],
   "source": [
    "subset_1st_numerical = {k: check_numerical_columns[k] for k in check_numerical_columns.keys() & {'prize_money','sets_won','games_won',  \n",
    "                           'games_against','tiebreaks_won','tiebreaks_total','round_num'}}\n",
    "subset_2nd_numerical = {k: check_numerical_columns[k] for k in check_numerical_columns.keys() & {'serve_rating', 'aces', 'double_faults', 'first_serve_made', 'first_serve_attempted', \n",
    "                                                                                                 'first_serve_points_made', 'first_serve_points_attempted', 'second_serve_points_made', \n",
    "                                                                                                 'second_serve_points_attempted', 'break_points_saved', 'break_points_against', \n",
    "                                                                                                 'service_games_won', 'return_rating', 'first_serve_return_points_made', \n",
    "                                                                                                 'second_serve_return_points_attempted', 'first_serve_return_points_attempted', \n",
    "                                                                                                 'second_serve_return_points_made', 'break_points_made', 'break_points_attempted', \n",
    "                                                                                                 'return_games_played', 'service_points_won', 'service_points_attempted', 'return_points_won', \n",
    "                                                                                                 'return_points_attempted', 'total_points_won', 'total_points', 'duration'}}"
   ]
  },
  {
   "cell_type": "code",
   "execution_count": 44,
   "metadata": {},
   "outputs": [
    {
     "data": {
      "text/plain": [
       "{'round_num': 4295827,\n",
       " 'sets_won': 4293439,\n",
       " 'prize_money': 786890,\n",
       " 'tiebreaks_won': 4293439,\n",
       " 'games_against': 4293439,\n",
       " 'games_won': 4293439,\n",
       " 'tiebreaks_total': 4293439}"
      ]
     },
     "metadata": {},
     "output_type": "display_data"
    },
    {
     "data": {
      "image/png": "[encoded data removed]",
      "text/plain": [
       "<Figure size 640x480 with 1 Axes>"
      ]
     },
     "metadata": {},
     "output_type": "display_data"
    }
   ],
   "source": [
    "D = subset_1st_numerical\n",
    "display(D)\n",
    "plt.bar(range(len(D)), list(D.values()), align='center')\n",
    "plt.xticks(range(len(D)), list(D.keys()));"
   ]
  },
  {
   "cell_type": "code",
   "execution_count": 49,
   "metadata": {},
   "outputs": [
    {
     "data": {
      "text/plain": [
       "{'return_points_attempted': 352233,\n",
       " 'service_games_won': 352233,\n",
       " 'total_points_won': 352233,\n",
       " 'double_faults': 352233,\n",
       " 'return_rating': 352233,\n",
       " 'return_games_played': 352233,\n",
       " 'first_serve_points_attempted': 352233,\n",
       " 'service_points_attempted': 352233,\n",
       " 'service_points_won': 352233,\n",
       " 'break_points_saved': 352233,\n",
       " 'first_serve_attempted': 352233,\n",
       " 'total_points': 352233,\n",
       " 'first_serve_points_made': 352233,\n",
       " 'first_serve_return_points_made': 352233,\n",
       " 'break_points_against': 352233,\n",
       " 'first_serve_return_points_attempted': 352233,\n",
       " 'break_points_made': 352233,\n",
       " 'duration': 352227,\n",
       " 'serve_rating': 352233,\n",
       " 'second_serve_points_made': 352233,\n",
       " 'aces': 352233,\n",
       " 'second_serve_return_points_attempted': 352233,\n",
       " 'first_serve_made': 352233,\n",
       " 'second_serve_points_attempted': 352233,\n",
       " 'second_serve_return_points_made': 352233,\n",
       " 'break_points_attempted': 352233,\n",
       " 'return_points_won': 352233}"
      ]
     },
     "metadata": {},
     "output_type": "display_data"
    },
    {
     "data": {
      "image/png": "[encoded data removed]",
      "text/plain": [
       "<Figure size 640x480 with 1 Axes>"
      ]
     },
     "metadata": {},
     "output_type": "display_data"
    }
   ],
   "source": [
    "D = subset_2nd_numerical\n",
    "display(D)\n",
    "plt.bar(range(len(D)), list(D.values()), align='center')\n",
    "plt.xticks(range(len(D)), list(D.keys()));\n"
   ]
  },
  {
   "cell_type": "markdown",
   "metadata": {},
   "source": [
    "## LIMIT OF THE USEFUL DATA HERE??? 352233 rows"
   ]
  },
  {
   "cell_type": "code",
   "execution_count": null,
   "metadata": {},
   "outputs": [],
   "source": [
    "# subset_2nd_numerical might be the limit of the useful data. \n",
    "print(len(subset_2nd_numerical.keys()))\n",
    "# all have 352233 data points, bar duration: 352227\n",
    "\n",
    "# subset_1st_numerical is quite different, and has 4.29M data points for\n",
    "# most except prize_money @ 786k"
   ]
  },
  {
   "cell_type": "markdown",
   "metadata": {},
   "source": [
    "## Try to convert datatypes on loading data into Pandas\n",
    "- This fails, see below (and heavy computational cell skipped)\n",
    "- Column is not a single type, so conversion isn't simple"
   ]
  },
  {
   "cell_type": "code",
   "execution_count": null,
   "metadata": {},
   "outputs": [],
   "source": [
    "types = defaultdict(str, aces=int, currency=float)\n",
    "# df = pd.read_csv(\"/path/to/file.csv\", dtype=types, keep_default_na=False)\n",
    "col_dtype_changes = {'location': str, 'aces': float} # 'start_date': np.datetime64, 'end_date': np.datetime64, "
   ]
  },
  {
   "cell_type": "code",
   "execution_count": null,
   "metadata": {},
   "outputs": [],
   "source": [
    "# now to adjust the datatypes as each chunk is loaded:\n",
    "# BUT\n",
    "# dtype conversions fail as empty cells etc - skip cell for now\n",
    "skip_cell = 1\n",
    "\n",
    "if not skip_cell: \n",
    "    start = time.time()\n",
    "    ave_bytes = 0\n",
    "    count = 0\n",
    "    total_bytes = 0\n",
    "    header = True\n",
    "    # This enumerate function selects repeated chunks of 1,000,000 rows of data \n",
    "    for index, chunk in enumerate(pd.read_csv(matches_data_path_full \n",
    "                                                , chunksize= 100_000\n",
    "                                                , usecols = ['aces'] # list(check_completeness.keys()), # can be index based (but not -1): [0, 7]\n",
    "                                                , dtype=col_dtype_changes # types\n",
    "                                                , parse_dates=True\n",
    "                                                , keep_default_na=False),\n",
    "                                start=1):\n",
    "        this_bytes = chunk.memory_usage().sum()\n",
    "        ave_bytes += this_bytes\n",
    "        total_bytes = total_bytes + this_bytes\n",
    "        # This inner loop iterates through the rate keys only.Then it does \n",
    "        # vectorised selections on the dataframe to select count of each rate key.\n",
    "        for i in check_completeness:\n",
    "            count = chunk[i].count()\n",
    "            check_completeness[i] += count\n",
    "            \n",
    "        for i in check_boolean_columns:\n",
    "            count = chunk[i].count()\n",
    "            check_boolean_columns[i] += count\n",
    "\n",
    "    print(f\"Total number of chunks: {index}\")\n",
    "    print(f\"Total memory, MB: {round(total_bytes/100_000,0):,}\")\n",
    "    ave_bytes = ave_bytes / index\n",
    "    print(f\"Average bytes per loop: {round(ave_bytes/100_000,0):,}\")\n",
    "    print(check_completeness)\n",
    "\n",
    "    print(round(time.time() - start,2), ' seconds')"
   ]
  },
  {
   "cell_type": "markdown",
   "metadata": {},
   "source": [
    "## See above, an attempt to convert data types on load fails\n",
    "    This is because there are >1 datatypes in a single column, e.g. 'aces' which has at least: float, str"
   ]
  },
  {
   "cell_type": "code",
   "execution_count": null,
   "metadata": {},
   "outputs": [],
   "source": [
    "# when done with data processing, save back to single file with mode=\"a\" \n",
    "# header = True\n",
    "# for chunk in chunks:\n",
    "\n",
    "#     chunk.to_csv(os.path.join(folder, new_folder, \"new_file_\" + filename),\n",
    "#         header=header, cols=[['TIME','STUFF']], mode='a')\n",
    "\n",
    "#     header = False"
   ]
  },
  {
   "cell_type": "markdown",
   "metadata": {},
   "source": [
    "***\n",
    "NOTE - using 1st 50k to establish methods, copying across here to ensure future compatability.\n",
    "@ DON'T FORGET!\n",
    "***"
   ]
  },
  {
   "cell_type": "code",
   "execution_count": null,
   "metadata": {},
   "outputs": [],
   "source": [
    "matches_df = matches_df_1st_50k"
   ]
  },
  {
   "cell_type": "code",
   "execution_count": null,
   "metadata": {},
   "outputs": [
    {
     "data": {
      "text/plain": [
       "Index(['start_date', 'end_date', 'location', 'court_surface', 'prize_money',\n",
       "       'currency', 'year', 'player_id', 'player_name', 'opponent_id',\n",
       "       'opponent_name', 'tournament', 'round', 'num_sets', 'sets_won',\n",
       "       'games_won', 'games_against', 'tiebreaks_won', 'tiebreaks_total',\n",
       "       'serve_rating', 'aces', 'double_faults', 'first_serve_made',\n",
       "       'first_serve_attempted', 'first_serve_points_made',\n",
       "       'first_serve_points_attempted', 'second_serve_points_made',\n",
       "       'second_serve_points_attempted', 'break_points_saved',\n",
       "       'break_points_against', 'service_games_won', 'return_rating',\n",
       "       'first_serve_return_points_made', 'first_serve_return_points_attempted',\n",
       "       'second_serve_return_points_made',\n",
       "       'second_serve_return_points_attempted', 'break_points_made',\n",
       "       'break_points_attempted', 'return_games_played', 'service_points_won',\n",
       "       'service_points_attempted', 'return_points_won',\n",
       "       'return_points_attempted', 'total_points_won', 'total_points',\n",
       "       'duration', 'player_victory', 'retirement', 'seed', 'won_first_set',\n",
       "       'doubles', 'masters', 'round_num', 'nation'],\n",
       "      dtype='object')"
      ]
     },
     "execution_count": 80,
     "metadata": {},
     "output_type": "execute_result"
    }
   ],
   "source": [
    "matches_column_names = matches_df.columns\n",
    "matches_column_names"
   ]
  },
  {
   "cell_type": "code",
   "execution_count": null,
   "metadata": {},
   "outputs": [
    {
     "name": "stdout",
     "output_type": "stream",
     "text": [
      "Index(['column_name', 'dtype'], dtype='object')\n"
     ]
    },
    {
     "data": {
      "text/html": [
       "<div>\n",
       "<style scoped>\n",
       "    .dataframe tbody tr th:only-of-type {\n",
       "        vertical-align: middle;\n",
       "    }\n",
       "\n",
       "    .dataframe tbody tr th {\n",
       "        vertical-align: top;\n",
       "    }\n",
       "\n",
       "    .dataframe thead th {\n",
       "        text-align: right;\n",
       "    }\n",
       "</style>\n",
       "<table border=\"1\" class=\"dataframe\">\n",
       "  <thead>\n",
       "    <tr style=\"text-align: right;\">\n",
       "      <th></th>\n",
       "      <th>column_name</th>\n",
       "      <th>dtype</th>\n",
       "    </tr>\n",
       "  </thead>\n",
       "  <tbody>\n",
       "    <tr>\n",
       "      <th>0</th>\n",
       "      <td>location</td>\n",
       "      <td>object</td>\n",
       "    </tr>\n",
       "    <tr>\n",
       "      <th>1</th>\n",
       "      <td>court_surface</td>\n",
       "      <td>object</td>\n",
       "    </tr>\n",
       "    <tr>\n",
       "      <th>2</th>\n",
       "      <td>currency</td>\n",
       "      <td>object</td>\n",
       "    </tr>\n",
       "    <tr>\n",
       "      <th>3</th>\n",
       "      <td>player_id</td>\n",
       "      <td>object</td>\n",
       "    </tr>\n",
       "    <tr>\n",
       "      <th>4</th>\n",
       "      <td>player_name</td>\n",
       "      <td>object</td>\n",
       "    </tr>\n",
       "    <tr>\n",
       "      <th>5</th>\n",
       "      <td>opponent_id</td>\n",
       "      <td>object</td>\n",
       "    </tr>\n",
       "    <tr>\n",
       "      <th>6</th>\n",
       "      <td>opponent_name</td>\n",
       "      <td>object</td>\n",
       "    </tr>\n",
       "    <tr>\n",
       "      <th>7</th>\n",
       "      <td>tournament</td>\n",
       "      <td>object</td>\n",
       "    </tr>\n",
       "    <tr>\n",
       "      <th>8</th>\n",
       "      <td>round</td>\n",
       "      <td>object</td>\n",
       "    </tr>\n",
       "    <tr>\n",
       "      <th>9</th>\n",
       "      <td>duration</td>\n",
       "      <td>object</td>\n",
       "    </tr>\n",
       "    <tr>\n",
       "      <th>10</th>\n",
       "      <td>player_victory</td>\n",
       "      <td>object</td>\n",
       "    </tr>\n",
       "    <tr>\n",
       "      <th>11</th>\n",
       "      <td>retirement</td>\n",
       "      <td>object</td>\n",
       "    </tr>\n",
       "    <tr>\n",
       "      <th>12</th>\n",
       "      <td>seed</td>\n",
       "      <td>object</td>\n",
       "    </tr>\n",
       "    <tr>\n",
       "      <th>13</th>\n",
       "      <td>won_first_set</td>\n",
       "      <td>object</td>\n",
       "    </tr>\n",
       "    <tr>\n",
       "      <th>14</th>\n",
       "      <td>doubles</td>\n",
       "      <td>object</td>\n",
       "    </tr>\n",
       "    <tr>\n",
       "      <th>15</th>\n",
       "      <td>nation</td>\n",
       "      <td>object</td>\n",
       "    </tr>\n",
       "  </tbody>\n",
       "</table>\n",
       "</div>"
      ],
      "text/plain": [
       "       column_name   dtype\n",
       "0         location  object\n",
       "1    court_surface  object\n",
       "2         currency  object\n",
       "3        player_id  object\n",
       "4      player_name  object\n",
       "5      opponent_id  object\n",
       "6    opponent_name  object\n",
       "7       tournament  object\n",
       "8            round  object\n",
       "9         duration  object\n",
       "10  player_victory  object\n",
       "11      retirement  object\n",
       "12            seed  object\n",
       "13   won_first_set  object\n",
       "14         doubles  object\n",
       "15          nation  object"
      ]
     },
     "execution_count": 81,
     "metadata": {},
     "output_type": "execute_result"
    }
   ],
   "source": [
    "matches_dtypes = matches_df.dtypes\n",
    "matches_df_objects = matches_dtypes[matches_dtypes==object]\n",
    "matches_df_objects = pd.DataFrame(matches_df_objects).reset_index()\n",
    "matches_df_objects.rename(columns={'index': 'column_name', 0: 'dtype'}, inplace=True)\n",
    "print(matches_df_objects.columns)\n",
    "matches_df_objects"
   ]
  },
  {
   "cell_type": "code",
   "execution_count": null,
   "metadata": {},
   "outputs": [
    {
     "data": {
      "text/html": [
       "<div>\n",
       "<style scoped>\n",
       "    .dataframe tbody tr th:only-of-type {\n",
       "        vertical-align: middle;\n",
       "    }\n",
       "\n",
       "    .dataframe tbody tr th {\n",
       "        vertical-align: top;\n",
       "    }\n",
       "\n",
       "    .dataframe thead th {\n",
       "        text-align: right;\n",
       "    }\n",
       "</style>\n",
       "<table border=\"1\" class=\"dataframe\">\n",
       "  <thead>\n",
       "    <tr style=\"text-align: right;\">\n",
       "      <th></th>\n",
       "      <th>column_name</th>\n",
       "      <th>dtype</th>\n",
       "    </tr>\n",
       "  </thead>\n",
       "  <tbody>\n",
       "    <tr>\n",
       "      <th>0</th>\n",
       "      <td>location</td>\n",
       "      <td>object</td>\n",
       "    </tr>\n",
       "    <tr>\n",
       "      <th>1</th>\n",
       "      <td>court_surface</td>\n",
       "      <td>object</td>\n",
       "    </tr>\n",
       "  </tbody>\n",
       "</table>\n",
       "</div>"
      ],
      "text/plain": [
       "     column_name   dtype\n",
       "0       location  object\n",
       "1  court_surface  object"
      ]
     },
     "execution_count": 82,
     "metadata": {},
     "output_type": "execute_result"
    }
   ],
   "source": [
    "matches_date_columns = matches_df_objects[:2]\n",
    "matches_date_columns"
   ]
  },
  {
   "cell_type": "code",
   "execution_count": null,
   "metadata": {},
   "outputs": [
    {
     "data": {
      "text/html": [
       "<div>\n",
       "<style scoped>\n",
       "    .dataframe tbody tr th:only-of-type {\n",
       "        vertical-align: middle;\n",
       "    }\n",
       "\n",
       "    .dataframe tbody tr th {\n",
       "        vertical-align: top;\n",
       "    }\n",
       "\n",
       "    .dataframe thead th {\n",
       "        text-align: right;\n",
       "    }\n",
       "</style>\n",
       "<table border=\"1\" class=\"dataframe\">\n",
       "  <thead>\n",
       "    <tr style=\"text-align: right;\">\n",
       "      <th></th>\n",
       "      <th>round</th>\n",
       "      <th>num_sets</th>\n",
       "      <th>sets_won</th>\n",
       "      <th>games_won</th>\n",
       "      <th>games_against</th>\n",
       "      <th>tiebreaks_won</th>\n",
       "      <th>tiebreaks_total</th>\n",
       "      <th>serve_rating</th>\n",
       "    </tr>\n",
       "  </thead>\n",
       "  <tbody>\n",
       "    <tr>\n",
       "      <th>0</th>\n",
       "      <td>2nd Round Qualifying</td>\n",
       "      <td>2</td>\n",
       "      <td>0</td>\n",
       "      <td>3</td>\n",
       "      <td>12</td>\n",
       "      <td>0</td>\n",
       "      <td>0</td>\n",
       "      <td>149.0</td>\n",
       "    </tr>\n",
       "    <tr>\n",
       "      <th>1</th>\n",
       "      <td>1st Round Qualifying</td>\n",
       "      <td>3</td>\n",
       "      <td>2</td>\n",
       "      <td>16</td>\n",
       "      <td>12</td>\n",
       "      <td>0</td>\n",
       "      <td>0</td>\n",
       "      <td>249.0</td>\n",
       "    </tr>\n",
       "    <tr>\n",
       "      <th>2</th>\n",
       "      <td>Round of 32</td>\n",
       "      <td>2</td>\n",
       "      <td>0</td>\n",
       "      <td>7</td>\n",
       "      <td>12</td>\n",
       "      <td>0</td>\n",
       "      <td>0</td>\n",
       "      <td>225.0</td>\n",
       "    </tr>\n",
       "    <tr>\n",
       "      <th>3</th>\n",
       "      <td>Round of 16</td>\n",
       "      <td>3</td>\n",
       "      <td>1</td>\n",
       "      <td>18</td>\n",
       "      <td>22</td>\n",
       "      <td>1</td>\n",
       "      <td>1</td>\n",
       "      <td>NaN</td>\n",
       "    </tr>\n",
       "    <tr>\n",
       "      <th>4</th>\n",
       "      <td>Round of 32</td>\n",
       "      <td>3</td>\n",
       "      <td>2</td>\n",
       "      <td>17</td>\n",
       "      <td>15</td>\n",
       "      <td>1</td>\n",
       "      <td>1</td>\n",
       "      <td>276.0</td>\n",
       "    </tr>\n",
       "    <tr>\n",
       "      <th>...</th>\n",
       "      <td>...</td>\n",
       "      <td>...</td>\n",
       "      <td>...</td>\n",
       "      <td>...</td>\n",
       "      <td>...</td>\n",
       "      <td>...</td>\n",
       "      <td>...</td>\n",
       "      <td>...</td>\n",
       "    </tr>\n",
       "    <tr>\n",
       "      <th>49995</th>\n",
       "      <td>Round of 32</td>\n",
       "      <td>2</td>\n",
       "      <td>0</td>\n",
       "      <td>7</td>\n",
       "      <td>12</td>\n",
       "      <td>0</td>\n",
       "      <td>0</td>\n",
       "      <td>NaN</td>\n",
       "    </tr>\n",
       "    <tr>\n",
       "      <th>49996</th>\n",
       "      <td>Finals</td>\n",
       "      <td>2</td>\n",
       "      <td>2</td>\n",
       "      <td>12</td>\n",
       "      <td>3</td>\n",
       "      <td>0</td>\n",
       "      <td>0</td>\n",
       "      <td>NaN</td>\n",
       "    </tr>\n",
       "    <tr>\n",
       "      <th>49997</th>\n",
       "      <td>Semi-Finals</td>\n",
       "      <td>2</td>\n",
       "      <td>2</td>\n",
       "      <td>12</td>\n",
       "      <td>7</td>\n",
       "      <td>0</td>\n",
       "      <td>0</td>\n",
       "      <td>NaN</td>\n",
       "    </tr>\n",
       "    <tr>\n",
       "      <th>49998</th>\n",
       "      <td>Round of 16</td>\n",
       "      <td>2</td>\n",
       "      <td>2</td>\n",
       "      <td>12</td>\n",
       "      <td>6</td>\n",
       "      <td>0</td>\n",
       "      <td>0</td>\n",
       "      <td>NaN</td>\n",
       "    </tr>\n",
       "    <tr>\n",
       "      <th>49999</th>\n",
       "      <td>Quarter-Finals</td>\n",
       "      <td>2</td>\n",
       "      <td>2</td>\n",
       "      <td>13</td>\n",
       "      <td>7</td>\n",
       "      <td>1</td>\n",
       "      <td>1</td>\n",
       "      <td>NaN</td>\n",
       "    </tr>\n",
       "  </tbody>\n",
       "</table>\n",
       "<p>50000 rows × 8 columns</p>\n",
       "</div>"
      ],
      "text/plain": [
       "                      round  num_sets  sets_won  games_won  games_against  \\\n",
       "0      2nd Round Qualifying         2         0          3             12   \n",
       "1      1st Round Qualifying         3         2         16             12   \n",
       "2               Round of 32         2         0          7             12   \n",
       "3               Round of 16         3         1         18             22   \n",
       "4               Round of 32         3         2         17             15   \n",
       "...                     ...       ...       ...        ...            ...   \n",
       "49995           Round of 32         2         0          7             12   \n",
       "49996                Finals         2         2         12              3   \n",
       "49997           Semi-Finals         2         2         12              7   \n",
       "49998           Round of 16         2         2         12              6   \n",
       "49999        Quarter-Finals         2         2         13              7   \n",
       "\n",
       "       tiebreaks_won  tiebreaks_total  serve_rating  \n",
       "0                  0                0         149.0  \n",
       "1                  0                0         249.0  \n",
       "2                  0                0         225.0  \n",
       "3                  1                1           NaN  \n",
       "4                  1                1         276.0  \n",
       "...              ...              ...           ...  \n",
       "49995              0                0           NaN  \n",
       "49996              0                0           NaN  \n",
       "49997              0                0           NaN  \n",
       "49998              0                0           NaN  \n",
       "49999              1                1           NaN  \n",
       "\n",
       "[50000 rows x 8 columns]"
      ]
     },
     "execution_count": 83,
     "metadata": {},
     "output_type": "execute_result"
    }
   ],
   "source": [
    "middle_cols = matches_df[matches_df.columns[12:20]]\n",
    "middle_cols"
   ]
  },
  {
   "cell_type": "markdown",
   "metadata": {},
   "source": [
    "# Polars"
   ]
  },
  {
   "cell_type": "code",
   "execution_count": null,
   "metadata": {},
   "outputs": [
    {
     "name": "stdout",
     "output_type": "stream",
     "text": [
      "Collecting polars-lts-cpu\n",
      "  Downloading polars_lts_cpu-0.20.30-cp38-abi3-manylinux_2_17_x86_64.manylinux2014_x86_64.whl.metadata (14 kB)\n",
      "Downloading polars_lts_cpu-0.20.30-cp38-abi3-manylinux_2_17_x86_64.manylinux2014_x86_64.whl (28.0 MB)\n",
      "\u001b[2K   \u001b[38;2;114;156;31m━━━━━━━━━━━━━━━━━━━━━━━━━━━━━━━━━━━━━━━━\u001b[0m \u001b[32m28.0/28.0 MB\u001b[0m \u001b[31m18.3 MB/s\u001b[0m eta \u001b[36m0:00:00\u001b[0mm eta \u001b[36m0:00:01\u001b[0m[36m0:00:01\u001b[0m\n",
      "\u001b[?25hInstalling collected packages: polars-lts-cpu\n",
      "Successfully installed polars-lts-cpu-0.20.30\n"
     ]
    }
   ],
   "source": [
    "# ! pip install polars\n",
    "# import polars as pl # this will not work on my machine\n",
    "\n",
    "!pip install polars-lts-cpu\n",
    "import polars as pl"
   ]
  },
  {
   "cell_type": "code",
   "execution_count": null,
   "metadata": {},
   "outputs": [],
   "source": [
    "# this crashes, too big 890mb => skip_cell\n",
    "# need to work on getting polars operational - or just use chunk_size equivalent\n",
    "skip_cell = 1\n",
    "if not skip_cell:\n",
    "    matches_csv_file = '../raw_data/archive/all_matches.csv'\n",
    "    # matches_df_polar = pl.read_csv()\n",
    "    # matches_df_polar = pl.read_csv_batched(matches_csv_file)\n",
    "    reader = pl.read_csv_batched(\n",
    "\n",
    "        matches_csv_file,\n",
    "\n",
    "        try_parse_dates=True,\n",
    "\n",
    "    )  \n",
    "\n",
    "    batches = reader.next_batches(5)  \n",
    "\n",
    "    for df in batches:  \n",
    "\n",
    "        print(df)\n",
    "    \n"
   ]
  },
  {
   "cell_type": "code",
   "execution_count": null,
   "metadata": {},
   "outputs": [],
   "source": [
    "df.dtypes.head()"
   ]
  },
  {
   "cell_type": "code",
   "execution_count": null,
   "metadata": {},
   "outputs": [],
   "source": [
    "len(df.columns)"
   ]
  },
  {
   "cell_type": "markdown",
   "metadata": {},
   "source": [
    "***\n",
    "# RUN HERE: Get first sample of the full dataset to ease usage"
   ]
  },
  {
   "cell_type": "markdown",
   "metadata": {},
   "source": [
    "## trawl through archive and get samples out\n",
    "### currently set to 10k per each of 43 => 430k rows"
   ]
  },
  {
   "cell_type": "code",
   "execution_count": 129,
   "metadata": {},
   "outputs": [],
   "source": [
    "sample_df_path = os.path.join('..','raw_data','atp_sample.csv')\n",
    "sample_post_2010_df_path = os.path.join('..','raw_data','atp_sample_post_2010.csv')\n",
    "\n",
    "get_data_sample_from_43 = 1 # set to zero as won't need to run this EVERY time.\n",
    "n_samples = 5_000 # was 10k but not >10k post 2010 rows in each 100_000 csv..."
   ]
  },
  {
   "cell_type": "code",
   "execution_count": 130,
   "metadata": {},
   "outputs": [],
   "source": [
    "sample_only_from_post_2010 = 1"
   ]
  },
  {
   "cell_type": "code",
   "execution_count": 132,
   "metadata": {},
   "outputs": [
    {
     "name": "stderr",
     "output_type": "stream",
     "text": [
      "/tmp/ipykernel_30476/3117755195.py:16: DtypeWarning: Columns (8,10,45) have mixed types. Specify dtype option on import or set low_memory=False.\n",
      "  chunk = pd.read_csv(csv, index_col=None) # .astype(schema)\n"
     ]
    },
    {
     "name": "stdout",
     "output_type": "stream",
     "text": [
      "csv ../raw_data/read_data/read_data_40.csv had only 1430 post 2010 rows: skipping sampling\n"
     ]
    },
    {
     "name": "stderr",
     "output_type": "stream",
     "text": [
      "/tmp/ipykernel_30476/3117755195.py:16: DtypeWarning: Columns (8,10,45) have mixed types. Specify dtype option on import or set low_memory=False.\n",
      "  chunk = pd.read_csv(csv, index_col=None) # .astype(schema)\n",
      "/tmp/ipykernel_30476/3117755195.py:16: DtypeWarning: Columns (8,10,45) have mixed types. Specify dtype option on import or set low_memory=False.\n",
      "  chunk = pd.read_csv(csv, index_col=None) # .astype(schema)\n",
      "/tmp/ipykernel_30476/3117755195.py:16: DtypeWarning: Columns (5,8,10,45,48) have mixed types. Specify dtype option on import or set low_memory=False.\n",
      "  chunk = pd.read_csv(csv, index_col=None) # .astype(schema)\n",
      "/tmp/ipykernel_30476/3117755195.py:16: DtypeWarning: Columns (5,8,10,45,48) have mixed types. Specify dtype option on import or set low_memory=False.\n",
      "  chunk = pd.read_csv(csv, index_col=None) # .astype(schema)\n",
      "/tmp/ipykernel_30476/3117755195.py:16: DtypeWarning: Columns (5,8,10,45,48) have mixed types. Specify dtype option on import or set low_memory=False.\n",
      "  chunk = pd.read_csv(csv, index_col=None) # .astype(schema)\n",
      "/tmp/ipykernel_30476/3117755195.py:16: DtypeWarning: Columns (8,10,45) have mixed types. Specify dtype option on import or set low_memory=False.\n",
      "  chunk = pd.read_csv(csv, index_col=None) # .astype(schema)\n",
      "/tmp/ipykernel_30476/3117755195.py:16: DtypeWarning: Columns (8,10,45) have mixed types. Specify dtype option on import or set low_memory=False.\n",
      "  chunk = pd.read_csv(csv, index_col=None) # .astype(schema)\n",
      "/tmp/ipykernel_30476/3117755195.py:16: DtypeWarning: Columns (8,10,45) have mixed types. Specify dtype option on import or set low_memory=False.\n",
      "  chunk = pd.read_csv(csv, index_col=None) # .astype(schema)\n",
      "/tmp/ipykernel_30476/3117755195.py:16: DtypeWarning: Columns (5,8,10,45,48) have mixed types. Specify dtype option on import or set low_memory=False.\n",
      "  chunk = pd.read_csv(csv, index_col=None) # .astype(schema)\n",
      "/tmp/ipykernel_30476/3117755195.py:16: DtypeWarning: Columns (8,10,45) have mixed types. Specify dtype option on import or set low_memory=False.\n",
      "  chunk = pd.read_csv(csv, index_col=None) # .astype(schema)\n",
      "/tmp/ipykernel_30476/3117755195.py:16: DtypeWarning: Columns (8,10,45) have mixed types. Specify dtype option on import or set low_memory=False.\n",
      "  chunk = pd.read_csv(csv, index_col=None) # .astype(schema)\n"
     ]
    },
    {
     "name": "stdout",
     "output_type": "stream",
     "text": [
      "csv ../raw_data/read_data/read_data_42.csv had only 1294 post 2010 rows: skipping sampling\n",
      "csv ../raw_data/read_data/read_data_43.csv had only 0 post 2010 rows: skipping sampling\n"
     ]
    },
    {
     "name": "stderr",
     "output_type": "stream",
     "text": [
      "/tmp/ipykernel_30476/3117755195.py:16: DtypeWarning: Columns (8,10,45) have mixed types. Specify dtype option on import or set low_memory=False.\n",
      "  chunk = pd.read_csv(csv, index_col=None) # .astype(schema)\n",
      "/tmp/ipykernel_30476/3117755195.py:16: DtypeWarning: Columns (8,10,45) have mixed types. Specify dtype option on import or set low_memory=False.\n",
      "  chunk = pd.read_csv(csv, index_col=None) # .astype(schema)\n"
     ]
    },
    {
     "name": "stdout",
     "output_type": "stream",
     "text": [
      "csv ../raw_data/read_data/read_data_41.csv had only 2274 post 2010 rows: skipping sampling\n"
     ]
    },
    {
     "name": "stderr",
     "output_type": "stream",
     "text": [
      "/tmp/ipykernel_30476/3117755195.py:16: DtypeWarning: Columns (5,8,10,45,48) have mixed types. Specify dtype option on import or set low_memory=False.\n",
      "  chunk = pd.read_csv(csv, index_col=None) # .astype(schema)\n",
      "/tmp/ipykernel_30476/3117755195.py:16: DtypeWarning: Columns (5,8,10,45,48) have mixed types. Specify dtype option on import or set low_memory=False.\n",
      "  chunk = pd.read_csv(csv, index_col=None) # .astype(schema)\n",
      "/tmp/ipykernel_30476/3117755195.py:16: DtypeWarning: Columns (8,10,45) have mixed types. Specify dtype option on import or set low_memory=False.\n",
      "  chunk = pd.read_csv(csv, index_col=None) # .astype(schema)\n",
      "/tmp/ipykernel_30476/3117755195.py:16: DtypeWarning: Columns (5,8,10,45,48) have mixed types. Specify dtype option on import or set low_memory=False.\n",
      "  chunk = pd.read_csv(csv, index_col=None) # .astype(schema)\n"
     ]
    },
    {
     "name": "stdout",
     "output_type": "stream",
     "text": [
      "len(accumulator_df): 195000 43*5000 = 215000\n",
      "accumulator_df.shape: (195000, 54)\n",
      "Total number of chunks: 42\n",
      "Total memory, MB: 18,558.0\n",
      "Average MB per loop: 442.0\n",
      "86.73  seconds\n"
     ]
    }
   ],
   "source": [
    "# trawl through, get sample. different every time, will hopefully be random enough\n",
    "if get_data_sample_from_43:\n",
    "    accumulator_df = pd.DataFrame() # empty\n",
    "    start = time.time()\n",
    "    ave_bytes = 0\n",
    "    count = 0\n",
    "    total_bytes = 0\n",
    "    # this works to convert dates as reading in. good news\n",
    "    schema = {'start_date': 'datetime64[ns]', 'end_date': 'datetime64[ns]'}\n",
    "       \n",
    "    csv_files = get_count_csvs(read_data_path) # get the files now created\n",
    "    assert len(csv_files) > 0, \"ERROR: need to get .csv files from archive, see above\"\n",
    "    \n",
    "    for index, csv in enumerate(csv_files):\n",
    "        # read back in in manageable quantities, with astype etc\n",
    "        chunk = pd.read_csv(csv, index_col=None) # .astype(schema)\n",
    "        # clock memory usage:\n",
    "        this_bytes = chunk.memory_usage().sum()\n",
    "        ave_bytes += this_bytes\n",
    "        total_bytes = total_bytes + this_bytes\n",
    "\n",
    "        # get sample:\n",
    "        if sample_only_from_post_2010:\n",
    "            chunk['year'] = chunk['year'].astype(int)\n",
    "            count_of_post_2010 = len(chunk.query(list(single_year_query.keys())[0]))\n",
    "            if count_of_post_2010 < n_samples:\n",
    "                # then we have an issue with post 2010 data. \n",
    "                print(f\"csv {csv} had only {count_of_post_2010} post 2010 rows: skipping sampling\")\n",
    "            else:\n",
    "                new_sample = chunk.query(list(single_year_query.keys())[0]).sample(n_samples)\n",
    "                accumulator_df = pd.concat((accumulator_df, new_sample), axis=0)\n",
    "        else:\n",
    "            new_sample = chunk.sample(n_samples)\n",
    "            accumulator_df = pd.concat((accumulator_df, new_sample), axis=0)\n",
    "\n",
    "    print(f\"len(accumulator_df): {len(accumulator_df)} {len(csv_files)}*{n_samples} = {len(csv_files)*n_samples}\")\n",
    "    print(f\"accumulator_df.shape: {accumulator_df.shape}\")\n",
    "    \n",
    "    accumulator_df.reset_index()\n",
    "    \n",
    "    if sample_only_from_post_2010:\n",
    "        accumulator_df.to_csv(sample_post_2010_df_path)\n",
    "    else:\n",
    "        accumulator_df.to_csv(sample_df_path)\n",
    "\n",
    "    bytes_per_mb = 100_000\n",
    "    print(f\"Total number of chunks: {index}\")\n",
    "    print(f\"Total memory, MB: {round(total_bytes/bytes_per_mb,0):,}\")\n",
    "    ave_bytes = ave_bytes / index\n",
    "    print(f\"Average MB per loop: {round(ave_bytes/bytes_per_mb,0):,}\")\n",
    "\n",
    "    print(round(time.time() - start,2), ' seconds')"
   ]
  },
  {
   "cell_type": "markdown",
   "metadata": {},
   "source": [
    "## Load from sample:"
   ]
  },
  {
   "cell_type": "code",
   "execution_count": 41,
   "metadata": {},
   "outputs": [
    {
     "name": "stdout",
     "output_type": "stream",
     "text": [
      "(430000, 54)\n"
     ]
    },
    {
     "data": {
      "text/html": [
       "<div>\n",
       "<style scoped>\n",
       "    .dataframe tbody tr th:only-of-type {\n",
       "        vertical-align: middle;\n",
       "    }\n",
       "\n",
       "    .dataframe tbody tr th {\n",
       "        vertical-align: top;\n",
       "    }\n",
       "\n",
       "    .dataframe thead th {\n",
       "        text-align: right;\n",
       "    }\n",
       "</style>\n",
       "<table border=\"1\" class=\"dataframe\">\n",
       "  <thead>\n",
       "    <tr style=\"text-align: right;\">\n",
       "      <th></th>\n",
       "      <th>start_date</th>\n",
       "      <th>end_date</th>\n",
       "      <th>location</th>\n",
       "      <th>court_surface</th>\n",
       "      <th>prize_money</th>\n",
       "      <th>currency</th>\n",
       "      <th>year</th>\n",
       "      <th>player_id</th>\n",
       "      <th>player_name</th>\n",
       "      <th>opponent_id</th>\n",
       "      <th>...</th>\n",
       "      <th>total_points</th>\n",
       "      <th>duration</th>\n",
       "      <th>player_victory</th>\n",
       "      <th>retirement</th>\n",
       "      <th>seed</th>\n",
       "      <th>won_first_set</th>\n",
       "      <th>doubles</th>\n",
       "      <th>masters</th>\n",
       "      <th>round_num</th>\n",
       "      <th>nation</th>\n",
       "    </tr>\n",
       "  </thead>\n",
       "  <tbody>\n",
       "    <tr>\n",
       "      <th>0</th>\n",
       "      <td>1999-03-26</td>\n",
       "      <td>1999-04-25</td>\n",
       "      <td>USA</td>\n",
       "      <td>Hard</td>\n",
       "      <td>NaN</td>\n",
       "      <td>NaN</td>\n",
       "      <td>1999</td>\n",
       "      <td>mathias-schwarzler_ronald-dueller</td>\n",
       "      <td>NaN</td>\n",
       "      <td>alexander-reichel_grant-doyle</td>\n",
       "      <td>...</td>\n",
       "      <td>NaN</td>\n",
       "      <td>NaN</td>\n",
       "      <td>f</td>\n",
       "      <td>f</td>\n",
       "      <td>NaN</td>\n",
       "      <td>t</td>\n",
       "      <td>t</td>\n",
       "      <td>25</td>\n",
       "      <td>4</td>\n",
       "      <td>USA</td>\n",
       "    </tr>\n",
       "    <tr>\n",
       "      <th>1</th>\n",
       "      <td>2012-11-19</td>\n",
       "      <td>2012-11-24</td>\n",
       "      <td>MEX</td>\n",
       "      <td>Hard</td>\n",
       "      <td>NaN</td>\n",
       "      <td>NaN</td>\n",
       "      <td>2012</td>\n",
       "      <td>chi-shan-jao</td>\n",
       "      <td>NaN</td>\n",
       "      <td>hugo-di-feo</td>\n",
       "      <td>...</td>\n",
       "      <td>NaN</td>\n",
       "      <td>NaN</td>\n",
       "      <td>f</td>\n",
       "      <td>f</td>\n",
       "      <td>NaN</td>\n",
       "      <td>f</td>\n",
       "      <td>f</td>\n",
       "      <td>0</td>\n",
       "      <td>3</td>\n",
       "      <td>MEX</td>\n",
       "    </tr>\n",
       "    <tr>\n",
       "      <th>2</th>\n",
       "      <td>1993-11-06</td>\n",
       "      <td>1993-12-05</td>\n",
       "      <td>PAR</td>\n",
       "      <td>Clay</td>\n",
       "      <td>NaN</td>\n",
       "      <td>NaN</td>\n",
       "      <td>1993</td>\n",
       "      <td>hector-moretti</td>\n",
       "      <td>NaN</td>\n",
       "      <td>pablo-minutella</td>\n",
       "      <td>...</td>\n",
       "      <td>NaN</td>\n",
       "      <td>NaN</td>\n",
       "      <td>t</td>\n",
       "      <td>f</td>\n",
       "      <td>3</td>\n",
       "      <td>t</td>\n",
       "      <td>f</td>\n",
       "      <td>25</td>\n",
       "      <td>3</td>\n",
       "      <td>PAR</td>\n",
       "    </tr>\n",
       "    <tr>\n",
       "      <th>3</th>\n",
       "      <td>2014-08-25</td>\n",
       "      <td>2014-08-31</td>\n",
       "      <td>CRO</td>\n",
       "      <td>Clay</td>\n",
       "      <td>NaN</td>\n",
       "      <td>NaN</td>\n",
       "      <td>2014</td>\n",
       "      <td>gregor-hutterer_peter-heller</td>\n",
       "      <td>NaN</td>\n",
       "      <td>ivan-sabanov_matej-sabanov</td>\n",
       "      <td>...</td>\n",
       "      <td>NaN</td>\n",
       "      <td>NaN</td>\n",
       "      <td>f</td>\n",
       "      <td>f</td>\n",
       "      <td>3</td>\n",
       "      <td>t</td>\n",
       "      <td>t</td>\n",
       "      <td>25</td>\n",
       "      <td>5</td>\n",
       "      <td>CRO</td>\n",
       "    </tr>\n",
       "    <tr>\n",
       "      <th>4</th>\n",
       "      <td>1994-03-26</td>\n",
       "      <td>1994-04-23</td>\n",
       "      <td>MAR</td>\n",
       "      <td>Clay</td>\n",
       "      <td>NaN</td>\n",
       "      <td>NaN</td>\n",
       "      <td>1994</td>\n",
       "      <td>rene-hanak</td>\n",
       "      <td>NaN</td>\n",
       "      <td>mehdi-tahiri</td>\n",
       "      <td>...</td>\n",
       "      <td>NaN</td>\n",
       "      <td>NaN</td>\n",
       "      <td>f</td>\n",
       "      <td>f</td>\n",
       "      <td>6</td>\n",
       "      <td>f</td>\n",
       "      <td>f</td>\n",
       "      <td>25</td>\n",
       "      <td>4</td>\n",
       "      <td>MAR</td>\n",
       "    </tr>\n",
       "  </tbody>\n",
       "</table>\n",
       "<p>5 rows × 54 columns</p>\n",
       "</div>"
      ],
      "text/plain": [
       "  start_date   end_date location court_surface  prize_money currency  year  \\\n",
       "0 1999-03-26 1999-04-25      USA          Hard          NaN      NaN  1999   \n",
       "1 2012-11-19 2012-11-24      MEX          Hard          NaN      NaN  2012   \n",
       "2 1993-11-06 1993-12-05      PAR          Clay          NaN      NaN  1993   \n",
       "3 2014-08-25 2014-08-31      CRO          Clay          NaN      NaN  2014   \n",
       "4 1994-03-26 1994-04-23      MAR          Clay          NaN      NaN  1994   \n",
       "\n",
       "                           player_id player_name  \\\n",
       "0  mathias-schwarzler_ronald-dueller         NaN   \n",
       "1                       chi-shan-jao         NaN   \n",
       "2                     hector-moretti         NaN   \n",
       "3       gregor-hutterer_peter-heller         NaN   \n",
       "4                         rene-hanak         NaN   \n",
       "\n",
       "                     opponent_id  ... total_points duration player_victory  \\\n",
       "0  alexander-reichel_grant-doyle  ...          NaN      NaN              f   \n",
       "1                    hugo-di-feo  ...          NaN      NaN              f   \n",
       "2                pablo-minutella  ...          NaN      NaN              t   \n",
       "3     ivan-sabanov_matej-sabanov  ...          NaN      NaN              f   \n",
       "4                   mehdi-tahiri  ...          NaN      NaN              f   \n",
       "\n",
       "   retirement  seed  won_first_set  doubles  masters  round_num  nation  \n",
       "0           f   NaN              t        t       25          4     USA  \n",
       "1           f   NaN              f        f        0          3     MEX  \n",
       "2           f     3              t        f       25          3     PAR  \n",
       "3           f     3              t        t       25          5     CRO  \n",
       "4           f     6              f        f       25          4     MAR  \n",
       "\n",
       "[5 rows x 54 columns]"
      ]
     },
     "execution_count": 41,
     "metadata": {},
     "output_type": "execute_result"
    }
   ],
   "source": [
    "if not 'accumulator_df' in locals(): # load from csv:\n",
    "    atp_sample = pd.read_csv(sample_df_path, index_col=None).astype(schema)\n",
    "    atp_sample = atp_sample.drop(columns=['Unnamed: 0']) # would be nice to be clear on how to avoid this...\n",
    "else: \n",
    "    atp_sample = accumulator_df\n",
    "print(atp_sample.shape)\n",
    "atp_sample.head(5)"
   ]
  },
  {
   "cell_type": "markdown",
   "metadata": {},
   "source": [
    "*** \n",
    "# Pipeline\n",
    "***\n",
    "***"
   ]
  },
  {
   "cell_type": "code",
   "execution_count": 44,
   "metadata": {},
   "outputs": [],
   "source": [
    "schema = {'start_date': 'datetime64[ns]', 'end_date': 'datetime64[ns]'}\n",
    "date_schema = {'start_date': 'datetime64[ns]', 'end_date': 'datetime64[ns]'}\n",
    "new_date_schema = {0: \"datetime64[ns]\", 1: \"datetime64[ns]\"}"
   ]
  },
  {
   "cell_type": "code",
   "execution_count": 45,
   "metadata": {},
   "outputs": [
    {
     "data": {
      "text/plain": [
       "['start_date', 'end_date']"
      ]
     },
     "execution_count": 45,
     "metadata": {},
     "output_type": "execute_result"
    }
   ],
   "source": [
    "[col for col in atp_sample.columns if col in date_schema]"
   ]
  },
  {
   "cell_type": "code",
   "execution_count": 61,
   "metadata": {},
   "outputs": [],
   "source": [
    "# lists for transformers, pipelines and associated functions:\n",
    "new_numerical_columns = list(atp_sample.select_dtypes(include=[np.number]).columns.values)\n",
    "remove_cols = ['year', 'masters', 'round_num', 'prize_money']\n",
    "for c in remove_cols:\n",
    "    if c in new_numerical_columns:\n",
    "        new_numerical_columns.remove(c)\n",
    "other_num_columns = remove_cols"
   ]
  },
  {
   "cell_type": "code",
   "execution_count": 62,
   "metadata": {},
   "outputs": [
    {
     "data": {
      "text/plain": [
       "['num_sets',\n",
       " 'sets_won',\n",
       " 'games_won',\n",
       " 'games_against',\n",
       " 'tiebreaks_won',\n",
       " 'tiebreaks_total',\n",
       " 'serve_rating',\n",
       " 'aces',\n",
       " 'double_faults',\n",
       " 'first_serve_made',\n",
       " 'first_serve_attempted',\n",
       " 'first_serve_points_made',\n",
       " 'first_serve_points_attempted',\n",
       " 'second_serve_points_made',\n",
       " 'second_serve_points_attempted',\n",
       " 'break_points_saved',\n",
       " 'break_points_against',\n",
       " 'service_games_won',\n",
       " 'return_rating',\n",
       " 'first_serve_return_points_made',\n",
       " 'first_serve_return_points_attempted',\n",
       " 'second_serve_return_points_made',\n",
       " 'second_serve_return_points_attempted',\n",
       " 'break_points_made',\n",
       " 'break_points_attempted',\n",
       " 'return_games_played',\n",
       " 'service_points_won',\n",
       " 'service_points_attempted',\n",
       " 'return_points_won',\n",
       " 'return_points_attempted',\n",
       " 'total_points_won',\n",
       " 'total_points']"
      ]
     },
     "execution_count": 62,
     "metadata": {},
     "output_type": "execute_result"
    }
   ],
   "source": [
    "new_numerical_columns"
   ]
  },
  {
   "cell_type": "code",
   "execution_count": 63,
   "metadata": {},
   "outputs": [],
   "source": [
    "first_subset_num = ['num_sets',\n",
    " 'sets_won',\n",
    " 'games_won',\n",
    " 'games_against',\n",
    " 'tiebreaks_won',\n",
    " 'tiebreaks_total',\n",
    " 'serve_rating',\n",
    " 'aces',\n",
    " 'double_faults',\n",
    " 'first_serve_made',\n",
    " 'first_serve_attempted',\n",
    " 'first_serve_points_made',\n",
    " 'first_serve_points_attempted',\n",
    " 'second_serve_points_made',\n",
    " 'second_serve_points_attempted',\n",
    " 'break_points_saved',\n",
    " 'break_points_against',\n",
    " 'service_games_won']"
   ]
  },
  {
   "cell_type": "code",
   "execution_count": 103,
   "metadata": {},
   "outputs": [
    {
     "name": "stdout",
     "output_type": "stream",
     "text": [
      "32\n",
      "18\n",
      "14\n"
     ]
    }
   ],
   "source": [
    "print(len(new_numerical_columns))\n",
    "print(len(first_subset_num))\n",
    "second_subset_num = [col for col in new_numerical_columns if col not in first_subset_num]\n",
    "print(len(second_subset_num))"
   ]
  },
  {
   "cell_type": "code",
   "execution_count": 104,
   "metadata": {},
   "outputs": [
    {
     "data": {
      "text/plain": [
       "['return_rating',\n",
       " 'first_serve_return_points_made',\n",
       " 'first_serve_return_points_attempted',\n",
       " 'second_serve_return_points_made',\n",
       " 'second_serve_return_points_attempted',\n",
       " 'break_points_made',\n",
       " 'break_points_attempted',\n",
       " 'return_games_played',\n",
       " 'service_points_won',\n",
       " 'service_points_attempted',\n",
       " 'return_points_won',\n",
       " 'return_points_attempted',\n",
       " 'total_points_won',\n",
       " 'total_points']"
      ]
     },
     "execution_count": 104,
     "metadata": {},
     "output_type": "execute_result"
    }
   ],
   "source": [
    "second_subset_num"
   ]
  },
  {
   "cell_type": "markdown",
   "metadata": {},
   "source": [
    "## Look through numerical columns, count NAs:"
   ]
  },
  {
   "cell_type": "code",
   "execution_count": 105,
   "metadata": {},
   "outputs": [],
   "source": [
    "first_num_NAs = []\n",
    "for c in first_subset_num:\n",
    "    first_num_NAs.append(atp_sample[c].isna().sum())\n",
    "\n",
    "second_num_NAs = []\n",
    "for c in second_subset_num:\n",
    "    second_num_NAs.append(atp_sample[c].isna().sum())"
   ]
  },
  {
   "cell_type": "code",
   "execution_count": 109,
   "metadata": {},
   "outputs": [
    {
     "name": "stdout",
     "output_type": "stream",
     "text": [
      "['num_sets', 'sets_won', 'games_won', 'games_against', 'tiebreaks_won']\n"
     ]
    },
    {
     "data": {
      "image/png": "[encoded data removed]",
      "text/plain": [
       "<Figure size 640x480 with 3 Axes>"
      ]
     },
     "metadata": {},
     "output_type": "display_data"
    }
   ],
   "source": [
    "figure, axis = plt.subplots(1, 3) \n",
    "axis[0].bar(first_subset_num, first_num_NAs)\n",
    "axis[1].bar(first_subset_num[6:], first_num_NAs[6:])\n",
    "axis[2].bar(second_subset_num[:], second_num_NAs[:])\n",
    "\n",
    "print(first_subset_num[0:5]) # these columns are the only numerical columsn without massive majority NA's"
   ]
  },
  {
   "cell_type": "markdown",
   "metadata": {},
   "source": [
    "### Gather columns for preprocessing"
   ]
  },
  {
   "cell_type": "code",
   "execution_count": 43,
   "metadata": {},
   "outputs": [
    {
     "data": {
      "text/plain": [
       "start_date                              datetime64[ns]\n",
       "end_date                                datetime64[ns]\n",
       "location                                        object\n",
       "court_surface                                   object\n",
       "prize_money                                    float64\n",
       "currency                                        object\n",
       "year                                             int64\n",
       "player_id                                       object\n",
       "player_name                                     object\n",
       "opponent_id                                     object\n",
       "opponent_name                                   object\n",
       "tournament                                      object\n",
       "round                                           object\n",
       "num_sets                                       float64\n",
       "sets_won                                       float64\n",
       "games_won                                      float64\n",
       "games_against                                  float64\n",
       "tiebreaks_won                                  float64\n",
       "tiebreaks_total                                float64\n",
       "serve_rating                                   float64\n",
       "aces                                           float64\n",
       "double_faults                                  float64\n",
       "first_serve_made                               float64\n",
       "first_serve_attempted                          float64\n",
       "first_serve_points_made                        float64\n",
       "first_serve_points_attempted                   float64\n",
       "second_serve_points_made                       float64\n",
       "second_serve_points_attempted                  float64\n",
       "break_points_saved                             float64\n",
       "break_points_against                           float64\n",
       "service_games_won                              float64\n",
       "return_rating                                  float64\n",
       "first_serve_return_points_made                 float64\n",
       "first_serve_return_points_attempted            float64\n",
       "second_serve_return_points_made                float64\n",
       "second_serve_return_points_attempted           float64\n",
       "break_points_made                              float64\n",
       "break_points_attempted                         float64\n",
       "return_games_played                            float64\n",
       "service_points_won                             float64\n",
       "service_points_attempted                       float64\n",
       "return_points_won                              float64\n",
       "return_points_attempted                        float64\n",
       "total_points_won                               float64\n",
       "total_points                                   float64\n",
       "duration                                        object\n",
       "player_victory                                  object\n",
       "retirement                                      object\n",
       "seed                                            object\n",
       "won_first_set                                   object\n",
       "doubles                                         object\n",
       "masters                                          int64\n",
       "round_num                                        int64\n",
       "nation                                          object\n",
       "dtype: object"
      ]
     },
     "metadata": {},
     "output_type": "display_data"
    }
   ],
   "source": [
    "atp_sample.dtypes"
   ]
  },
  {
   "cell_type": "markdown",
   "metadata": {},
   "source": [
    "## Still thinking to be done: Lots of NAs in numerical columns - how should we treat these?"
   ]
  },
  {
   "cell_type": "code",
   "execution_count": null,
   "metadata": {},
   "outputs": [],
   "source": []
  },
  {
   "cell_type": "code",
   "execution_count": null,
   "metadata": {},
   "outputs": [],
   "source": []
  },
  {
   "cell_type": "code",
   "execution_count": 58,
   "metadata": {},
   "outputs": [
    {
     "data": {
      "text/html": [
       "<div>\n",
       "<style scoped>\n",
       "    .dataframe tbody tr th:only-of-type {\n",
       "        vertical-align: middle;\n",
       "    }\n",
       "\n",
       "    .dataframe tbody tr th {\n",
       "        vertical-align: top;\n",
       "    }\n",
       "\n",
       "    .dataframe thead th {\n",
       "        text-align: right;\n",
       "    }\n",
       "</style>\n",
       "<table border=\"1\" class=\"dataframe\">\n",
       "  <thead>\n",
       "    <tr style=\"text-align: right;\">\n",
       "      <th></th>\n",
       "      <th>return_rating</th>\n",
       "      <th>first_serve_return_points_made</th>\n",
       "      <th>first_serve_return_points_attempted</th>\n",
       "      <th>second_serve_return_points_made</th>\n",
       "      <th>second_serve_return_points_attempted</th>\n",
       "      <th>break_points_made</th>\n",
       "      <th>break_points_attempted</th>\n",
       "      <th>return_games_played</th>\n",
       "      <th>service_points_won</th>\n",
       "      <th>service_points_attempted</th>\n",
       "      <th>return_points_won</th>\n",
       "      <th>return_points_attempted</th>\n",
       "      <th>total_points_won</th>\n",
       "      <th>total_points</th>\n",
       "      <th>masters</th>\n",
       "      <th>round_num</th>\n",
       "    </tr>\n",
       "  </thead>\n",
       "  <tbody>\n",
       "    <tr>\n",
       "      <th>0</th>\n",
       "      <td>NaN</td>\n",
       "      <td>NaN</td>\n",
       "      <td>NaN</td>\n",
       "      <td>NaN</td>\n",
       "      <td>NaN</td>\n",
       "      <td>NaN</td>\n",
       "      <td>NaN</td>\n",
       "      <td>NaN</td>\n",
       "      <td>NaN</td>\n",
       "      <td>NaN</td>\n",
       "      <td>NaN</td>\n",
       "      <td>NaN</td>\n",
       "      <td>NaN</td>\n",
       "      <td>NaN</td>\n",
       "      <td>25</td>\n",
       "      <td>4</td>\n",
       "    </tr>\n",
       "  </tbody>\n",
       "</table>\n",
       "</div>"
      ],
      "text/plain": [
       "   return_rating  first_serve_return_points_made  \\\n",
       "0            NaN                             NaN   \n",
       "\n",
       "   first_serve_return_points_attempted  second_serve_return_points_made  \\\n",
       "0                                  NaN                              NaN   \n",
       "\n",
       "   second_serve_return_points_attempted  break_points_made  \\\n",
       "0                                   NaN                NaN   \n",
       "\n",
       "   break_points_attempted  return_games_played  service_points_won  \\\n",
       "0                     NaN                  NaN                 NaN   \n",
       "\n",
       "   service_points_attempted  return_points_won  return_points_attempted  \\\n",
       "0                       NaN                NaN                      NaN   \n",
       "\n",
       "   total_points_won  total_points  masters  round_num  \n",
       "0               NaN           NaN       25          4  "
      ]
     },
     "execution_count": 58,
     "metadata": {},
     "output_type": "execute_result"
    }
   ],
   "source": [
    "atp_sample[second_subset_num].head(1)"
   ]
  },
  {
   "cell_type": "code",
   "execution_count": 50,
   "metadata": {},
   "outputs": [
    {
     "name": "stdout",
     "output_type": "stream",
     "text": [
      "35\n",
      "19\n",
      "16\n"
     ]
    }
   ],
   "source": [
    "print(len(new_numerical_columns))\n",
    "print(len(first_subset_num))\n",
    "second_subset_num = [col for col in new_numerical_columns if col not in first_subset_num]\n",
    "print(len(second_subset_num))\n"
   ]
  },
  {
   "cell_type": "markdown",
   "metadata": {},
   "source": [
    "### Functions for transformers and pipelines:"
   ]
  },
  {
   "cell_type": "code",
   "execution_count": 505,
   "metadata": {},
   "outputs": [],
   "source": [
    "# functions for transformers and pipelines:\n",
    "def convert_dates(df):\n",
    "    return df.apply(lambda x: x.astype(dtype=\"datetime64[ns]\"))\n",
    "\n",
    "def get_custom_feature_names(transformer, feature_names):\n",
    "    return [f'{col}' for col in feature_names]\n",
    "\n",
    "datetime_transformer = Pipeline(steps=[\n",
    "    ('date_converter', FunctionTransformer(convert_dates, feature_names_out=get_custom_feature_names, validate=False))\n",
    "])\n",
    "\n",
    "# Custom column selector function\n",
    "def custom_date_column_selector():\n",
    "    def selector_from_date_schema(df):\n",
    "        return [col for col in atp_sample.columns if col in date_schema]\n",
    "    return selector_from_date_schema\n",
    "\n",
    "# custom numerical\n",
    "def custom_num_column_selector():\n",
    "    def selector_from_num_schema(df):\n",
    "        return [col for col in atp_sample.columns if col in first_subset_num]\n",
    "    return selector_from_num_schema\n",
    "\n",
    "type_changer = FunctionTransformer(lambda array: pd.DataFrame.astype(array,dtype=np.number), \n",
    "                                   feature_names_out=get_custom_feature_names)\n",
    "\n",
    "# from LW#900\n",
    "rounder = FunctionTransformer(lambda array: np.round(array, decimals=2), \n",
    "                                feature_names_out=get_custom_feature_names)\n",
    "\n",
    "\n",
    "# from LW#900:\n",
    "# makeVolumeTransformer = FunctionTransformer(lambda array: pd.DataFrame(array['product_length_cm']*array['product_height_cm']*array['product_width_cm']))\n",
    "\n",
    "# TRY THIS:\n",
    "# datetime_transformer = FunctionTransformer(lambda array: pd.DataFrame(array.astype(dtype=\"datetime64[ns]\")))\n"
   ]
  },
  {
   "cell_type": "markdown",
   "metadata": {},
   "source": [
    "### Transformers and pipelines:"
   ]
  },
  {
   "cell_type": "code",
   "execution_count": 506,
   "metadata": {},
   "outputs": [],
   "source": [
    "# Define the datetime transformer, exchange with whichever you pefer\n",
    "\n",
    "# NOTES num_transformer => looking to impute all NAN values. somewhat aggressive!\n",
    "#       In general: Impute then scale numerical values:\n",
    "num_transformer = Pipeline([\n",
    "    # ('type_changer', type_changer), # this is likely misfunctioning\n",
    "    ('imputer', SimpleImputer(strategy='constant', missing_values=np.nan, fill_value=0)),\n",
    "    ('standard_scaler', StandardScaler()),\n",
    "    # ('rounder', rounder)\n",
    "])\n",
    "\n",
    "# NOTES seed_transformer => sometimes seed column is given as 'SE' \n",
    "#       there might be other values too, can probably deal with these as:\n",
    "seed_transformer = Pipeline([\n",
    "    ('seed1', SimpleImputer(strategy='constant', missing_values=np.nan, fill_value=0)), \n",
    "    ('seed2', SimpleImputer(strategy='constant', missing_values=\"SE\", fill_value=0)), # ASSUMPTION that SE in Seed column can be set to zero. CHECK ASSUMPTION\n",
    "])\n",
    "\n"
   ]
  },
  {
   "cell_type": "markdown",
   "metadata": {},
   "source": [
    "### Preprocessor:"
   ]
  },
  {
   "cell_type": "code",
   "execution_count": null,
   "metadata": {},
   "outputs": [],
   "source": [
    "\n",
    "# Create preprocessor with transformers\n",
    "preprocessor = ColumnTransformer(\n",
    "    transformers=[\n",
    "        ('dt', datetime_transformer, ['start_date', 'end_date', 'year']), # [or just list of column names] # custom_date_column_selector()\n",
    "        ('num', num_transformer, custom_num_column_selector()), \n",
    "        # assume that no seeding can be suitable set by 0, without causing trouble\n",
    "        ('seed', seed_transformer, ['seed']), \n",
    "\n",
    "        # ('cat', OneHotEncoder(sparse_output=False), make_column_selector(dtype_include=object)),\n",
    "        \n",
    "    ],remainder='passthrough'\n",
    "    )"
   ]
  },
  {
   "cell_type": "code",
   "execution_count": 507,
   "metadata": {},
   "outputs": [
    {
     "data": {
      "text/html": [
       "<style>#sk-container-id-44 {color: black;}#sk-container-id-44 pre{padding: 0;}#sk-container-id-44 div.sk-toggleable {background-color: white;}#sk-container-id-44 label.sk-toggleable__label {cursor: pointer;display: block;width: 100%;margin-bottom: 0;padding: 0.3em;box-sizing: border-box;text-align: center;}#sk-container-id-44 label.sk-toggleable__label-arrow:before {content: \"▸\";float: left;margin-right: 0.25em;color: #696969;}#sk-container-id-44 label.sk-toggleable__label-arrow:hover:before {color: black;}#sk-container-id-44 div.sk-estimator:hover label.sk-toggleable__label-arrow:before {color: black;}#sk-container-id-44 div.sk-toggleable__content {max-height: 0;max-width: 0;overflow: hidden;text-align: left;background-color: #f0f8ff;}#sk-container-id-44 div.sk-toggleable__content pre {margin: 0.2em;color: black;border-radius: 0.25em;background-color: #f0f8ff;}#sk-container-id-44 input.sk-toggleable__control:checked~div.sk-toggleable__content {max-height: 200px;max-width: 100%;overflow: auto;}#sk-container-id-44 input.sk-toggleable__control:checked~label.sk-toggleable__label-arrow:before {content: \"▾\";}#sk-container-id-44 div.sk-estimator input.sk-toggleable__control:checked~label.sk-toggleable__label {background-color: #d4ebff;}#sk-container-id-44 div.sk-label input.sk-toggleable__control:checked~label.sk-toggleable__label {background-color: #d4ebff;}#sk-container-id-44 input.sk-hidden--visually {border: 0;clip: rect(1px 1px 1px 1px);clip: rect(1px, 1px, 1px, 1px);height: 1px;margin: -1px;overflow: hidden;padding: 0;position: absolute;width: 1px;}#sk-container-id-44 div.sk-estimator {font-family: monospace;background-color: #f0f8ff;border: 1px dotted black;border-radius: 0.25em;box-sizing: border-box;margin-bottom: 0.5em;}#sk-container-id-44 div.sk-estimator:hover {background-color: #d4ebff;}#sk-container-id-44 div.sk-parallel-item::after {content: \"\";width: 100%;border-bottom: 1px solid gray;flex-grow: 1;}#sk-container-id-44 div.sk-label:hover label.sk-toggleable__label {background-color: #d4ebff;}#sk-container-id-44 div.sk-serial::before {content: \"\";position: absolute;border-left: 1px solid gray;box-sizing: border-box;top: 0;bottom: 0;left: 50%;z-index: 0;}#sk-container-id-44 div.sk-serial {display: flex;flex-direction: column;align-items: center;background-color: white;padding-right: 0.2em;padding-left: 0.2em;position: relative;}#sk-container-id-44 div.sk-item {position: relative;z-index: 1;}#sk-container-id-44 div.sk-parallel {display: flex;align-items: stretch;justify-content: center;background-color: white;position: relative;}#sk-container-id-44 div.sk-item::before, #sk-container-id-44 div.sk-parallel-item::before {content: \"\";position: absolute;border-left: 1px solid gray;box-sizing: border-box;top: 0;bottom: 0;left: 50%;z-index: -1;}#sk-container-id-44 div.sk-parallel-item {display: flex;flex-direction: column;z-index: 1;position: relative;background-color: white;}#sk-container-id-44 div.sk-parallel-item:first-child::after {align-self: flex-end;width: 50%;}#sk-container-id-44 div.sk-parallel-item:last-child::after {align-self: flex-start;width: 50%;}#sk-container-id-44 div.sk-parallel-item:only-child::after {width: 0;}#sk-container-id-44 div.sk-dashed-wrapped {border: 1px dashed gray;margin: 0 0.4em 0.5em 0.4em;box-sizing: border-box;padding-bottom: 0.4em;background-color: white;}#sk-container-id-44 div.sk-label label {font-family: monospace;font-weight: bold;display: inline-block;line-height: 1.2em;}#sk-container-id-44 div.sk-label-container {text-align: center;}#sk-container-id-44 div.sk-container {/* jupyter's `normalize.less` sets `[hidden] { display: none; }` but bootstrap.min.css set `[hidden] { display: none !important; }` so we also need the `!important` here to be able to override the default hidden behavior on the sphinx rendered scikit-learn.org. See: https://github.com/scikit-learn/scikit-learn/issues/21755 */display: inline-block !important;position: relative;}#sk-container-id-44 div.sk-text-repr-fallback {display: none;}</style><div id=\"sk-container-id-44\" class=\"sk-top-container\"><div class=\"sk-text-repr-fallback\"><pre>ColumnTransformer(remainder=&#x27;passthrough&#x27;,\n",
       "                  transformers=[(&#x27;dt&#x27;,\n",
       "                                 Pipeline(steps=[(&#x27;date_converter&#x27;,\n",
       "                                                  FunctionTransformer(feature_names_out=&lt;function get_custom_feature_names at 0x798967952170&gt;,\n",
       "                                                                      func=&lt;function convert_dates at 0x798967950430&gt;))]),\n",
       "                                 [&#x27;start_date&#x27;, &#x27;end_date&#x27;, &#x27;year&#x27;]),\n",
       "                                (&#x27;num&#x27;,\n",
       "                                 Pipeline(steps=[(&#x27;imputer&#x27;,\n",
       "                                                  SimpleImputer(fill_value=0,\n",
       "                                                                strategy=&#x27;constant&#x27;)),\n",
       "                                                 (&#x27;standard_scaler&#x27;,\n",
       "                                                  StandardScaler())]),\n",
       "                                 &lt;function custom_num_column_selector.&lt;locals&gt;.selector_from_num_schema at 0x798967b970a0&gt;),\n",
       "                                (&#x27;seed&#x27;,\n",
       "                                 Pipeline(steps=[(&#x27;seed1&#x27;,\n",
       "                                                  SimpleImputer(fill_value=0,\n",
       "                                                                strategy=&#x27;constant&#x27;)),\n",
       "                                                 (&#x27;seed2&#x27;,\n",
       "                                                  SimpleImputer(fill_value=0,\n",
       "                                                                missing_values=&#x27;SE&#x27;,\n",
       "                                                                strategy=&#x27;constant&#x27;))]),\n",
       "                                 [&#x27;seed&#x27;])])</pre><b>In a Jupyter environment, please rerun this cell to show the HTML representation or trust the notebook. <br />On GitHub, the HTML representation is unable to render, please try loading this page with nbviewer.org.</b></div><div class=\"sk-container\" hidden><div class=\"sk-item sk-dashed-wrapped\"><div class=\"sk-label-container\"><div class=\"sk-label sk-toggleable\"><input class=\"sk-toggleable__control sk-hidden--visually\" id=\"sk-estimator-id-341\" type=\"checkbox\" ><label for=\"sk-estimator-id-341\" class=\"sk-toggleable__label sk-toggleable__label-arrow\">ColumnTransformer</label><div class=\"sk-toggleable__content\"><pre>ColumnTransformer(remainder=&#x27;passthrough&#x27;,\n",
       "                  transformers=[(&#x27;dt&#x27;,\n",
       "                                 Pipeline(steps=[(&#x27;date_converter&#x27;,\n",
       "                                                  FunctionTransformer(feature_names_out=&lt;function get_custom_feature_names at 0x798967952170&gt;,\n",
       "                                                                      func=&lt;function convert_dates at 0x798967950430&gt;))]),\n",
       "                                 [&#x27;start_date&#x27;, &#x27;end_date&#x27;, &#x27;year&#x27;]),\n",
       "                                (&#x27;num&#x27;,\n",
       "                                 Pipeline(steps=[(&#x27;imputer&#x27;,\n",
       "                                                  SimpleImputer(fill_value=0,\n",
       "                                                                strategy=&#x27;constant&#x27;)),\n",
       "                                                 (&#x27;standard_scaler&#x27;,\n",
       "                                                  StandardScaler())]),\n",
       "                                 &lt;function custom_num_column_selector.&lt;locals&gt;.selector_from_num_schema at 0x798967b970a0&gt;),\n",
       "                                (&#x27;seed&#x27;,\n",
       "                                 Pipeline(steps=[(&#x27;seed1&#x27;,\n",
       "                                                  SimpleImputer(fill_value=0,\n",
       "                                                                strategy=&#x27;constant&#x27;)),\n",
       "                                                 (&#x27;seed2&#x27;,\n",
       "                                                  SimpleImputer(fill_value=0,\n",
       "                                                                missing_values=&#x27;SE&#x27;,\n",
       "                                                                strategy=&#x27;constant&#x27;))]),\n",
       "                                 [&#x27;seed&#x27;])])</pre></div></div></div><div class=\"sk-parallel\"><div class=\"sk-parallel-item\"><div class=\"sk-item\"><div class=\"sk-label-container\"><div class=\"sk-label sk-toggleable\"><input class=\"sk-toggleable__control sk-hidden--visually\" id=\"sk-estimator-id-342\" type=\"checkbox\" ><label for=\"sk-estimator-id-342\" class=\"sk-toggleable__label sk-toggleable__label-arrow\">dt</label><div class=\"sk-toggleable__content\"><pre>[&#x27;start_date&#x27;, &#x27;end_date&#x27;, &#x27;year&#x27;]</pre></div></div></div><div class=\"sk-serial\"><div class=\"sk-item\"><div class=\"sk-serial\"><div class=\"sk-item\"><div class=\"sk-estimator sk-toggleable\"><input class=\"sk-toggleable__control sk-hidden--visually\" id=\"sk-estimator-id-343\" type=\"checkbox\" ><label for=\"sk-estimator-id-343\" class=\"sk-toggleable__label sk-toggleable__label-arrow\">FunctionTransformer</label><div class=\"sk-toggleable__content\"><pre>FunctionTransformer(feature_names_out=&lt;function get_custom_feature_names at 0x798967952170&gt;,\n",
       "                    func=&lt;function convert_dates at 0x798967950430&gt;)</pre></div></div></div></div></div></div></div></div><div class=\"sk-parallel-item\"><div class=\"sk-item\"><div class=\"sk-label-container\"><div class=\"sk-label sk-toggleable\"><input class=\"sk-toggleable__control sk-hidden--visually\" id=\"sk-estimator-id-344\" type=\"checkbox\" ><label for=\"sk-estimator-id-344\" class=\"sk-toggleable__label sk-toggleable__label-arrow\">num</label><div class=\"sk-toggleable__content\"><pre>&lt;function custom_num_column_selector.&lt;locals&gt;.selector_from_num_schema at 0x798967b970a0&gt;</pre></div></div></div><div class=\"sk-serial\"><div class=\"sk-item\"><div class=\"sk-serial\"><div class=\"sk-item\"><div class=\"sk-estimator sk-toggleable\"><input class=\"sk-toggleable__control sk-hidden--visually\" id=\"sk-estimator-id-345\" type=\"checkbox\" ><label for=\"sk-estimator-id-345\" class=\"sk-toggleable__label sk-toggleable__label-arrow\">SimpleImputer</label><div class=\"sk-toggleable__content\"><pre>SimpleImputer(fill_value=0, strategy=&#x27;constant&#x27;)</pre></div></div></div><div class=\"sk-item\"><div class=\"sk-estimator sk-toggleable\"><input class=\"sk-toggleable__control sk-hidden--visually\" id=\"sk-estimator-id-346\" type=\"checkbox\" ><label for=\"sk-estimator-id-346\" class=\"sk-toggleable__label sk-toggleable__label-arrow\">StandardScaler</label><div class=\"sk-toggleable__content\"><pre>StandardScaler()</pre></div></div></div></div></div></div></div></div><div class=\"sk-parallel-item\"><div class=\"sk-item\"><div class=\"sk-label-container\"><div class=\"sk-label sk-toggleable\"><input class=\"sk-toggleable__control sk-hidden--visually\" id=\"sk-estimator-id-347\" type=\"checkbox\" ><label for=\"sk-estimator-id-347\" class=\"sk-toggleable__label sk-toggleable__label-arrow\">seed</label><div class=\"sk-toggleable__content\"><pre>[&#x27;seed&#x27;]</pre></div></div></div><div class=\"sk-serial\"><div class=\"sk-item\"><div class=\"sk-serial\"><div class=\"sk-item\"><div class=\"sk-estimator sk-toggleable\"><input class=\"sk-toggleable__control sk-hidden--visually\" id=\"sk-estimator-id-348\" type=\"checkbox\" ><label for=\"sk-estimator-id-348\" class=\"sk-toggleable__label sk-toggleable__label-arrow\">SimpleImputer</label><div class=\"sk-toggleable__content\"><pre>SimpleImputer(fill_value=0, strategy=&#x27;constant&#x27;)</pre></div></div></div><div class=\"sk-item\"><div class=\"sk-estimator sk-toggleable\"><input class=\"sk-toggleable__control sk-hidden--visually\" id=\"sk-estimator-id-349\" type=\"checkbox\" ><label for=\"sk-estimator-id-349\" class=\"sk-toggleable__label sk-toggleable__label-arrow\">SimpleImputer</label><div class=\"sk-toggleable__content\"><pre>SimpleImputer(fill_value=0, missing_values=&#x27;SE&#x27;, strategy=&#x27;constant&#x27;)</pre></div></div></div></div></div></div></div></div><div class=\"sk-parallel-item\"><div class=\"sk-item\"><div class=\"sk-label-container\"><div class=\"sk-label sk-toggleable\"><input class=\"sk-toggleable__control sk-hidden--visually\" id=\"sk-estimator-id-350\" type=\"checkbox\" ><label for=\"sk-estimator-id-350\" class=\"sk-toggleable__label sk-toggleable__label-arrow\">remainder</label><div class=\"sk-toggleable__content\"><pre></pre></div></div></div><div class=\"sk-serial\"><div class=\"sk-item\"><div class=\"sk-estimator sk-toggleable\"><input class=\"sk-toggleable__control sk-hidden--visually\" id=\"sk-estimator-id-351\" type=\"checkbox\" ><label for=\"sk-estimator-id-351\" class=\"sk-toggleable__label sk-toggleable__label-arrow\">passthrough</label><div class=\"sk-toggleable__content\"><pre>passthrough</pre></div></div></div></div></div></div></div></div></div></div>"
      ],
      "text/plain": [
       "ColumnTransformer(remainder='passthrough',\n",
       "                  transformers=[('dt',\n",
       "                                 Pipeline(steps=[('date_converter',\n",
       "                                                  FunctionTransformer(feature_names_out=<function get_custom_feature_names at 0x798967952170>,\n",
       "                                                                      func=<function convert_dates at 0x798967950430>))]),\n",
       "                                 ['start_date', 'end_date', 'year']),\n",
       "                                ('num',\n",
       "                                 Pipeline(steps=[('imputer',\n",
       "                                                  SimpleImputer(fill_value=0,\n",
       "                                                                strategy='constant')),\n",
       "                                                 ('standard_scaler',\n",
       "                                                  StandardScaler())]),\n",
       "                                 <function custom_num_column_selector.<locals>.selector_from_num_schema at 0x798967b970a0>),\n",
       "                                ('seed',\n",
       "                                 Pipeline(steps=[('seed1',\n",
       "                                                  SimpleImputer(fill_value=0,\n",
       "                                                                strategy='constant')),\n",
       "                                                 ('seed2',\n",
       "                                                  SimpleImputer(fill_value=0,\n",
       "                                                                missing_values='SE',\n",
       "                                                                strategy='constant'))]),\n",
       "                                 ['seed'])])"
      ]
     },
     "execution_count": 507,
     "metadata": {},
     "output_type": "execute_result"
    }
   ],
   "source": [
    "preprocessor # check preprocessor"
   ]
  },
  {
   "cell_type": "markdown",
   "metadata": {},
   "source": [
    "### Pipeline"
   ]
  },
  {
   "cell_type": "code",
   "execution_count": 508,
   "metadata": {},
   "outputs": [],
   "source": [
    "# Build the pipeline with the different steps\n",
    "pipeline = Pipeline([\n",
    "    ('preprocessor', preprocessor),\n",
    "])"
   ]
  },
  {
   "cell_type": "markdown",
   "metadata": {},
   "source": [
    "### Pipeline readying:"
   ]
  },
  {
   "cell_type": "code",
   "execution_count": 509,
   "metadata": {},
   "outputs": [
    {
     "data": {
      "text/html": [
       "<div>\n",
       "<style scoped>\n",
       "    .dataframe tbody tr th:only-of-type {\n",
       "        vertical-align: middle;\n",
       "    }\n",
       "\n",
       "    .dataframe tbody tr th {\n",
       "        vertical-align: top;\n",
       "    }\n",
       "\n",
       "    .dataframe thead th {\n",
       "        text-align: right;\n",
       "    }\n",
       "</style>\n",
       "<table border=\"1\" class=\"dataframe\">\n",
       "  <thead>\n",
       "    <tr style=\"text-align: right;\">\n",
       "      <th></th>\n",
       "      <th>year</th>\n",
       "      <th>seed</th>\n",
       "      <th>start_date</th>\n",
       "      <th>end_date</th>\n",
       "    </tr>\n",
       "  </thead>\n",
       "  <tbody>\n",
       "    <tr>\n",
       "      <th>20638</th>\n",
       "      <td>1993</td>\n",
       "      <td>NaN</td>\n",
       "      <td>1993-11-06</td>\n",
       "      <td>1993-12-05</td>\n",
       "    </tr>\n",
       "    <tr>\n",
       "      <th>60684</th>\n",
       "      <td>2001</td>\n",
       "      <td>1</td>\n",
       "      <td>2001-08-27</td>\n",
       "      <td>2001-09-23</td>\n",
       "    </tr>\n",
       "  </tbody>\n",
       "</table>\n",
       "</div>"
      ],
      "text/plain": [
       "       year seed  start_date    end_date\n",
       "20638  1993  NaN  1993-11-06  1993-12-05\n",
       "60684  2001    1  2001-08-27  2001-09-23"
      ]
     },
     "execution_count": 509,
     "metadata": {},
     "output_type": "execute_result"
    }
   ],
   "source": [
    "atp_sample[['year', 'seed', 'start_date', 'end_date']].head(2)"
   ]
  },
  {
   "cell_type": "code",
   "execution_count": 510,
   "metadata": {},
   "outputs": [
    {
     "data": {
      "text/html": [
       "<div>\n",
       "<style scoped>\n",
       "    .dataframe tbody tr th:only-of-type {\n",
       "        vertical-align: middle;\n",
       "    }\n",
       "\n",
       "    .dataframe tbody tr th {\n",
       "        vertical-align: top;\n",
       "    }\n",
       "\n",
       "    .dataframe thead th {\n",
       "        text-align: right;\n",
       "    }\n",
       "</style>\n",
       "<table border=\"1\" class=\"dataframe\">\n",
       "  <thead>\n",
       "    <tr style=\"text-align: right;\">\n",
       "      <th></th>\n",
       "      <th>start_date</th>\n",
       "      <th>end_date</th>\n",
       "      <th>location</th>\n",
       "      <th>court_surface</th>\n",
       "      <th>prize_money</th>\n",
       "      <th>currency</th>\n",
       "      <th>year</th>\n",
       "      <th>player_id</th>\n",
       "      <th>player_name</th>\n",
       "      <th>opponent_id</th>\n",
       "      <th>...</th>\n",
       "      <th>total_points</th>\n",
       "      <th>duration</th>\n",
       "      <th>player_victory</th>\n",
       "      <th>retirement</th>\n",
       "      <th>seed</th>\n",
       "      <th>won_first_set</th>\n",
       "      <th>doubles</th>\n",
       "      <th>masters</th>\n",
       "      <th>round_num</th>\n",
       "      <th>nation</th>\n",
       "    </tr>\n",
       "  </thead>\n",
       "  <tbody>\n",
       "    <tr>\n",
       "      <th>19416</th>\n",
       "      <td>2014-06-30</td>\n",
       "      <td>2014-07-06</td>\n",
       "      <td>Germany</td>\n",
       "      <td>Clay</td>\n",
       "      <td>106500.0</td>\n",
       "      <td>€</td>\n",
       "      <td>2014</td>\n",
       "      <td>nikola-cacic</td>\n",
       "      <td>N. Cacic</td>\n",
       "      <td>pablo-carreno-busta</td>\n",
       "      <td>...</td>\n",
       "      <td>191.0</td>\n",
       "      <td>02:02:00</td>\n",
       "      <td>t</td>\n",
       "      <td>f</td>\n",
       "      <td>SE</td>\n",
       "      <td>t</td>\n",
       "      <td>f</td>\n",
       "      <td>100</td>\n",
       "      <td>3</td>\n",
       "      <td>Germany</td>\n",
       "    </tr>\n",
       "  </tbody>\n",
       "</table>\n",
       "<p>1 rows × 54 columns</p>\n",
       "</div>"
      ],
      "text/plain": [
       "       start_date    end_date location court_surface prize_money currency  \\\n",
       "19416  2014-06-30  2014-07-06  Germany          Clay    106500.0        €   \n",
       "\n",
       "       year     player_id player_name          opponent_id  ... total_points  \\\n",
       "19416  2014  nikola-cacic    N. Cacic  pablo-carreno-busta  ...        191.0   \n",
       "\n",
       "       duration player_victory retirement seed won_first_set doubles masters  \\\n",
       "19416  02:02:00              t          f   SE             t       f     100   \n",
       "\n",
       "      round_num   nation  \n",
       "19416         3  Germany  \n",
       "\n",
       "[1 rows x 54 columns]"
      ]
     },
     "execution_count": 510,
     "metadata": {},
     "output_type": "execute_result"
    }
   ],
   "source": [
    "str_check = atp_sample.astype(str)\n",
    "str_check[str_check['seed'].str.contains(\"SE|se\")==True]"
   ]
  },
  {
   "cell_type": "markdown",
   "metadata": {},
   "source": [
    "### Pipeline usage"
   ]
  },
  {
   "cell_type": "code",
   "execution_count": 511,
   "metadata": {},
   "outputs": [],
   "source": [
    "atp_transformed = pipeline.fit_transform(atp_sample[['year', 'seed', *new_numerical_columns, 'start_date', 'end_date']]) "
   ]
  },
  {
   "cell_type": "code",
   "execution_count": null,
   "metadata": {},
   "outputs": [],
   "source": [
    "# convert back into dataframe, with (updated) column headings\n",
    "atp_again = pd.DataFrame(\n",
    "    atp_transformed,\n",
    "    columns=preprocessor.get_feature_names_out()\n",
    ").convert_dtypes().head()"
   ]
  },
  {
   "cell_type": "markdown",
   "metadata": {},
   "source": [
    "### Pipeline results"
   ]
  },
  {
   "cell_type": "code",
   "execution_count": 480,
   "metadata": {},
   "outputs": [
    {
     "data": {
      "text/html": [
       "<div>\n",
       "<style scoped>\n",
       "    .dataframe tbody tr th:only-of-type {\n",
       "        vertical-align: middle;\n",
       "    }\n",
       "\n",
       "    .dataframe tbody tr th {\n",
       "        vertical-align: top;\n",
       "    }\n",
       "\n",
       "    .dataframe thead th {\n",
       "        text-align: right;\n",
       "    }\n",
       "</style>\n",
       "<table border=\"1\" class=\"dataframe\">\n",
       "  <thead>\n",
       "    <tr style=\"text-align: right;\">\n",
       "      <th></th>\n",
       "      <th>dt__start_date</th>\n",
       "      <th>dt__end_date</th>\n",
       "      <th>dt__year</th>\n",
       "      <th>num__total_points</th>\n",
       "      <th>seed__seed</th>\n",
       "      <th>remainder__prize_money</th>\n",
       "      <th>remainder__num_sets</th>\n",
       "      <th>remainder__sets_won</th>\n",
       "      <th>remainder__games_won</th>\n",
       "      <th>remainder__games_against</th>\n",
       "      <th>...</th>\n",
       "      <th>remainder__break_points_made</th>\n",
       "      <th>remainder__break_points_attempted</th>\n",
       "      <th>remainder__return_games_played</th>\n",
       "      <th>remainder__service_points_won</th>\n",
       "      <th>remainder__service_points_attempted</th>\n",
       "      <th>remainder__return_points_won</th>\n",
       "      <th>remainder__return_points_attempted</th>\n",
       "      <th>remainder__total_points_won</th>\n",
       "      <th>remainder__masters</th>\n",
       "      <th>remainder__round_num</th>\n",
       "    </tr>\n",
       "  </thead>\n",
       "  <tbody>\n",
       "    <tr>\n",
       "      <th>0</th>\n",
       "      <td>752544000000000000</td>\n",
       "      <td>755049600000000000</td>\n",
       "      <td>1993</td>\n",
       "      <td>-0.28</td>\n",
       "      <td>0</td>\n",
       "      <td>&lt;NA&gt;</td>\n",
       "      <td>3</td>\n",
       "      <td>2</td>\n",
       "      <td>17</td>\n",
       "      <td>13</td>\n",
       "      <td>...</td>\n",
       "      <td>&lt;NA&gt;</td>\n",
       "      <td>&lt;NA&gt;</td>\n",
       "      <td>&lt;NA&gt;</td>\n",
       "      <td>&lt;NA&gt;</td>\n",
       "      <td>&lt;NA&gt;</td>\n",
       "      <td>&lt;NA&gt;</td>\n",
       "      <td>&lt;NA&gt;</td>\n",
       "      <td>&lt;NA&gt;</td>\n",
       "      <td>25</td>\n",
       "      <td>0</td>\n",
       "    </tr>\n",
       "    <tr>\n",
       "      <th>1</th>\n",
       "      <td>998870400000000000</td>\n",
       "      <td>1001203200000000000</td>\n",
       "      <td>2001</td>\n",
       "      <td>-0.28</td>\n",
       "      <td>1</td>\n",
       "      <td>&lt;NA&gt;</td>\n",
       "      <td>3</td>\n",
       "      <td>2</td>\n",
       "      <td>17</td>\n",
       "      <td>14</td>\n",
       "      <td>...</td>\n",
       "      <td>&lt;NA&gt;</td>\n",
       "      <td>&lt;NA&gt;</td>\n",
       "      <td>&lt;NA&gt;</td>\n",
       "      <td>&lt;NA&gt;</td>\n",
       "      <td>&lt;NA&gt;</td>\n",
       "      <td>&lt;NA&gt;</td>\n",
       "      <td>&lt;NA&gt;</td>\n",
       "      <td>&lt;NA&gt;</td>\n",
       "      <td>25</td>\n",
       "      <td>4</td>\n",
       "    </tr>\n",
       "    <tr>\n",
       "      <th>2</th>\n",
       "      <td>1000080000000000000</td>\n",
       "      <td>1000598400000000000</td>\n",
       "      <td>2001</td>\n",
       "      <td>-0.28</td>\n",
       "      <td>0</td>\n",
       "      <td>&lt;NA&gt;</td>\n",
       "      <td>2</td>\n",
       "      <td>0</td>\n",
       "      <td>7</td>\n",
       "      <td>12</td>\n",
       "      <td>...</td>\n",
       "      <td>&lt;NA&gt;</td>\n",
       "      <td>&lt;NA&gt;</td>\n",
       "      <td>&lt;NA&gt;</td>\n",
       "      <td>&lt;NA&gt;</td>\n",
       "      <td>&lt;NA&gt;</td>\n",
       "      <td>&lt;NA&gt;</td>\n",
       "      <td>&lt;NA&gt;</td>\n",
       "      <td>&lt;NA&gt;</td>\n",
       "      <td>25</td>\n",
       "      <td>3</td>\n",
       "    </tr>\n",
       "    <tr>\n",
       "      <th>3</th>\n",
       "      <td>750124800000000000</td>\n",
       "      <td>752544000000000000</td>\n",
       "      <td>1993</td>\n",
       "      <td>-0.28</td>\n",
       "      <td>8</td>\n",
       "      <td>&lt;NA&gt;</td>\n",
       "      <td>2</td>\n",
       "      <td>0</td>\n",
       "      <td>2</td>\n",
       "      <td>12</td>\n",
       "      <td>...</td>\n",
       "      <td>&lt;NA&gt;</td>\n",
       "      <td>&lt;NA&gt;</td>\n",
       "      <td>&lt;NA&gt;</td>\n",
       "      <td>&lt;NA&gt;</td>\n",
       "      <td>&lt;NA&gt;</td>\n",
       "      <td>&lt;NA&gt;</td>\n",
       "      <td>&lt;NA&gt;</td>\n",
       "      <td>&lt;NA&gt;</td>\n",
       "      <td>25</td>\n",
       "      <td>5</td>\n",
       "    </tr>\n",
       "    <tr>\n",
       "      <th>4</th>\n",
       "      <td>999475200000000000</td>\n",
       "      <td>999820800000000000</td>\n",
       "      <td>2001</td>\n",
       "      <td>-0.28</td>\n",
       "      <td>0</td>\n",
       "      <td>&lt;NA&gt;</td>\n",
       "      <td>3</td>\n",
       "      <td>1</td>\n",
       "      <td>14</td>\n",
       "      <td>13</td>\n",
       "      <td>...</td>\n",
       "      <td>&lt;NA&gt;</td>\n",
       "      <td>&lt;NA&gt;</td>\n",
       "      <td>&lt;NA&gt;</td>\n",
       "      <td>&lt;NA&gt;</td>\n",
       "      <td>&lt;NA&gt;</td>\n",
       "      <td>&lt;NA&gt;</td>\n",
       "      <td>&lt;NA&gt;</td>\n",
       "      <td>&lt;NA&gt;</td>\n",
       "      <td>25</td>\n",
       "      <td>0</td>\n",
       "    </tr>\n",
       "  </tbody>\n",
       "</table>\n",
       "<p>5 rows × 39 columns</p>\n",
       "</div>"
      ],
      "text/plain": [
       "        dt__start_date         dt__end_date  dt__year  num__total_points  \\\n",
       "0   752544000000000000   755049600000000000      1993              -0.28   \n",
       "1   998870400000000000  1001203200000000000      2001              -0.28   \n",
       "2  1000080000000000000  1000598400000000000      2001              -0.28   \n",
       "3   750124800000000000   752544000000000000      1993              -0.28   \n",
       "4   999475200000000000   999820800000000000      2001              -0.28   \n",
       "\n",
       "  seed__seed  remainder__prize_money  remainder__num_sets  \\\n",
       "0          0                    <NA>                    3   \n",
       "1          1                    <NA>                    3   \n",
       "2          0                    <NA>                    2   \n",
       "3          8                    <NA>                    2   \n",
       "4          0                    <NA>                    3   \n",
       "\n",
       "   remainder__sets_won  remainder__games_won  remainder__games_against  ...  \\\n",
       "0                    2                    17                        13  ...   \n",
       "1                    2                    17                        14  ...   \n",
       "2                    0                     7                        12  ...   \n",
       "3                    0                     2                        12  ...   \n",
       "4                    1                    14                        13  ...   \n",
       "\n",
       "   remainder__break_points_made  remainder__break_points_attempted  \\\n",
       "0                          <NA>                               <NA>   \n",
       "1                          <NA>                               <NA>   \n",
       "2                          <NA>                               <NA>   \n",
       "3                          <NA>                               <NA>   \n",
       "4                          <NA>                               <NA>   \n",
       "\n",
       "   remainder__return_games_played  remainder__service_points_won  \\\n",
       "0                            <NA>                           <NA>   \n",
       "1                            <NA>                           <NA>   \n",
       "2                            <NA>                           <NA>   \n",
       "3                            <NA>                           <NA>   \n",
       "4                            <NA>                           <NA>   \n",
       "\n",
       "   remainder__service_points_attempted  remainder__return_points_won  \\\n",
       "0                                 <NA>                          <NA>   \n",
       "1                                 <NA>                          <NA>   \n",
       "2                                 <NA>                          <NA>   \n",
       "3                                 <NA>                          <NA>   \n",
       "4                                 <NA>                          <NA>   \n",
       "\n",
       "   remainder__return_points_attempted  remainder__total_points_won  \\\n",
       "0                                <NA>                         <NA>   \n",
       "1                                <NA>                         <NA>   \n",
       "2                                <NA>                         <NA>   \n",
       "3                                <NA>                         <NA>   \n",
       "4                                <NA>                         <NA>   \n",
       "\n",
       "   remainder__masters  remainder__round_num  \n",
       "0                  25                     0  \n",
       "1                  25                     4  \n",
       "2                  25                     3  \n",
       "3                  25                     5  \n",
       "4                  25                     0  \n",
       "\n",
       "[5 rows x 39 columns]"
      ]
     },
     "execution_count": 480,
     "metadata": {},
     "output_type": "execute_result"
    }
   ],
   "source": [
    "atp_again"
   ]
  },
  {
   "cell_type": "code",
   "execution_count": 461,
   "metadata": {},
   "outputs": [
    {
     "data": {
      "text/html": [
       "<div>\n",
       "<style scoped>\n",
       "    .dataframe tbody tr th:only-of-type {\n",
       "        vertical-align: middle;\n",
       "    }\n",
       "\n",
       "    .dataframe tbody tr th {\n",
       "        vertical-align: top;\n",
       "    }\n",
       "\n",
       "    .dataframe thead th {\n",
       "        text-align: right;\n",
       "    }\n",
       "</style>\n",
       "<table border=\"1\" class=\"dataframe\">\n",
       "  <thead>\n",
       "    <tr style=\"text-align: right;\">\n",
       "      <th></th>\n",
       "      <th>dt__start_date</th>\n",
       "      <th>dt__end_date</th>\n",
       "      <th>num__total_points</th>\n",
       "      <th>seed1__seed</th>\n",
       "      <th>remainder__year</th>\n",
       "    </tr>\n",
       "  </thead>\n",
       "  <tbody>\n",
       "  </tbody>\n",
       "</table>\n",
       "</div>"
      ],
      "text/plain": [
       "Empty DataFrame\n",
       "Columns: [dt__start_date, dt__end_date, num__total_points, seed1__seed, remainder__year]\n",
       "Index: []"
      ]
     },
     "execution_count": 461,
     "metadata": {},
     "output_type": "execute_result"
    }
   ],
   "source": [
    "str_check = atp_again.astype(str)\n",
    "str_check[str_check['seed1__seed'].str.contains(\"SE|se\")==True]"
   ]
  },
  {
   "cell_type": "code",
   "execution_count": 368,
   "metadata": {},
   "outputs": [],
   "source": [
    "# new schema:\n",
    "post_process_1_date_schema = {\"dt__start_date\": \"datetime64[ns]\", \"dt__end_date\": \"datetime64[ns]\"}\n",
    "post_process_1_numerical_columns = list(atp_sample.select_dtypes(include=[np.number]).columns.values)"
   ]
  },
  {
   "cell_type": "code",
   "execution_count": 513,
   "metadata": {},
   "outputs": [],
   "source": [
    "atp_again = pd.DataFrame(atp_again).astype(post_process_1_date_schema)"
   ]
  },
  {
   "cell_type": "code",
   "execution_count": 516,
   "metadata": {},
   "outputs": [
    {
     "data": {
      "text/plain": [
       "dt__start_date                datetime64[ns]\n",
       "dt__end_date                  datetime64[ns]\n",
       "dt__year                               Int64\n",
       "num__prize_money                     Float64\n",
       "num__num_sets                         object\n",
       "num__sets_won                          Int64\n",
       "num__games_won                         Int64\n",
       "num__games_against                     Int64\n",
       "num__tiebreaks_won                     Int64\n",
       "num__tiebreaks_total                   Int64\n",
       "num__serve_rating                      Int64\n",
       "num__aces                              Int64\n",
       "num__double_faults                     Int64\n",
       "num__first_serve_made                  Int64\n",
       "num__first_serve_attempted             Int64\n",
       "dtype: object"
      ]
     },
     "metadata": {},
     "output_type": "display_data"
    }
   ],
   "source": [
    "display(atp_again.dtypes.head(15))"
   ]
  },
  {
   "cell_type": "code",
   "execution_count": 17,
   "metadata": {},
   "outputs": [
    {
     "ename": "NameError",
     "evalue": "name 'atp_again' is not defined",
     "output_type": "error",
     "traceback": [
      "\u001b[0;31m---------------------------------------------------------------------------\u001b[0m",
      "\u001b[0;31mNameError\u001b[0m                                 Traceback (most recent call last)",
      "Cell \u001b[0;32mIn [17], line 1\u001b[0m\n\u001b[0;32m----> 1\u001b[0m \u001b[43matp_again\u001b[49m\n",
      "\u001b[0;31mNameError\u001b[0m: name 'atp_again' is not defined"
     ]
    }
   ],
   "source": [
    "atp_again"
   ]
  },
  {
   "cell_type": "code",
   "execution_count": null,
   "metadata": {},
   "outputs": [],
   "source": []
  }
 ],
 "metadata": {
  "kernelspec": {
   "display_name": "atp",
   "language": "python",
   "name": "python3"
  },
  "language_info": {
   "codemirror_mode": {
    "name": "ipython",
    "version": 3
   },
   "file_extension": ".py",
   "mimetype": "text/x-python",
   "name": "python",
   "nbconvert_exporter": "python",
   "pygments_lexer": "ipython3",
   "version": "3.10.6"
  }
 },
 "nbformat": 4,
 "nbformat_minor": 4
}
