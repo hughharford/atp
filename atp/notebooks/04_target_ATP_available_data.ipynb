{
 "cells": [
  {
   "cell_type": "markdown",
   "metadata": {},
   "source": [
    "## Check where this runs\n",
    "***"
   ]
  },
  {
   "cell_type": "code",
   "execution_count": 1,
   "metadata": {},
   "outputs": [],
   "source": [
    "import sys\n",
    "sys.path.append(\"..\") # this is only to enable imports in cell below...(!)\n",
    "from util.minor_funcs import Minors\n",
    "m_funcs = Minors()\n",
    "environment_running = m_funcs.check_environs()"
   ]
  },
  {
   "cell_type": "markdown",
   "metadata": {},
   "source": [
    "# IMPORTS\n",
    "***"
   ]
  },
  {
   "cell_type": "code",
   "execution_count": 2,
   "metadata": {},
   "outputs": [],
   "source": [
    "%load_ext autoreload\n",
    "%autoreload 2\n",
    "%reload_ext autoreload"
   ]
  },
  {
   "cell_type": "code",
   "execution_count": 3,
   "metadata": {},
   "outputs": [],
   "source": [
    "import os\n",
    "import time\n",
    "            # data sourcing:\n",
    "import csv\n",
    "            # databases:\n",
    "import sqlite3\n",
    "            # useful other\n",
    "from collections import defaultdict\n",
    "            # data toolkit:\n",
    "import numpy as np\n",
    "import pandas as pd\n",
    "import dask.dataframe as dd\n",
    "            # plotting\n",
    "import matplotlib.pyplot as plt\n",
    "%matplotlib inline  \n",
    "\n",
    "if not environment_running == 'laptop':\n",
    "    %pip install seaborn\n",
    "    # no seaborn by default in AWS SageMaker.\n",
    "    \n",
    "import seaborn as sns"
   ]
  },
  {
   "cell_type": "code",
   "execution_count": 4,
   "metadata": {},
   "outputs": [],
   "source": [
    "from sklearn.pipeline import Pipeline\n",
    "from sklearn.impute import SimpleImputer\n",
    "from sklearn.compose import ColumnTransformer\n",
    "from sklearn.compose import make_column_selector\n",
    "from sklearn.preprocessing import OneHotEncoder, StandardScaler\n",
    "from sklearn.preprocessing import FunctionTransformer\n",
    " # Visualizing Pipelines in HTML\n",
    "from sklearn import set_config; set_config(display='diagram')"
   ]
  },
  {
   "cell_type": "markdown",
   "metadata": {},
   "source": [
    "## Establish paths"
   ]
  },
  {
   "cell_type": "code",
   "execution_count": 5,
   "metadata": {},
   "outputs": [],
   "source": [
    "from path_defs.path_definitions import ATP_paths\n",
    "paths = ATP_paths()\n",
    "atp_data_path = paths.get_atp_data_path()\n",
    "read_data_path = paths.get_read_data_path()\n",
    "cleaned_once_data_path = paths.get_cleaned_once_data_path()\n",
    "matches_data_path_full = paths.get_matches_data_path_full()\n",
    "staged_1_data_path = paths.get_staged_1_data_path()"
   ]
  },
  {
   "cell_type": "markdown",
   "metadata": {},
   "source": [
    "# Organise for broad categories of column"
   ]
  },
  {
   "cell_type": "code",
   "execution_count": 46,
   "metadata": {},
   "outputs": [],
   "source": [
    "# keep a simple dict of columns, based on type\n",
    "check_completeness = {'start_date': 0, 'end_date': 0, 'player_name': 0, \n",
    "                      'duration': 0\n",
    "                      }\n",
    "check_key_distinguishing_columns = {'doubles': 0, 'masters': 0, 'nation': 0\n",
    "                                    , 'seed': 0, 'prize_money': 0\n",
    "                                    }\n",
    "check_numerical_columns = {'prize_money': 0,'sets_won': 0,'games_won': 0,  \n",
    "                           'games_against': 0, 'tiebreaks_won': 0,  'tiebreaks_total': 0,\n",
    "                      'serve_rating': 0, 'aces': 0, \n",
    "                      'double_faults': 0, 'first_serve_made': 0, \n",
    "                      'first_serve_attempted': 0, 'first_serve_points_made': 0,  \n",
    "                      'first_serve_points_attempted': 0, 'second_serve_points_made': 0, \n",
    "                      'second_serve_points_attempted': 0, 'break_points_saved': 0, \n",
    "                      'break_points_against': 0, 'service_games_won': 0, \n",
    "                      'return_rating': 0, 'first_serve_return_points_made': 0, \n",
    "                      'first_serve_return_points_attempted': 0, 'second_serve_return_points_made': 0, \n",
    "                      'second_serve_return_points_attempted': 0, 'break_points_made': 0, \n",
    "                      'break_points_attempted': 0, 'return_games_played': 0, \n",
    "                      'service_points_won': 0, 'service_points_attempted': 0, \n",
    "                      'return_points_won': 0, 'return_points_attempted': 0, \n",
    "                      'total_points_won': 0, 'total_points': 0, \n",
    "                      'duration': 0, \n",
    "                      # distinguishing column:\n",
    "                      'round_num': 0\n",
    "                      }\n",
    "check_mixed_columns = {'seed': 0, 'currency': 0, 'player_name': 0, 'opponent_name': 0, 'duration': 0\n",
    "                       }\n",
    "check_boolean_columns = {'player_victory': 0, 'retirement': 0, 'won_first_set': 0,\n",
    "                         'doubles': 0, }"
   ]
  },
  {
   "cell_type": "code",
   "execution_count": 47,
   "metadata": {},
   "outputs": [],
   "source": [
    "# queries \n",
    "single_date_query = {\"start_date > 2010\": 0}\n",
    "single_year_query = {\"year > 2010\": 0}\n"
   ]
  },
  {
   "cell_type": "code",
   "execution_count": 30,
   "metadata": {},
   "outputs": [],
   "source": [
    "# check_numerical_columns - got to deal with these too\n",
    "subset_1st_numerical = {k: check_numerical_columns[k] for k in check_numerical_columns.keys() & {'prize_money','sets_won','games_won',  \n",
    "                           'games_against','tiebreaks_won','tiebreaks_total','round_num'}}\n",
    "subset_2nd_numerical = {k: check_numerical_columns[k] for k in check_numerical_columns.keys() & {'serve_rating', 'aces', 'double_faults', 'first_serve_made', 'first_serve_attempted', \n",
    "                                                                                                 'first_serve_points_made', 'first_serve_points_attempted', 'second_serve_points_made', \n",
    "                                                                                                 'second_serve_points_attempted', 'break_points_saved', 'break_points_against', \n",
    "                                                                                                 'service_games_won', 'return_rating', 'first_serve_return_points_made', \n",
    "                                                                                                 'second_serve_return_points_attempted', 'first_serve_return_points_attempted', \n",
    "                                                                                                 'second_serve_return_points_made', 'break_points_made', 'break_points_attempted', \n",
    "                                                                                                 'return_games_played', 'service_points_won', 'service_points_attempted', 'return_points_won', \n",
    "                                                                                                 'return_points_attempted', 'total_points_won', 'total_points', 'duration'}}\n"
   ]
  },
  {
   "cell_type": "code",
   "execution_count": 31,
   "metadata": {},
   "outputs": [],
   "source": [
    "# NOTED DOWN FROM ATP SITE 24 06 25 (need to understand if % or float etc) => columns in existing data\n",
    "# - Aces => aces\n",
    "# - 1st Serve => first_serve_made\n",
    "# - 1st Serve points won => first_serve_points_made\n",
    "# - 2nd Serve => second_serve_points_made\n",
    "# - 2nd Serve points won => second_serve_points_made\n",
    "# - Service Games won => service_games_won\n",
    "# - Break Points saved => break_points_saved\n",
    "# - 1st Serve Return Points won => first_serve_return_points_made\n",
    "# - 2nd Serve Return Points won => second_serve_return_points_made\n",
    "# - Break Points Converted => break_points_made\n",
    "# - Return Games won => ???"
   ]
  },
  {
   "cell_type": "code",
   "execution_count": 32,
   "metadata": {},
   "outputs": [],
   "source": [
    "data_atp_provide_col_subset = ['aces', 'first_serve_made', 'first_serve_points_made', \n",
    "                    'second_serve_points_made', 'second_serve_points_made', \n",
    "                    'service_games_won', 'break_points_saved', \n",
    "                    'first_serve_return_points_made', 'second_serve_return_points_made', 'break_points_made']"
   ]
  },
  {
   "cell_type": "markdown",
   "metadata": {},
   "source": [
    "# Load 180k staged_1 data"
   ]
  },
  {
   "cell_type": "code",
   "execution_count": 6,
   "metadata": {},
   "outputs": [],
   "source": [
    "\n",
    "schema = {'start_date': 'datetime64[ns]', 'end_date': 'datetime64[ns]'}\n",
    "staged_1_csv = os.path.join(staged_1_data_path, \"matches_staged_1.csv\")\n",
    "staged_1 = pd.read_csv(staged_1_csv, index_col=None).astype(schema)\n"
   ]
  },
  {
   "cell_type": "code",
   "execution_count": 9,
   "metadata": {},
   "outputs": [],
   "source": [
    "staged_1.duration = pd.to_timedelta(staged_1.duration)"
   ]
  },
  {
   "cell_type": "code",
   "execution_count": 10,
   "metadata": {},
   "outputs": [
    {
     "data": {
      "text/plain": [
       "start_date                               datetime64[ns]\n",
       "end_date                                 datetime64[ns]\n",
       "location                                         object\n",
       "court_surface                                    object\n",
       "prize_money                                       int64\n",
       "currency                                         object\n",
       "year                                              int64\n",
       "player_id                                        object\n",
       "player_name                                      object\n",
       "opponent_id                                      object\n",
       "opponent_name                                    object\n",
       "tournament                                       object\n",
       "round                                            object\n",
       "num_sets                                          int64\n",
       "sets_won                                          int64\n",
       "games_won                                         int64\n",
       "games_against                                     int64\n",
       "tiebreaks_won                                     int64\n",
       "tiebreaks_total                                   int64\n",
       "serve_rating                                      int64\n",
       "aces                                              int64\n",
       "double_faults                                     int64\n",
       "first_serve_made                                  int64\n",
       "first_serve_attempted                             int64\n",
       "first_serve_points_made                           int64\n",
       "first_serve_points_attempted                      int64\n",
       "second_serve_points_made                          int64\n",
       "second_serve_points_attempted                     int64\n",
       "break_points_saved                                int64\n",
       "break_points_against                              int64\n",
       "service_games_won                                 int64\n",
       "return_rating                                     int64\n",
       "first_serve_return_points_made                    int64\n",
       "first_serve_return_points_attempted               int64\n",
       "second_serve_return_points_made                   int64\n",
       "second_serve_return_points_attempted              int64\n",
       "break_points_made                                 int64\n",
       "break_points_attempted                            int64\n",
       "return_games_played                               int64\n",
       "service_points_won                                int64\n",
       "service_points_attempted                          int64\n",
       "return_points_won                                 int64\n",
       "return_points_attempted                           int64\n",
       "total_points_won                                  int64\n",
       "total_points                                      int64\n",
       "duration                                timedelta64[ns]\n",
       "player_victory                                     bool\n",
       "retirement                                         bool\n",
       "seed                                             object\n",
       "won_first_set                                      bool\n",
       "doubles                                            bool\n",
       "masters                                           int64\n",
       "round_num                                         int64\n",
       "nation                                           object\n",
       "dtype: object"
      ]
     },
     "execution_count": 10,
     "metadata": {},
     "output_type": "execute_result"
    }
   ],
   "source": [
    "staged_1.dtypes"
   ]
  },
  {
   "cell_type": "code",
   "execution_count": null,
   "metadata": {},
   "outputs": [],
   "source": []
  }
 ],
 "metadata": {
  "kernelspec": {
   "display_name": "atp",
   "language": "python",
   "name": "python3"
  },
  "language_info": {
   "codemirror_mode": {
    "name": "ipython",
    "version": 3
   },
   "file_extension": ".py",
   "mimetype": "text/x-python",
   "name": "python",
   "nbconvert_exporter": "python",
   "pygments_lexer": "ipython3",
   "version": "3.10.6"
  }
 },
 "nbformat": 4,
 "nbformat_minor": 2
}
