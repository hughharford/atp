{
 "cells": [
  {
   "cell_type": "markdown",
   "metadata": {},
   "source": [
    "## Check where this runs\n",
    "***"
   ]
  },
  {
   "cell_type": "code",
   "execution_count": 3,
   "metadata": {},
   "outputs": [
    {
     "name": "stdout",
     "output_type": "stream",
     "text": [
      "hughharford\n",
      "environ({'BUNDLER_EDITOR': 'code', 'CHROME_DESKTOP': 'code-url-handler.desktop', 'COLORTERM': 'truecolor', 'DBUS_SESSION_BUS_ADDRESS': 'unix:path=/run/user/1000/bus', 'DESKTOP_SESSION': 'ubuntu', 'DISPLAY': ':0', 'EDITOR': 'code', 'ELECTRON_NO_ATTACH_CONSOLE': '1', 'GDK_BACKEND': 'x11', 'GDMSESSION': 'ubuntu', 'GNOME_DESKTOP_SESSION_ID': 'this-is-deprecated', 'GNOME_SETUP_DISPLAY': ':1', 'GNOME_SHELL_SESSION_MODE': 'ubuntu', 'GNOME_TERMINAL_SCREEN': '/org/gnome/Terminal/screen/2ffbd9f5_9c58_49f8_869d_5fe1e8e07518', 'GNOME_TERMINAL_SERVICE': ':1.100', 'GTK_MODULES': 'gail:atk-bridge', 'HOME': '/home/hughharford', 'HOMEBREW_NO_ANALYTICS': '1', 'LANG': 'en_US.UTF-8', 'LANGUAGE': 'en_GB:en', 'LC_ALL': 'en_US.UTF-8', 'LESS': '-R', 'LOGNAME': 'hughharford', 'LSCOLORS': 'Gxfxcxdxbxegedabagacad', 'LS_COLORS': 'rs=0:di=01;34:ln=01;36:mh=00:pi=40;33:so=01;35:do=01;35:bd=40;33;01:cd=40;33;01:or=40;31;01:mi=00:su=37;41:sg=30;43:ca=30;41:tw=30;42:ow=34;42:st=37;44:ex=01;32:*.tar=01;31:*.tgz=01;31:*.arc=01;31:*.arj=01;31:*.taz=01;31:*.lha=01;31:*.lz4=01;31:*.lzh=01;31:*.lzma=01;31:*.tlz=01;31:*.txz=01;31:*.tzo=01;31:*.t7z=01;31:*.zip=01;31:*.z=01;31:*.dz=01;31:*.gz=01;31:*.lrz=01;31:*.lz=01;31:*.lzo=01;31:*.xz=01;31:*.zst=01;31:*.tzst=01;31:*.bz2=01;31:*.bz=01;31:*.tbz=01;31:*.tbz2=01;31:*.tz=01;31:*.deb=01;31:*.rpm=01;31:*.jar=01;31:*.war=01;31:*.ear=01;31:*.sar=01;31:*.rar=01;31:*.alz=01;31:*.ace=01;31:*.zoo=01;31:*.cpio=01;31:*.7z=01;31:*.rz=01;31:*.cab=01;31:*.wim=01;31:*.swm=01;31:*.dwm=01;31:*.esd=01;31:*.jpg=01;35:*.jpeg=01;35:*.mjpg=01;35:*.mjpeg=01;35:*.gif=01;35:*.bmp=01;35:*.pbm=01;35:*.pgm=01;35:*.ppm=01;35:*.tga=01;35:*.xbm=01;35:*.xpm=01;35:*.tif=01;35:*.tiff=01;35:*.png=01;35:*.svg=01;35:*.svgz=01;35:*.mng=01;35:*.pcx=01;35:*.mov=01;35:*.mpg=01;35:*.mpeg=01;35:*.m2v=01;35:*.mkv=01;35:*.webm=01;35:*.webp=01;35:*.ogm=01;35:*.mp4=01;35:*.m4v=01;35:*.mp4v=01;35:*.vob=01;35:*.qt=01;35:*.nuv=01;35:*.wmv=01;35:*.asf=01;35:*.rm=01;35:*.rmvb=01;35:*.flc=01;35:*.avi=01;35:*.fli=01;35:*.flv=01;35:*.gl=01;35:*.dl=01;35:*.xcf=01;35:*.xwd=01;35:*.yuv=01;35:*.cgm=01;35:*.emf=01;35:*.ogv=01;35:*.ogx=01;35:*.aac=00;36:*.au=00;36:*.flac=00;36:*.m4a=00;36:*.mid=00;36:*.midi=00;36:*.mka=00;36:*.mp3=00;36:*.mpc=00;36:*.ogg=00;36:*.ra=00;36:*.wav=00;36:*.oga=00;36:*.opus=00;36:*.spx=00;36:*.xspf=00;36:', 'NVM_DIR': '/home/hughharford/.nvm', 'OLDPWD': '/home/hughharford/code/hughharford', 'ORIGINAL_XDG_CURRENT_DESKTOP': 'ubuntu:GNOME', 'PAGER': 'cat', 'PATH': '/home/hughharford/.pyenv/versions/3.10.6/envs/atp/bin:/home/hughharford/.local/bin:/home/hughharford/.pyenv/shims:/home/hughharford/.pyenv/bin:./bin:./node_modules/.bin:/home/hughharford/.pyenv/plugins/pyenv-virtualenv/shims:/home/hughharford/.rbenv/bin:/home/hughharford/.pyenv/bin:/home/hughharford/.cargo/bin:/usr/local/sbin:/usr/local/bin:/usr/sbin:/usr/bin:/sbin:/bin:/usr/games:/usr/local/games:/snap/bin:/snap/bin:/usr/local/sbin', 'PWD': '/home/hughharford/code/hughharford/atp', 'PYENV_ROOT': '/home/hughharford/.pyenv', 'PYENV_SHELL': 'zsh', 'PYENV_VIRTUALENV_DISABLE_PROMPT': '1', 'PYENV_VIRTUALENV_INIT': '1', 'PYENV_VIRTUAL_ENV': '/home/hughharford/.pyenv/versions/3.10.6/envs/atp', 'PYTHONBREAKPOINT': 'ipdb.set_trace', 'PYTHONPATH': '/home/hughharford/code/hughharford/data-challenges-reboot/04-Decision-Science:', 'QT_ACCESSIBILITY': '1', 'QT_IM_MODULE': 'ibus', 'SESSION_MANAGER': 'local/hsth-X515MA:@/tmp/.ICE-unix/2871,unix/hsth-X515MA:/tmp/.ICE-unix/2871', 'SHELL': '/usr/bin/zsh', 'SHLVL': '1', 'SSH_AGENT_LAUNCHER': 'gnome-keyring', 'SSH_AGENT_PID': '5044', 'SSH_AUTH_SOCK': '/tmp/ssh-XXXXXXWNN7IZ/agent.5042', 'SYSTEMD_EXEC_PID': '2897', 'TERM': 'xterm-color', 'USER': 'hughharford', 'USERNAME': 'hughharford', 'VIRTUAL_ENV': '/home/hughharford/.pyenv/versions/3.10.6/envs/atp', 'VSCODE_AMD_ENTRYPOINT': 'vs/workbench/api/node/extensionHostProcess', 'VSCODE_CLI': '1', 'VSCODE_CODE_CACHE_PATH': '/home/hughharford/.config/Code/CachedData/611f9bfce64f25108829dd295f54a6894e87339d', 'VSCODE_CRASH_REPORTER_PROCESS_TYPE': 'extensionHost', 'VSCODE_CWD': '/home/hughharford/code/hughharford/atp', 'VSCODE_HANDLES_UNCAUGHT_ERRORS': 'true', 'VSCODE_IPC_HOOK': '/run/user/1000/vscode-151ba99d-1.90-main.sock', 'VSCODE_NLS_CONFIG': '{\"locale\":\"en-gb\",\"osLocale\":\"en-gb\",\"availableLanguages\":{},\"_languagePackSupport\":true}', 'VSCODE_PID': '7733', 'VTE_VERSION': '6800', 'WAYLAND_DISPLAY': 'wayland-0', 'XAUTHORITY': '/run/user/1000/.mutter-Xwaylandauth.QYZWP2', 'XDG_CURRENT_DESKTOP': 'Unity', 'XDG_DATA_DIRS': '/usr/local/share/:/usr/share/:/var/lib/snapd/desktop', 'XDG_MENU_PREFIX': 'gnome-', 'XDG_RUNTIME_DIR': '/run/user/1000', 'XDG_SESSION_CLASS': 'user', 'XDG_SESSION_DESKTOP': 'ubuntu', 'XDG_SESSION_TYPE': 'wayland', 'XMODIFIERS': '@im=ibus', '_': '/home/hughharford/.pyenv/versions/3.10.6/envs/atp/bin/python', 'ELECTRON_RUN_AS_NODE': '1', '__TELEMETRY_CLIENT_ID': 'f8b34154-ed9e-4653-b463-a606fc42d623', 'AWS_SDK_LOAD_CONFIG': 'true', 'VSCODE_L10N_BUNDLE_LOCATION': '', 'PYTHONUNBUFFERED': '1', 'PYTHONIOENCODING': 'utf-8', 'VIRTUAL_ENV_PROMPT': '(atp) ', 'PS1': '(atp) ', 'PYDEVD_IPYTHON_COMPATIBLE_DEBUGGING': '1', 'PYTHON_FROZEN_MODULES': 'on', 'CLICOLOR': '1', 'GIT_PAGER': 'cat', 'MPLBACKEND': 'module://matplotlib_inline.backend_inline', 'our_new': ''})\n"
     ]
    }
   ],
   "source": [
    "import os\n",
    "os.environ[\"our_new\"] = \"\"\n",
    "envs = os.getenv(\"LOGNAME\")\n",
    "print(envs)\n",
    "assert envs == \"hughharford\"\n",
    "# if you get an error here, the notebook is not running in HSTH's expected place, and adjusts will be required.\n",
    "print(os.environ)\n",
    "if envs == \"hughharford\":\n",
    "    environment_running = 'laptop'\n",
    "else:\n",
    "    environment_running = 0"
   ]
  },
  {
   "cell_type": "markdown",
   "metadata": {},
   "source": [
    "# IMPORTS\n",
    "***"
   ]
  },
  {
   "cell_type": "code",
   "execution_count": 4,
   "metadata": {},
   "outputs": [],
   "source": [
    "import os\n",
    "import time\n",
    "            # data sourcing:\n",
    "import csv\n",
    "            # databases:\n",
    "import sqlite3\n",
    "            # useful other\n",
    "from collections import defaultdict\n",
    "            # data toolkit:\n",
    "import numpy as np\n",
    "import pandas as pd\n",
    "import dask.dataframe as dd\n",
    "            # plotting\n",
    "import matplotlib.pyplot as plt\n",
    "%matplotlib inline  \n",
    "\n",
    "if not environment_running == 'laptop':\n",
    "    %pip install seaborn\n",
    "    # no seaborn by default in AWS SageMaker.\n",
    "    \n",
    "import seaborn as sns"
   ]
  },
  {
   "cell_type": "code",
   "execution_count": 5,
   "metadata": {},
   "outputs": [],
   "source": [
    "from sklearn.pipeline import Pipeline\n",
    "from sklearn.impute import SimpleImputer\n",
    "from sklearn.compose import ColumnTransformer\n",
    "from sklearn.compose import make_column_selector\n",
    "from sklearn.preprocessing import OneHotEncoder, StandardScaler\n",
    "from sklearn.preprocessing import FunctionTransformer\n",
    " # Visualizing Pipelines in HTML\n",
    "from sklearn import set_config; set_config(display='diagram')"
   ]
  },
  {
   "cell_type": "markdown",
   "metadata": {},
   "source": [
    "## Establish paths"
   ]
  },
  {
   "cell_type": "code",
   "execution_count": 6,
   "metadata": {},
   "outputs": [],
   "source": [
    "# check raw data archive path extant:\n",
    "atp_data_path = os.path.join('..','raw_data','archive')\n",
    "assert os.path.exists(atp_data_path)\n",
    "\n",
    "# set read_data path for chunking later on:\n",
    "read_data_path = os.path.join('..','raw_data','read_data')\n",
    "assert os.path.exists(read_data_path) \n",
    "\n",
    "# check initial data file expected are extant:\n",
    "matches_data_path_full = os.path.join(atp_data_path, 'all_matches.csv')\n",
    "assert os.path.exists(matches_data_path_full)"
   ]
  },
  {
   "cell_type": "markdown",
   "metadata": {},
   "source": [
    "# Show getting 50k rows works:"
   ]
  },
  {
   "cell_type": "code",
   "execution_count": 7,
   "metadata": {},
   "outputs": [
    {
     "name": "stderr",
     "output_type": "stream",
     "text": [
      "/tmp/ipykernel_50958/2131584680.py:3: DtypeWarning: Columns (8,10,45,48) have mixed types. Specify dtype option on import or set low_memory=False.\n",
      "  matches_df_1st_50k = pd.read_csv(matches_data_path_full, nrows=50_000, index_col=None).astype(schema)\n"
     ]
    }
   ],
   "source": [
    "# this works to convert dates as reading in. good news\n",
    "schema = {'start_date': 'datetime64[ns]', 'end_date': 'datetime64[ns]'}\n",
    "matches_df_1st_50k = pd.read_csv(matches_data_path_full, nrows=50_000, index_col=None).astype(schema)"
   ]
  },
  {
   "cell_type": "code",
   "execution_count": 8,
   "metadata": {},
   "outputs": [
    {
     "data": {
      "text/plain": [
       "start_date       datetime64[ns]\n",
       "end_date         datetime64[ns]\n",
       "location                 object\n",
       "court_surface            object\n",
       "prize_money             float64\n",
       "dtype: object"
      ]
     },
     "execution_count": 8,
     "metadata": {},
     "output_type": "execute_result"
    }
   ],
   "source": [
    "matches_df_1st_50k.dtypes.head()\n",
    "# this confirms astype(schema) works, so date manipulation is available"
   ]
  },
  {
   "cell_type": "code",
   "execution_count": 9,
   "metadata": {},
   "outputs": [
    {
     "data": {
      "text/plain": [
       "Index(['start_date', 'end_date', 'location', 'court_surface', 'prize_money',\n",
       "       'currency', 'year', 'player_id', 'player_name', 'opponent_id',\n",
       "       'opponent_name', 'tournament', 'round', 'num_sets', 'sets_won',\n",
       "       'games_won', 'games_against', 'tiebreaks_won', 'tiebreaks_total',\n",
       "       'serve_rating', 'aces', 'double_faults', 'first_serve_made',\n",
       "       'first_serve_attempted', 'first_serve_points_made',\n",
       "       'first_serve_points_attempted', 'second_serve_points_made',\n",
       "       'second_serve_points_attempted', 'break_points_saved',\n",
       "       'break_points_against', 'service_games_won', 'return_rating',\n",
       "       'first_serve_return_points_made', 'first_serve_return_points_attempted',\n",
       "       'second_serve_return_points_made',\n",
       "       'second_serve_return_points_attempted', 'break_points_made',\n",
       "       'break_points_attempted', 'return_games_played', 'service_points_won',\n",
       "       'service_points_attempted', 'return_points_won',\n",
       "       'return_points_attempted', 'total_points_won', 'total_points',\n",
       "       'duration', 'player_victory', 'retirement', 'seed', 'won_first_set',\n",
       "       'doubles', 'masters', 'round_num', 'nation'],\n",
       "      dtype='object')"
      ]
     },
     "execution_count": 9,
     "metadata": {},
     "output_type": "execute_result"
    }
   ],
   "source": [
    "matches_df_1st_50k.columns"
   ]
  },
  {
   "cell_type": "markdown",
   "metadata": {},
   "source": [
    "# Split by whether winner or loser row\n",
    "***\n"
   ]
  },
  {
   "cell_type": "code",
   "execution_count": 13,
   "metadata": {},
   "outputs": [
    {
     "data": {
      "image/png": "[encoded data removed]",
      "text/plain": [
       "<Figure size 640x480 with 1 Axes>"
      ]
     },
     "metadata": {},
     "output_type": "display_data"
    }
   ],
   "source": [
    "\n",
    "plt.plot(matches_df_1st_50k.player_victory);"
   ]
  },
  {
   "cell_type": "markdown",
   "metadata": {},
   "source": [
    "# Column dicts"
   ]
  },
  {
   "cell_type": "code",
   "execution_count": 14,
   "metadata": {},
   "outputs": [],
   "source": [
    "# keep a simple dict of columns to see how full they are/keep track of anything else that seems relevant\n",
    "check_completeness = {'start_date': 0, 'end_date': 0, 'player_name': 0, 'duration': 0\n",
    "                      }\n",
    "check_key_distinguishing_columns = {'doubles': 0, 'masters': 0, 'nation': 0\n",
    "                                    , 'seed': 0, 'prize_money': 0,\n",
    "                                    }\n",
    "check_numerical_columns = {'prize_money': 0,'sets_won': 0,'games_won': 0, 'games_against': 0, \n",
    "                    'tiebreaks_won': 0,  'tiebreaks_total': 0, 'serve_rating': 0, 'aces': 0, \n",
    "                    'double_faults': 0, 'first_serve_made': 0, 'first_serve_attempted': 0, \n",
    "                    'first_serve_points_made': 0, 'first_serve_points_attempted': 0, 'second_serve_points_made': 0, \n",
    "                    'second_serve_points_attempted': 0, 'break_points_saved': 0, 'break_points_against': 0, \n",
    "                    'service_games_won': 0, 'return_rating': 0, 'first_serve_return_points_made': 0, \n",
    "                    'first_serve_return_points_attempted': 0, 'second_serve_return_points_made': 0, \n",
    "                    'second_serve_return_points_attempted': 0, 'break_points_made': 0, \n",
    "                    'break_points_attempted': 0, 'return_games_played': 0, 'service_points_won': 0, \n",
    "                    'service_points_attempted': 0, 'return_points_won': 0, 'return_points_attempted': 0, \n",
    "                    'total_points_won': 0, 'total_points': 0, 'duration': 0, 'round_num': 0\n",
    "                            }\n",
    "check_mixed_columns = {'seed': 0, 'currency': 0, 'player_name': 0, 'opponent_name': 0, 'duration': 0\n",
    "                       }\n",
    "check_boolean_columns = {'player_victory': 0, 'retirement': 0, 'won_first_set': 0\n",
    "                         }\n"
   ]
  },
  {
   "cell_type": "code",
   "execution_count": null,
   "metadata": {},
   "outputs": [],
   "source": [
    "# queries\n",
    "single_date_query = {\"start_date > 2010\": 0}\n",
    "single_year_query = {\"year > 2010\": 0}"
   ]
  },
  {
   "cell_type": "markdown",
   "metadata": {},
   "source": [
    "### Boolean transformer, can apply to many columns"
   ]
  },
  {
   "cell_type": "code",
   "execution_count": 18,
   "metadata": {},
   "outputs": [],
   "source": [
    "\n",
    "boolean_transformer = Pipeline([\n",
    "    ('fill_empties', SimpleImputer(strategy='constant', missing_values=np.nan, fill_value=\"empty\")),\n",
    "    ('impute_t_is_true', SimpleImputer(strategy='constant', missing_values=\"t\", fill_value=True)),\n",
    "    ('impute_f_is_false', SimpleImputer(strategy='constant', missing_values=\"f\", fill_value=False)),\n",
    "])"
   ]
  },
  {
   "cell_type": "code",
   "execution_count": 21,
   "metadata": {},
   "outputs": [],
   "source": [
    "# Create preprocessor with transformers\n",
    "preprocessor = ColumnTransformer(\n",
    "    transformers=[\n",
    "        ('bools', boolean_transformer, list(check_boolean_columns.keys())), # [or just list of column names] # custom_date_column_selector()\n",
    "    ],remainder='passthrough'\n",
    "    )"
   ]
  },
  {
   "cell_type": "code",
   "execution_count": 22,
   "metadata": {},
   "outputs": [
    {
     "data": {
      "text/html": [
       "<style>#sk-container-id-3 {color: black;}#sk-container-id-3 pre{padding: 0;}#sk-container-id-3 div.sk-toggleable {background-color: white;}#sk-container-id-3 label.sk-toggleable__label {cursor: pointer;display: block;width: 100%;margin-bottom: 0;padding: 0.3em;box-sizing: border-box;text-align: center;}#sk-container-id-3 label.sk-toggleable__label-arrow:before {content: \"▸\";float: left;margin-right: 0.25em;color: #696969;}#sk-container-id-3 label.sk-toggleable__label-arrow:hover:before {color: black;}#sk-container-id-3 div.sk-estimator:hover label.sk-toggleable__label-arrow:before {color: black;}#sk-container-id-3 div.sk-toggleable__content {max-height: 0;max-width: 0;overflow: hidden;text-align: left;background-color: #f0f8ff;}#sk-container-id-3 div.sk-toggleable__content pre {margin: 0.2em;color: black;border-radius: 0.25em;background-color: #f0f8ff;}#sk-container-id-3 input.sk-toggleable__control:checked~div.sk-toggleable__content {max-height: 200px;max-width: 100%;overflow: auto;}#sk-container-id-3 input.sk-toggleable__control:checked~label.sk-toggleable__label-arrow:before {content: \"▾\";}#sk-container-id-3 div.sk-estimator input.sk-toggleable__control:checked~label.sk-toggleable__label {background-color: #d4ebff;}#sk-container-id-3 div.sk-label input.sk-toggleable__control:checked~label.sk-toggleable__label {background-color: #d4ebff;}#sk-container-id-3 input.sk-hidden--visually {border: 0;clip: rect(1px 1px 1px 1px);clip: rect(1px, 1px, 1px, 1px);height: 1px;margin: -1px;overflow: hidden;padding: 0;position: absolute;width: 1px;}#sk-container-id-3 div.sk-estimator {font-family: monospace;background-color: #f0f8ff;border: 1px dotted black;border-radius: 0.25em;box-sizing: border-box;margin-bottom: 0.5em;}#sk-container-id-3 div.sk-estimator:hover {background-color: #d4ebff;}#sk-container-id-3 div.sk-parallel-item::after {content: \"\";width: 100%;border-bottom: 1px solid gray;flex-grow: 1;}#sk-container-id-3 div.sk-label:hover label.sk-toggleable__label {background-color: #d4ebff;}#sk-container-id-3 div.sk-serial::before {content: \"\";position: absolute;border-left: 1px solid gray;box-sizing: border-box;top: 0;bottom: 0;left: 50%;z-index: 0;}#sk-container-id-3 div.sk-serial {display: flex;flex-direction: column;align-items: center;background-color: white;padding-right: 0.2em;padding-left: 0.2em;position: relative;}#sk-container-id-3 div.sk-item {position: relative;z-index: 1;}#sk-container-id-3 div.sk-parallel {display: flex;align-items: stretch;justify-content: center;background-color: white;position: relative;}#sk-container-id-3 div.sk-item::before, #sk-container-id-3 div.sk-parallel-item::before {content: \"\";position: absolute;border-left: 1px solid gray;box-sizing: border-box;top: 0;bottom: 0;left: 50%;z-index: -1;}#sk-container-id-3 div.sk-parallel-item {display: flex;flex-direction: column;z-index: 1;position: relative;background-color: white;}#sk-container-id-3 div.sk-parallel-item:first-child::after {align-self: flex-end;width: 50%;}#sk-container-id-3 div.sk-parallel-item:last-child::after {align-self: flex-start;width: 50%;}#sk-container-id-3 div.sk-parallel-item:only-child::after {width: 0;}#sk-container-id-3 div.sk-dashed-wrapped {border: 1px dashed gray;margin: 0 0.4em 0.5em 0.4em;box-sizing: border-box;padding-bottom: 0.4em;background-color: white;}#sk-container-id-3 div.sk-label label {font-family: monospace;font-weight: bold;display: inline-block;line-height: 1.2em;}#sk-container-id-3 div.sk-label-container {text-align: center;}#sk-container-id-3 div.sk-container {/* jupyter's `normalize.less` sets `[hidden] { display: none; }` but bootstrap.min.css set `[hidden] { display: none !important; }` so we also need the `!important` here to be able to override the default hidden behavior on the sphinx rendered scikit-learn.org. See: https://github.com/scikit-learn/scikit-learn/issues/21755 */display: inline-block !important;position: relative;}#sk-container-id-3 div.sk-text-repr-fallback {display: none;}</style><div id=\"sk-container-id-3\" class=\"sk-top-container\"><div class=\"sk-text-repr-fallback\"><pre>ColumnTransformer(remainder=&#x27;passthrough&#x27;,\n",
       "                  transformers=[(&#x27;bools&#x27;,\n",
       "                                 Pipeline(steps=[(&#x27;fill_empties&#x27;,\n",
       "                                                  SimpleImputer(fill_value=&#x27;empty&#x27;,\n",
       "                                                                strategy=&#x27;constant&#x27;)),\n",
       "                                                 (&#x27;impute_t_is_true&#x27;,\n",
       "                                                  SimpleImputer(fill_value=True,\n",
       "                                                                missing_values=&#x27;t&#x27;,\n",
       "                                                                strategy=&#x27;constant&#x27;)),\n",
       "                                                 (&#x27;impute_f_is_false&#x27;,\n",
       "                                                  SimpleImputer(fill_value=False,\n",
       "                                                                missing_values=&#x27;f&#x27;,\n",
       "                                                                strategy=&#x27;constant&#x27;))]),\n",
       "                                 [&#x27;player_victory&#x27;, &#x27;retirement&#x27;,\n",
       "                                  &#x27;won_first_set&#x27;])])</pre><b>In a Jupyter environment, please rerun this cell to show the HTML representation or trust the notebook. <br />On GitHub, the HTML representation is unable to render, please try loading this page with nbviewer.org.</b></div><div class=\"sk-container\" hidden><div class=\"sk-item sk-dashed-wrapped\"><div class=\"sk-label-container\"><div class=\"sk-label sk-toggleable\"><input class=\"sk-toggleable__control sk-hidden--visually\" id=\"sk-estimator-id-15\" type=\"checkbox\" ><label for=\"sk-estimator-id-15\" class=\"sk-toggleable__label sk-toggleable__label-arrow\">ColumnTransformer</label><div class=\"sk-toggleable__content\"><pre>ColumnTransformer(remainder=&#x27;passthrough&#x27;,\n",
       "                  transformers=[(&#x27;bools&#x27;,\n",
       "                                 Pipeline(steps=[(&#x27;fill_empties&#x27;,\n",
       "                                                  SimpleImputer(fill_value=&#x27;empty&#x27;,\n",
       "                                                                strategy=&#x27;constant&#x27;)),\n",
       "                                                 (&#x27;impute_t_is_true&#x27;,\n",
       "                                                  SimpleImputer(fill_value=True,\n",
       "                                                                missing_values=&#x27;t&#x27;,\n",
       "                                                                strategy=&#x27;constant&#x27;)),\n",
       "                                                 (&#x27;impute_f_is_false&#x27;,\n",
       "                                                  SimpleImputer(fill_value=False,\n",
       "                                                                missing_values=&#x27;f&#x27;,\n",
       "                                                                strategy=&#x27;constant&#x27;))]),\n",
       "                                 [&#x27;player_victory&#x27;, &#x27;retirement&#x27;,\n",
       "                                  &#x27;won_first_set&#x27;])])</pre></div></div></div><div class=\"sk-parallel\"><div class=\"sk-parallel-item\"><div class=\"sk-item\"><div class=\"sk-label-container\"><div class=\"sk-label sk-toggleable\"><input class=\"sk-toggleable__control sk-hidden--visually\" id=\"sk-estimator-id-16\" type=\"checkbox\" ><label for=\"sk-estimator-id-16\" class=\"sk-toggleable__label sk-toggleable__label-arrow\">bools</label><div class=\"sk-toggleable__content\"><pre>[&#x27;player_victory&#x27;, &#x27;retirement&#x27;, &#x27;won_first_set&#x27;]</pre></div></div></div><div class=\"sk-serial\"><div class=\"sk-item\"><div class=\"sk-serial\"><div class=\"sk-item\"><div class=\"sk-estimator sk-toggleable\"><input class=\"sk-toggleable__control sk-hidden--visually\" id=\"sk-estimator-id-17\" type=\"checkbox\" ><label for=\"sk-estimator-id-17\" class=\"sk-toggleable__label sk-toggleable__label-arrow\">SimpleImputer</label><div class=\"sk-toggleable__content\"><pre>SimpleImputer(fill_value=&#x27;empty&#x27;, strategy=&#x27;constant&#x27;)</pre></div></div></div><div class=\"sk-item\"><div class=\"sk-estimator sk-toggleable\"><input class=\"sk-toggleable__control sk-hidden--visually\" id=\"sk-estimator-id-18\" type=\"checkbox\" ><label for=\"sk-estimator-id-18\" class=\"sk-toggleable__label sk-toggleable__label-arrow\">SimpleImputer</label><div class=\"sk-toggleable__content\"><pre>SimpleImputer(fill_value=True, missing_values=&#x27;t&#x27;, strategy=&#x27;constant&#x27;)</pre></div></div></div><div class=\"sk-item\"><div class=\"sk-estimator sk-toggleable\"><input class=\"sk-toggleable__control sk-hidden--visually\" id=\"sk-estimator-id-19\" type=\"checkbox\" ><label for=\"sk-estimator-id-19\" class=\"sk-toggleable__label sk-toggleable__label-arrow\">SimpleImputer</label><div class=\"sk-toggleable__content\"><pre>SimpleImputer(fill_value=False, missing_values=&#x27;f&#x27;, strategy=&#x27;constant&#x27;)</pre></div></div></div></div></div></div></div></div><div class=\"sk-parallel-item\"><div class=\"sk-item\"><div class=\"sk-label-container\"><div class=\"sk-label sk-toggleable\"><input class=\"sk-toggleable__control sk-hidden--visually\" id=\"sk-estimator-id-20\" type=\"checkbox\" ><label for=\"sk-estimator-id-20\" class=\"sk-toggleable__label sk-toggleable__label-arrow\">remainder</label><div class=\"sk-toggleable__content\"><pre></pre></div></div></div><div class=\"sk-serial\"><div class=\"sk-item\"><div class=\"sk-estimator sk-toggleable\"><input class=\"sk-toggleable__control sk-hidden--visually\" id=\"sk-estimator-id-21\" type=\"checkbox\" ><label for=\"sk-estimator-id-21\" class=\"sk-toggleable__label sk-toggleable__label-arrow\">passthrough</label><div class=\"sk-toggleable__content\"><pre>passthrough</pre></div></div></div></div></div></div></div></div></div></div>"
      ],
      "text/plain": [
       "ColumnTransformer(remainder='passthrough',\n",
       "                  transformers=[('bools',\n",
       "                                 Pipeline(steps=[('fill_empties',\n",
       "                                                  SimpleImputer(fill_value='empty',\n",
       "                                                                strategy='constant')),\n",
       "                                                 ('impute_t_is_true',\n",
       "                                                  SimpleImputer(fill_value=True,\n",
       "                                                                missing_values='t',\n",
       "                                                                strategy='constant')),\n",
       "                                                 ('impute_f_is_false',\n",
       "                                                  SimpleImputer(fill_value=False,\n",
       "                                                                missing_values='f',\n",
       "                                                                strategy='constant'))]),\n",
       "                                 ['player_victory', 'retirement',\n",
       "                                  'won_first_set'])])"
      ]
     },
     "execution_count": 22,
     "metadata": {},
     "output_type": "execute_result"
    }
   ],
   "source": [
    "preprocessor # check preprocessor"
   ]
  },
  {
   "cell_type": "markdown",
   "metadata": {},
   "source": [
    "# Pipeline"
   ]
  },
  {
   "cell_type": "code",
   "execution_count": null,
   "metadata": {},
   "outputs": [],
   "source": [
    "# Build the pipeline with the different steps\n",
    "pipeline = Pipeline([\n",
    "    ('preprocessor', preprocessor),\n",
    "])"
   ]
  }
 ],
 "metadata": {
  "kernelspec": {
   "display_name": "atp",
   "language": "python",
   "name": "python3"
  },
  "language_info": {
   "codemirror_mode": {
    "name": "ipython",
    "version": 3
   },
   "file_extension": ".py",
   "mimetype": "text/x-python",
   "name": "python",
   "nbconvert_exporter": "python",
   "pygments_lexer": "ipython3",
   "version": "3.10.6"
  }
 },
 "nbformat": 4,
 "nbformat_minor": 2
}
