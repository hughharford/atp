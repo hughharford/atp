{
 "cells": [
  {
   "cell_type": "markdown",
   "metadata": {},
   "source": [
    "## Check where this runs\n",
    "***"
   ]
  },
  {
   "cell_type": "code",
   "execution_count": 1,
   "metadata": {},
   "outputs": [
    {
     "name": "stdout",
     "output_type": "stream",
     "text": [
      "hughharford\n",
      "environ({'BUNDLER_EDITOR': 'code', 'CHROME_DESKTOP': 'code-url-handler.desktop', 'COLORTERM': 'truecolor', 'DBUS_SESSION_BUS_ADDRESS': 'unix:path=/run/user/1000/bus', 'DESKTOP_SESSION': 'ubuntu', 'DISPLAY': ':0', 'EDITOR': 'code', 'ELECTRON_NO_ATTACH_CONSOLE': '1', 'GDK_BACKEND': 'x11', 'GDMSESSION': 'ubuntu', 'GNOME_DESKTOP_SESSION_ID': 'this-is-deprecated', 'GNOME_SETUP_DISPLAY': ':1', 'GNOME_SHELL_SESSION_MODE': 'ubuntu', 'GNOME_TERMINAL_SCREEN': '/org/gnome/Terminal/screen/f6e8b67a_2b75_44ec_9dbe_a7686b561fe4', 'GNOME_TERMINAL_SERVICE': ':1.99', 'GTK_MODULES': 'gail:atk-bridge', 'HOME': '/home/hughharford', 'HOMEBREW_NO_ANALYTICS': '1', 'LANG': 'en_US.UTF-8', 'LANGUAGE': 'en_GB:en', 'LC_ALL': 'en_US.UTF-8', 'LESS': '-R', 'LOGNAME': 'hughharford', 'LSCOLORS': 'Gxfxcxdxbxegedabagacad', 'LS_COLORS': 'rs=0:di=01;34:ln=01;36:mh=00:pi=40;33:so=01;35:do=01;35:bd=40;33;01:cd=40;33;01:or=40;31;01:mi=00:su=37;41:sg=30;43:ca=30;41:tw=30;42:ow=34;42:st=37;44:ex=01;32:*.tar=01;31:*.tgz=01;31:*.arc=01;31:*.arj=01;31:*.taz=01;31:*.lha=01;31:*.lz4=01;31:*.lzh=01;31:*.lzma=01;31:*.tlz=01;31:*.txz=01;31:*.tzo=01;31:*.t7z=01;31:*.zip=01;31:*.z=01;31:*.dz=01;31:*.gz=01;31:*.lrz=01;31:*.lz=01;31:*.lzo=01;31:*.xz=01;31:*.zst=01;31:*.tzst=01;31:*.bz2=01;31:*.bz=01;31:*.tbz=01;31:*.tbz2=01;31:*.tz=01;31:*.deb=01;31:*.rpm=01;31:*.jar=01;31:*.war=01;31:*.ear=01;31:*.sar=01;31:*.rar=01;31:*.alz=01;31:*.ace=01;31:*.zoo=01;31:*.cpio=01;31:*.7z=01;31:*.rz=01;31:*.cab=01;31:*.wim=01;31:*.swm=01;31:*.dwm=01;31:*.esd=01;31:*.jpg=01;35:*.jpeg=01;35:*.mjpg=01;35:*.mjpeg=01;35:*.gif=01;35:*.bmp=01;35:*.pbm=01;35:*.pgm=01;35:*.ppm=01;35:*.tga=01;35:*.xbm=01;35:*.xpm=01;35:*.tif=01;35:*.tiff=01;35:*.png=01;35:*.svg=01;35:*.svgz=01;35:*.mng=01;35:*.pcx=01;35:*.mov=01;35:*.mpg=01;35:*.mpeg=01;35:*.m2v=01;35:*.mkv=01;35:*.webm=01;35:*.webp=01;35:*.ogm=01;35:*.mp4=01;35:*.m4v=01;35:*.mp4v=01;35:*.vob=01;35:*.qt=01;35:*.nuv=01;35:*.wmv=01;35:*.asf=01;35:*.rm=01;35:*.rmvb=01;35:*.flc=01;35:*.avi=01;35:*.fli=01;35:*.flv=01;35:*.gl=01;35:*.dl=01;35:*.xcf=01;35:*.xwd=01;35:*.yuv=01;35:*.cgm=01;35:*.emf=01;35:*.ogv=01;35:*.ogx=01;35:*.aac=00;36:*.au=00;36:*.flac=00;36:*.m4a=00;36:*.mid=00;36:*.midi=00;36:*.mka=00;36:*.mp3=00;36:*.mpc=00;36:*.ogg=00;36:*.ra=00;36:*.wav=00;36:*.oga=00;36:*.opus=00;36:*.spx=00;36:*.xspf=00;36:', 'NVM_DIR': '/home/hughharford/.nvm', 'OLDPWD': '/home/hughharford', 'ORIGINAL_XDG_CURRENT_DESKTOP': 'ubuntu:GNOME', 'PAGER': 'cat', 'PATH': '/home/hughharford/.pyenv/versions/3.10.6/envs/atp/bin:/home/hughharford/.local/bin:/home/hughharford/.pyenv/shims:/home/hughharford/.pyenv/bin:./bin:./node_modules/.bin:/home/hughharford/.pyenv/plugins/pyenv-virtualenv/shims:/home/hughharford/.rbenv/bin:/home/hughharford/.pyenv/bin:/home/hughharford/.cargo/bin:/usr/local/sbin:/usr/local/bin:/usr/sbin:/usr/bin:/sbin:/bin:/usr/games:/usr/local/games:/snap/bin:/snap/bin:/usr/local/sbin', 'PWD': '/home/hughharford/code/hughharford/atp', 'PYENV_ROOT': '/home/hughharford/.pyenv', 'PYENV_SHELL': 'zsh', 'PYENV_VIRTUALENV_DISABLE_PROMPT': '1', 'PYENV_VIRTUALENV_INIT': '1', 'PYENV_VIRTUAL_ENV': '/home/hughharford/.pyenv/versions/3.10.6/envs/atp', 'PYTHONBREAKPOINT': 'ipdb.set_trace', 'PYTHONPATH': '/home/hughharford/code/hughharford/data-challenges-reboot/04-Decision-Science:', 'QT_ACCESSIBILITY': '1', 'QT_IM_MODULE': 'ibus', 'SESSION_MANAGER': 'local/hsth-X515MA:@/tmp/.ICE-unix/2774,unix/hsth-X515MA:/tmp/.ICE-unix/2774', 'SHELL': '/usr/bin/zsh', 'SHLVL': '1', 'SSH_AGENT_LAUNCHER': 'gnome-keyring', 'SSH_AGENT_PID': '4016', 'SSH_AUTH_SOCK': '/tmp/ssh-XXXXXXAd6pq1/agent.4013', 'SYSTEMD_EXEC_PID': '2803', 'TERM': 'xterm-color', 'USER': 'hughharford', 'USERNAME': 'hughharford', 'VIRTUAL_ENV': '/home/hughharford/.pyenv/versions/3.10.6/envs/atp', 'VSCODE_AMD_ENTRYPOINT': 'vs/workbench/api/node/extensionHostProcess', 'VSCODE_CLI': '1', 'VSCODE_CODE_CACHE_PATH': '/home/hughharford/.config/Code/CachedData/611f9bfce64f25108829dd295f54a6894e87339d', 'VSCODE_CRASH_REPORTER_PROCESS_TYPE': 'extensionHost', 'VSCODE_CWD': '/home/hughharford/code/hughharford/atp', 'VSCODE_HANDLES_UNCAUGHT_ERRORS': 'true', 'VSCODE_IPC_HOOK': '/run/user/1000/vscode-151ba99d-1.90-main.sock', 'VSCODE_NLS_CONFIG': '{\"locale\":\"en-gb\",\"osLocale\":\"en-gb\",\"availableLanguages\":{},\"_languagePackSupport\":true}', 'VSCODE_PID': '5813', 'VTE_VERSION': '6800', 'WAYLAND_DISPLAY': 'wayland-0', 'XAUTHORITY': '/run/user/1000/.mutter-Xwaylandauth.IH4NP2', 'XDG_CURRENT_DESKTOP': 'Unity', 'XDG_DATA_DIRS': '/usr/local/share/:/usr/share/:/var/lib/snapd/desktop', 'XDG_MENU_PREFIX': 'gnome-', 'XDG_RUNTIME_DIR': '/run/user/1000', 'XDG_SESSION_CLASS': 'user', 'XDG_SESSION_DESKTOP': 'ubuntu', 'XDG_SESSION_TYPE': 'wayland', 'XMODIFIERS': '@im=ibus', '_': '/home/hughharford/.pyenv/versions/3.10.6/envs/atp/bin/python', 'ELECTRON_RUN_AS_NODE': '1', '__TELEMETRY_CLIENT_ID': 'f8b34154-ed9e-4653-b463-a606fc42d623', 'AWS_SDK_LOAD_CONFIG': 'true', 'VSCODE_L10N_BUNDLE_LOCATION': '', 'PYTHONUNBUFFERED': '1', 'PYTHONIOENCODING': 'utf-8', 'VIRTUAL_ENV_PROMPT': '(atp) ', 'PS1': '(atp) ', 'PYDEVD_IPYTHON_COMPATIBLE_DEBUGGING': '1', 'PYTHON_FROZEN_MODULES': 'on', 'CLICOLOR': '1', 'GIT_PAGER': 'cat', 'MPLBACKEND': 'module://matplotlib_inline.backend_inline', 'our_new': ''})\n"
     ]
    }
   ],
   "source": [
    "import os\n",
    "os.environ[\"our_new\"] = \"\"\n",
    "envs = os.getenv(\"LOGNAME\")\n",
    "print(envs)\n",
    "assert envs == \"hughharford\"\n",
    "# if you get an error here, the notebook is not running in HSTH's expected place, and adjusts will be required.\n",
    "print(os.environ)\n",
    "if envs == \"hughharford\":\n",
    "    environment_running = 'laptop'\n",
    "else:\n",
    "    environment_running = 0"
   ]
  },
  {
   "cell_type": "markdown",
   "metadata": {},
   "source": [
    "# IMPORTS\n",
    "***"
   ]
  },
  {
   "cell_type": "code",
   "execution_count": 2,
   "metadata": {},
   "outputs": [],
   "source": [
    "import os\n",
    "import time\n",
    "            # data sourcing:\n",
    "import csv\n",
    "            # databases:\n",
    "import sqlite3\n",
    "            # useful other\n",
    "from collections import defaultdict\n",
    "            # data toolkit:\n",
    "import numpy as np\n",
    "import pandas as pd\n",
    "import dask.dataframe as dd\n",
    "            # plotting\n",
    "import matplotlib.pyplot as plt\n",
    "%matplotlib inline  \n",
    "\n",
    "if not environment_running == 'laptop':\n",
    "    %pip install seaborn\n",
    "    # no seaborn by default in AWS SageMaker.\n",
    "    \n",
    "import seaborn as sns"
   ]
  },
  {
   "cell_type": "code",
   "execution_count": 3,
   "metadata": {},
   "outputs": [],
   "source": [
    "from sklearn.pipeline import Pipeline\n",
    "from sklearn.impute import SimpleImputer\n",
    "from sklearn.compose import ColumnTransformer\n",
    "from sklearn.compose import make_column_selector\n",
    "from sklearn.preprocessing import OneHotEncoder, StandardScaler\n",
    "from sklearn.preprocessing import FunctionTransformer\n",
    " # Visualizing Pipelines in HTML\n",
    "from sklearn import set_config; set_config(display='diagram')"
   ]
  },
  {
   "cell_type": "markdown",
   "metadata": {},
   "source": [
    "## Establish paths"
   ]
  },
  {
   "cell_type": "code",
   "execution_count": 4,
   "metadata": {},
   "outputs": [],
   "source": [
    "# check raw data archive path extant:\n",
    "atp_data_path = os.path.join('..','raw_data','archive')\n",
    "assert os.path.exists(atp_data_path)\n",
    "\n",
    "# set read_data path for chunking later on:\n",
    "read_data_path = os.path.join('..','raw_data','read_data')\n",
    "assert os.path.exists(read_data_path) \n",
    "\n",
    "# check initial data file expected are extant:\n",
    "matches_data_path_full = os.path.join(atp_data_path, 'all_matches.csv')\n",
    "assert os.path.exists(matches_data_path_full)"
   ]
  },
  {
   "cell_type": "markdown",
   "metadata": {},
   "source": [
    "# Show getting 50k rows works:"
   ]
  },
  {
   "cell_type": "code",
   "execution_count": 5,
   "metadata": {},
   "outputs": [
    {
     "name": "stderr",
     "output_type": "stream",
     "text": [
      "/tmp/ipykernel_29624/2131584680.py:3: DtypeWarning: Columns (8,10,45,48) have mixed types. Specify dtype option on import or set low_memory=False.\n",
      "  matches_df_1st_50k = pd.read_csv(matches_data_path_full, nrows=50_000, index_col=None).astype(schema)\n"
     ]
    }
   ],
   "source": [
    "# this works to convert dates as reading in. good news\n",
    "schema = {'start_date': 'datetime64[ns]', 'end_date': 'datetime64[ns]'}\n",
    "matches_df_1st_50k = pd.read_csv(matches_data_path_full, nrows=50_000, index_col=None).astype(schema)"
   ]
  },
  {
   "cell_type": "code",
   "execution_count": 6,
   "metadata": {},
   "outputs": [
    {
     "data": {
      "text/plain": [
       "start_date       datetime64[ns]\n",
       "end_date         datetime64[ns]\n",
       "location                 object\n",
       "court_surface            object\n",
       "prize_money             float64\n",
       "dtype: object"
      ]
     },
     "execution_count": 6,
     "metadata": {},
     "output_type": "execute_result"
    }
   ],
   "source": [
    "matches_df_1st_50k.dtypes.head()\n",
    "# this confirms astype(schema) works, so date manipulation is available"
   ]
  },
  {
   "cell_type": "code",
   "execution_count": 7,
   "metadata": {},
   "outputs": [
    {
     "data": {
      "text/plain": [
       "Index(['start_date', 'end_date', 'location', 'court_surface', 'prize_money',\n",
       "       'currency', 'year', 'player_id', 'player_name', 'opponent_id',\n",
       "       'opponent_name', 'tournament', 'round', 'num_sets', 'sets_won',\n",
       "       'games_won', 'games_against', 'tiebreaks_won', 'tiebreaks_total',\n",
       "       'serve_rating', 'aces', 'double_faults', 'first_serve_made',\n",
       "       'first_serve_attempted', 'first_serve_points_made',\n",
       "       'first_serve_points_attempted', 'second_serve_points_made',\n",
       "       'second_serve_points_attempted', 'break_points_saved',\n",
       "       'break_points_against', 'service_games_won', 'return_rating',\n",
       "       'first_serve_return_points_made', 'first_serve_return_points_attempted',\n",
       "       'second_serve_return_points_made',\n",
       "       'second_serve_return_points_attempted', 'break_points_made',\n",
       "       'break_points_attempted', 'return_games_played', 'service_points_won',\n",
       "       'service_points_attempted', 'return_points_won',\n",
       "       'return_points_attempted', 'total_points_won', 'total_points',\n",
       "       'duration', 'player_victory', 'retirement', 'seed', 'won_first_set',\n",
       "       'doubles', 'masters', 'round_num', 'nation'],\n",
       "      dtype='object')"
      ]
     },
     "execution_count": 7,
     "metadata": {},
     "output_type": "execute_result"
    }
   ],
   "source": [
    "matches_df_1st_50k.columns"
   ]
  },
  {
   "cell_type": "markdown",
   "metadata": {},
   "source": [
    "# Organise for broad categories of column"
   ]
  },
  {
   "cell_type": "code",
   "execution_count": 8,
   "metadata": {},
   "outputs": [],
   "source": [
    "# keep a simple dict of columns to see how full they are\n",
    "# could use a simple .count() but going to run across mutiple chunks, and only want to see specific columns\n",
    "check_completeness = {'start_date': 0, 'end_date': 0, 'player_name': 0, \n",
    "                      'duration': 0\n",
    "                      }\n",
    "check_key_distinguishing_columns = {'doubles': 0, 'masters': 0, 'nation': 0\n",
    "                                    , 'seed': 0, 'prize_money': 0,}\n",
    "check_numerical_columns = {'prize_money': 0,'sets_won': 0,'games_won': 0,  \n",
    "                           'games_against': 0, 'tiebreaks_won': 0,  'tiebreaks_total': 0,\n",
    "                      'serve_rating': 0, 'aces': 0, \n",
    "                      'double_faults': 0, 'first_serve_made': 0, \n",
    "                      'first_serve_attempted': 0, 'first_serve_points_made': 0,  \n",
    "                      'first_serve_points_attempted': 0, 'second_serve_points_made': 0, \n",
    "                      'second_serve_points_attempted': 0, 'break_points_saved': 0, \n",
    "                      'break_points_against': 0, 'service_games_won': 0, \n",
    "                      'return_rating': 0, 'first_serve_return_points_made': 0, \n",
    "                      'first_serve_return_points_attempted': 0, 'second_serve_return_points_made': 0, \n",
    "                      'second_serve_return_points_attempted': 0, 'break_points_made': 0, \n",
    "                      'break_points_attempted': 0, 'return_games_played': 0, \n",
    "                      'service_points_won': 0, 'service_points_attempted': 0, \n",
    "                      'return_points_won': 0, 'return_points_attempted': 0, \n",
    "                      'total_points_won': 0, 'total_points': 0, \n",
    "                      'duration': 0, \n",
    "                      # distinguishing column:\n",
    "                      'round_num': 0\n",
    "                      }\n",
    "check_mixed_columns = {'seed': 0, 'currency': 0, 'player_name': 0, 'opponent_name': 0, 'duration': 0}\n",
    "check_boolean_columns = {'player_victory': 0, 'retirement': 0, 'won_first_set': 0}"
   ]
  },
  {
   "cell_type": "code",
   "execution_count": 9,
   "metadata": {},
   "outputs": [],
   "source": [
    "# queries \n",
    "single_date_query = {\"start_date > 2010\": 0}\n",
    "single_year_query = {\"year > 2010\": 0}\n"
   ]
  },
  {
   "cell_type": "code",
   "execution_count": 10,
   "metadata": {},
   "outputs": [
    {
     "data": {
      "image/png": "[encoded data removed]",
      "text/plain": [
       "<Figure size 640x480 with 1 Axes>"
      ]
     },
     "metadata": {},
     "output_type": "display_data"
    }
   ],
   "source": [
    "plt.plot(matches_df_1st_50k.player_victory);"
   ]
  },
  {
   "cell_type": "markdown",
   "metadata": {},
   "source": [
    "### Boolean transformer, can apply to many columns"
   ]
  },
  {
   "cell_type": "code",
   "execution_count": 11,
   "metadata": {},
   "outputs": [],
   "source": [
    "\n",
    "boolean_transformer = Pipeline([\n",
    "    ('fill_empties', SimpleImputer(strategy='constant', missing_values=np.nan, fill_value=\"empty\")),\n",
    "    ('impute_t_is_true', SimpleImputer(strategy='constant', missing_values=\"t\", fill_value=True)),\n",
    "    ('impute_f_is_false', SimpleImputer(strategy='constant', missing_values=\"f\", fill_value=False)),\n",
    "])"
   ]
  },
  {
   "cell_type": "code",
   "execution_count": null,
   "metadata": {},
   "outputs": [],
   "source": []
  },
  {
   "cell_type": "code",
   "execution_count": 12,
   "metadata": {},
   "outputs": [],
   "source": [
    "# Create preprocessor with transformers\n",
    "preprocessor = ColumnTransformer(\n",
    "    transformers=[\n",
    "        ('bools', boolean_transformer, list(check_boolean_columns.keys())),\n",
    "        \n",
    "    ],remainder='passthrough'\n",
    "    )"
   ]
  },
  {
   "cell_type": "code",
   "execution_count": 13,
   "metadata": {},
   "outputs": [
    {
     "data": {
      "text/html": [
       "<style>#sk-container-id-1 {color: black;}#sk-container-id-1 pre{padding: 0;}#sk-container-id-1 div.sk-toggleable {background-color: white;}#sk-container-id-1 label.sk-toggleable__label {cursor: pointer;display: block;width: 100%;margin-bottom: 0;padding: 0.3em;box-sizing: border-box;text-align: center;}#sk-container-id-1 label.sk-toggleable__label-arrow:before {content: \"▸\";float: left;margin-right: 0.25em;color: #696969;}#sk-container-id-1 label.sk-toggleable__label-arrow:hover:before {color: black;}#sk-container-id-1 div.sk-estimator:hover label.sk-toggleable__label-arrow:before {color: black;}#sk-container-id-1 div.sk-toggleable__content {max-height: 0;max-width: 0;overflow: hidden;text-align: left;background-color: #f0f8ff;}#sk-container-id-1 div.sk-toggleable__content pre {margin: 0.2em;color: black;border-radius: 0.25em;background-color: #f0f8ff;}#sk-container-id-1 input.sk-toggleable__control:checked~div.sk-toggleable__content {max-height: 200px;max-width: 100%;overflow: auto;}#sk-container-id-1 input.sk-toggleable__control:checked~label.sk-toggleable__label-arrow:before {content: \"▾\";}#sk-container-id-1 div.sk-estimator input.sk-toggleable__control:checked~label.sk-toggleable__label {background-color: #d4ebff;}#sk-container-id-1 div.sk-label input.sk-toggleable__control:checked~label.sk-toggleable__label {background-color: #d4ebff;}#sk-container-id-1 input.sk-hidden--visually {border: 0;clip: rect(1px 1px 1px 1px);clip: rect(1px, 1px, 1px, 1px);height: 1px;margin: -1px;overflow: hidden;padding: 0;position: absolute;width: 1px;}#sk-container-id-1 div.sk-estimator {font-family: monospace;background-color: #f0f8ff;border: 1px dotted black;border-radius: 0.25em;box-sizing: border-box;margin-bottom: 0.5em;}#sk-container-id-1 div.sk-estimator:hover {background-color: #d4ebff;}#sk-container-id-1 div.sk-parallel-item::after {content: \"\";width: 100%;border-bottom: 1px solid gray;flex-grow: 1;}#sk-container-id-1 div.sk-label:hover label.sk-toggleable__label {background-color: #d4ebff;}#sk-container-id-1 div.sk-serial::before {content: \"\";position: absolute;border-left: 1px solid gray;box-sizing: border-box;top: 0;bottom: 0;left: 50%;z-index: 0;}#sk-container-id-1 div.sk-serial {display: flex;flex-direction: column;align-items: center;background-color: white;padding-right: 0.2em;padding-left: 0.2em;position: relative;}#sk-container-id-1 div.sk-item {position: relative;z-index: 1;}#sk-container-id-1 div.sk-parallel {display: flex;align-items: stretch;justify-content: center;background-color: white;position: relative;}#sk-container-id-1 div.sk-item::before, #sk-container-id-1 div.sk-parallel-item::before {content: \"\";position: absolute;border-left: 1px solid gray;box-sizing: border-box;top: 0;bottom: 0;left: 50%;z-index: -1;}#sk-container-id-1 div.sk-parallel-item {display: flex;flex-direction: column;z-index: 1;position: relative;background-color: white;}#sk-container-id-1 div.sk-parallel-item:first-child::after {align-self: flex-end;width: 50%;}#sk-container-id-1 div.sk-parallel-item:last-child::after {align-self: flex-start;width: 50%;}#sk-container-id-1 div.sk-parallel-item:only-child::after {width: 0;}#sk-container-id-1 div.sk-dashed-wrapped {border: 1px dashed gray;margin: 0 0.4em 0.5em 0.4em;box-sizing: border-box;padding-bottom: 0.4em;background-color: white;}#sk-container-id-1 div.sk-label label {font-family: monospace;font-weight: bold;display: inline-block;line-height: 1.2em;}#sk-container-id-1 div.sk-label-container {text-align: center;}#sk-container-id-1 div.sk-container {/* jupyter's `normalize.less` sets `[hidden] { display: none; }` but bootstrap.min.css set `[hidden] { display: none !important; }` so we also need the `!important` here to be able to override the default hidden behavior on the sphinx rendered scikit-learn.org. See: https://github.com/scikit-learn/scikit-learn/issues/21755 */display: inline-block !important;position: relative;}#sk-container-id-1 div.sk-text-repr-fallback {display: none;}</style><div id=\"sk-container-id-1\" class=\"sk-top-container\"><div class=\"sk-text-repr-fallback\"><pre>ColumnTransformer(remainder=&#x27;passthrough&#x27;,\n",
       "                  transformers=[(&#x27;bools&#x27;,\n",
       "                                 Pipeline(steps=[(&#x27;fill_empties&#x27;,\n",
       "                                                  SimpleImputer(fill_value=&#x27;empty&#x27;,\n",
       "                                                                strategy=&#x27;constant&#x27;)),\n",
       "                                                 (&#x27;impute_t_is_true&#x27;,\n",
       "                                                  SimpleImputer(fill_value=True,\n",
       "                                                                missing_values=&#x27;t&#x27;,\n",
       "                                                                strategy=&#x27;constant&#x27;)),\n",
       "                                                 (&#x27;impute_f_is_false&#x27;,\n",
       "                                                  SimpleImputer(fill_value=False,\n",
       "                                                                missing_values=&#x27;f&#x27;,\n",
       "                                                                strategy=&#x27;constant&#x27;))]),\n",
       "                                 [&#x27;player_victory&#x27;, &#x27;retirement&#x27;,\n",
       "                                  &#x27;won_first_set&#x27;])])</pre><b>In a Jupyter environment, please rerun this cell to show the HTML representation or trust the notebook. <br />On GitHub, the HTML representation is unable to render, please try loading this page with nbviewer.org.</b></div><div class=\"sk-container\" hidden><div class=\"sk-item sk-dashed-wrapped\"><div class=\"sk-label-container\"><div class=\"sk-label sk-toggleable\"><input class=\"sk-toggleable__control sk-hidden--visually\" id=\"sk-estimator-id-1\" type=\"checkbox\" ><label for=\"sk-estimator-id-1\" class=\"sk-toggleable__label sk-toggleable__label-arrow\">ColumnTransformer</label><div class=\"sk-toggleable__content\"><pre>ColumnTransformer(remainder=&#x27;passthrough&#x27;,\n",
       "                  transformers=[(&#x27;bools&#x27;,\n",
       "                                 Pipeline(steps=[(&#x27;fill_empties&#x27;,\n",
       "                                                  SimpleImputer(fill_value=&#x27;empty&#x27;,\n",
       "                                                                strategy=&#x27;constant&#x27;)),\n",
       "                                                 (&#x27;impute_t_is_true&#x27;,\n",
       "                                                  SimpleImputer(fill_value=True,\n",
       "                                                                missing_values=&#x27;t&#x27;,\n",
       "                                                                strategy=&#x27;constant&#x27;)),\n",
       "                                                 (&#x27;impute_f_is_false&#x27;,\n",
       "                                                  SimpleImputer(fill_value=False,\n",
       "                                                                missing_values=&#x27;f&#x27;,\n",
       "                                                                strategy=&#x27;constant&#x27;))]),\n",
       "                                 [&#x27;player_victory&#x27;, &#x27;retirement&#x27;,\n",
       "                                  &#x27;won_first_set&#x27;])])</pre></div></div></div><div class=\"sk-parallel\"><div class=\"sk-parallel-item\"><div class=\"sk-item\"><div class=\"sk-label-container\"><div class=\"sk-label sk-toggleable\"><input class=\"sk-toggleable__control sk-hidden--visually\" id=\"sk-estimator-id-2\" type=\"checkbox\" ><label for=\"sk-estimator-id-2\" class=\"sk-toggleable__label sk-toggleable__label-arrow\">bools</label><div class=\"sk-toggleable__content\"><pre>[&#x27;player_victory&#x27;, &#x27;retirement&#x27;, &#x27;won_first_set&#x27;]</pre></div></div></div><div class=\"sk-serial\"><div class=\"sk-item\"><div class=\"sk-serial\"><div class=\"sk-item\"><div class=\"sk-estimator sk-toggleable\"><input class=\"sk-toggleable__control sk-hidden--visually\" id=\"sk-estimator-id-3\" type=\"checkbox\" ><label for=\"sk-estimator-id-3\" class=\"sk-toggleable__label sk-toggleable__label-arrow\">SimpleImputer</label><div class=\"sk-toggleable__content\"><pre>SimpleImputer(fill_value=&#x27;empty&#x27;, strategy=&#x27;constant&#x27;)</pre></div></div></div><div class=\"sk-item\"><div class=\"sk-estimator sk-toggleable\"><input class=\"sk-toggleable__control sk-hidden--visually\" id=\"sk-estimator-id-4\" type=\"checkbox\" ><label for=\"sk-estimator-id-4\" class=\"sk-toggleable__label sk-toggleable__label-arrow\">SimpleImputer</label><div class=\"sk-toggleable__content\"><pre>SimpleImputer(fill_value=True, missing_values=&#x27;t&#x27;, strategy=&#x27;constant&#x27;)</pre></div></div></div><div class=\"sk-item\"><div class=\"sk-estimator sk-toggleable\"><input class=\"sk-toggleable__control sk-hidden--visually\" id=\"sk-estimator-id-5\" type=\"checkbox\" ><label for=\"sk-estimator-id-5\" class=\"sk-toggleable__label sk-toggleable__label-arrow\">SimpleImputer</label><div class=\"sk-toggleable__content\"><pre>SimpleImputer(fill_value=False, missing_values=&#x27;f&#x27;, strategy=&#x27;constant&#x27;)</pre></div></div></div></div></div></div></div></div><div class=\"sk-parallel-item\"><div class=\"sk-item\"><div class=\"sk-label-container\"><div class=\"sk-label sk-toggleable\"><input class=\"sk-toggleable__control sk-hidden--visually\" id=\"sk-estimator-id-6\" type=\"checkbox\" ><label for=\"sk-estimator-id-6\" class=\"sk-toggleable__label sk-toggleable__label-arrow\">remainder</label><div class=\"sk-toggleable__content\"><pre></pre></div></div></div><div class=\"sk-serial\"><div class=\"sk-item\"><div class=\"sk-estimator sk-toggleable\"><input class=\"sk-toggleable__control sk-hidden--visually\" id=\"sk-estimator-id-7\" type=\"checkbox\" ><label for=\"sk-estimator-id-7\" class=\"sk-toggleable__label sk-toggleable__label-arrow\">passthrough</label><div class=\"sk-toggleable__content\"><pre>passthrough</pre></div></div></div></div></div></div></div></div></div></div>"
      ],
      "text/plain": [
       "ColumnTransformer(remainder='passthrough',\n",
       "                  transformers=[('bools',\n",
       "                                 Pipeline(steps=[('fill_empties',\n",
       "                                                  SimpleImputer(fill_value='empty',\n",
       "                                                                strategy='constant')),\n",
       "                                                 ('impute_t_is_true',\n",
       "                                                  SimpleImputer(fill_value=True,\n",
       "                                                                missing_values='t',\n",
       "                                                                strategy='constant')),\n",
       "                                                 ('impute_f_is_false',\n",
       "                                                  SimpleImputer(fill_value=False,\n",
       "                                                                missing_values='f',\n",
       "                                                                strategy='constant'))]),\n",
       "                                 ['player_victory', 'retirement',\n",
       "                                  'won_first_set'])])"
      ]
     },
     "execution_count": 13,
     "metadata": {},
     "output_type": "execute_result"
    }
   ],
   "source": [
    "preprocessor # check preprocessor"
   ]
  },
  {
   "cell_type": "code",
   "execution_count": 14,
   "metadata": {},
   "outputs": [],
   "source": [
    "# Build the pipeline with the different steps\n",
    "pipe = Pipeline([\n",
    "    ('preprocessor', preprocessor),\n",
    "])"
   ]
  },
  {
   "cell_type": "markdown",
   "metadata": {},
   "source": [
    "### Prepare, so can tell if pipeline worked as intended: "
   ]
  },
  {
   "cell_type": "code",
   "execution_count": 15,
   "metadata": {},
   "outputs": [
    {
     "data": {
      "text/html": [
       "<div>\n",
       "<style scoped>\n",
       "    .dataframe tbody tr th:only-of-type {\n",
       "        vertical-align: middle;\n",
       "    }\n",
       "\n",
       "    .dataframe tbody tr th {\n",
       "        vertical-align: top;\n",
       "    }\n",
       "\n",
       "    .dataframe thead th {\n",
       "        text-align: right;\n",
       "    }\n",
       "</style>\n",
       "<table border=\"1\" class=\"dataframe\">\n",
       "  <thead>\n",
       "    <tr style=\"text-align: right;\">\n",
       "      <th></th>\n",
       "      <th>player_victory</th>\n",
       "      <th>retirement</th>\n",
       "      <th>won_first_set</th>\n",
       "    </tr>\n",
       "  </thead>\n",
       "  <tbody>\n",
       "    <tr>\n",
       "      <th>0</th>\n",
       "      <td>f</td>\n",
       "      <td>f</td>\n",
       "      <td>f</td>\n",
       "    </tr>\n",
       "    <tr>\n",
       "      <th>1</th>\n",
       "      <td>t</td>\n",
       "      <td>f</td>\n",
       "      <td>t</td>\n",
       "    </tr>\n",
       "    <tr>\n",
       "      <th>2</th>\n",
       "      <td>f</td>\n",
       "      <td>f</td>\n",
       "      <td>f</td>\n",
       "    </tr>\n",
       "    <tr>\n",
       "      <th>3</th>\n",
       "      <td>f</td>\n",
       "      <td>f</td>\n",
       "      <td>t</td>\n",
       "    </tr>\n",
       "    <tr>\n",
       "      <th>4</th>\n",
       "      <td>t</td>\n",
       "      <td>f</td>\n",
       "      <td>t</td>\n",
       "    </tr>\n",
       "  </tbody>\n",
       "</table>\n",
       "</div>"
      ],
      "text/plain": [
       "  player_victory retirement won_first_set\n",
       "0              f          f             f\n",
       "1              t          f             t\n",
       "2              f          f             f\n",
       "3              f          f             t\n",
       "4              t          f             t"
      ]
     },
     "execution_count": 15,
     "metadata": {},
     "output_type": "execute_result"
    }
   ],
   "source": [
    "matches_df_1st_50k[check_boolean_columns.keys()].head()\n"
   ]
  },
  {
   "cell_type": "markdown",
   "metadata": {},
   "source": [
    "## Apply Pipeline:"
   ]
  },
  {
   "cell_type": "code",
   "execution_count": 16,
   "metadata": {},
   "outputs": [],
   "source": [
    "matches_booleans = pipe.fit_transform(matches_df_1st_50k) \n"
   ]
  },
  {
   "cell_type": "code",
   "execution_count": 17,
   "metadata": {},
   "outputs": [
    {
     "data": {
      "text/plain": [
       "array([[False, False, False, ..., 100, 1, 'Slovakia'],\n",
       "       [True, False, True, ..., 100, 0, 'Slovakia'],\n",
       "       [False, False, False, ..., 100, 3, 'Slovakia'],\n",
       "       ...,\n",
       "       [True, False, True, ..., 25, 6, 'DEN'],\n",
       "       [True, False, True, ..., 25, 4, 'DEN'],\n",
       "       [True, False, True, ..., 25, 5, 'DEN']], dtype=object)"
      ]
     },
     "execution_count": 17,
     "metadata": {},
     "output_type": "execute_result"
    }
   ],
   "source": [
    "matches_booleans"
   ]
  },
  {
   "cell_type": "code",
   "execution_count": 18,
   "metadata": {},
   "outputs": [],
   "source": [
    "# convert back into dataframe, with (updated) column headings\n",
    "matches_booleans = pd.DataFrame(\n",
    "    matches_booleans,\n",
    "    columns=preprocessor.get_feature_names_out()\n",
    ").convert_dtypes().head()"
   ]
  },
  {
   "cell_type": "code",
   "execution_count": 19,
   "metadata": {},
   "outputs": [
    {
     "data": {
      "text/html": [
       "<div>\n",
       "<style scoped>\n",
       "    .dataframe tbody tr th:only-of-type {\n",
       "        vertical-align: middle;\n",
       "    }\n",
       "\n",
       "    .dataframe tbody tr th {\n",
       "        vertical-align: top;\n",
       "    }\n",
       "\n",
       "    .dataframe thead th {\n",
       "        text-align: right;\n",
       "    }\n",
       "</style>\n",
       "<table border=\"1\" class=\"dataframe\">\n",
       "  <thead>\n",
       "    <tr style=\"text-align: right;\">\n",
       "      <th></th>\n",
       "      <th>bools__player_victory</th>\n",
       "      <th>bools__retirement</th>\n",
       "      <th>bools__won_first_set</th>\n",
       "      <th>remainder__start_date</th>\n",
       "      <th>remainder__end_date</th>\n",
       "      <th>remainder__location</th>\n",
       "      <th>remainder__court_surface</th>\n",
       "      <th>remainder__prize_money</th>\n",
       "      <th>remainder__currency</th>\n",
       "      <th>remainder__year</th>\n",
       "      <th>...</th>\n",
       "      <th>remainder__return_points_won</th>\n",
       "      <th>remainder__return_points_attempted</th>\n",
       "      <th>remainder__total_points_won</th>\n",
       "      <th>remainder__total_points</th>\n",
       "      <th>remainder__duration</th>\n",
       "      <th>remainder__seed</th>\n",
       "      <th>remainder__doubles</th>\n",
       "      <th>remainder__masters</th>\n",
       "      <th>remainder__round_num</th>\n",
       "      <th>remainder__nation</th>\n",
       "    </tr>\n",
       "  </thead>\n",
       "  <tbody>\n",
       "    <tr>\n",
       "      <th>0</th>\n",
       "      <td>False</td>\n",
       "      <td>False</td>\n",
       "      <td>False</td>\n",
       "      <td>2012-06-11</td>\n",
       "      <td>2012-06-17</td>\n",
       "      <td>Slovakia</td>\n",
       "      <td>Clay</td>\n",
       "      <td>30000</td>\n",
       "      <td>€</td>\n",
       "      <td>2012</td>\n",
       "      <td>...</td>\n",
       "      <td>16</td>\n",
       "      <td>44</td>\n",
       "      <td>32</td>\n",
       "      <td>88</td>\n",
       "      <td>01:02:00</td>\n",
       "      <td>NaN</td>\n",
       "      <td>f</td>\n",
       "      <td>100</td>\n",
       "      <td>1</td>\n",
       "      <td>Slovakia</td>\n",
       "    </tr>\n",
       "    <tr>\n",
       "      <th>1</th>\n",
       "      <td>True</td>\n",
       "      <td>False</td>\n",
       "      <td>True</td>\n",
       "      <td>2012-06-11</td>\n",
       "      <td>2012-06-17</td>\n",
       "      <td>Slovakia</td>\n",
       "      <td>Clay</td>\n",
       "      <td>30000</td>\n",
       "      <td>€</td>\n",
       "      <td>2012</td>\n",
       "      <td>...</td>\n",
       "      <td>38</td>\n",
       "      <td>91</td>\n",
       "      <td>101</td>\n",
       "      <td>195</td>\n",
       "      <td>02:43:00</td>\n",
       "      <td>NaN</td>\n",
       "      <td>f</td>\n",
       "      <td>100</td>\n",
       "      <td>0</td>\n",
       "      <td>Slovakia</td>\n",
       "    </tr>\n",
       "    <tr>\n",
       "      <th>2</th>\n",
       "      <td>False</td>\n",
       "      <td>False</td>\n",
       "      <td>False</td>\n",
       "      <td>2012-06-11</td>\n",
       "      <td>2012-06-17</td>\n",
       "      <td>Slovakia</td>\n",
       "      <td>Clay</td>\n",
       "      <td>30000</td>\n",
       "      <td>€</td>\n",
       "      <td>2012</td>\n",
       "      <td>...</td>\n",
       "      <td>28</td>\n",
       "      <td>72</td>\n",
       "      <td>56</td>\n",
       "      <td>126</td>\n",
       "      <td>01:17:00</td>\n",
       "      <td>NaN</td>\n",
       "      <td>f</td>\n",
       "      <td>100</td>\n",
       "      <td>3</td>\n",
       "      <td>Slovakia</td>\n",
       "    </tr>\n",
       "    <tr>\n",
       "      <th>3</th>\n",
       "      <td>False</td>\n",
       "      <td>False</td>\n",
       "      <td>True</td>\n",
       "      <td>2012-06-11</td>\n",
       "      <td>2012-06-17</td>\n",
       "      <td>Slovakia</td>\n",
       "      <td>Clay</td>\n",
       "      <td>30000</td>\n",
       "      <td>€</td>\n",
       "      <td>2012</td>\n",
       "      <td>...</td>\n",
       "      <td>&lt;NA&gt;</td>\n",
       "      <td>&lt;NA&gt;</td>\n",
       "      <td>&lt;NA&gt;</td>\n",
       "      <td>&lt;NA&gt;</td>\n",
       "      <td>&lt;NA&gt;</td>\n",
       "      <td>NaN</td>\n",
       "      <td>t</td>\n",
       "      <td>100</td>\n",
       "      <td>4</td>\n",
       "      <td>Slovakia</td>\n",
       "    </tr>\n",
       "    <tr>\n",
       "      <th>4</th>\n",
       "      <td>True</td>\n",
       "      <td>False</td>\n",
       "      <td>True</td>\n",
       "      <td>2012-06-11</td>\n",
       "      <td>2012-06-17</td>\n",
       "      <td>Slovakia</td>\n",
       "      <td>Clay</td>\n",
       "      <td>30000</td>\n",
       "      <td>€</td>\n",
       "      <td>2012</td>\n",
       "      <td>...</td>\n",
       "      <td>31</td>\n",
       "      <td>90</td>\n",
       "      <td>100</td>\n",
       "      <td>194</td>\n",
       "      <td>02:32:00</td>\n",
       "      <td>1</td>\n",
       "      <td>f</td>\n",
       "      <td>100</td>\n",
       "      <td>3</td>\n",
       "      <td>Slovakia</td>\n",
       "    </tr>\n",
       "  </tbody>\n",
       "</table>\n",
       "<p>5 rows × 54 columns</p>\n",
       "</div>"
      ],
      "text/plain": [
       "   bools__player_victory  bools__retirement bools__won_first_set  \\\n",
       "0                  False              False                False   \n",
       "1                   True              False                 True   \n",
       "2                  False              False                False   \n",
       "3                  False              False                 True   \n",
       "4                   True              False                 True   \n",
       "\n",
       "  remainder__start_date remainder__end_date remainder__location  \\\n",
       "0            2012-06-11          2012-06-17            Slovakia   \n",
       "1            2012-06-11          2012-06-17            Slovakia   \n",
       "2            2012-06-11          2012-06-17            Slovakia   \n",
       "3            2012-06-11          2012-06-17            Slovakia   \n",
       "4            2012-06-11          2012-06-17            Slovakia   \n",
       "\n",
       "  remainder__court_surface  remainder__prize_money remainder__currency  \\\n",
       "0                     Clay                   30000                   €   \n",
       "1                     Clay                   30000                   €   \n",
       "2                     Clay                   30000                   €   \n",
       "3                     Clay                   30000                   €   \n",
       "4                     Clay                   30000                   €   \n",
       "\n",
       "   remainder__year  ... remainder__return_points_won  \\\n",
       "0             2012  ...                           16   \n",
       "1             2012  ...                           38   \n",
       "2             2012  ...                           28   \n",
       "3             2012  ...                         <NA>   \n",
       "4             2012  ...                           31   \n",
       "\n",
       "  remainder__return_points_attempted remainder__total_points_won  \\\n",
       "0                                 44                          32   \n",
       "1                                 91                         101   \n",
       "2                                 72                          56   \n",
       "3                               <NA>                        <NA>   \n",
       "4                                 90                         100   \n",
       "\n",
       "  remainder__total_points remainder__duration remainder__seed  \\\n",
       "0                      88            01:02:00             NaN   \n",
       "1                     195            02:43:00             NaN   \n",
       "2                     126            01:17:00             NaN   \n",
       "3                    <NA>                <NA>             NaN   \n",
       "4                     194            02:32:00               1   \n",
       "\n",
       "   remainder__doubles  remainder__masters  remainder__round_num  \\\n",
       "0                   f                 100                     1   \n",
       "1                   f                 100                     0   \n",
       "2                   f                 100                     3   \n",
       "3                   t                 100                     4   \n",
       "4                   f                 100                     3   \n",
       "\n",
       "   remainder__nation  \n",
       "0           Slovakia  \n",
       "1           Slovakia  \n",
       "2           Slovakia  \n",
       "3           Slovakia  \n",
       "4           Slovakia  \n",
       "\n",
       "[5 rows x 54 columns]"
      ]
     },
     "execution_count": 19,
     "metadata": {},
     "output_type": "execute_result"
    }
   ],
   "source": [
    "matches_booleans.head()"
   ]
  },
  {
   "cell_type": "code",
   "execution_count": 20,
   "metadata": {},
   "outputs": [
    {
     "data": {
      "text/plain": [
       "Index(['bools__player_victory', 'bools__retirement', 'bools__won_first_set',\n",
       "       'remainder__start_date', 'remainder__end_date', 'remainder__location',\n",
       "       'remainder__court_surface', 'remainder__prize_money',\n",
       "       'remainder__currency', 'remainder__year', 'remainder__player_id',\n",
       "       'remainder__player_name', 'remainder__opponent_id',\n",
       "       'remainder__opponent_name', 'remainder__tournament', 'remainder__round',\n",
       "       'remainder__num_sets', 'remainder__sets_won', 'remainder__games_won',\n",
       "       'remainder__games_against', 'remainder__tiebreaks_won',\n",
       "       'remainder__tiebreaks_total', 'remainder__serve_rating',\n",
       "       'remainder__aces', 'remainder__double_faults',\n",
       "       'remainder__first_serve_made', 'remainder__first_serve_attempted',\n",
       "       'remainder__first_serve_points_made',\n",
       "       'remainder__first_serve_points_attempted',\n",
       "       'remainder__second_serve_points_made',\n",
       "       'remainder__second_serve_points_attempted',\n",
       "       'remainder__break_points_saved', 'remainder__break_points_against',\n",
       "       'remainder__service_games_won', 'remainder__return_rating',\n",
       "       'remainder__first_serve_return_points_made',\n",
       "       'remainder__first_serve_return_points_attempted',\n",
       "       'remainder__second_serve_return_points_made',\n",
       "       'remainder__second_serve_return_points_attempted',\n",
       "       'remainder__break_points_made', 'remainder__break_points_attempted',\n",
       "       'remainder__return_games_played', 'remainder__service_points_won',\n",
       "       'remainder__service_points_attempted', 'remainder__return_points_won',\n",
       "       'remainder__return_points_attempted', 'remainder__total_points_won',\n",
       "       'remainder__total_points', 'remainder__duration', 'remainder__seed',\n",
       "       'remainder__doubles', 'remainder__masters', 'remainder__round_num',\n",
       "       'remainder__nation'],\n",
       "      dtype='object')"
      ]
     },
     "execution_count": 20,
     "metadata": {},
     "output_type": "execute_result"
    }
   ],
   "source": [
    "matches_booleans.columns"
   ]
  },
  {
   "cell_type": "code",
   "execution_count": 21,
   "metadata": {},
   "outputs": [
    {
     "name": "stdout",
     "output_type": "stream",
     "text": [
      "['player_victory', 'retirement', 'won_first_set', 'start_date', 'end_date', 'location', 'court_surface', 'prize_money', 'currency', 'year', 'player_id', 'player_name', 'opponent_id', 'opponent_name', 'tournament', 'round', 'num_sets', 'sets_won', 'games_won', 'games_against', 'tiebreaks_won', 'tiebreaks_total', 'serve_rating', 'aces', 'double_faults', 'first_serve_made', 'first_serve_attempted', 'first_serve_points_made', 'first_serve_points_attempted', 'second_serve_points_made', 'second_serve_points_attempted', 'break_points_saved', 'break_points_against', 'service_games_won', 'return_rating', 'first_serve_return_points_made', 'first_serve_return_points_attempted', 'second_serve_return_points_made', 'second_serve_return_points_attempted', 'break_points_made', 'break_points_attempted', 'return_games_played', 'service_points_won', 'service_points_attempted', 'return_points_won', 'return_points_attempted', 'total_points_won', 'total_points', 'duration', 'seed', 'doubles', 'masters', 'round_num', 'nation']\n"
     ]
    }
   ],
   "source": [
    "original_cols = [c.split(\"__\")[1] for c in matches_booleans.columns]\n",
    "zipper = zip(matches_booleans.columns, original_cols)\n",
    "print(original_cols)"
   ]
  },
  {
   "cell_type": "code",
   "execution_count": 22,
   "metadata": {},
   "outputs": [],
   "source": [
    "# updated_after_pipe__to_before = {i: old_name for i, old_name in enumerate(zipper)} # new_cols, matches_booleans.columns.values\n",
    "updated_after_pipe__to_before = {i: old_name for i, old_name in zipper} # new_cols, matches_booleans.columns.values"
   ]
  },
  {
   "cell_type": "code",
   "execution_count": 23,
   "metadata": {},
   "outputs": [],
   "source": [
    "# updated_after_pipe__to_before # remove comment to check outcome is as intended"
   ]
  },
  {
   "cell_type": "code",
   "execution_count": 24,
   "metadata": {},
   "outputs": [
    {
     "data": {
      "text/plain": [
       "Index(['player_victory', 'retirement', 'won_first_set', 'start_date',\n",
       "       'end_date', 'location', 'court_surface', 'prize_money', 'currency',\n",
       "       'year', 'player_id', 'player_name', 'opponent_id', 'opponent_name',\n",
       "       'tournament', 'round', 'num_sets', 'sets_won', 'games_won',\n",
       "       'games_against', 'tiebreaks_won', 'tiebreaks_total', 'serve_rating',\n",
       "       'aces', 'double_faults', 'first_serve_made', 'first_serve_attempted',\n",
       "       'first_serve_points_made', 'first_serve_points_attempted',\n",
       "       'second_serve_points_made', 'second_serve_points_attempted',\n",
       "       'break_points_saved', 'break_points_against', 'service_games_won',\n",
       "       'return_rating', 'first_serve_return_points_made',\n",
       "       'first_serve_return_points_attempted',\n",
       "       'second_serve_return_points_made',\n",
       "       'second_serve_return_points_attempted', 'break_points_made',\n",
       "       'break_points_attempted', 'return_games_played', 'service_points_won',\n",
       "       'service_points_attempted', 'return_points_won',\n",
       "       'return_points_attempted', 'total_points_won', 'total_points',\n",
       "       'duration', 'seed', 'doubles', 'masters', 'round_num', 'nation'],\n",
       "      dtype='object')"
      ]
     },
     "execution_count": 24,
     "metadata": {},
     "output_type": "execute_result"
    }
   ],
   "source": [
    "matches_booleans = matches_booleans.rename(columns=updated_after_pipe__to_before)\n",
    "matches_booleans.columns"
   ]
  },
  {
   "cell_type": "code",
   "execution_count": 25,
   "metadata": {},
   "outputs": [
    {
     "data": {
      "text/plain": [
       "player_victory           boolean\n",
       "retirement               boolean\n",
       "won_first_set             object\n",
       "start_date        datetime64[ns]\n",
       "end_date          datetime64[ns]\n",
       "dtype: object"
      ]
     },
     "execution_count": 25,
     "metadata": {},
     "output_type": "execute_result"
    }
   ],
   "source": [
    "matches_booleans.dtypes.head()"
   ]
  },
  {
   "cell_type": "code",
   "execution_count": 26,
   "metadata": {},
   "outputs": [],
   "source": [
    "# check_numerical_columns - got to deal with these too\n",
    "subset_1st_numerical = {k: check_numerical_columns[k] for k in check_numerical_columns.keys() & {'prize_money','sets_won','games_won',  \n",
    "                           'games_against','tiebreaks_won','tiebreaks_total','round_num'}}\n",
    "subset_2nd_numerical = {k: check_numerical_columns[k] for k in check_numerical_columns.keys() & {'serve_rating', 'aces', 'double_faults', 'first_serve_made', 'first_serve_attempted', \n",
    "                                                                                                 'first_serve_points_made', 'first_serve_points_attempted', 'second_serve_points_made', \n",
    "                                                                                                 'second_serve_points_attempted', 'break_points_saved', 'break_points_against', \n",
    "                                                                                                 'service_games_won', 'return_rating', 'first_serve_return_points_made', \n",
    "                                                                                                 'second_serve_return_points_attempted', 'first_serve_return_points_attempted', \n",
    "                                                                                                 'second_serve_return_points_made', 'break_points_made', 'break_points_attempted', \n",
    "                                                                                                 'return_games_played', 'service_points_won', 'service_points_attempted', 'return_points_won', \n",
    "                                                                                                 'return_points_attempted', 'total_points_won', 'total_points', 'duration'}}\n"
   ]
  },
  {
   "cell_type": "code",
   "execution_count": 27,
   "metadata": {},
   "outputs": [],
   "source": [
    "# NOTED DOWN FROM ATP SITE 24 06 25 (need to understand if % or float etc) => columns in existing data\n",
    "# - Aces => aces\n",
    "# - 1st Serve => first_serve_made\n",
    "# - 1st Serve points won => first_serve_points_made\n",
    "# - 2nd Serve => second_serve_points_made\n",
    "# - 2nd Serve points won => second_serve_points_made\n",
    "# - Service Games won => service_games_won\n",
    "# - Break Points saved => break_points_saved\n",
    "# - 1st Serve Return Points won => first_serve_return_points_made\n",
    "# - 2nd Serve Return Points won => second_serve_return_points_made\n",
    "# - Break Points Converted => break_points_made\n",
    "# - Return Games won => ???"
   ]
  },
  {
   "cell_type": "code",
   "execution_count": 32,
   "metadata": {},
   "outputs": [],
   "source": [
    "data_atp_provide_col_subset = ['aces', 'first_serve_made', 'first_serve_points_made', \n",
    "                    'second_serve_points_made', 'second_serve_points_made', \n",
    "                    'service_games_won', 'break_points_saved', \n",
    "                    'first_serve_return_points_made', 'second_serve_return_points_made', 'break_points_made']"
   ]
  },
  {
   "cell_type": "markdown",
   "metadata": {},
   "source": [
    "# Run through full dataset"
   ]
  },
  {
   "cell_type": "code",
   "execution_count": null,
   "metadata": {},
   "outputs": [],
   "source": [
    "# REFACTOR HERE! >>>>>>>>>>>>>>>>>>>>>>>>>>>>> \n",
    "\n",
    "# to go through all the sample data set\n",
    "if run_through_hefty_EDA_cells:\n",
    "    \n",
    "    start = time.time()\n",
    "    ave_bytes = 0\n",
    "    count = 0\n",
    "    total_bytes = 0\n",
    "\n",
    "    # this works to convert dates as reading in. good news\n",
    "    schema = {'start_date': 'datetime64[ns]', 'end_date': 'datetime64[ns]'}\n",
    "\n",
    "    csv_files = get_count_csvs(read_data_path)          \n",
    "    if len(csv_files) == 0:\n",
    "        chunk_count = 0\n",
    "        # This enumerate function selects repeated chunks of XXX rows of data \n",
    "        for index, read_chunk in enumerate(pd.read_csv(matches_data_path_full\n",
    "                                                    , chunksize= 100_000\n",
    "                                                    # usecols = list(check_completeness.keys()), # can be index based (but not -1): [0, 7]\n",
    "                                                    #, parse_dates=True\n",
    "                                                    ),\n",
    "                                            start=1):\n",
    "            chunk_count += 100_000\n",
    "            print(f\"{index} so done with {chunk_count}\")\n",
    "            # output\n",
    "            output_path = os.path.join(read_data_path,f\"read_data_{index}.csv\")\n",
    "            read_chunk.to_csv(output_path, index=False)\n",
    "        \n",
    "    csv_files = get_count_csvs(read_data_path) # get the files now created\n",
    "    for index, csv in enumerate(csv_files): # read back in in manageable quantities, with astype etc\n",
    "        chunk = pd.read_csv(csv, index_col=None).astype(schema)\n",
    "        this_bytes = chunk.memory_usage().sum()\n",
    "        total_bytes += this_bytes\n",
    "        # count data points and accumulate in the various dicts\n",
    "        check_completeness = check_through_count(chunk, check_completeness)\n",
    "        check_key_distinguishing_columns = check_through_count(chunk, check_key_distinguishing_columns)\n",
    "        check_numerical_columns = check_through_count(chunk, check_numerical_columns)\n",
    "        check_mixed_columns = check_through_count(chunk, check_mixed_columns)\n",
    "        check_boolean_columns = check_through_count(chunk, check_boolean_columns)\n",
    "        date_query_result = count_by_date(chunk, single_date_query)\n",
    "        na_check = na_count(chunk, na_checks)\n",
    "\n",
    "    print(f\"Total number of chunks: {index}\")\n",
    "    print(f\"Total memory, MB: {round(total_bytes/100_000,0):,}\")\n",
    "    ave_bytes = total_bytes / index\n",
    "    print(f\"Average MB per loop: {round(ave_bytes/100_000,0):,}\")\n",
    "    print(check_completeness)\n",
    "\n",
    "    print(round(time.time() - start,2), ' seconds')\n",
    "\n",
    "    # Total number of chunks: 43 ______________________ of 100_000 rows\n",
    "    # Total memory, MB: 18,558.0\n",
    "    # Average MB per loop: 432.0\n",
    "    # {'start_date': 4395827, 'end_date': 4295393, 'player_name': 375001, 'duration': 372823}\n",
    "    # 72.15  seconds"
   ]
  }
 ],
 "metadata": {
  "kernelspec": {
   "display_name": "atp",
   "language": "python",
   "name": "python3"
  },
  "language_info": {
   "codemirror_mode": {
    "name": "ipython",
    "version": 3
   },
   "file_extension": ".py",
   "mimetype": "text/x-python",
   "name": "python",
   "nbconvert_exporter": "python",
   "pygments_lexer": "ipython3",
   "version": "3.10.6"
  }
 },
 "nbformat": 4,
 "nbformat_minor": 2
}
