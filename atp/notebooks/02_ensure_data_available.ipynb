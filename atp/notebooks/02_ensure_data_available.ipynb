{
 "cells": [
  {
   "cell_type": "markdown",
   "metadata": {},
   "source": [
    "## Check where this runs\n",
    "***"
   ]
  },
  {
   "cell_type": "code",
   "execution_count": 6,
   "metadata": {},
   "outputs": [
    {
     "name": "stdout",
     "output_type": "stream",
     "text": [
      "hughharford\n",
      "environ({'BUNDLER_EDITOR': 'code', 'CHROME_DESKTOP': 'code-url-handler.desktop', 'COLORTERM': 'truecolor', 'DBUS_SESSION_BUS_ADDRESS': 'unix:path=/run/user/1000/bus', 'DESKTOP_SESSION': 'ubuntu', 'DISPLAY': ':0', 'EDITOR': 'code', 'ELECTRON_NO_ATTACH_CONSOLE': '1', 'GDK_BACKEND': 'x11', 'GDMSESSION': 'ubuntu', 'GNOME_DESKTOP_SESSION_ID': 'this-is-deprecated', 'GNOME_SETUP_DISPLAY': ':1', 'GNOME_SHELL_SESSION_MODE': 'ubuntu', 'GNOME_TERMINAL_SCREEN': '/org/gnome/Terminal/screen/e92213ce_d4ff_4a49_ae11_4f76d98fd6f1', 'GNOME_TERMINAL_SERVICE': ':1.102', 'GTK_MODULES': 'gail:atk-bridge', 'HOME': '/home/hughharford', 'HOMEBREW_NO_ANALYTICS': '1', 'LANG': 'en_US.UTF-8', 'LANGUAGE': 'en_GB:en', 'LC_ALL': 'en_US.UTF-8', 'LESS': '-R', 'LOGNAME': 'hughharford', 'LSCOLORS': 'Gxfxcxdxbxegedabagacad', 'LS_COLORS': 'rs=0:di=01;34:ln=01;36:mh=00:pi=40;33:so=01;35:do=01;35:bd=40;33;01:cd=40;33;01:or=40;31;01:mi=00:su=37;41:sg=30;43:ca=30;41:tw=30;42:ow=34;42:st=37;44:ex=01;32:*.tar=01;31:*.tgz=01;31:*.arc=01;31:*.arj=01;31:*.taz=01;31:*.lha=01;31:*.lz4=01;31:*.lzh=01;31:*.lzma=01;31:*.tlz=01;31:*.txz=01;31:*.tzo=01;31:*.t7z=01;31:*.zip=01;31:*.z=01;31:*.dz=01;31:*.gz=01;31:*.lrz=01;31:*.lz=01;31:*.lzo=01;31:*.xz=01;31:*.zst=01;31:*.tzst=01;31:*.bz2=01;31:*.bz=01;31:*.tbz=01;31:*.tbz2=01;31:*.tz=01;31:*.deb=01;31:*.rpm=01;31:*.jar=01;31:*.war=01;31:*.ear=01;31:*.sar=01;31:*.rar=01;31:*.alz=01;31:*.ace=01;31:*.zoo=01;31:*.cpio=01;31:*.7z=01;31:*.rz=01;31:*.cab=01;31:*.wim=01;31:*.swm=01;31:*.dwm=01;31:*.esd=01;31:*.jpg=01;35:*.jpeg=01;35:*.mjpg=01;35:*.mjpeg=01;35:*.gif=01;35:*.bmp=01;35:*.pbm=01;35:*.pgm=01;35:*.ppm=01;35:*.tga=01;35:*.xbm=01;35:*.xpm=01;35:*.tif=01;35:*.tiff=01;35:*.png=01;35:*.svg=01;35:*.svgz=01;35:*.mng=01;35:*.pcx=01;35:*.mov=01;35:*.mpg=01;35:*.mpeg=01;35:*.m2v=01;35:*.mkv=01;35:*.webm=01;35:*.webp=01;35:*.ogm=01;35:*.mp4=01;35:*.m4v=01;35:*.mp4v=01;35:*.vob=01;35:*.qt=01;35:*.nuv=01;35:*.wmv=01;35:*.asf=01;35:*.rm=01;35:*.rmvb=01;35:*.flc=01;35:*.avi=01;35:*.fli=01;35:*.flv=01;35:*.gl=01;35:*.dl=01;35:*.xcf=01;35:*.xwd=01;35:*.yuv=01;35:*.cgm=01;35:*.emf=01;35:*.ogv=01;35:*.ogx=01;35:*.aac=00;36:*.au=00;36:*.flac=00;36:*.m4a=00;36:*.mid=00;36:*.midi=00;36:*.mka=00;36:*.mp3=00;36:*.mpc=00;36:*.ogg=00;36:*.ra=00;36:*.wav=00;36:*.oga=00;36:*.opus=00;36:*.spx=00;36:*.xspf=00;36:', 'NVM_DIR': '/home/hughharford/.nvm', 'OLDPWD': '/home/hughharford/code/hughharford/condorgp', 'ORIGINAL_XDG_CURRENT_DESKTOP': 'ubuntu:GNOME', 'PAGER': 'cat', 'PATH': '/home/hughharford/.pyenv/versions/3.10.6/envs/atp/bin:/home/hughharford/.local/bin:/home/hughharford/.pyenv/shims:/home/hughharford/.pyenv/bin:./bin:./node_modules/.bin:/home/hughharford/.pyenv/plugins/pyenv-virtualenv/shims:/home/hughharford/.rbenv/bin:/home/hughharford/.pyenv/bin:/home/hughharford/.cargo/bin:/usr/local/sbin:/usr/local/bin:/usr/sbin:/usr/bin:/sbin:/bin:/usr/games:/usr/local/games:/snap/bin:/snap/bin:/usr/local/sbin', 'PWD': '/home/hughharford/code/hughharford/atp', 'PYENV_ROOT': '/home/hughharford/.pyenv', 'PYENV_SHELL': 'zsh', 'PYENV_VIRTUALENV_DISABLE_PROMPT': '1', 'PYENV_VIRTUALENV_INIT': '1', 'PYENV_VIRTUAL_ENV': '/home/hughharford/.pyenv/versions/3.10.6/envs/atp', 'PYTHONBREAKPOINT': 'ipdb.set_trace', 'PYTHONPATH': '/home/hughharford/code/hughharford/data-challenges-reboot/04-Decision-Science:', 'QT_ACCESSIBILITY': '1', 'QT_IM_MODULE': 'ibus', 'SESSION_MANAGER': 'local/hsth-X515MA:@/tmp/.ICE-unix/2877,unix/hsth-X515MA:/tmp/.ICE-unix/2877', 'SHELL': '/usr/bin/zsh', 'SHLVL': '1', 'SSH_AGENT_LAUNCHER': 'gnome-keyring', 'SSH_AGENT_PID': '4190', 'SSH_AUTH_SOCK': '/tmp/ssh-XXXXXXuW0r3T/agent.4178', 'SYSTEMD_EXEC_PID': '2905', 'TERM': 'xterm-color', 'USER': 'hughharford', 'USERNAME': 'hughharford', 'VIRTUAL_ENV': '/home/hughharford/.pyenv/versions/3.10.6/envs/atp', 'VSCODE_AMD_ENTRYPOINT': 'vs/workbench/api/node/extensionHostProcess', 'VSCODE_CLI': '1', 'VSCODE_CODE_CACHE_PATH': '/home/hughharford/.config/Code/CachedData/5437499feb04f7a586f677b155b039bc2b3669eb', 'VSCODE_CRASH_REPORTER_PROCESS_TYPE': 'extensionHost', 'VSCODE_CWD': '/home/hughharford/code/hughharford/atp', 'VSCODE_HANDLES_UNCAUGHT_ERRORS': 'true', 'VSCODE_IPC_HOOK': '/run/user/1000/vscode-151ba99d-1.90-main.sock', 'VSCODE_NLS_CONFIG': '{\"locale\":\"en-gb\",\"osLocale\":\"en-gb\",\"availableLanguages\":{},\"_languagePackSupport\":true}', 'VSCODE_PID': '6758', 'VTE_VERSION': '6800', 'WAYLAND_DISPLAY': 'wayland-0', 'XAUTHORITY': '/run/user/1000/.mutter-Xwaylandauth.HP3XP2', 'XDG_CURRENT_DESKTOP': 'Unity', 'XDG_DATA_DIRS': '/usr/local/share/:/usr/share/:/var/lib/snapd/desktop', 'XDG_MENU_PREFIX': 'gnome-', 'XDG_RUNTIME_DIR': '/run/user/1000', 'XDG_SESSION_CLASS': 'user', 'XDG_SESSION_DESKTOP': 'ubuntu', 'XDG_SESSION_TYPE': 'wayland', 'XMODIFIERS': '@im=ibus', '_': '/home/hughharford/.pyenv/versions/3.10.6/envs/atp/bin/python', 'ELECTRON_RUN_AS_NODE': '1', 'VSCODE_L10N_BUNDLE_LOCATION': '', '__TELEMETRY_CLIENT_ID': 'f8b34154-ed9e-4653-b463-a606fc42d623', 'AWS_SDK_LOAD_CONFIG': 'true', 'PYTHONUNBUFFERED': '1', 'PYTHONIOENCODING': 'utf-8', 'VIRTUAL_ENV_PROMPT': '(atp) ', 'PS1': '(atp) ', 'PYDEVD_IPYTHON_COMPATIBLE_DEBUGGING': '1', 'PYTHON_FROZEN_MODULES': 'on', 'CLICOLOR': '1', 'GIT_PAGER': 'cat', 'MPLBACKEND': 'module://matplotlib_inline.backend_inline', 'our_new': ''})\n"
     ]
    }
   ],
   "source": [
    "import os\n",
    "os.environ[\"our_new\"] = \"\"\n",
    "envs = os.getenv(\"LOGNAME\")\n",
    "print(envs)\n",
    "assert envs == \"hughharford\"\n",
    "# if you get an error here, the notebook is not running in HSTH's expected place, and adjusts will be required.\n",
    "print(os.environ)\n",
    "if envs == \"hughharford\":\n",
    "    environment_running = 'laptop'\n",
    "else:\n",
    "    environment_running = 0"
   ]
  },
  {
   "cell_type": "markdown",
   "metadata": {},
   "source": [
    "# Imports\n",
    "***"
   ]
  },
  {
   "cell_type": "code",
   "execution_count": 22,
   "metadata": {},
   "outputs": [],
   "source": [
    "%load_ext autoreload\n",
    "%autoreload 2\n",
    "%reload_ext autoreload\n"
   ]
  },
  {
   "cell_type": "code",
   "execution_count": 8,
   "metadata": {},
   "outputs": [],
   "source": [
    "import os\n",
    "import time\n",
    "            # data sourcing:\n",
    "import csv\n",
    "            # databases:\n",
    "import sqlite3\n",
    "            # useful other\n",
    "from collections import defaultdict\n",
    "            # data toolkit:\n",
    "import numpy as np\n",
    "import pandas as pd\n",
    "import dask.dataframe as dd\n",
    "            # plotting\n",
    "import matplotlib.pyplot as plt\n",
    "%matplotlib inline  \n",
    "\n",
    "if not environment_running == 'laptop':\n",
    "    %pip install seaborn\n",
    "    # no seaborn by default in AWS SageMaker.\n",
    "    \n",
    "import seaborn as sns"
   ]
  },
  {
   "cell_type": "code",
   "execution_count": 10,
   "metadata": {},
   "outputs": [],
   "source": [
    "import sys\n",
    "sys.path.append(\"..\") # this is only to enable imports in cell below...(!)"
   ]
  },
  {
   "cell_type": "code",
   "execution_count": 19,
   "metadata": {},
   "outputs": [],
   "source": [
    "from util.minor_funcs import Minors\n",
    "m_funcs = Minors()"
   ]
  },
  {
   "cell_type": "code",
   "execution_count": 34,
   "metadata": {},
   "outputs": [
    {
     "name": "stdout",
     "output_type": "stream",
     "text": [
      "3\n"
     ]
    }
   ],
   "source": [
    "# count no files & folders in /raw_data:\n",
    "data_files_found = 0\n",
    "data_files_found = m_funcs.get_list_raw_data_files()\n",
    "print(len(data_files_found))"
   ]
  },
  {
   "cell_type": "code",
   "execution_count": 32,
   "metadata": {},
   "outputs": [],
   "source": [
    "import os\n",
    "directory = '../../raw_data/' \n",
    "onlyfiles = next(os.walk(directory))[2]"
   ]
  },
  {
   "cell_type": "markdown",
   "metadata": {},
   "source": [
    "## NB: \n",
    "The below will hang if you don't have the data: use a manual download for now"
   ]
  },
  {
   "cell_type": "code",
   "execution_count": 17,
   "metadata": {},
   "outputs": [],
   "source": [
    "# run this cell to retrieve data and place in the correct location for the below\n",
    "# obviously, a login will be needed, or kaggle authentication in environment variable\n",
    "retrieve_data = 0\n",
    "if data_files_found == 0: retrieve_data = 1\n",
    "\n",
    "if retrieve_data:\n",
    "    !cd /raw_data/\n",
    "    !kaggle datasets download -d ehallmar/a-large-tennis-dataset-for-atp-and-itf-betting\n",
    "    \n",
    "# alternatively:\n",
    "# download to the raw_data folder from the following url\n",
    "dataset_url = 'https://www.kaggle.com/datasets/ehallmar/a-large-tennis-dataset-for-atp-and-itf-betting?select=all_tournaments.csv'\n",
    "\n",
    "data_files_found = count_raw_data()\n",
    "assert len(data_files_found) > 0"
   ]
  },
  {
   "cell_type": "code",
   "execution_count": 18,
   "metadata": {},
   "outputs": [],
   "source": [
    "# check raw data archive path extant:\n",
    "atp_data_path = os.path.join('..','raw_data','archive')\n",
    "assert os.path.exists(atp_data_path)\n",
    "\n",
    "# set read_data path for chunking later on:\n",
    "read_data_path = os.path.join('..','raw_data','read_data')\n",
    "assert os.path.exists(read_data_path) "
   ]
  },
  {
   "cell_type": "code",
   "execution_count": 19,
   "metadata": {},
   "outputs": [],
   "source": [
    "# unzip archive, if not already done\n",
    "\n",
    "# confirm .csv files x 7 are there:\n",
    "assert os.path.isfile('../raw_data/archive/all_matches.csv'), 'all_matches.csv not found. download from url above'\n",
    "assert os.path.isfile('../raw_data/archive/all_players.csv'), 'all_matches.csv not found. download from url above'\n",
    "assert os.path.isfile('../raw_data/archive/all_tournaments.csv'), 'all_matches.csv not found. download from url above'\n",
    "assert os.path.isfile('../raw_data/archive/betting_moneyline.csv'), 'all_matches.csv not found. download from url above'\n",
    "assert os.path.isfile('../raw_data/archive/betting_spreads.csv'), 'all_matches.csv not found. download from url above'\n",
    "assert os.path.isfile('../raw_data/archive/betting_totals.csv'), 'all_matches.csv not found. download from url above'\n",
    "assert os.path.isfile('../raw_data/archive/countries.csv'), 'all_matches.csv not found. download from url above'\n"
   ]
  },
  {
   "cell_type": "code",
   "execution_count": 20,
   "metadata": {},
   "outputs": [],
   "source": [
    "# check initial data file expected are extant:\n",
    "matches_data_path_full = os.path.join(atp_data_path, 'all_matches.csv')\n",
    "assert os.path.exists(matches_data_path_full)"
   ]
  },
  {
   "cell_type": "code",
   "execution_count": null,
   "metadata": {},
   "outputs": [],
   "source": []
  }
 ],
 "metadata": {
  "kernelspec": {
   "display_name": "atp",
   "language": "python",
   "name": "python3"
  },
  "language_info": {
   "codemirror_mode": {
    "name": "ipython",
    "version": 3
   },
   "file_extension": ".py",
   "mimetype": "text/x-python",
   "name": "python",
   "nbconvert_exporter": "python",
   "pygments_lexer": "ipython3",
   "version": "3.10.6"
  }
 },
 "nbformat": 4,
 "nbformat_minor": 2
}
