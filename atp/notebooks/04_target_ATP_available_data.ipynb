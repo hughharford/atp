{
 "cells": [
  {
   "cell_type": "markdown",
   "metadata": {},
   "source": [
    "## Check where this runs\n",
    "***"
   ]
  },
  {
   "cell_type": "code",
   "execution_count": 1,
   "metadata": {},
   "outputs": [],
   "source": [
    "import sys\n",
    "sys.path.append(\"..\") # this is only to enable imports in cell below...(!)\n",
    "from util.minor_funcs import Minors\n",
    "m_funcs = Minors()\n",
    "environment_running = m_funcs.check_environs()"
   ]
  },
  {
   "cell_type": "markdown",
   "metadata": {},
   "source": [
    "# IMPORTS\n",
    "***"
   ]
  },
  {
   "cell_type": "code",
   "execution_count": 2,
   "metadata": {},
   "outputs": [],
   "source": [
    "%load_ext autoreload\n",
    "%autoreload 2\n",
    "%reload_ext autoreload"
   ]
  },
  {
   "cell_type": "code",
   "execution_count": 3,
   "metadata": {},
   "outputs": [],
   "source": [
    "import os\n",
    "import time\n",
    "            # data sourcing:\n",
    "import csv\n",
    "            # databases:\n",
    "import sqlite3\n",
    "            # useful other\n",
    "from collections import defaultdict\n",
    "            # data toolkit:\n",
    "import numpy as np\n",
    "import pandas as pd\n",
    "import dask.dataframe as dd\n",
    "            # plotting\n",
    "import matplotlib.pyplot as plt\n",
    "%matplotlib inline  \n",
    "\n",
    "if not environment_running == 'laptop':\n",
    "    %pip install seaborn\n",
    "    # no seaborn by default in AWS SageMaker.\n",
    "    \n",
    "import seaborn as sns"
   ]
  },
  {
   "cell_type": "code",
   "execution_count": 4,
   "metadata": {},
   "outputs": [],
   "source": [
    "from sklearn.pipeline import Pipeline\n",
    "from sklearn.impute import SimpleImputer\n",
    "from sklearn.compose import ColumnTransformer\n",
    "from sklearn.compose import make_column_selector\n",
    "from sklearn.preprocessing import OneHotEncoder, StandardScaler\n",
    "from sklearn.preprocessing import FunctionTransformer\n",
    " # Visualizing Pipelines in HTML\n",
    "from sklearn import set_config; set_config(display='diagram')"
   ]
  },
  {
   "cell_type": "markdown",
   "metadata": {},
   "source": [
    "## Establish paths"
   ]
  },
  {
   "cell_type": "code",
   "execution_count": 36,
   "metadata": {},
   "outputs": [],
   "source": [
    "from path_defs.path_definitions import ATP_paths\n",
    "paths = ATP_paths()\n",
    "raw_data_path = paths.get_raw_data_path()\n",
    "atp_data_path = paths.get_atp_data_path()\n",
    "read_data_path = paths.get_read_data_path()\n",
    "cleaned_once_data_path = paths.get_cleaned_once_data_path()\n",
    "matches_data_path_full = paths.get_matches_data_path_full()\n",
    "staged_1_data_path = paths.get_staged_1_data_path()"
   ]
  },
  {
   "cell_type": "markdown",
   "metadata": {},
   "source": [
    "# Organise for broad categories of column"
   ]
  },
  {
   "cell_type": "code",
   "execution_count": 46,
   "metadata": {},
   "outputs": [],
   "source": [
    "# keep a simple dict of columns, based on type\n",
    "check_completeness = {'start_date': 0, 'end_date': 0, 'player_name': 0, \n",
    "                      'duration': 0\n",
    "                      }\n",
    "check_key_distinguishing_columns = {'doubles': 0, 'masters': 0, 'nation': 0\n",
    "                                    , 'seed': 0, 'prize_money': 0\n",
    "                                    }\n",
    "check_numerical_columns = {'prize_money': 0,'sets_won': 0,'games_won': 0,  \n",
    "                           'games_against': 0, 'tiebreaks_won': 0,  'tiebreaks_total': 0,\n",
    "                      'serve_rating': 0, 'aces': 0, \n",
    "                      'double_faults': 0, 'first_serve_made': 0, \n",
    "                      'first_serve_attempted': 0, 'first_serve_points_made': 0,  \n",
    "                      'first_serve_points_attempted': 0, 'second_serve_points_made': 0, \n",
    "                      'second_serve_points_attempted': 0, 'break_points_saved': 0, \n",
    "                      'break_points_against': 0, 'service_games_won': 0, \n",
    "                      'return_rating': 0, 'first_serve_return_points_made': 0, \n",
    "                      'first_serve_return_points_attempted': 0, 'second_serve_return_points_made': 0, \n",
    "                      'second_serve_return_points_attempted': 0, 'break_points_made': 0, \n",
    "                      'break_points_attempted': 0, 'return_games_played': 0, \n",
    "                      'service_points_won': 0, 'service_points_attempted': 0, \n",
    "                      'return_points_won': 0, 'return_points_attempted': 0, \n",
    "                      'total_points_won': 0, 'total_points': 0, \n",
    "                      'duration': 0, \n",
    "                      # distinguishing column:\n",
    "                      'round_num': 0\n",
    "                      }\n",
    "check_mixed_columns = {'seed': 0, 'currency': 0, 'player_name': 0, 'opponent_name': 0, 'duration': 0\n",
    "                       }\n",
    "check_boolean_columns = {'player_victory': 0, 'retirement': 0, 'won_first_set': 0,\n",
    "                         'doubles': 0, }"
   ]
  },
  {
   "cell_type": "code",
   "execution_count": 47,
   "metadata": {},
   "outputs": [],
   "source": [
    "# queries \n",
    "single_date_query = {\"start_date > 2010\": 0}\n",
    "single_year_query = {\"year > 2010\": 0}\n"
   ]
  },
  {
   "cell_type": "code",
   "execution_count": 30,
   "metadata": {},
   "outputs": [],
   "source": [
    "# check_numerical_columns - got to deal with these too\n",
    "subset_1st_numerical = {k: check_numerical_columns[k] for k in check_numerical_columns.keys() & {'prize_money','sets_won','games_won',  \n",
    "                           'games_against','tiebreaks_won','tiebreaks_total','round_num'}}\n",
    "subset_2nd_numerical = {k: check_numerical_columns[k] for k in check_numerical_columns.keys() & {'serve_rating', 'aces', 'double_faults', 'first_serve_made', 'first_serve_attempted', \n",
    "                                                                                                 'first_serve_points_made', 'first_serve_points_attempted', 'second_serve_points_made', \n",
    "                                                                                                 'second_serve_points_attempted', 'break_points_saved', 'break_points_against', \n",
    "                                                                                                 'service_games_won', 'return_rating', 'first_serve_return_points_made', \n",
    "                                                                                                 'second_serve_return_points_attempted', 'first_serve_return_points_attempted', \n",
    "                                                                                                 'second_serve_return_points_made', 'break_points_made', 'break_points_attempted', \n",
    "                                                                                                 'return_games_played', 'service_points_won', 'service_points_attempted', 'return_points_won', \n",
    "                                                                                                 'return_points_attempted', 'total_points_won', 'total_points', 'duration'}}\n"
   ]
  },
  {
   "cell_type": "code",
   "execution_count": 31,
   "metadata": {},
   "outputs": [],
   "source": [
    "# NOTED DOWN FROM ATP SITE 24 06 25 (need to understand if % or float etc) => columns in existing data\n",
    "# - Aces => aces\n",
    "# - 1st Serve => first_serve_made\n",
    "# - 1st Serve points won => first_serve_points_made\n",
    "# - 2nd Serve => second_serve_points_made\n",
    "# - 2nd Serve points won => second_serve_points_made\n",
    "# - Service Games won => service_games_won\n",
    "# - Break Points saved => break_points_saved\n",
    "# - 1st Serve Return Points won => first_serve_return_points_made\n",
    "# - 2nd Serve Return Points won => second_serve_return_points_made\n",
    "# - Break Points Converted => break_points_made\n",
    "# - Return Games won => ???"
   ]
  },
  {
   "cell_type": "code",
   "execution_count": 31,
   "metadata": {},
   "outputs": [],
   "source": [
    "atp_provided_subset = ['aces', 'first_serve_made', 'first_serve_points_made', \n",
    "                    'second_serve_points_made', 'second_serve_points_made', \n",
    "                    'service_games_won', 'break_points_saved', \n",
    "                    'first_serve_return_points_made', 'second_serve_return_points_made', 'break_points_made']"
   ]
  },
  {
   "cell_type": "markdown",
   "metadata": {},
   "source": [
    "# Load 180k staged_1 data"
   ]
  },
  {
   "cell_type": "code",
   "execution_count": 6,
   "metadata": {},
   "outputs": [],
   "source": [
    "\n",
    "schema = {'start_date': 'datetime64[ns]', 'end_date': 'datetime64[ns]'}\n",
    "staged_1_csv = os.path.join(staged_1_data_path, \"matches_staged_1.csv\")\n",
    "staged_1 = pd.read_csv(staged_1_csv, index_col=None).astype(schema)\n"
   ]
  },
  {
   "cell_type": "code",
   "execution_count": 9,
   "metadata": {},
   "outputs": [],
   "source": [
    "staged_1.duration = pd.to_timedelta(staged_1.duration)"
   ]
  },
  {
   "cell_type": "code",
   "execution_count": 16,
   "metadata": {},
   "outputs": [
    {
     "data": {
      "text/plain": [
       "Index(['start_date', 'end_date', 'location', 'court_surface', 'prize_money',\n",
       "       'currency', 'year', 'player_id', 'player_name', 'opponent_id',\n",
       "       'opponent_name', 'tournament', 'round', 'num_sets', 'sets_won',\n",
       "       'games_won', 'games_against', 'tiebreaks_won', 'tiebreaks_total',\n",
       "       'serve_rating', 'aces', 'double_faults', 'first_serve_made',\n",
       "       'first_serve_attempted', 'first_serve_points_made',\n",
       "       'first_serve_points_attempted', 'second_serve_points_made',\n",
       "       'second_serve_points_attempted', 'break_points_saved',\n",
       "       'break_points_against', 'service_games_won', 'return_rating',\n",
       "       'first_serve_return_points_made', 'first_serve_return_points_attempted',\n",
       "       'second_serve_return_points_made',\n",
       "       'second_serve_return_points_attempted', 'break_points_made',\n",
       "       'break_points_attempted', 'return_games_played', 'service_points_won',\n",
       "       'service_points_attempted', 'return_points_won',\n",
       "       'return_points_attempted', 'total_points_won', 'total_points',\n",
       "       'duration', 'player_victory', 'retirement', 'seed', 'won_first_set',\n",
       "       'doubles', 'masters', 'round_num', 'nation'],\n",
       "      dtype='object')"
      ]
     },
     "execution_count": 16,
     "metadata": {},
     "output_type": "execute_result"
    }
   ],
   "source": [
    "staged_1.columns"
   ]
  },
  {
   "cell_type": "code",
   "execution_count": 11,
   "metadata": {},
   "outputs": [],
   "source": [
    "# staged_1.dtypes"
   ]
  },
  {
   "cell_type": "code",
   "execution_count": 32,
   "metadata": {},
   "outputs": [
    {
     "data": {
      "text/plain": [
       "['aces',\n",
       " 'first_serve_made',\n",
       " 'first_serve_points_made',\n",
       " 'second_serve_points_made',\n",
       " 'second_serve_points_made',\n",
       " 'service_games_won',\n",
       " 'break_points_saved',\n",
       " 'first_serve_return_points_made',\n",
       " 'second_serve_return_points_made',\n",
       " 'break_points_made',\n",
       " 'start_date',\n",
       " 'end_date',\n",
       " 'player_id']"
      ]
     },
     "execution_count": 32,
     "metadata": {},
     "output_type": "execute_result"
    }
   ],
   "source": [
    "atp_plus_ids = atp_provided_subset\n",
    "for x in ['start_date', 'end_date', 'player_id']:\n",
    "    atp_plus_ids.append(x)\n",
    "atp_plus_ids"
   ]
  },
  {
   "cell_type": "code",
   "execution_count": 33,
   "metadata": {},
   "outputs": [
    {
     "data": {
      "text/html": [
       "<div>\n",
       "<style scoped>\n",
       "    .dataframe tbody tr th:only-of-type {\n",
       "        vertical-align: middle;\n",
       "    }\n",
       "\n",
       "    .dataframe tbody tr th {\n",
       "        vertical-align: top;\n",
       "    }\n",
       "\n",
       "    .dataframe thead th {\n",
       "        text-align: right;\n",
       "    }\n",
       "</style>\n",
       "<table border=\"1\" class=\"dataframe\">\n",
       "  <thead>\n",
       "    <tr style=\"text-align: right;\">\n",
       "      <th></th>\n",
       "      <th>aces</th>\n",
       "      <th>first_serve_made</th>\n",
       "      <th>first_serve_points_made</th>\n",
       "      <th>second_serve_points_made</th>\n",
       "      <th>second_serve_points_made</th>\n",
       "      <th>service_games_won</th>\n",
       "      <th>break_points_saved</th>\n",
       "      <th>first_serve_return_points_made</th>\n",
       "      <th>second_serve_return_points_made</th>\n",
       "      <th>break_points_made</th>\n",
       "      <th>start_date</th>\n",
       "      <th>end_date</th>\n",
       "      <th>player_id</th>\n",
       "    </tr>\n",
       "  </thead>\n",
       "  <tbody>\n",
       "    <tr>\n",
       "      <th>0</th>\n",
       "      <td>0</td>\n",
       "      <td>36</td>\n",
       "      <td>18</td>\n",
       "      <td>5</td>\n",
       "      <td>5</td>\n",
       "      <td>8</td>\n",
       "      <td>1</td>\n",
       "      <td>8</td>\n",
       "      <td>5</td>\n",
       "      <td>0</td>\n",
       "      <td>1996-04-08</td>\n",
       "      <td>1996-04-14</td>\n",
       "      <td>albert-costa</td>\n",
       "    </tr>\n",
       "    <tr>\n",
       "      <th>1</th>\n",
       "      <td>1</td>\n",
       "      <td>62</td>\n",
       "      <td>43</td>\n",
       "      <td>4</td>\n",
       "      <td>4</td>\n",
       "      <td>10</td>\n",
       "      <td>6</td>\n",
       "      <td>18</td>\n",
       "      <td>12</td>\n",
       "      <td>4</td>\n",
       "      <td>1996-04-08</td>\n",
       "      <td>1996-04-14</td>\n",
       "      <td>alberto-berasategui</td>\n",
       "    </tr>\n",
       "    <tr>\n",
       "      <th>2</th>\n",
       "      <td>1</td>\n",
       "      <td>94</td>\n",
       "      <td>60</td>\n",
       "      <td>6</td>\n",
       "      <td>6</td>\n",
       "      <td>15</td>\n",
       "      <td>4</td>\n",
       "      <td>20</td>\n",
       "      <td>36</td>\n",
       "      <td>6</td>\n",
       "      <td>1996-04-08</td>\n",
       "      <td>1996-04-14</td>\n",
       "      <td>alberto-berasategui</td>\n",
       "    </tr>\n",
       "    <tr>\n",
       "      <th>3</th>\n",
       "      <td>6</td>\n",
       "      <td>42</td>\n",
       "      <td>36</td>\n",
       "      <td>21</td>\n",
       "      <td>21</td>\n",
       "      <td>13</td>\n",
       "      <td>1</td>\n",
       "      <td>12</td>\n",
       "      <td>23</td>\n",
       "      <td>6</td>\n",
       "      <td>1996-04-08</td>\n",
       "      <td>1996-04-14</td>\n",
       "      <td>bernardo-mota</td>\n",
       "    </tr>\n",
       "    <tr>\n",
       "      <th>4</th>\n",
       "      <td>5</td>\n",
       "      <td>37</td>\n",
       "      <td>27</td>\n",
       "      <td>12</td>\n",
       "      <td>12</td>\n",
       "      <td>10</td>\n",
       "      <td>4</td>\n",
       "      <td>5</td>\n",
       "      <td>10</td>\n",
       "      <td>2</td>\n",
       "      <td>1996-04-08</td>\n",
       "      <td>1996-04-14</td>\n",
       "      <td>bernardo-mota</td>\n",
       "    </tr>\n",
       "  </tbody>\n",
       "</table>\n",
       "</div>"
      ],
      "text/plain": [
       "   aces  first_serve_made  first_serve_points_made  second_serve_points_made  \\\n",
       "0     0                36                       18                         5   \n",
       "1     1                62                       43                         4   \n",
       "2     1                94                       60                         6   \n",
       "3     6                42                       36                        21   \n",
       "4     5                37                       27                        12   \n",
       "\n",
       "   second_serve_points_made  service_games_won  break_points_saved  \\\n",
       "0                         5                  8                   1   \n",
       "1                         4                 10                   6   \n",
       "2                         6                 15                   4   \n",
       "3                        21                 13                   1   \n",
       "4                        12                 10                   4   \n",
       "\n",
       "   first_serve_return_points_made  second_serve_return_points_made  \\\n",
       "0                               8                                5   \n",
       "1                              18                               12   \n",
       "2                              20                               36   \n",
       "3                              12                               23   \n",
       "4                               5                               10   \n",
       "\n",
       "   break_points_made start_date   end_date            player_id  \n",
       "0                  0 1996-04-08 1996-04-14         albert-costa  \n",
       "1                  4 1996-04-08 1996-04-14  alberto-berasategui  \n",
       "2                  6 1996-04-08 1996-04-14  alberto-berasategui  \n",
       "3                  6 1996-04-08 1996-04-14        bernardo-mota  \n",
       "4                  2 1996-04-08 1996-04-14        bernardo-mota  "
      ]
     },
     "execution_count": 33,
     "metadata": {},
     "output_type": "execute_result"
    }
   ],
   "source": [
    "staged_1[atp_plus_ids].head()"
   ]
  },
  {
   "cell_type": "code",
   "execution_count": 39,
   "metadata": {},
   "outputs": [],
   "source": [
    "atp_first_data_selected = staged_1[atp_plus_ids]\n"
   ]
  },
  {
   "cell_type": "code",
   "execution_count": 35,
   "metadata": {},
   "outputs": [],
   "source": [
    "# Very easy to select just the ATP data (of course)\n",
    "# Now need to see what / how the ATP data can be found to match in "
   ]
  },
  {
   "cell_type": "markdown",
   "metadata": {},
   "source": [
    "## Firstly up to 2022 data from Jeff Sackman's git repo\n",
    "See data_sourcing.md in foci folder "
   ]
  },
  {
   "cell_type": "code",
   "execution_count": 37,
   "metadata": {},
   "outputs": [],
   "source": [
    "jeff_sackman_2024_path = os.path.join(raw_data_path, 'jeff_sackman', 'atp_matches_2024.csv')\n",
    "js_data_2024 = pd.read_csv(jeff_sackman_2024_path, index_col=None)"
   ]
  },
  {
   "cell_type": "code",
   "execution_count": 38,
   "metadata": {},
   "outputs": [
    {
     "data": {
      "text/plain": [
       "Index(['tourney_id', 'tourney_name', 'surface', 'draw_size', 'tourney_level',\n",
       "       'tourney_date', 'match_num', 'winner_id', 'winner_seed', 'winner_entry',\n",
       "       'winner_name', 'winner_hand', 'winner_ht', 'winner_ioc', 'winner_age',\n",
       "       'loser_id', 'loser_seed', 'loser_entry', 'loser_name', 'loser_hand',\n",
       "       'loser_ht', 'loser_ioc', 'loser_age', 'score', 'best_of', 'round',\n",
       "       'minutes', 'w_ace', 'w_df', 'w_svpt', 'w_1stIn', 'w_1stWon', 'w_2ndWon',\n",
       "       'w_SvGms', 'w_bpSaved', 'w_bpFaced', 'l_ace', 'l_df', 'l_svpt',\n",
       "       'l_1stIn', 'l_1stWon', 'l_2ndWon', 'l_SvGms', 'l_bpSaved', 'l_bpFaced',\n",
       "       'winner_rank', 'winner_rank_points', 'loser_rank', 'loser_rank_points'],\n",
       "      dtype='object')"
      ]
     },
     "execution_count": 38,
     "metadata": {},
     "output_type": "execute_result"
    }
   ],
   "source": [
    "js_data_2024.columns"
   ]
  },
  {
   "cell_type": "code",
   "execution_count": 40,
   "metadata": {},
   "outputs": [
    {
     "data": {
      "text/plain": [
       "Index(['aces', 'first_serve_made', 'first_serve_points_made',\n",
       "       'second_serve_points_made', 'second_serve_points_made',\n",
       "       'service_games_won', 'break_points_saved',\n",
       "       'first_serve_return_points_made', 'second_serve_return_points_made',\n",
       "       'break_points_made', 'start_date', 'end_date', 'player_id'],\n",
       "      dtype='object')"
      ]
     },
     "execution_count": 40,
     "metadata": {},
     "output_type": "execute_result"
    }
   ],
   "source": [
    "atp_first_data_selected.columns"
   ]
  },
  {
   "cell_type": "code",
   "execution_count": null,
   "metadata": {},
   "outputs": [],
   "source": []
  }
 ],
 "metadata": {
  "kernelspec": {
   "display_name": "atp",
   "language": "python",
   "name": "python3"
  },
  "language_info": {
   "codemirror_mode": {
    "name": "ipython",
    "version": 3
   },
   "file_extension": ".py",
   "mimetype": "text/x-python",
   "name": "python",
   "nbconvert_exporter": "python",
   "pygments_lexer": "ipython3",
   "version": "3.10.6"
  }
 },
 "nbformat": 4,
 "nbformat_minor": 2
}
