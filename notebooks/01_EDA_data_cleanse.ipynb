{
 "cells": [
  {
   "cell_type": "markdown",
   "metadata": {},
   "source": [
    "***\n",
    "# Imports\n",
    "### <span style=\"color: red;\">NB. Used Python 3.10.6 kernel</span>\n",
    "### <span style=\"color: red;\">run command in root of this folder:</span> make install_requirements "
   ]
  },
  {
   "cell_type": "code",
   "execution_count": 23,
   "metadata": {},
   "outputs": [],
   "source": [
    "import os.path\n",
    "import time\n",
    "            # data sourcing:\n",
    "import csv\n",
    "            # databases:\n",
    "import sqlite3\n",
    "            # useful other\n",
    "from collections import defaultdict\n",
    "            # data toolkit:\n",
    "import numpy as np\n",
    "import pandas as pd\n",
    "            # plotting\n",
    "import matplotlib.pyplot as plt\n",
    "%matplotlib inline  \n",
    "import seaborn as sns\n",
    "            # sklearn techniques\n",
    "from sklearn.model_selection import train_test_split\n",
    "from sklearn.model_selection import cross_validate, KFold\n",
    "from sklearn.model_selection import learning_curve\n",
    "from sklearn.preprocessing import LabelEncoder\n",
    "from sklearn.multiclass import OneVsOneClassifier\n",
    "from sklearn.utils import shuffle\n",
    "            # sklearn models\n",
    "from sklearn.linear_model import LinearRegression, LogisticRegression"
   ]
  },
  {
   "cell_type": "markdown",
   "metadata": {},
   "source": [
    "***\n",
    "# Sourcing data and handling it"
   ]
  },
  {
   "cell_type": "code",
   "execution_count": 2,
   "metadata": {},
   "outputs": [],
   "source": [
    "# check raw data archive path extant:\n",
    "atp_data_path = os.path.join('..','raw_data','archive')\n",
    "assert os.path.exists(atp_data_path)"
   ]
  },
  {
   "cell_type": "code",
   "execution_count": 3,
   "metadata": {},
   "outputs": [],
   "source": [
    "# download to the raw_data folder from the following url\n",
    "dataset_url = 'https://www.kaggle.com/datasets/ehallmar/a-large-tennis-dataset-for-atp-and-itf-betting?select=all_tournaments.csv'\n",
    "\n",
    "# unzip archive\n",
    "\n",
    "# confirm .csv files x 7 are there:\n",
    "assert os.path.isfile('../raw_data/archive/all_matches.csv'), 'all_matches.csv not found. download from url above'\n",
    "assert os.path.isfile('../raw_data/archive/all_players.csv'), 'all_matches.csv not found. download from url above'\n",
    "assert os.path.isfile('../raw_data/archive/all_tournaments.csv'), 'all_matches.csv not found. download from url above'\n",
    "assert os.path.isfile('../raw_data/archive/betting_moneyline.csv'), 'all_matches.csv not found. download from url above'\n",
    "assert os.path.isfile('../raw_data/archive/betting_spreads.csv'), 'all_matches.csv not found. download from url above'\n",
    "assert os.path.isfile('../raw_data/archive/betting_totals.csv'), 'all_matches.csv not found. download from url above'\n",
    "assert os.path.isfile('../raw_data/archive/countries.csv'), 'all_matches.csv not found. download from url above'\n"
   ]
  },
  {
   "cell_type": "code",
   "execution_count": 4,
   "metadata": {},
   "outputs": [],
   "source": [
    "# check iniital data file expected are extant:\n",
    "matches_data_path_full = os.path.join(atp_data_path, 'all_matches.csv')\n",
    "assert os.path.exists(matches_data_path_full)"
   ]
  },
  {
   "cell_type": "code",
   "execution_count": 5,
   "metadata": {},
   "outputs": [
    {
     "name": "stderr",
     "output_type": "stream",
     "text": [
      "/tmp/ipykernel_33478/1814627133.py:2: DtypeWarning: Columns (8,10,45,48) have mixed types. Specify dtype option on import or set low_memory=False.\n",
      "  matches_df_1st_50k = pd.read_csv(matches_data_path_full, nrows=50_000, index_col=None)\n"
     ]
    },
    {
     "data": {
      "text/html": [
       "<div>\n",
       "<style scoped>\n",
       "    .dataframe tbody tr th:only-of-type {\n",
       "        vertical-align: middle;\n",
       "    }\n",
       "\n",
       "    .dataframe tbody tr th {\n",
       "        vertical-align: top;\n",
       "    }\n",
       "\n",
       "    .dataframe thead th {\n",
       "        text-align: right;\n",
       "    }\n",
       "</style>\n",
       "<table border=\"1\" class=\"dataframe\">\n",
       "  <thead>\n",
       "    <tr style=\"text-align: right;\">\n",
       "      <th></th>\n",
       "      <th>start_date</th>\n",
       "      <th>end_date</th>\n",
       "      <th>location</th>\n",
       "      <th>court_surface</th>\n",
       "      <th>prize_money</th>\n",
       "      <th>currency</th>\n",
       "      <th>year</th>\n",
       "      <th>player_id</th>\n",
       "      <th>player_name</th>\n",
       "      <th>opponent_id</th>\n",
       "      <th>...</th>\n",
       "      <th>total_points</th>\n",
       "      <th>duration</th>\n",
       "      <th>player_victory</th>\n",
       "      <th>retirement</th>\n",
       "      <th>seed</th>\n",
       "      <th>won_first_set</th>\n",
       "      <th>doubles</th>\n",
       "      <th>masters</th>\n",
       "      <th>round_num</th>\n",
       "      <th>nation</th>\n",
       "    </tr>\n",
       "  </thead>\n",
       "  <tbody>\n",
       "    <tr>\n",
       "      <th>49995</th>\n",
       "      <td>2004-07-05</td>\n",
       "      <td>2004-07-11</td>\n",
       "      <td>DEN</td>\n",
       "      <td>Clay</td>\n",
       "      <td>NaN</td>\n",
       "      <td>NaN</td>\n",
       "      <td>2004</td>\n",
       "      <td>frederik-nielsen</td>\n",
       "      <td>NaN</td>\n",
       "      <td>pablo-figueroa</td>\n",
       "      <td>...</td>\n",
       "      <td>NaN</td>\n",
       "      <td>NaN</td>\n",
       "      <td>f</td>\n",
       "      <td>f</td>\n",
       "      <td>2.0</td>\n",
       "      <td>f</td>\n",
       "      <td>f</td>\n",
       "      <td>25</td>\n",
       "      <td>3</td>\n",
       "      <td>DEN</td>\n",
       "    </tr>\n",
       "    <tr>\n",
       "      <th>49996</th>\n",
       "      <td>2004-07-05</td>\n",
       "      <td>2004-07-11</td>\n",
       "      <td>DEN</td>\n",
       "      <td>Clay</td>\n",
       "      <td>NaN</td>\n",
       "      <td>NaN</td>\n",
       "      <td>2004</td>\n",
       "      <td>frederik-nielsen_rasmus-norby</td>\n",
       "      <td>NaN</td>\n",
       "      <td>andrea-arnaboldi_nicolas-tourte</td>\n",
       "      <td>...</td>\n",
       "      <td>NaN</td>\n",
       "      <td>NaN</td>\n",
       "      <td>t</td>\n",
       "      <td>f</td>\n",
       "      <td>NaN</td>\n",
       "      <td>t</td>\n",
       "      <td>t</td>\n",
       "      <td>25</td>\n",
       "      <td>7</td>\n",
       "      <td>DEN</td>\n",
       "    </tr>\n",
       "    <tr>\n",
       "      <th>49997</th>\n",
       "      <td>2004-07-05</td>\n",
       "      <td>2004-07-11</td>\n",
       "      <td>DEN</td>\n",
       "      <td>Clay</td>\n",
       "      <td>NaN</td>\n",
       "      <td>NaN</td>\n",
       "      <td>2004</td>\n",
       "      <td>frederik-nielsen_rasmus-norby</td>\n",
       "      <td>NaN</td>\n",
       "      <td>andreas-siljestrom_oskar-pallin</td>\n",
       "      <td>...</td>\n",
       "      <td>NaN</td>\n",
       "      <td>NaN</td>\n",
       "      <td>t</td>\n",
       "      <td>f</td>\n",
       "      <td>NaN</td>\n",
       "      <td>t</td>\n",
       "      <td>t</td>\n",
       "      <td>25</td>\n",
       "      <td>6</td>\n",
       "      <td>DEN</td>\n",
       "    </tr>\n",
       "    <tr>\n",
       "      <th>49998</th>\n",
       "      <td>2004-07-05</td>\n",
       "      <td>2004-07-11</td>\n",
       "      <td>DEN</td>\n",
       "      <td>Clay</td>\n",
       "      <td>NaN</td>\n",
       "      <td>NaN</td>\n",
       "      <td>2004</td>\n",
       "      <td>frederik-nielsen_rasmus-norby</td>\n",
       "      <td>NaN</td>\n",
       "      <td>antti-tuomi_niklas-bucht</td>\n",
       "      <td>...</td>\n",
       "      <td>NaN</td>\n",
       "      <td>NaN</td>\n",
       "      <td>t</td>\n",
       "      <td>f</td>\n",
       "      <td>NaN</td>\n",
       "      <td>t</td>\n",
       "      <td>t</td>\n",
       "      <td>25</td>\n",
       "      <td>4</td>\n",
       "      <td>DEN</td>\n",
       "    </tr>\n",
       "    <tr>\n",
       "      <th>49999</th>\n",
       "      <td>2004-07-05</td>\n",
       "      <td>2004-07-11</td>\n",
       "      <td>DEN</td>\n",
       "      <td>Clay</td>\n",
       "      <td>NaN</td>\n",
       "      <td>NaN</td>\n",
       "      <td>2004</td>\n",
       "      <td>frederik-nielsen_rasmus-norby</td>\n",
       "      <td>NaN</td>\n",
       "      <td>jacob-melskens_tore-deleuran-skjold</td>\n",
       "      <td>...</td>\n",
       "      <td>NaN</td>\n",
       "      <td>NaN</td>\n",
       "      <td>t</td>\n",
       "      <td>f</td>\n",
       "      <td>NaN</td>\n",
       "      <td>t</td>\n",
       "      <td>t</td>\n",
       "      <td>25</td>\n",
       "      <td>5</td>\n",
       "      <td>DEN</td>\n",
       "    </tr>\n",
       "  </tbody>\n",
       "</table>\n",
       "<p>5 rows × 54 columns</p>\n",
       "</div>"
      ],
      "text/plain": [
       "       start_date    end_date location court_surface  prize_money currency  \\\n",
       "49995  2004-07-05  2004-07-11      DEN          Clay          NaN      NaN   \n",
       "49996  2004-07-05  2004-07-11      DEN          Clay          NaN      NaN   \n",
       "49997  2004-07-05  2004-07-11      DEN          Clay          NaN      NaN   \n",
       "49998  2004-07-05  2004-07-11      DEN          Clay          NaN      NaN   \n",
       "49999  2004-07-05  2004-07-11      DEN          Clay          NaN      NaN   \n",
       "\n",
       "       year                      player_id player_name  \\\n",
       "49995  2004               frederik-nielsen         NaN   \n",
       "49996  2004  frederik-nielsen_rasmus-norby         NaN   \n",
       "49997  2004  frederik-nielsen_rasmus-norby         NaN   \n",
       "49998  2004  frederik-nielsen_rasmus-norby         NaN   \n",
       "49999  2004  frederik-nielsen_rasmus-norby         NaN   \n",
       "\n",
       "                               opponent_id  ... total_points duration  \\\n",
       "49995                       pablo-figueroa  ...          NaN      NaN   \n",
       "49996      andrea-arnaboldi_nicolas-tourte  ...          NaN      NaN   \n",
       "49997      andreas-siljestrom_oskar-pallin  ...          NaN      NaN   \n",
       "49998             antti-tuomi_niklas-bucht  ...          NaN      NaN   \n",
       "49999  jacob-melskens_tore-deleuran-skjold  ...          NaN      NaN   \n",
       "\n",
       "      player_victory  retirement  seed  won_first_set  doubles  masters  \\\n",
       "49995              f           f   2.0              f        f       25   \n",
       "49996              t           f   NaN              t        t       25   \n",
       "49997              t           f   NaN              t        t       25   \n",
       "49998              t           f   NaN              t        t       25   \n",
       "49999              t           f   NaN              t        t       25   \n",
       "\n",
       "       round_num  nation  \n",
       "49995          3     DEN  \n",
       "49996          7     DEN  \n",
       "49997          6     DEN  \n",
       "49998          4     DEN  \n",
       "49999          5     DEN  \n",
       "\n",
       "[5 rows x 54 columns]"
      ]
     },
     "execution_count": 5,
     "metadata": {},
     "output_type": "execute_result"
    }
   ],
   "source": [
    "\n",
    "# needs care here, too big for memory \n",
    "matches_df_1st_50k = pd.read_csv(matches_data_path_full, nrows=50_000, index_col=None)\n",
    "matches_df_1st_50k.tail()"
   ]
  },
  {
   "cell_type": "code",
   "execution_count": 6,
   "metadata": {},
   "outputs": [],
   "source": [
    "matches_data_path = os.path.join(atp_data_path, 'all_matches_1st50k.csv')"
   ]
  },
  {
   "cell_type": "code",
   "execution_count": 7,
   "metadata": {},
   "outputs": [],
   "source": [
    "# save a sample so we can establish working without using the whole dataset:\n",
    "save_csv_back_out = 0\n",
    "if save_csv_back_out:\n",
    "    matches_df_1st_50k.to_csv(matches_data_path)"
   ]
  },
  {
   "cell_type": "code",
   "execution_count": 8,
   "metadata": {},
   "outputs": [],
   "source": [
    "# confirm file is there:\n",
    "assert os.path.exists(matches_data_path)\n",
    "# if you get an error here, rerun the cell above with 'save_csv_back_out = 1'"
   ]
  },
  {
   "cell_type": "code",
   "execution_count": 9,
   "metadata": {},
   "outputs": [],
   "source": [
    "# KEEP FOR LATER\n",
    "# not using until we work on the data and save it out in stages:\n",
    "\n",
    "# matches_data_path_latest = os.path.join(atp_data_path, 'all_matches_1st50k_latest.csv')\n",
    "# assert os.path.exists(matches_data_path_latest)"
   ]
  },
  {
   "cell_type": "markdown",
   "metadata": {},
   "source": [
    "***\n",
    "# First EDA (Exploratory Data Analysis)"
   ]
  },
  {
   "cell_type": "code",
   "execution_count": 10,
   "metadata": {},
   "outputs": [],
   "source": [
    "# this gets stuck, hence: 'run_difficult_cell'\n",
    "run_difficult_cell = 0\n",
    "if run_difficult_cell:\n",
    "    matches_data_latest = pd.read_csv(matches_data_path_full, index_col=0)"
   ]
  },
  {
   "cell_type": "markdown",
   "metadata": {},
   "source": [
    "### Notes:\n",
    "- It became clear above that loading the 4.3m rows into pandas cannot\n",
    "be handled by this machine\n",
    "- Could use the cloud - and will try later, but initially let's try with\n",
    "these limited resources, it's good practice."
   ]
  },
  {
   "cell_type": "code",
   "execution_count": 11,
   "metadata": {},
   "outputs": [
    {
     "name": "stdout",
     "output_type": "stream",
     "text": [
      "<class 'pandas.core.frame.DataFrame'>\n",
      "RangeIndex: 50000 entries, 0 to 49999\n",
      "Data columns (total 54 columns):\n",
      " #   Column                                Non-Null Count  Dtype  \n",
      "---  ------                                --------------  -----  \n",
      " 0   start_date                            50000 non-null  object \n",
      " 1   end_date                              48967 non-null  object \n",
      " 2   location                              50000 non-null  object \n",
      " 3   court_surface                         50000 non-null  object \n",
      " 4   prize_money                           15537 non-null  float64\n",
      " 5   currency                              15537 non-null  object \n",
      " 6   year                                  50000 non-null  int64  \n",
      " 7   player_id                             50000 non-null  object \n",
      " 8   player_name                           10298 non-null  object \n",
      " 9   opponent_id                           50000 non-null  object \n",
      " 10  opponent_name                         10298 non-null  object \n",
      " 11  tournament                            50000 non-null  object \n",
      " 12  round                                 50000 non-null  object \n",
      " 13  num_sets                              50000 non-null  int64  \n",
      " 14  sets_won                              50000 non-null  int64  \n",
      " 15  games_won                             50000 non-null  int64  \n",
      " 16  games_against                         50000 non-null  int64  \n",
      " 17  tiebreaks_won                         50000 non-null  int64  \n",
      " 18  tiebreaks_total                       50000 non-null  int64  \n",
      " 19  serve_rating                          10298 non-null  float64\n",
      " 20  aces                                  10298 non-null  float64\n",
      " 21  double_faults                         10298 non-null  float64\n",
      " 22  first_serve_made                      10298 non-null  float64\n",
      " 23  first_serve_attempted                 10298 non-null  float64\n",
      " 24  first_serve_points_made               10298 non-null  float64\n",
      " 25  first_serve_points_attempted          10298 non-null  float64\n",
      " 26  second_serve_points_made              10298 non-null  float64\n",
      " 27  second_serve_points_attempted         10298 non-null  float64\n",
      " 28  break_points_saved                    10298 non-null  float64\n",
      " 29  break_points_against                  10298 non-null  float64\n",
      " 30  service_games_won                     10298 non-null  float64\n",
      " 31  return_rating                         10298 non-null  float64\n",
      " 32  first_serve_return_points_made        10298 non-null  float64\n",
      " 33  first_serve_return_points_attempted   10298 non-null  float64\n",
      " 34  second_serve_return_points_made       10298 non-null  float64\n",
      " 35  second_serve_return_points_attempted  10298 non-null  float64\n",
      " 36  break_points_made                     10298 non-null  float64\n",
      " 37  break_points_attempted                10298 non-null  float64\n",
      " 38  return_games_played                   10298 non-null  float64\n",
      " 39  service_points_won                    10298 non-null  float64\n",
      " 40  service_points_attempted              10298 non-null  float64\n",
      " 41  return_points_won                     10298 non-null  float64\n",
      " 42  return_points_attempted               10298 non-null  float64\n",
      " 43  total_points_won                      10298 non-null  float64\n",
      " 44  total_points                          10298 non-null  float64\n",
      " 45  duration                              10298 non-null  object \n",
      " 46  player_victory                        50000 non-null  object \n",
      " 47  retirement                            50000 non-null  object \n",
      " 48  seed                                  17926 non-null  object \n",
      " 49  won_first_set                         49301 non-null  object \n",
      " 50  doubles                               50000 non-null  object \n",
      " 51  masters                               50000 non-null  int64  \n",
      " 52  round_num                             50000 non-null  int64  \n",
      " 53  nation                                50000 non-null  object \n",
      "dtypes: float64(27), int64(9), object(18)\n",
      "memory usage: 20.6+ MB\n"
     ]
    }
   ],
   "source": [
    "# revert to using Dataframe above, suffices for now\n",
    "matches_df_1st_50k.info() \n",
    "# 50_000 rows is <21mb in memory"
   ]
  },
  {
   "cell_type": "code",
   "execution_count": 12,
   "metadata": {},
   "outputs": [
    {
     "data": {
      "text/plain": [
       "Index(['start_date', 'end_date', 'location', 'court_surface', 'prize_money',\n",
       "       'currency', 'year', 'player_id', 'player_name', 'opponent_id',\n",
       "       'opponent_name', 'tournament', 'round', 'num_sets', 'sets_won',\n",
       "       'games_won', 'games_against', 'tiebreaks_won', 'tiebreaks_total',\n",
       "       'serve_rating', 'aces', 'double_faults', 'first_serve_made',\n",
       "       'first_serve_attempted', 'first_serve_points_made',\n",
       "       'first_serve_points_attempted', 'second_serve_points_made',\n",
       "       'second_serve_points_attempted', 'break_points_saved',\n",
       "       'break_points_against', 'service_games_won', 'return_rating',\n",
       "       'first_serve_return_points_made', 'first_serve_return_points_attempted',\n",
       "       'second_serve_return_points_made',\n",
       "       'second_serve_return_points_attempted', 'break_points_made',\n",
       "       'break_points_attempted', 'return_games_played', 'service_points_won',\n",
       "       'service_points_attempted', 'return_points_won',\n",
       "       'return_points_attempted', 'total_points_won', 'total_points',\n",
       "       'duration', 'player_victory', 'retirement', 'seed', 'won_first_set',\n",
       "       'doubles', 'masters', 'round_num', 'nation'],\n",
       "      dtype='object')"
      ]
     },
     "execution_count": 12,
     "metadata": {},
     "output_type": "execute_result"
    }
   ],
   "source": [
    "# first look at columns \n",
    "matches_df_1st_50k.columns"
   ]
  },
  {
   "cell_type": "code",
   "execution_count": 13,
   "metadata": {},
   "outputs": [],
   "source": [
    "# there are a bunch of columns we can avoid using, certainly initially\n",
    "# looking at the datatypes, there is probably a lot of room for memory reduction"
   ]
  },
  {
   "cell_type": "code",
   "execution_count": 14,
   "metadata": {},
   "outputs": [
    {
     "name": "stdout",
     "output_type": "stream",
     "text": [
      "  currency   player_name  opponent_name  duration seed\n",
      "0        €      A. Partl      A. Martin  01:02:00  NaN\n",
      "1        €      A. Partl     J. Kovalik  02:43:00  NaN\n",
      "2        €    A. Velotti      D. Hrbaty  01:17:00  NaN\n",
      "3        €           NaN            NaN       NaN  NaN\n",
      "4        €  A. Giannessi  H. Heliovaara  02:32:00    1\n"
     ]
    }
   ],
   "source": [
    "# NOTE from Pandas: columns 5, 8, 10, 45, 48 have mixed datatypes:\n",
    "mixed_datatypes = ['currency', 'player_name', 'opponent_name', 'duration', 'seed']\n",
    "# let's see:\n",
    "print(matches_df_1st_50k.iloc[:,[5, 8, 10, 45, 48]].head())"
   ]
  },
  {
   "cell_type": "code",
   "execution_count": 15,
   "metadata": {},
   "outputs": [
    {
     "data": {
      "text/plain": [
       "start_date  end_date    location                                              court_surface  prize_money  currency  year  player_id              player_name       opponent_id             opponent_name    tournament               round                 num_sets  sets_won  games_won  games_against  tiebreaks_won  tiebreaks_total  serve_rating  aces  double_faults  first_serve_made  first_serve_attempted  first_serve_points_made  first_serve_points_attempted  second_serve_points_made  second_serve_points_attempted  break_points_saved  break_points_against  service_games_won  return_rating  first_serve_return_points_made  first_serve_return_points_attempted  second_serve_return_points_made  second_serve_return_points_attempted  break_points_made  break_points_attempted  return_games_played  service_points_won  service_points_attempted  return_points_won  return_points_attempted  total_points_won  total_points  duration  player_victory  retirement  seed  won_first_set  doubles  masters  round_num  nation                                              \n",
       "2010-11-08  2010-11-14  United Kingdom of Great Britain and Northern Ireland  Hard           42500.0      €         2010  adrian-mannarino       A. Mannarino      matthias-bachinger      M. Bachinger     loughborough_challenger  Round of 32           3         1         10         16             0              0                218.0         2.0   4.0            49.0              90.0                   29.0                     49.0                          19.0                      41.0                           10.0                15.0                  13.0               185.0          10.0                            42.0                                 13.0                             28.0                                  2.0                2.0                     13.0                 48.0                90.0                      23.0               70.0                     71.0              160.0         01:42:00  f               f           2     f              f        100      3          United Kingdom of Great Britain and Northern Ireland    1\n",
       "2017-04-10  2017-04-16  Morocco                                               Clay           482060.0     €         2017  philipp-kohlschreiber  P. Kohlschreiber  jan-lennard-struff      J. Struff        marrakech                Quarter-Finals        3         2         16         14             0              0                291.0         4.0   1.0            54.0              93.0                   44.0                     54.0                          22.0                      39.0                           8.0                 9.0                   15.0               118.0          11.0                            49.0                                 19.0                             44.0                                  2.0                5.0                     15.0                 66.0                93.0                      30.0               93.0                     96.0              186.0         02:08:00  t               f           3     f              f        250      5          Morocco                                                 1\n",
       "                                                                                                                                                                   benoit-paire            B. Paire         marrakech                Semi-Finals           2         2         12         4              0              0                310.0         0.0   1.0            20.0              41.0                   19.0                     20.0                          14.0                      21.0                           1.0                 1.0                   8.0                185.0          14.0                            39.0                                 21.0                             30.0                                  4.0                14.0                    8.0                  33.0                41.0                      35.0               69.0                     68.0              110.0         01:02:00  t               f           3     t              f        250      6          Morocco                                                 1\n",
       "                                                                                                                          paolo-lorenzi          P. Lorenzi        jiri-vesely             J. Vesely        marrakech                Quarter-Finals        3         1         15         16             0              1                297.0         5.0   0.0            54.0              90.0                   38.0                     54.0                          25.0                      36.0                           0.0                 1.0                   15.0               95.0           10.0                            58.0                                 14.0                             30.0                                  1.0                4.0                     15.0                 63.0                90.0                      24.0               88.0                     87.0              178.0         02:21:00  f               f           5     t              f        250      5          Morocco                                                 1\n",
       "                                                                                                                                                                   guillermo-garcia-lopez  G. Garcia-Lopez  marrakech                Round of 32           2         2         14         11             1              1                278.0         2.0   1.0            39.0              67.0                   28.0                     39.0                          18.0                      28.0                           1.0                 3.0                   12.0               155.0          15.0                            45.0                                 20.0                             37.0                                  3.0                7.0                     12.0                 46.0                67.0                      35.0               82.0                     81.0              149.0         02:04:00  t               f           5     t              f        250      3          Morocco                                                 1\n",
       "                                                                                                                                                                                                                                                                                                                                                                                                                                                                                                                                                                                                                                                                                                                                                                                                                                                                                                                                                                                                                                                                                                      ..\n",
       "2015-10-05  2015-10-11  Japan                                                 Hard           1263045.0    $         2015  austin-krajicek        A. Krajicek       nicolas-mahut           N. Mahut         tokyo                    2nd Round Qualifying  2         2         12         8              0              0                343.0         6.0   0.0            33.0              47.0                   29.0                     33.0                          11.0                      14.0                           0.0                 0.0                   10.0               132.0          10.0                            41.0                                 13.0                             22.0                                  2.0                7.0                     10.0                 40.0                47.0                      23.0               63.0                     63.0              110.0         01:08:00  t               f           7     t              f        500      2          Japan                                                   1\n",
       "                                                                                                                                                                   matthew-ebden           M. Ebden         tokyo                    Round of 32           3         2         19         19             2              2                280.0         10.0  3.0            80.0              128.0                  65.0                     80.0                          22.0                      48.0                           4.0                 7.0                   18.0               98.0           14.0                            74.0                                 27.0                             54.0                                  2.0                11.0                    18.0                 87.0                128.0                     41.0               128.0                    128.0             256.0         02:55:00  t               f           Q     f              f        500      3          Japan                                                   1\n",
       "                                                                                                                                                                   joao-sousa              J. Sousa         tokyo                    Round of 16           3         2         14         13             0              0                273.0         11.0  4.0            71.0              100.0                  51.0                     71.0                          11.0                      29.0                           8.0                 10.0                  14.0               125.0          12.0                            53.0                                 22.0                             38.0                                  2.0                7.0                     13.0                 62.0                100.0                     34.0               91.0                     96.0              191.0         02:10:00  t               f           Q     f              f        500      4          Japan                                                   1\n",
       "                        China                                                 Hard           2700510.0    $         2015  zhizhen-zhang          Z. Zhang          ricardas-berankis       R. Berankis      beijing                  1st Round Qualifying  2         2         13         8              0              0                264.0         7.0   4.0            31.0              58.0                   26.0                     31.0                          12.0                      27.0                           0.0                 2.0                   10.0               185.0          10.0                            34.0                                 23.0                             35.0                                  5.0                11.0                    11.0                 38.0                58.0                      33.0               69.0                     71.0              127.0         01:20:00  t               f           WC    t              f        500      1          China                                                   1\n",
       "2018-08-13  2018-08-19  Italy                                                 Clay           64000.0      €         2018  zdenek-kolar           Z. Kolar          mate-valkusz            M. Valkusz       cordenons_challenger     Quarter-Finals        2         0         0          12             0              0                128.0         0.0   2.0            33.0              53.0                   16.0                     33.0                          4.0                       20.0                           5.0                 11.0                  6.0                30.0           2.0                             17.0                                 2.0                              11.0                                  0.0                0.0                     6.0                  20.0                53.0                      4.0                28.0                     24.0              81.0          00:49:00  f               f           6     f              f        100      5          Italy                                                   1\n",
       "Name: count, Length: 5885, dtype: int64"
      ]
     },
     "execution_count": 15,
     "metadata": {},
     "output_type": "execute_result"
    }
   ],
   "source": [
    "matches_df_1st_50k.value_counts()"
   ]
  },
  {
   "cell_type": "code",
   "execution_count": 16,
   "metadata": {},
   "outputs": [
    {
     "data": {
      "text/html": [
       "<div>\n",
       "<style scoped>\n",
       "    .dataframe tbody tr th:only-of-type {\n",
       "        vertical-align: middle;\n",
       "    }\n",
       "\n",
       "    .dataframe tbody tr th {\n",
       "        vertical-align: top;\n",
       "    }\n",
       "\n",
       "    .dataframe thead th {\n",
       "        text-align: right;\n",
       "    }\n",
       "</style>\n",
       "<table border=\"1\" class=\"dataframe\">\n",
       "  <thead>\n",
       "    <tr style=\"text-align: right;\">\n",
       "      <th></th>\n",
       "      <th>prize_money</th>\n",
       "      <th>year</th>\n",
       "      <th>num_sets</th>\n",
       "      <th>sets_won</th>\n",
       "      <th>games_won</th>\n",
       "      <th>games_against</th>\n",
       "      <th>tiebreaks_won</th>\n",
       "      <th>tiebreaks_total</th>\n",
       "      <th>serve_rating</th>\n",
       "      <th>aces</th>\n",
       "      <th>...</th>\n",
       "      <th>break_points_attempted</th>\n",
       "      <th>return_games_played</th>\n",
       "      <th>service_points_won</th>\n",
       "      <th>service_points_attempted</th>\n",
       "      <th>return_points_won</th>\n",
       "      <th>return_points_attempted</th>\n",
       "      <th>total_points_won</th>\n",
       "      <th>total_points</th>\n",
       "      <th>masters</th>\n",
       "      <th>round_num</th>\n",
       "    </tr>\n",
       "  </thead>\n",
       "  <tbody>\n",
       "    <tr>\n",
       "      <th>count</th>\n",
       "      <td>1.553700e+04</td>\n",
       "      <td>50000.000000</td>\n",
       "      <td>50000.000000</td>\n",
       "      <td>50000.00000</td>\n",
       "      <td>50000.000000</td>\n",
       "      <td>50000.00000</td>\n",
       "      <td>50000.000000</td>\n",
       "      <td>50000.000000</td>\n",
       "      <td>10298.000000</td>\n",
       "      <td>10298.000000</td>\n",
       "      <td>...</td>\n",
       "      <td>10298.000000</td>\n",
       "      <td>10298.000000</td>\n",
       "      <td>10298.000000</td>\n",
       "      <td>10298.000000</td>\n",
       "      <td>10298.000000</td>\n",
       "      <td>10298.000000</td>\n",
       "      <td>10298.000000</td>\n",
       "      <td>10298.000000</td>\n",
       "      <td>50000.000000</td>\n",
       "      <td>50000.000000</td>\n",
       "    </tr>\n",
       "    <tr>\n",
       "      <th>mean</th>\n",
       "      <td>3.796909e+06</td>\n",
       "      <td>2006.594400</td>\n",
       "      <td>2.313920</td>\n",
       "      <td>1.15450</td>\n",
       "      <td>10.854560</td>\n",
       "      <td>10.85390</td>\n",
       "      <td>0.128100</td>\n",
       "      <td>0.256260</td>\n",
       "      <td>261.542435</td>\n",
       "      <td>5.526122</td>\n",
       "      <td>...</td>\n",
       "      <td>6.470188</td>\n",
       "      <td>11.608662</td>\n",
       "      <td>46.852301</td>\n",
       "      <td>74.486696</td>\n",
       "      <td>27.634007</td>\n",
       "      <td>74.481841</td>\n",
       "      <td>74.486308</td>\n",
       "      <td>148.968538</td>\n",
       "      <td>274.302000</td>\n",
       "      <td>2.649080</td>\n",
       "    </tr>\n",
       "    <tr>\n",
       "      <th>std</th>\n",
       "      <td>6.579064e+06</td>\n",
       "      <td>12.810598</td>\n",
       "      <td>0.627138</td>\n",
       "      <td>0.95365</td>\n",
       "      <td>5.432237</td>\n",
       "      <td>5.43239</td>\n",
       "      <td>0.359128</td>\n",
       "      <td>0.506395</td>\n",
       "      <td>40.758831</td>\n",
       "      <td>4.816104</td>\n",
       "      <td>...</td>\n",
       "      <td>4.155581</td>\n",
       "      <td>3.547386</td>\n",
       "      <td>16.840465</td>\n",
       "      <td>25.307795</td>\n",
       "      <td>11.281841</td>\n",
       "      <td>25.308832</td>\n",
       "      <td>25.697776</td>\n",
       "      <td>48.842251</td>\n",
       "      <td>542.212359</td>\n",
       "      <td>1.979033</td>\n",
       "    </tr>\n",
       "    <tr>\n",
       "      <th>min</th>\n",
       "      <td>1.060000e+04</td>\n",
       "      <td>1950.000000</td>\n",
       "      <td>0.000000</td>\n",
       "      <td>0.00000</td>\n",
       "      <td>0.000000</td>\n",
       "      <td>0.00000</td>\n",
       "      <td>0.000000</td>\n",
       "      <td>0.000000</td>\n",
       "      <td>0.000000</td>\n",
       "      <td>0.000000</td>\n",
       "      <td>...</td>\n",
       "      <td>0.000000</td>\n",
       "      <td>0.000000</td>\n",
       "      <td>0.000000</td>\n",
       "      <td>0.000000</td>\n",
       "      <td>0.000000</td>\n",
       "      <td>0.000000</td>\n",
       "      <td>1.000000</td>\n",
       "      <td>6.000000</td>\n",
       "      <td>0.000000</td>\n",
       "      <td>-2.000000</td>\n",
       "    </tr>\n",
       "    <tr>\n",
       "      <th>25%</th>\n",
       "      <td>1.500000e+05</td>\n",
       "      <td>2000.000000</td>\n",
       "      <td>2.000000</td>\n",
       "      <td>0.00000</td>\n",
       "      <td>7.000000</td>\n",
       "      <td>7.00000</td>\n",
       "      <td>0.000000</td>\n",
       "      <td>0.000000</td>\n",
       "      <td>236.000000</td>\n",
       "      <td>2.000000</td>\n",
       "      <td>...</td>\n",
       "      <td>3.000000</td>\n",
       "      <td>9.000000</td>\n",
       "      <td>35.000000</td>\n",
       "      <td>56.000000</td>\n",
       "      <td>20.000000</td>\n",
       "      <td>56.000000</td>\n",
       "      <td>57.000000</td>\n",
       "      <td>112.000000</td>\n",
       "      <td>25.000000</td>\n",
       "      <td>1.000000</td>\n",
       "    </tr>\n",
       "    <tr>\n",
       "      <th>50%</th>\n",
       "      <td>6.427500e+05</td>\n",
       "      <td>2010.000000</td>\n",
       "      <td>2.000000</td>\n",
       "      <td>1.00000</td>\n",
       "      <td>12.000000</td>\n",
       "      <td>12.00000</td>\n",
       "      <td>0.000000</td>\n",
       "      <td>0.000000</td>\n",
       "      <td>265.000000</td>\n",
       "      <td>4.000000</td>\n",
       "      <td>...</td>\n",
       "      <td>6.000000</td>\n",
       "      <td>11.000000</td>\n",
       "      <td>44.000000</td>\n",
       "      <td>70.000000</td>\n",
       "      <td>27.000000</td>\n",
       "      <td>70.000000</td>\n",
       "      <td>71.000000</td>\n",
       "      <td>140.000000</td>\n",
       "      <td>25.000000</td>\n",
       "      <td>3.000000</td>\n",
       "    </tr>\n",
       "    <tr>\n",
       "      <th>75%</th>\n",
       "      <td>3.826655e+06</td>\n",
       "      <td>2015.000000</td>\n",
       "      <td>3.000000</td>\n",
       "      <td>2.00000</td>\n",
       "      <td>13.000000</td>\n",
       "      <td>13.00000</td>\n",
       "      <td>0.000000</td>\n",
       "      <td>0.000000</td>\n",
       "      <td>291.000000</td>\n",
       "      <td>8.000000</td>\n",
       "      <td>...</td>\n",
       "      <td>9.000000</td>\n",
       "      <td>14.000000</td>\n",
       "      <td>57.000000</td>\n",
       "      <td>91.000000</td>\n",
       "      <td>34.000000</td>\n",
       "      <td>91.000000</td>\n",
       "      <td>91.000000</td>\n",
       "      <td>181.000000</td>\n",
       "      <td>250.000000</td>\n",
       "      <td>4.000000</td>\n",
       "    </tr>\n",
       "    <tr>\n",
       "      <th>max</th>\n",
       "      <td>2.509600e+07</td>\n",
       "      <td>2018.000000</td>\n",
       "      <td>5.000000</td>\n",
       "      <td>4.00000</td>\n",
       "      <td>126.000000</td>\n",
       "      <td>126.00000</td>\n",
       "      <td>3.000000</td>\n",
       "      <td>3.000000</td>\n",
       "      <td>376.000000</td>\n",
       "      <td>53.000000</td>\n",
       "      <td>...</td>\n",
       "      <td>30.000000</td>\n",
       "      <td>34.000000</td>\n",
       "      <td>154.000000</td>\n",
       "      <td>225.000000</td>\n",
       "      <td>91.000000</td>\n",
       "      <td>225.000000</td>\n",
       "      <td>215.000000</td>\n",
       "      <td>420.000000</td>\n",
       "      <td>2000.000000</td>\n",
       "      <td>7.000000</td>\n",
       "    </tr>\n",
       "  </tbody>\n",
       "</table>\n",
       "<p>8 rows × 36 columns</p>\n",
       "</div>"
      ],
      "text/plain": [
       "        prize_money          year      num_sets     sets_won     games_won  \\\n",
       "count  1.553700e+04  50000.000000  50000.000000  50000.00000  50000.000000   \n",
       "mean   3.796909e+06   2006.594400      2.313920      1.15450     10.854560   \n",
       "std    6.579064e+06     12.810598      0.627138      0.95365      5.432237   \n",
       "min    1.060000e+04   1950.000000      0.000000      0.00000      0.000000   \n",
       "25%    1.500000e+05   2000.000000      2.000000      0.00000      7.000000   \n",
       "50%    6.427500e+05   2010.000000      2.000000      1.00000     12.000000   \n",
       "75%    3.826655e+06   2015.000000      3.000000      2.00000     13.000000   \n",
       "max    2.509600e+07   2018.000000      5.000000      4.00000    126.000000   \n",
       "\n",
       "       games_against  tiebreaks_won  tiebreaks_total  serve_rating  \\\n",
       "count    50000.00000   50000.000000     50000.000000  10298.000000   \n",
       "mean        10.85390       0.128100         0.256260    261.542435   \n",
       "std          5.43239       0.359128         0.506395     40.758831   \n",
       "min          0.00000       0.000000         0.000000      0.000000   \n",
       "25%          7.00000       0.000000         0.000000    236.000000   \n",
       "50%         12.00000       0.000000         0.000000    265.000000   \n",
       "75%         13.00000       0.000000         0.000000    291.000000   \n",
       "max        126.00000       3.000000         3.000000    376.000000   \n",
       "\n",
       "               aces  ...  break_points_attempted  return_games_played  \\\n",
       "count  10298.000000  ...            10298.000000         10298.000000   \n",
       "mean       5.526122  ...                6.470188            11.608662   \n",
       "std        4.816104  ...                4.155581             3.547386   \n",
       "min        0.000000  ...                0.000000             0.000000   \n",
       "25%        2.000000  ...                3.000000             9.000000   \n",
       "50%        4.000000  ...                6.000000            11.000000   \n",
       "75%        8.000000  ...                9.000000            14.000000   \n",
       "max       53.000000  ...               30.000000            34.000000   \n",
       "\n",
       "       service_points_won  service_points_attempted  return_points_won  \\\n",
       "count        10298.000000              10298.000000       10298.000000   \n",
       "mean            46.852301                 74.486696          27.634007   \n",
       "std             16.840465                 25.307795          11.281841   \n",
       "min              0.000000                  0.000000           0.000000   \n",
       "25%             35.000000                 56.000000          20.000000   \n",
       "50%             44.000000                 70.000000          27.000000   \n",
       "75%             57.000000                 91.000000          34.000000   \n",
       "max            154.000000                225.000000          91.000000   \n",
       "\n",
       "       return_points_attempted  total_points_won  total_points       masters  \\\n",
       "count             10298.000000      10298.000000  10298.000000  50000.000000   \n",
       "mean                 74.481841         74.486308    148.968538    274.302000   \n",
       "std                  25.308832         25.697776     48.842251    542.212359   \n",
       "min                   0.000000          1.000000      6.000000      0.000000   \n",
       "25%                  56.000000         57.000000    112.000000     25.000000   \n",
       "50%                  70.000000         71.000000    140.000000     25.000000   \n",
       "75%                  91.000000         91.000000    181.000000    250.000000   \n",
       "max                 225.000000        215.000000    420.000000   2000.000000   \n",
       "\n",
       "          round_num  \n",
       "count  50000.000000  \n",
       "mean       2.649080  \n",
       "std        1.979033  \n",
       "min       -2.000000  \n",
       "25%        1.000000  \n",
       "50%        3.000000  \n",
       "75%        4.000000  \n",
       "max        7.000000  \n",
       "\n",
       "[8 rows x 36 columns]"
      ]
     },
     "execution_count": 16,
     "metadata": {},
     "output_type": "execute_result"
    }
   ],
   "source": [
    "matches_df_1st_50k.describe()"
   ]
  },
  {
   "cell_type": "code",
   "execution_count": 17,
   "metadata": {},
   "outputs": [
    {
     "name": "stdout",
     "output_type": "stream",
     "text": [
      "player_name: 10298 and player_id: 50000\n",
      "player_name: 10298 and player_id: 50000\n"
     ]
    }
   ],
   "source": [
    "print(f'player_name: {matches_df_1st_50k.player_name.count()} and player_id: {matches_df_1st_50k.player_id.count()}')\n",
    "print(f'player_name: {matches_df_1st_50k.opponent_name.count()} and player_id: {matches_df_1st_50k.opponent_id.count()}')\n",
    "# seems low ~20% of data"
   ]
  },
  {
   "cell_type": "code",
   "execution_count": 18,
   "metadata": {},
   "outputs": [
    {
     "data": {
      "text/plain": [
       "0    2012-06-17\n",
       "1    2012-06-17\n",
       "2    2012-06-17\n",
       "3    2012-06-17\n",
       "4    2012-06-17\n",
       "Name: end_date, dtype: object"
      ]
     },
     "metadata": {},
     "output_type": "display_data"
    },
    {
     "data": {
      "text/plain": [
       "0    2012-06-11\n",
       "1    2012-06-11\n",
       "2    2012-06-11\n",
       "3    2012-06-11\n",
       "4    2012-06-11\n",
       "Name: start_date, dtype: object"
      ]
     },
     "metadata": {},
     "output_type": "display_data"
    }
   ],
   "source": [
    "pd.to_datetime(matches_df_1st_50k.end_date)\n",
    "display(matches_df_1st_50k.end_date.head())\n",
    "pd.to_datetime(matches_df_1st_50k.start_date)\n",
    "display(matches_df_1st_50k.start_date.head())\n",
    "# using a simple to_datetime conversion works, "
   ]
  },
  {
   "cell_type": "code",
   "execution_count": 19,
   "metadata": {},
   "outputs": [
    {
     "name": "stdout",
     "output_type": "stream",
     "text": [
      "oldest date: 1950-08-25 and most recent: 2018-08-13\n"
     ]
    }
   ],
   "source": [
    "print(f'oldest date: {matches_df_1st_50k.start_date.min()} and most recent: {matches_df_1st_50k.start_date.max()}')\n",
    "# Interesting to see the 1950's represented"
   ]
  },
  {
   "cell_type": "code",
   "execution_count": 20,
   "metadata": {},
   "outputs": [],
   "source": [
    "# Let's see the count per year or decade"
   ]
  },
  {
   "cell_type": "code",
   "execution_count": 21,
   "metadata": {},
   "outputs": [
    {
     "ename": "NameError",
     "evalue": "name 'plt' is not defined",
     "output_type": "error",
     "traceback": [
      "\u001b[0;31m---------------------------------------------------------------------------\u001b[0m",
      "\u001b[0;31mNameError\u001b[0m                                 Traceback (most recent call last)",
      "Cell \u001b[0;32mIn[21], line 1\u001b[0m\n\u001b[0;32m----> 1\u001b[0m \u001b[43mplt\u001b[49m\u001b[38;5;241m.\u001b[39mhist(matches_df_1st_50k\u001b[38;5;241m.\u001b[39mstart_date,bins\u001b[38;5;241m=\u001b[39m\u001b[38;5;241m68\u001b[39m); \u001b[38;5;66;03m# attempting by year\u001b[39;00m\n\u001b[1;32m      2\u001b[0m \u001b[38;5;66;03m# Again, this is an interesting picture.\u001b[39;00m\n\u001b[1;32m      3\u001b[0m \u001b[38;5;66;03m# Prompts question about number of tennis events per year, and similar\u001b[39;00m\n\u001b[1;32m      4\u001b[0m \u001b[38;5;66;03m# And there seems to be a gap in the data around 2015 or something\u001b[39;00m\n",
      "\u001b[0;31mNameError\u001b[0m: name 'plt' is not defined"
     ]
    }
   ],
   "source": [
    "plt.hist(matches_df_1st_50k.start_date,bins=68); # attempting by year\n",
    "# Again, this is an interesting picture.\n",
    "# Prompts question about number of tennis events per year, and similar\n",
    "# And there seems to be a gap in the data around 2015 or something"
   ]
  },
  {
   "cell_type": "code",
   "execution_count": null,
   "metadata": {},
   "outputs": [],
   "source": [
    "plt.hist(matches_df_1st_50k.start_date,bins=5); # attempting by decade\n",
    "\n",
    "# for both by year and by decade, it's clear that the whole dataset will be \n",
    "# needed - no idea yet how the whole dataset is distributed by date "
   ]
  },
  {
   "cell_type": "markdown",
   "metadata": {},
   "source": [
    "*** \n",
    "# Start to get a little organised per column\n",
    "### Aim to later use these dicts to treat the data differently"
   ]
  },
  {
   "cell_type": "code",
   "execution_count": null,
   "metadata": {},
   "outputs": [],
   "source": [
    "# keep a simple dict of columns to see how full they are\n",
    "# could use a simple .count() but going to run across mutiple chunks, and only want to see specific columns\n",
    "check_completeness = {'start_date': 0, 'end_date': 0, 'player_name': 0, \n",
    "                      'duration': 0\n",
    "                      }\n",
    "\n",
    "check_key_distinguishing_columns = {'doubles': 0, 'masters': 0, 'nation': 0\n",
    "                                    , 'seed': 0, 'prize_money': 0,}\n",
    "\n",
    "check_numerical_columns = {'prize_money': 0,'sets_won': 0,  'sets_won': 0,'games_won': 0,  \n",
    "                           'games_against': 0, 'tiebreaks_won': 0,  'tiebreaks_total': 0,\n",
    "                      'serve_rating': 0, 'aces': 0, \n",
    "                      'double_faults': 0, 'first_serve_made': 0, \n",
    "                      'first_serve_attempted': 0, 'first_serve_points_made': 0,  \n",
    "                      'first_serve_points_attempted': 0, 'second_serve_points_made': 0, \n",
    "                      'second_serve_points_attempted': 0, 'break_points_saved': 0, \n",
    "                      'break_points_against': 0, 'service_games_won': 0, \n",
    "                      'return_rating': 0, 'first_serve_return_points_made': 0, \n",
    "                      'first_serve_return_points_attempted': 0, 'second_serve_return_points_made': 0, \n",
    "                      'second_serve_return_points_attempted': 0, 'break_points_made': 0, \n",
    "                      'break_points_attempted': 0, 'return_games_played': 0, \n",
    "                      'service_points_won': 0, 'service_points_attempted': 0, \n",
    "                      'return_points_won': 0, 'return_points_attempted': 0, \n",
    "                      'total_points_won': 0, 'total_points': 0, \n",
    "                      'duration': 0, \n",
    "                      # distinguishing column:\n",
    "                      'round_num': 0\n",
    "                      }\n",
    "\n",
    "check_mixed_columns = {'seed': 0, 'currency': 0, 'player_name': 0, 'opponent_name': 0, 'duration': 0}\n",
    "\n",
    "check_boolean_columns = {'player_victory': 0, 'retirement': 0, 'won_first_set': 0, \n",
    "                         }\n",
    "# # list(check_completeness.keys())\n",
    "# for i in check_completeness:\n",
    "#     print(i)"
   ]
  },
  {
   "cell_type": "code",
   "execution_count": null,
   "metadata": {},
   "outputs": [],
   "source": [
    "# in the first 50_000 rows, column counts for these columns gives: \n",
    "for i in check_completeness:\n",
    "    count = matches_df_1st_50k[i].count()\n",
    "    check_completeness[i] += count"
   ]
  },
  {
   "cell_type": "code",
   "execution_count": null,
   "metadata": {},
   "outputs": [],
   "source": [
    "print(check_completeness)"
   ]
  },
  {
   "cell_type": "code",
   "execution_count": null,
   "metadata": {},
   "outputs": [],
   "source": [
    "D = check_completeness\n",
    "plt.bar(range(len(D)), list(D.values()), align='center')\n",
    "plt.xticks(range(len(D)), list(D.keys()));"
   ]
  },
  {
   "cell_type": "code",
   "execution_count": null,
   "metadata": {},
   "outputs": [],
   "source": [
    "for i in check_boolean_columns:\n",
    "    count = matches_df_1st_50k[i].count()\n",
    "    check_boolean_columns[i] += count"
   ]
  },
  {
   "cell_type": "code",
   "execution_count": null,
   "metadata": {},
   "outputs": [],
   "source": [
    "print(check_boolean_columns)"
   ]
  },
  {
   "cell_type": "code",
   "execution_count": null,
   "metadata": {},
   "outputs": [],
   "source": [
    "D = check_boolean_columns\n",
    "plt.bar(range(len(D)), list(D.values()), align='center')\n",
    "plt.xticks(range(len(D)), list(D.keys()));"
   ]
  },
  {
   "cell_type": "code",
   "execution_count": null,
   "metadata": {},
   "outputs": [],
   "source": [
    "for i in check_mixed_columns:\n",
    "    count = matches_df_1st_50k[i].count()\n",
    "    check_mixed_columns[i] += count"
   ]
  },
  {
   "cell_type": "code",
   "execution_count": null,
   "metadata": {},
   "outputs": [],
   "source": [
    "print(check_mixed_columns)"
   ]
  },
  {
   "cell_type": "code",
   "execution_count": null,
   "metadata": {},
   "outputs": [],
   "source": [
    "D = check_mixed_columns\n",
    "plt.bar(range(len(D)), list(D.values()), align='center')\n",
    "plt.xticks(range(len(D)), list(D.keys()));"
   ]
  },
  {
   "cell_type": "code",
   "execution_count": null,
   "metadata": {},
   "outputs": [],
   "source": [
    "for i in check_numerical_columns:\n",
    "    count = matches_df_1st_50k[i].count()\n",
    "    check_numerical_columns[i] += count"
   ]
  },
  {
   "cell_type": "code",
   "execution_count": null,
   "metadata": {},
   "outputs": [],
   "source": [
    "display(check_numerical_columns)\n",
    "print(min(check_numerical_columns))\n",
    "print(max(check_numerical_columns))"
   ]
  },
  {
   "cell_type": "code",
   "execution_count": null,
   "metadata": {},
   "outputs": [],
   "source": [
    "# quick chart to see:\n",
    "D = check_numerical_columns\n",
    "plt.bar(range(len(D)), list(D.values()), align='center')\n",
    "plt.xticks(range(len(D)), list(D.keys()));"
   ]
  },
  {
   "cell_type": "code",
   "execution_count": null,
   "metadata": {},
   "outputs": [],
   "source": [
    "for i in check_key_distinguishing_columns:\n",
    "    count = matches_df_1st_50k[i].count()\n",
    "    check_key_distinguishing_columns[i] += count"
   ]
  },
  {
   "cell_type": "code",
   "execution_count": null,
   "metadata": {},
   "outputs": [],
   "source": [
    "print(check_key_distinguishing_columns)"
   ]
  },
  {
   "cell_type": "code",
   "execution_count": null,
   "metadata": {},
   "outputs": [],
   "source": [
    "D = check_key_distinguishing_columns\n",
    "plt.bar(range(len(D)), list(D.values()), align='center')\n",
    "plt.xticks(range(len(D)), list(D.keys()));"
   ]
  },
  {
   "cell_type": "markdown",
   "metadata": {},
   "source": [
    "***\n",
    "# Approaches and techniques trialling (for subsequent application in a pipeline)"
   ]
  },
  {
   "cell_type": "markdown",
   "metadata": {},
   "source": [
    "### Dropping columns\n",
    "A: Names"
   ]
  },
  {
   "cell_type": "code",
   "execution_count": null,
   "metadata": {},
   "outputs": [],
   "source": [
    "# given the repetition of player_ and opponent_ name and id we can drop 2 columns\n",
    "# 2 checks are needed:\n",
    "#       1: That the full data repeats the pattern above\n",
    "#       2: That the ids all match with the all_players csv \n",
    "columns_to_drop = ['player_name', 'opponent_name']"
   ]
  },
  {
   "cell_type": "code",
   "execution_count": null,
   "metadata": {},
   "outputs": [],
   "source": [
    "# Dealing with the mixed datatypes\n",
    "print(matches_df_1st_50k.iloc[:,[5, 8, 10, 45, 48]].head())"
   ]
  },
  {
   "cell_type": "code",
   "execution_count": null,
   "metadata": {},
   "outputs": [],
   "source": [
    "matches_df_1st_50k.iloc[:,[5, 8, 10, 45, 48]].isna().sum()\n",
    "# on the basis that these numbers are high percentages, all over 60%, some care\n",
    "# is needed. player_name, opponent_name and duration look to be nearly 80% NA\n",
    "# \n",
    "# will need to confirm this through the rest of the data"
   ]
  },
  {
   "cell_type": "markdown",
   "metadata": {},
   "source": [
    "***\n",
    "# 1st Attempt to go through the FULL dataset"
   ]
  },
  {
   "cell_type": "code",
   "execution_count": null,
   "metadata": {},
   "outputs": [],
   "source": []
  },
  {
   "cell_type": "code",
   "execution_count": null,
   "metadata": {},
   "outputs": [],
   "source": [
    "# to go through all the sample data set\n",
    "\n",
    "start = time.time()\n",
    "\n",
    "ave_bytes = 0\n",
    "count = 0\n",
    "total_bytes = 0\n",
    "\n",
    "header = True\n",
    "\n",
    "# This enumerate function selects repeated chunks of 1,000,000 rows of data \n",
    "for index, chunk in enumerate(pd.read_csv(matches_data_path \n",
    "                                            , chunksize= 10_000\n",
    "                                            # usecols = list(check_completeness.keys()), # can be index based (but not -1): [0, 7]\n",
    "                                            , parse_dates=True\n",
    "                                            ),\n",
    "                              start=1):\n",
    "    this_bytes = chunk.memory_usage().sum()\n",
    "    ave_bytes += this_bytes\n",
    "    total_bytes = total_bytes + this_bytes\n",
    "    # This inner loop iterates through the rate keys only.Then it does \n",
    "    # vectorised selections on the dataframe to select count of each rate key.\n",
    "    for i in check_completeness:\n",
    "        count = chunk[i].count()\n",
    "        check_completeness[i] += count\n",
    "        \n",
    "    # make changes\n",
    "    \n",
    "    #     \n",
    "    # chunk.to_csv(matches_data_path_latest,\n",
    "    #              header=header, \n",
    "    #              mode='a',\n",
    "    #              # cols=[['','']]\n",
    "    #              )\n",
    "    header = False # so only first row gets a header\n",
    "\n",
    "print(f\"Total number of chunks: {index}\")\n",
    "print(f\"Total memory, MB: {round(total_bytes/100_000,0):,}\")\n",
    "ave_bytes = ave_bytes / index\n",
    "print(f\"Average MB per loop: {round(ave_bytes/100_000,0):,}\")\n",
    "print(check_completeness)\n",
    "\n",
    "print(round(time.time() - start,2), ' seconds')"
   ]
  },
  {
   "cell_type": "code",
   "execution_count": null,
   "metadata": {},
   "outputs": [],
   "source": []
  },
  {
   "cell_type": "code",
   "execution_count": null,
   "metadata": {},
   "outputs": [],
   "source": [
    "types = defaultdict(str, aces=int, currency=float)\n",
    "# df = pd.read_csv(\"/path/to/file.csv\", dtype=types, keep_default_na=False)\n",
    "col_dtype_changes = {'location': str, 'aces': float} # 'start_date': np.datetime64, 'end_date': np.datetime64, "
   ]
  },
  {
   "cell_type": "markdown",
   "metadata": {},
   "source": []
  },
  {
   "cell_type": "code",
   "execution_count": null,
   "metadata": {},
   "outputs": [],
   "source": [
    "# now to adjust the datatypes as each chunk is loaded:\n",
    "skip_cell = 0\n",
    "\n",
    "if not skip_cell: \n",
    "    start = time.time()\n",
    "    ave_bytes = 0\n",
    "    count = 0\n",
    "    total_bytes = 0\n",
    "    header = True\n",
    "    # This enumerate function selects repeated chunks of 1,000,000 rows of data \n",
    "    for index, chunk in enumerate(pd.read_csv(matches_data_path_full \n",
    "                                                , chunksize= 100_000\n",
    "                                                , usecols = ['aces'] # list(check_completeness.keys()), # can be index based (but not -1): [0, 7]\n",
    "                                                , dtype=col_dtype_changes # types\n",
    "                                                , parse_dates=True\n",
    "                                                , keep_default_na=False),\n",
    "                                start=1):\n",
    "        this_bytes = chunk.memory_usage().sum()\n",
    "        ave_bytes += this_bytes\n",
    "        total_bytes = total_bytes + this_bytes\n",
    "        # This inner loop iterates through the rate keys only.Then it does \n",
    "        # vectorised selections on the dataframe to select count of each rate key.\n",
    "        for i in check_completeness:\n",
    "            count = chunk[i].count()\n",
    "            check_completeness[i] += count\n",
    "\n",
    "        # chunk.to_csv(matches_data_path_latest,\n",
    "        #             header=header, \n",
    "        #             mode='a',\n",
    "        #             # cols=[['','']]\n",
    "        #             )\n",
    "        header = False # so only first row gets a header\n",
    "\n",
    "    print(f\"Total number of chunks: {index}\")\n",
    "    print(f\"Total memory, MB: {round(total_bytes/100_000,0):,}\")\n",
    "    ave_bytes = ave_bytes / index\n",
    "    print(f\"Average bytes per loop: {round(ave_bytes/100_000,0):,}\")\n",
    "    print(check_completeness)\n",
    "\n",
    "    print(round(time.time() - start,2), ' seconds')"
   ]
  },
  {
   "cell_type": "markdown",
   "metadata": {},
   "source": [
    "# See above, an attempt to convert data types on load fails\n",
    "    This is because there are >1 datatypes in a single column, e.g. 'aces' which has at least: float, str"
   ]
  },
  {
   "cell_type": "code",
   "execution_count": null,
   "metadata": {},
   "outputs": [],
   "source": [
    "# when done with data processing, save back to single file with mode=\"a\" \n",
    "# header = True\n",
    "# for chunk in chunks:\n",
    "\n",
    "#     chunk.to_csv(os.path.join(folder, new_folder, \"new_file_\" + filename),\n",
    "#         header=header, cols=[['TIME','STUFF']], mode='a')\n",
    "\n",
    "#     header = False"
   ]
  },
  {
   "cell_type": "code",
   "execution_count": null,
   "metadata": {},
   "outputs": [],
   "source": [
    "matches_column_names = matches_df.columns\n",
    "matches_column_names"
   ]
  },
  {
   "cell_type": "code",
   "execution_count": null,
   "metadata": {},
   "outputs": [],
   "source": [
    "matches_dtypes = matches_df.dtypes\n",
    "matches_df_objects = matches_dtypes[matches_dtypes==object]\n",
    "matches_df_objects = pd.DataFrame(matches_df_objects).reset_index()\n",
    "matches_df_objects.rename(columns={'index': 'column_name', 0: 'dtype'}, inplace=True)\n",
    "print(matches_df_objects.columns)\n",
    "matches_df_objects"
   ]
  },
  {
   "cell_type": "code",
   "execution_count": null,
   "metadata": {},
   "outputs": [],
   "source": [
    "matches_date_columns = matches_df_objects[:2]\n",
    "matches_date_columns"
   ]
  },
  {
   "cell_type": "code",
   "execution_count": null,
   "metadata": {},
   "outputs": [],
   "source": [
    "middle_cols = matches_df[matches_df.columns[12:20]]\n",
    "middle_cols"
   ]
  },
  {
   "cell_type": "code",
   "execution_count": null,
   "metadata": {},
   "outputs": [],
   "source": [
    "# ! pip install polars\n",
    "# import polars as pl # this will not work on my machine\n",
    "\n",
    "# !pip install polars-lts-cpu\n",
    "import polars as pl"
   ]
  },
  {
   "cell_type": "code",
   "execution_count": null,
   "metadata": {},
   "outputs": [],
   "source": [
    "# this crashes, too big 890mb\n",
    "matches_csv_file = '../raw_data/archive/all_matches.csv'\n",
    "# matches_df_polar = pl.read_csv()\n",
    "# matches_df_polar = pl.read_csv_batched(matches_csv_file)\n",
    "reader = pl.read_csv_batched(\n",
    "\n",
    "    matches_csv_file,\n",
    "\n",
    "    try_parse_dates=True,\n",
    "\n",
    ")  \n",
    "\n",
    "batches = reader.next_batches(5)  \n",
    "\n",
    "for df in batches:  \n",
    "\n",
    "    print(df)\n",
    "    \n"
   ]
  },
  {
   "cell_type": "code",
   "execution_count": null,
   "metadata": {},
   "outputs": [],
   "source": [
    "df.dtypes.head()"
   ]
  },
  {
   "cell_type": "code",
   "execution_count": null,
   "metadata": {},
   "outputs": [],
   "source": [
    "len(df.columns)"
   ]
  },
  {
   "cell_type": "markdown",
   "metadata": {},
   "source": [
    "*** \n",
    "***\n",
    "# Pipeline\n",
    "***\n",
    "***"
   ]
  },
  {
   "cell_type": "code",
   "execution_count": null,
   "metadata": {},
   "outputs": [],
   "source": [
    "from sklearn.pipeline import Pipeline"
   ]
  },
  {
   "cell_type": "code",
   "execution_count": null,
   "metadata": {},
   "outputs": [],
   "source": [
    "pipeline = Pipeline([])"
   ]
  },
  {
   "cell_type": "code",
   "execution_count": null,
   "metadata": {},
   "outputs": [],
   "source": [
    "pipeline"
   ]
  },
  {
   "cell_type": "code",
   "execution_count": null,
   "metadata": {},
   "outputs": [],
   "source": []
  }
 ],
 "metadata": {
  "kernelspec": {
   "display_name": "Python 3",
   "language": "python",
   "name": "python3"
  },
  "language_info": {
   "codemirror_mode": {
    "name": "ipython",
    "version": 3
   },
   "file_extension": ".py",
   "mimetype": "text/x-python",
   "name": "python",
   "nbconvert_exporter": "python",
   "pygments_lexer": "ipython3",
   "version": "3.10.6"
  }
 },
 "nbformat": 4,
 "nbformat_minor": 2
}
